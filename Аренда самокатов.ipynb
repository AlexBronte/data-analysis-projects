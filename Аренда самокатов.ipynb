{
 "cells": [
  {
   "cell_type": "markdown",
   "id": "9101dbdd",
   "metadata": {},
   "source": [
    "#  Исследование данных популярного сервиса аренды самокатов GoFast\n",
    "\n",
    "**Описание проекта:**Вы аналитик популярного сервиса аренды самокатов GoFast. Вам передали данные о некоторых пользователях из нескольких городов, а также об их поездках. Проанализируйте данные и проверьте некоторые гипотезы, которые могут помочь бизнесу вырасти.\n",
    "\n",
    "**Цель исследования:**\n",
    "Проанализировать данные и проверить некоторые гипотезы, которые помогут помочь в развитии бизнеса\n",
    "\n",
    "**Ход исследования:** Данные для исследования я получу из 3 файлов: \"users_go.csv\" ,\"rides_go.csv\", \"subscriptions_go.csv\".О качестве данных ничего не известно, поэтому перед началом исследования необходимо проверить данные.\n",
    "\n",
    "**Общий вывод:**резюмирование полученных результатов,формулировка ключевых выводов и рекомендаций"
   ]
  },
  {
   "cell_type": "markdown",
   "id": "7f433467",
   "metadata": {},
   "source": [
    "<div class=\"alert alert-info\"><b>Комментарий стукдента:Сделано</b>"
   ]
  },
  {
   "cell_type": "code",
   "execution_count": 1,
   "id": "72576667",
   "metadata": {},
   "outputs": [],
   "source": [
    "import pandas as pd\n",
    "import matplotlib.pyplot as plt\n",
    "import seaborn as sns\n",
    "from scipy import stats as st \n",
    "import numpy as np\n",
    "from scipy.stats import binom"
   ]
  },
  {
   "cell_type": "markdown",
   "id": "c42cbe00",
   "metadata": {},
   "source": [
    "#### Шаг 1. Загрузка данных"
   ]
  },
  {
   "cell_type": "code",
   "execution_count": 2,
   "id": "eff9f206",
   "metadata": {},
   "outputs": [],
   "source": [
    "users=pd.read_csv('/datasets/users_go.csv')\n",
    "riders=pd.read_csv(\"/datasets/rides_go.csv\")\n",
    "subscriptions=pd.read_csv(\"/datasets/subscriptions_go.csv\")"
   ]
  },
  {
   "cell_type": "markdown",
   "id": "0eaf9921",
   "metadata": {},
   "source": [
    "*Посмотри первые 5 строк в каждом датасете и изучим общую информацию содержащуюся в них*"
   ]
  },
  {
   "cell_type": "code",
   "execution_count": 3,
   "id": "9873a113",
   "metadata": {
    "scrolled": true
   },
   "outputs": [
    {
     "data": {
      "text/html": [
       "<div>\n",
       "<style scoped>\n",
       "    .dataframe tbody tr th:only-of-type {\n",
       "        vertical-align: middle;\n",
       "    }\n",
       "\n",
       "    .dataframe tbody tr th {\n",
       "        vertical-align: top;\n",
       "    }\n",
       "\n",
       "    .dataframe thead th {\n",
       "        text-align: right;\n",
       "    }\n",
       "</style>\n",
       "<table border=\"1\" class=\"dataframe\">\n",
       "  <thead>\n",
       "    <tr style=\"text-align: right;\">\n",
       "      <th></th>\n",
       "      <th>user_id</th>\n",
       "      <th>name</th>\n",
       "      <th>age</th>\n",
       "      <th>city</th>\n",
       "      <th>subscription_type</th>\n",
       "    </tr>\n",
       "  </thead>\n",
       "  <tbody>\n",
       "    <tr>\n",
       "      <th>0</th>\n",
       "      <td>1</td>\n",
       "      <td>Кира</td>\n",
       "      <td>22</td>\n",
       "      <td>Тюмень</td>\n",
       "      <td>ultra</td>\n",
       "    </tr>\n",
       "    <tr>\n",
       "      <th>1</th>\n",
       "      <td>2</td>\n",
       "      <td>Станислав</td>\n",
       "      <td>31</td>\n",
       "      <td>Омск</td>\n",
       "      <td>ultra</td>\n",
       "    </tr>\n",
       "    <tr>\n",
       "      <th>2</th>\n",
       "      <td>3</td>\n",
       "      <td>Алексей</td>\n",
       "      <td>20</td>\n",
       "      <td>Москва</td>\n",
       "      <td>ultra</td>\n",
       "    </tr>\n",
       "    <tr>\n",
       "      <th>3</th>\n",
       "      <td>4</td>\n",
       "      <td>Константин</td>\n",
       "      <td>26</td>\n",
       "      <td>Ростов-на-Дону</td>\n",
       "      <td>ultra</td>\n",
       "    </tr>\n",
       "    <tr>\n",
       "      <th>4</th>\n",
       "      <td>5</td>\n",
       "      <td>Адель</td>\n",
       "      <td>28</td>\n",
       "      <td>Омск</td>\n",
       "      <td>ultra</td>\n",
       "    </tr>\n",
       "  </tbody>\n",
       "</table>\n",
       "</div>"
      ],
      "text/plain": [
       "   user_id        name  age            city subscription_type\n",
       "0        1        Кира   22          Тюмень             ultra\n",
       "1        2   Станислав   31            Омск             ultra\n",
       "2        3     Алексей   20          Москва             ultra\n",
       "3        4  Константин   26  Ростов-на-Дону             ultra\n",
       "4        5       Адель   28            Омск             ultra"
      ]
     },
     "metadata": {},
     "output_type": "display_data"
    },
    {
     "data": {
      "text/html": [
       "<div>\n",
       "<style scoped>\n",
       "    .dataframe tbody tr th:only-of-type {\n",
       "        vertical-align: middle;\n",
       "    }\n",
       "\n",
       "    .dataframe tbody tr th {\n",
       "        vertical-align: top;\n",
       "    }\n",
       "\n",
       "    .dataframe thead th {\n",
       "        text-align: right;\n",
       "    }\n",
       "</style>\n",
       "<table border=\"1\" class=\"dataframe\">\n",
       "  <thead>\n",
       "    <tr style=\"text-align: right;\">\n",
       "      <th></th>\n",
       "      <th>user_id</th>\n",
       "      <th>distance</th>\n",
       "      <th>duration</th>\n",
       "      <th>date</th>\n",
       "    </tr>\n",
       "  </thead>\n",
       "  <tbody>\n",
       "    <tr>\n",
       "      <th>0</th>\n",
       "      <td>1</td>\n",
       "      <td>4409.919140</td>\n",
       "      <td>25.599769</td>\n",
       "      <td>2021-01-01</td>\n",
       "    </tr>\n",
       "    <tr>\n",
       "      <th>1</th>\n",
       "      <td>1</td>\n",
       "      <td>2617.592153</td>\n",
       "      <td>15.816871</td>\n",
       "      <td>2021-01-18</td>\n",
       "    </tr>\n",
       "    <tr>\n",
       "      <th>2</th>\n",
       "      <td>1</td>\n",
       "      <td>754.159807</td>\n",
       "      <td>6.232113</td>\n",
       "      <td>2021-04-20</td>\n",
       "    </tr>\n",
       "    <tr>\n",
       "      <th>3</th>\n",
       "      <td>1</td>\n",
       "      <td>2694.783254</td>\n",
       "      <td>18.511000</td>\n",
       "      <td>2021-08-11</td>\n",
       "    </tr>\n",
       "    <tr>\n",
       "      <th>4</th>\n",
       "      <td>1</td>\n",
       "      <td>4028.687306</td>\n",
       "      <td>26.265803</td>\n",
       "      <td>2021-08-28</td>\n",
       "    </tr>\n",
       "  </tbody>\n",
       "</table>\n",
       "</div>"
      ],
      "text/plain": [
       "   user_id     distance   duration        date\n",
       "0        1  4409.919140  25.599769  2021-01-01\n",
       "1        1  2617.592153  15.816871  2021-01-18\n",
       "2        1   754.159807   6.232113  2021-04-20\n",
       "3        1  2694.783254  18.511000  2021-08-11\n",
       "4        1  4028.687306  26.265803  2021-08-28"
      ]
     },
     "metadata": {},
     "output_type": "display_data"
    },
    {
     "data": {
      "text/html": [
       "<div>\n",
       "<style scoped>\n",
       "    .dataframe tbody tr th:only-of-type {\n",
       "        vertical-align: middle;\n",
       "    }\n",
       "\n",
       "    .dataframe tbody tr th {\n",
       "        vertical-align: top;\n",
       "    }\n",
       "\n",
       "    .dataframe thead th {\n",
       "        text-align: right;\n",
       "    }\n",
       "</style>\n",
       "<table border=\"1\" class=\"dataframe\">\n",
       "  <thead>\n",
       "    <tr style=\"text-align: right;\">\n",
       "      <th></th>\n",
       "      <th>subscription_type</th>\n",
       "      <th>minute_price</th>\n",
       "      <th>start_ride_price</th>\n",
       "      <th>subscription_fee</th>\n",
       "    </tr>\n",
       "  </thead>\n",
       "  <tbody>\n",
       "    <tr>\n",
       "      <th>0</th>\n",
       "      <td>free</td>\n",
       "      <td>8</td>\n",
       "      <td>50</td>\n",
       "      <td>0</td>\n",
       "    </tr>\n",
       "    <tr>\n",
       "      <th>1</th>\n",
       "      <td>ultra</td>\n",
       "      <td>6</td>\n",
       "      <td>0</td>\n",
       "      <td>199</td>\n",
       "    </tr>\n",
       "  </tbody>\n",
       "</table>\n",
       "</div>"
      ],
      "text/plain": [
       "  subscription_type  minute_price  start_ride_price  subscription_fee\n",
       "0              free             8                50                 0\n",
       "1             ultra             6                 0               199"
      ]
     },
     "metadata": {},
     "output_type": "display_data"
    }
   ],
   "source": [
    "display(users.head())\n",
    "display(riders.head())\n",
    "display(subscriptions.head())"
   ]
  },
  {
   "cell_type": "markdown",
   "id": "8b332c37",
   "metadata": {},
   "source": [
    "<div class=\"lert alert-info\"><b>Комментарий студента:Сделано</b>"
   ]
  },
  {
   "cell_type": "code",
   "execution_count": 4,
   "id": "60b97efd",
   "metadata": {},
   "outputs": [
    {
     "name": "stdout",
     "output_type": "stream",
     "text": [
      "<class 'pandas.core.frame.DataFrame'>\n",
      "RangeIndex: 1565 entries, 0 to 1564\n",
      "Data columns (total 5 columns):\n",
      " #   Column             Non-Null Count  Dtype \n",
      "---  ------             --------------  ----- \n",
      " 0   user_id            1565 non-null   int64 \n",
      " 1   name               1565 non-null   object\n",
      " 2   age                1565 non-null   int64 \n",
      " 3   city               1565 non-null   object\n",
      " 4   subscription_type  1565 non-null   object\n",
      "dtypes: int64(2), object(3)\n",
      "memory usage: 61.3+ KB\n"
     ]
    }
   ],
   "source": [
    "users.info()"
   ]
  },
  {
   "cell_type": "code",
   "execution_count": 5,
   "id": "c586f3e2",
   "metadata": {
    "scrolled": true
   },
   "outputs": [
    {
     "name": "stdout",
     "output_type": "stream",
     "text": [
      "<class 'pandas.core.frame.DataFrame'>\n",
      "RangeIndex: 18068 entries, 0 to 18067\n",
      "Data columns (total 4 columns):\n",
      " #   Column    Non-Null Count  Dtype  \n",
      "---  ------    --------------  -----  \n",
      " 0   user_id   18068 non-null  int64  \n",
      " 1   distance  18068 non-null  float64\n",
      " 2   duration  18068 non-null  float64\n",
      " 3   date      18068 non-null  object \n",
      "dtypes: float64(2), int64(1), object(1)\n",
      "memory usage: 564.8+ KB\n"
     ]
    }
   ],
   "source": [
    "riders.info()"
   ]
  },
  {
   "cell_type": "code",
   "execution_count": 6,
   "id": "d3d797d9",
   "metadata": {},
   "outputs": [
    {
     "data": {
      "text/html": [
       "<div>\n",
       "<style scoped>\n",
       "    .dataframe tbody tr th:only-of-type {\n",
       "        vertical-align: middle;\n",
       "    }\n",
       "\n",
       "    .dataframe tbody tr th {\n",
       "        vertical-align: top;\n",
       "    }\n",
       "\n",
       "    .dataframe thead th {\n",
       "        text-align: right;\n",
       "    }\n",
       "</style>\n",
       "<table border=\"1\" class=\"dataframe\">\n",
       "  <thead>\n",
       "    <tr style=\"text-align: right;\">\n",
       "      <th></th>\n",
       "      <th>count</th>\n",
       "      <th>mean</th>\n",
       "      <th>std</th>\n",
       "      <th>min</th>\n",
       "      <th>25%</th>\n",
       "      <th>50%</th>\n",
       "      <th>75%</th>\n",
       "      <th>max</th>\n",
       "    </tr>\n",
       "  </thead>\n",
       "  <tbody>\n",
       "    <tr>\n",
       "      <th>user_id</th>\n",
       "      <td>18068.0</td>\n",
       "      <td>842.869936</td>\n",
       "      <td>434.734317</td>\n",
       "      <td>1.000000</td>\n",
       "      <td>487.000000</td>\n",
       "      <td>889.000000</td>\n",
       "      <td>1213.250000</td>\n",
       "      <td>1534.000000</td>\n",
       "    </tr>\n",
       "    <tr>\n",
       "      <th>distance</th>\n",
       "      <td>18068.0</td>\n",
       "      <td>3070.659976</td>\n",
       "      <td>1116.831209</td>\n",
       "      <td>0.855683</td>\n",
       "      <td>2543.226360</td>\n",
       "      <td>3133.609994</td>\n",
       "      <td>3776.222735</td>\n",
       "      <td>7211.007745</td>\n",
       "    </tr>\n",
       "    <tr>\n",
       "      <th>duration</th>\n",
       "      <td>18068.0</td>\n",
       "      <td>17.805011</td>\n",
       "      <td>6.091051</td>\n",
       "      <td>0.500000</td>\n",
       "      <td>13.597563</td>\n",
       "      <td>17.678395</td>\n",
       "      <td>21.724800</td>\n",
       "      <td>40.823963</td>\n",
       "    </tr>\n",
       "  </tbody>\n",
       "</table>\n",
       "</div>"
      ],
      "text/plain": [
       "            count         mean          std       min          25%  \\\n",
       "user_id   18068.0   842.869936   434.734317  1.000000   487.000000   \n",
       "distance  18068.0  3070.659976  1116.831209  0.855683  2543.226360   \n",
       "duration  18068.0    17.805011     6.091051  0.500000    13.597563   \n",
       "\n",
       "                  50%          75%          max  \n",
       "user_id    889.000000  1213.250000  1534.000000  \n",
       "distance  3133.609994  3776.222735  7211.007745  \n",
       "duration    17.678395    21.724800    40.823963  "
      ]
     },
     "execution_count": 6,
     "metadata": {},
     "output_type": "execute_result"
    }
   ],
   "source": [
    "riders.describe().T"
   ]
  },
  {
   "cell_type": "code",
   "execution_count": 7,
   "id": "2007b95b",
   "metadata": {},
   "outputs": [
    {
     "name": "stdout",
     "output_type": "stream",
     "text": [
      "<class 'pandas.core.frame.DataFrame'>\n",
      "RangeIndex: 2 entries, 0 to 1\n",
      "Data columns (total 4 columns):\n",
      " #   Column             Non-Null Count  Dtype \n",
      "---  ------             --------------  ----- \n",
      " 0   subscription_type  2 non-null      object\n",
      " 1   minute_price       2 non-null      int64 \n",
      " 2   start_ride_price   2 non-null      int64 \n",
      " 3   subscription_fee   2 non-null      int64 \n",
      "dtypes: int64(3), object(1)\n",
      "memory usage: 192.0+ bytes\n"
     ]
    }
   ],
   "source": [
    "subscriptions.info()"
   ]
  },
  {
   "cell_type": "markdown",
   "id": "6d8e7caf",
   "metadata": {},
   "source": [
    "*В датафреймах отсутствуют пропуски,все типы данных соответствуют их значениям ,кроме столбца \"date\",его необходимо преобразовать в тип данных datetime*"
   ]
  },
  {
   "cell_type": "markdown",
   "id": "e95ebca7",
   "metadata": {},
   "source": [
    "#### Шаг 2. Предобработка данных"
   ]
  },
  {
   "cell_type": "code",
   "execution_count": 8,
   "id": "af6d202c",
   "metadata": {
    "scrolled": true
   },
   "outputs": [
    {
     "name": "stdout",
     "output_type": "stream",
     "text": [
      "<class 'pandas.core.frame.DataFrame'>\n",
      "RangeIndex: 18068 entries, 0 to 18067\n",
      "Data columns (total 4 columns):\n",
      " #   Column    Non-Null Count  Dtype         \n",
      "---  ------    --------------  -----         \n",
      " 0   user_id   18068 non-null  int64         \n",
      " 1   distance  18068 non-null  float64       \n",
      " 2   duration  18068 non-null  float64       \n",
      " 3   date      18068 non-null  datetime64[ns]\n",
      "dtypes: datetime64[ns](1), float64(2), int64(1)\n",
      "memory usage: 564.8 KB\n"
     ]
    }
   ],
   "source": [
    "riders['date']=pd.to_datetime(riders['date'], format='%Y-%m-%d')\n",
    "riders.info()"
   ]
  },
  {
   "cell_type": "code",
   "execution_count": 9,
   "id": "a6e5f5d3",
   "metadata": {},
   "outputs": [],
   "source": [
    "dataframes=[users,riders,subscriptions]"
   ]
  },
  {
   "cell_type": "code",
   "execution_count": 10,
   "id": "04fc93a3",
   "metadata": {},
   "outputs": [
    {
     "name": "stdout",
     "output_type": "stream",
     "text": [
      "{'DataFrame_1': {'duplicates': 31, 'missing_values': user_id              0\n",
      "name                 0\n",
      "age                  0\n",
      "city                 0\n",
      "subscription_type    0\n",
      "dtype: int64}, 'DataFrame_2': {'duplicates': 0, 'missing_values': user_id     0\n",
      "distance    0\n",
      "duration    0\n",
      "date        0\n",
      "dtype: int64}, 'DataFrame_3': {'duplicates': 0, 'missing_values': subscription_type    0\n",
      "minute_price         0\n",
      "start_ride_price     0\n",
      "subscription_fee     0\n",
      "dtype: int64}}\n"
     ]
    }
   ],
   "source": [
    "def check_dataframes(dataframes):\n",
    "    results={}\n",
    "    for i ,df in enumerate(dataframes):\n",
    "        duplicates=df.duplicated().sum()\n",
    "        missing_values=df.isnull().sum()\n",
    "        results[f'DataFrame_{i+1}']={'duplicates': duplicates,\n",
    "                                    'missing_values': missing_values\n",
    "                                    }\n",
    "    return results\n",
    "\n",
    "results=check_dataframes(dataframes)\n",
    "print(results)"
   ]
  },
  {
   "cell_type": "markdown",
   "id": "169bab0a",
   "metadata": {},
   "source": [
    "*Пропуски в данных отсутствуют,а вот дубликаты - нет*"
   ]
  },
  {
   "cell_type": "code",
   "execution_count": 11,
   "id": "a81e2ec8",
   "metadata": {
    "scrolled": true
   },
   "outputs": [
    {
     "data": {
      "text/html": [
       "<div>\n",
       "<style scoped>\n",
       "    .dataframe tbody tr th:only-of-type {\n",
       "        vertical-align: middle;\n",
       "    }\n",
       "\n",
       "    .dataframe tbody tr th {\n",
       "        vertical-align: top;\n",
       "    }\n",
       "\n",
       "    .dataframe thead th {\n",
       "        text-align: right;\n",
       "    }\n",
       "</style>\n",
       "<table border=\"1\" class=\"dataframe\">\n",
       "  <thead>\n",
       "    <tr style=\"text-align: right;\">\n",
       "      <th></th>\n",
       "      <th>user_id</th>\n",
       "      <th>name</th>\n",
       "      <th>age</th>\n",
       "      <th>city</th>\n",
       "      <th>subscription_type</th>\n",
       "    </tr>\n",
       "  </thead>\n",
       "  <tbody>\n",
       "    <tr>\n",
       "      <th>1534</th>\n",
       "      <td>293</td>\n",
       "      <td>Агата</td>\n",
       "      <td>26</td>\n",
       "      <td>Краснодар</td>\n",
       "      <td>ultra</td>\n",
       "    </tr>\n",
       "    <tr>\n",
       "      <th>1535</th>\n",
       "      <td>16</td>\n",
       "      <td>Амалия</td>\n",
       "      <td>27</td>\n",
       "      <td>Краснодар</td>\n",
       "      <td>ultra</td>\n",
       "    </tr>\n",
       "    <tr>\n",
       "      <th>1536</th>\n",
       "      <td>909</td>\n",
       "      <td>Константин</td>\n",
       "      <td>20</td>\n",
       "      <td>Екатеринбург</td>\n",
       "      <td>free</td>\n",
       "    </tr>\n",
       "    <tr>\n",
       "      <th>1537</th>\n",
       "      <td>403</td>\n",
       "      <td>Полина</td>\n",
       "      <td>19</td>\n",
       "      <td>Сочи</td>\n",
       "      <td>ultra</td>\n",
       "    </tr>\n",
       "    <tr>\n",
       "      <th>1538</th>\n",
       "      <td>908</td>\n",
       "      <td>Рустам</td>\n",
       "      <td>30</td>\n",
       "      <td>Тюмень</td>\n",
       "      <td>free</td>\n",
       "    </tr>\n",
       "    <tr>\n",
       "      <th>1539</th>\n",
       "      <td>43</td>\n",
       "      <td>Стефания</td>\n",
       "      <td>22</td>\n",
       "      <td>Омск</td>\n",
       "      <td>ultra</td>\n",
       "    </tr>\n",
       "    <tr>\n",
       "      <th>1540</th>\n",
       "      <td>127</td>\n",
       "      <td>Павел</td>\n",
       "      <td>25</td>\n",
       "      <td>Пятигорск</td>\n",
       "      <td>ultra</td>\n",
       "    </tr>\n",
       "    <tr>\n",
       "      <th>1541</th>\n",
       "      <td>659</td>\n",
       "      <td>Злата</td>\n",
       "      <td>27</td>\n",
       "      <td>Ростов-на-Дону</td>\n",
       "      <td>ultra</td>\n",
       "    </tr>\n",
       "    <tr>\n",
       "      <th>1542</th>\n",
       "      <td>204</td>\n",
       "      <td>Руслан</td>\n",
       "      <td>30</td>\n",
       "      <td>Пятигорск</td>\n",
       "      <td>ultra</td>\n",
       "    </tr>\n",
       "    <tr>\n",
       "      <th>1543</th>\n",
       "      <td>153</td>\n",
       "      <td>Герман</td>\n",
       "      <td>23</td>\n",
       "      <td>Москва</td>\n",
       "      <td>ultra</td>\n",
       "    </tr>\n",
       "    <tr>\n",
       "      <th>1544</th>\n",
       "      <td>1245</td>\n",
       "      <td>Регина</td>\n",
       "      <td>27</td>\n",
       "      <td>Пятигорск</td>\n",
       "      <td>free</td>\n",
       "    </tr>\n",
       "    <tr>\n",
       "      <th>1545</th>\n",
       "      <td>807</td>\n",
       "      <td>Александр</td>\n",
       "      <td>28</td>\n",
       "      <td>Екатеринбург</td>\n",
       "      <td>free</td>\n",
       "    </tr>\n",
       "    <tr>\n",
       "      <th>1546</th>\n",
       "      <td>924</td>\n",
       "      <td>Мария</td>\n",
       "      <td>23</td>\n",
       "      <td>Пятигорск</td>\n",
       "      <td>free</td>\n",
       "    </tr>\n",
       "    <tr>\n",
       "      <th>1547</th>\n",
       "      <td>635</td>\n",
       "      <td>Герман</td>\n",
       "      <td>21</td>\n",
       "      <td>Москва</td>\n",
       "      <td>ultra</td>\n",
       "    </tr>\n",
       "    <tr>\n",
       "      <th>1548</th>\n",
       "      <td>136</td>\n",
       "      <td>Марсель</td>\n",
       "      <td>25</td>\n",
       "      <td>Тюмень</td>\n",
       "      <td>ultra</td>\n",
       "    </tr>\n",
       "    <tr>\n",
       "      <th>1549</th>\n",
       "      <td>108</td>\n",
       "      <td>Влада</td>\n",
       "      <td>29</td>\n",
       "      <td>Тюмень</td>\n",
       "      <td>ultra</td>\n",
       "    </tr>\n",
       "    <tr>\n",
       "      <th>1550</th>\n",
       "      <td>737</td>\n",
       "      <td>Мелания</td>\n",
       "      <td>27</td>\n",
       "      <td>Ростов-на-Дону</td>\n",
       "      <td>free</td>\n",
       "    </tr>\n",
       "    <tr>\n",
       "      <th>1551</th>\n",
       "      <td>666</td>\n",
       "      <td>Зарина</td>\n",
       "      <td>29</td>\n",
       "      <td>Москва</td>\n",
       "      <td>ultra</td>\n",
       "    </tr>\n",
       "    <tr>\n",
       "      <th>1552</th>\n",
       "      <td>297</td>\n",
       "      <td>Егор</td>\n",
       "      <td>33</td>\n",
       "      <td>Пятигорск</td>\n",
       "      <td>ultra</td>\n",
       "    </tr>\n",
       "    <tr>\n",
       "      <th>1553</th>\n",
       "      <td>121</td>\n",
       "      <td>Алина</td>\n",
       "      <td>25</td>\n",
       "      <td>Пятигорск</td>\n",
       "      <td>ultra</td>\n",
       "    </tr>\n",
       "    <tr>\n",
       "      <th>1554</th>\n",
       "      <td>1198</td>\n",
       "      <td>Демид</td>\n",
       "      <td>29</td>\n",
       "      <td>Ростов-на-Дону</td>\n",
       "      <td>free</td>\n",
       "    </tr>\n",
       "    <tr>\n",
       "      <th>1555</th>\n",
       "      <td>72</td>\n",
       "      <td>Никита</td>\n",
       "      <td>25</td>\n",
       "      <td>Москва</td>\n",
       "      <td>ultra</td>\n",
       "    </tr>\n",
       "    <tr>\n",
       "      <th>1556</th>\n",
       "      <td>422</td>\n",
       "      <td>Кирилл</td>\n",
       "      <td>27</td>\n",
       "      <td>Сочи</td>\n",
       "      <td>ultra</td>\n",
       "    </tr>\n",
       "    <tr>\n",
       "      <th>1557</th>\n",
       "      <td>611</td>\n",
       "      <td>Владимир</td>\n",
       "      <td>28</td>\n",
       "      <td>Омск</td>\n",
       "      <td>ultra</td>\n",
       "    </tr>\n",
       "    <tr>\n",
       "      <th>1558</th>\n",
       "      <td>1237</td>\n",
       "      <td>Евгения</td>\n",
       "      <td>23</td>\n",
       "      <td>Тюмень</td>\n",
       "      <td>free</td>\n",
       "    </tr>\n",
       "    <tr>\n",
       "      <th>1559</th>\n",
       "      <td>209</td>\n",
       "      <td>Андрей</td>\n",
       "      <td>23</td>\n",
       "      <td>Омск</td>\n",
       "      <td>ultra</td>\n",
       "    </tr>\n",
       "    <tr>\n",
       "      <th>1560</th>\n",
       "      <td>829</td>\n",
       "      <td>Федор</td>\n",
       "      <td>29</td>\n",
       "      <td>Пятигорск</td>\n",
       "      <td>free</td>\n",
       "    </tr>\n",
       "    <tr>\n",
       "      <th>1561</th>\n",
       "      <td>809</td>\n",
       "      <td>Юрий</td>\n",
       "      <td>26</td>\n",
       "      <td>Сочи</td>\n",
       "      <td>free</td>\n",
       "    </tr>\n",
       "    <tr>\n",
       "      <th>1562</th>\n",
       "      <td>307</td>\n",
       "      <td>Ясмина</td>\n",
       "      <td>19</td>\n",
       "      <td>Краснодар</td>\n",
       "      <td>ultra</td>\n",
       "    </tr>\n",
       "    <tr>\n",
       "      <th>1563</th>\n",
       "      <td>47</td>\n",
       "      <td>Юрий</td>\n",
       "      <td>28</td>\n",
       "      <td>Тюмень</td>\n",
       "      <td>ultra</td>\n",
       "    </tr>\n",
       "    <tr>\n",
       "      <th>1564</th>\n",
       "      <td>1045</td>\n",
       "      <td>Артемий</td>\n",
       "      <td>28</td>\n",
       "      <td>Ростов-на-Дону</td>\n",
       "      <td>free</td>\n",
       "    </tr>\n",
       "  </tbody>\n",
       "</table>\n",
       "</div>"
      ],
      "text/plain": [
       "      user_id        name  age            city subscription_type\n",
       "1534      293       Агата   26       Краснодар             ultra\n",
       "1535       16      Амалия   27       Краснодар             ultra\n",
       "1536      909  Константин   20    Екатеринбург              free\n",
       "1537      403      Полина   19            Сочи             ultra\n",
       "1538      908      Рустам   30          Тюмень              free\n",
       "1539       43    Стефания   22            Омск             ultra\n",
       "1540      127       Павел   25       Пятигорск             ultra\n",
       "1541      659       Злата   27  Ростов-на-Дону             ultra\n",
       "1542      204      Руслан   30       Пятигорск             ultra\n",
       "1543      153      Герман   23          Москва             ultra\n",
       "1544     1245      Регина   27       Пятигорск              free\n",
       "1545      807   Александр   28    Екатеринбург              free\n",
       "1546      924       Мария   23       Пятигорск              free\n",
       "1547      635      Герман   21          Москва             ultra\n",
       "1548      136     Марсель   25          Тюмень             ultra\n",
       "1549      108       Влада   29          Тюмень             ultra\n",
       "1550      737     Мелания   27  Ростов-на-Дону              free\n",
       "1551      666      Зарина   29          Москва             ultra\n",
       "1552      297        Егор   33       Пятигорск             ultra\n",
       "1553      121       Алина   25       Пятигорск             ultra\n",
       "1554     1198       Демид   29  Ростов-на-Дону              free\n",
       "1555       72      Никита   25          Москва             ultra\n",
       "1556      422      Кирилл   27            Сочи             ultra\n",
       "1557      611    Владимир   28            Омск             ultra\n",
       "1558     1237     Евгения   23          Тюмень              free\n",
       "1559      209      Андрей   23            Омск             ultra\n",
       "1560      829       Федор   29       Пятигорск              free\n",
       "1561      809        Юрий   26            Сочи              free\n",
       "1562      307      Ясмина   19       Краснодар             ultra\n",
       "1563       47        Юрий   28          Тюмень             ultra\n",
       "1564     1045     Артемий   28  Ростов-на-Дону              free"
      ]
     },
     "execution_count": 11,
     "metadata": {},
     "output_type": "execute_result"
    }
   ],
   "source": [
    "duplicated=users[users.duplicated()]\n",
    "duplicated"
   ]
  },
  {
   "cell_type": "markdown",
   "id": "18946eb7",
   "metadata": {},
   "source": [
    "*Дубликатов не много , поэтому их можно удалить*"
   ]
  },
  {
   "cell_type": "code",
   "execution_count": 12,
   "id": "286c9704",
   "metadata": {},
   "outputs": [
    {
     "data": {
      "text/plain": [
       "0"
      ]
     },
     "execution_count": 12,
     "metadata": {},
     "output_type": "execute_result"
    }
   ],
   "source": [
    "users=users.drop_duplicates()\n",
    "users.duplicated().sum()"
   ]
  },
  {
   "cell_type": "markdown",
   "id": "c9cc7d2b",
   "metadata": {},
   "source": [
    "**Создадим новый столбец с номером месяца**"
   ]
  },
  {
   "cell_type": "code",
   "execution_count": 13,
   "id": "49093567",
   "metadata": {},
   "outputs": [
    {
     "data": {
      "text/html": [
       "<div>\n",
       "<style scoped>\n",
       "    .dataframe tbody tr th:only-of-type {\n",
       "        vertical-align: middle;\n",
       "    }\n",
       "\n",
       "    .dataframe tbody tr th {\n",
       "        vertical-align: top;\n",
       "    }\n",
       "\n",
       "    .dataframe thead th {\n",
       "        text-align: right;\n",
       "    }\n",
       "</style>\n",
       "<table border=\"1\" class=\"dataframe\">\n",
       "  <thead>\n",
       "    <tr style=\"text-align: right;\">\n",
       "      <th></th>\n",
       "      <th>user_id</th>\n",
       "      <th>distance</th>\n",
       "      <th>duration</th>\n",
       "      <th>date</th>\n",
       "      <th>month</th>\n",
       "    </tr>\n",
       "  </thead>\n",
       "  <tbody>\n",
       "    <tr>\n",
       "      <th>0</th>\n",
       "      <td>1</td>\n",
       "      <td>4409.919140</td>\n",
       "      <td>25.599769</td>\n",
       "      <td>2021-01-01</td>\n",
       "      <td>1</td>\n",
       "    </tr>\n",
       "    <tr>\n",
       "      <th>1</th>\n",
       "      <td>1</td>\n",
       "      <td>2617.592153</td>\n",
       "      <td>15.816871</td>\n",
       "      <td>2021-01-18</td>\n",
       "      <td>1</td>\n",
       "    </tr>\n",
       "    <tr>\n",
       "      <th>2</th>\n",
       "      <td>1</td>\n",
       "      <td>754.159807</td>\n",
       "      <td>6.232113</td>\n",
       "      <td>2021-04-20</td>\n",
       "      <td>4</td>\n",
       "    </tr>\n",
       "    <tr>\n",
       "      <th>3</th>\n",
       "      <td>1</td>\n",
       "      <td>2694.783254</td>\n",
       "      <td>18.511000</td>\n",
       "      <td>2021-08-11</td>\n",
       "      <td>8</td>\n",
       "    </tr>\n",
       "    <tr>\n",
       "      <th>4</th>\n",
       "      <td>1</td>\n",
       "      <td>4028.687306</td>\n",
       "      <td>26.265803</td>\n",
       "      <td>2021-08-28</td>\n",
       "      <td>8</td>\n",
       "    </tr>\n",
       "    <tr>\n",
       "      <th>...</th>\n",
       "      <td>...</td>\n",
       "      <td>...</td>\n",
       "      <td>...</td>\n",
       "      <td>...</td>\n",
       "      <td>...</td>\n",
       "    </tr>\n",
       "    <tr>\n",
       "      <th>18063</th>\n",
       "      <td>1534</td>\n",
       "      <td>3781.098080</td>\n",
       "      <td>19.822962</td>\n",
       "      <td>2021-11-04</td>\n",
       "      <td>11</td>\n",
       "    </tr>\n",
       "    <tr>\n",
       "      <th>18064</th>\n",
       "      <td>1534</td>\n",
       "      <td>2840.423057</td>\n",
       "      <td>21.409799</td>\n",
       "      <td>2021-11-16</td>\n",
       "      <td>11</td>\n",
       "    </tr>\n",
       "    <tr>\n",
       "      <th>18065</th>\n",
       "      <td>1534</td>\n",
       "      <td>3826.185507</td>\n",
       "      <td>18.435051</td>\n",
       "      <td>2021-11-18</td>\n",
       "      <td>11</td>\n",
       "    </tr>\n",
       "    <tr>\n",
       "      <th>18066</th>\n",
       "      <td>1534</td>\n",
       "      <td>2902.308661</td>\n",
       "      <td>16.674362</td>\n",
       "      <td>2021-11-27</td>\n",
       "      <td>11</td>\n",
       "    </tr>\n",
       "    <tr>\n",
       "      <th>18067</th>\n",
       "      <td>1534</td>\n",
       "      <td>2371.711192</td>\n",
       "      <td>15.893917</td>\n",
       "      <td>2021-12-29</td>\n",
       "      <td>12</td>\n",
       "    </tr>\n",
       "  </tbody>\n",
       "</table>\n",
       "<p>18068 rows × 5 columns</p>\n",
       "</div>"
      ],
      "text/plain": [
       "       user_id     distance   duration       date  month\n",
       "0            1  4409.919140  25.599769 2021-01-01      1\n",
       "1            1  2617.592153  15.816871 2021-01-18      1\n",
       "2            1   754.159807   6.232113 2021-04-20      4\n",
       "3            1  2694.783254  18.511000 2021-08-11      8\n",
       "4            1  4028.687306  26.265803 2021-08-28      8\n",
       "...        ...          ...        ...        ...    ...\n",
       "18063     1534  3781.098080  19.822962 2021-11-04     11\n",
       "18064     1534  2840.423057  21.409799 2021-11-16     11\n",
       "18065     1534  3826.185507  18.435051 2021-11-18     11\n",
       "18066     1534  2902.308661  16.674362 2021-11-27     11\n",
       "18067     1534  2371.711192  15.893917 2021-12-29     12\n",
       "\n",
       "[18068 rows x 5 columns]"
      ]
     },
     "execution_count": 13,
     "metadata": {},
     "output_type": "execute_result"
    }
   ],
   "source": [
    "riders['month']=riders['date'].dt.month\n",
    "riders"
   ]
  },
  {
   "cell_type": "code",
   "execution_count": 14,
   "id": "9a9d6fad",
   "metadata": {},
   "outputs": [
    {
     "data": {
      "text/html": [
       "<div>\n",
       "<style scoped>\n",
       "    .dataframe tbody tr th:only-of-type {\n",
       "        vertical-align: middle;\n",
       "    }\n",
       "\n",
       "    .dataframe tbody tr th {\n",
       "        vertical-align: top;\n",
       "    }\n",
       "\n",
       "    .dataframe thead th {\n",
       "        text-align: right;\n",
       "    }\n",
       "</style>\n",
       "<table border=\"1\" class=\"dataframe\">\n",
       "  <thead>\n",
       "    <tr style=\"text-align: right;\">\n",
       "      <th></th>\n",
       "      <th>user_id</th>\n",
       "      <th>name</th>\n",
       "      <th>age</th>\n",
       "      <th>city</th>\n",
       "      <th>subscription_type</th>\n",
       "    </tr>\n",
       "  </thead>\n",
       "  <tbody>\n",
       "    <tr>\n",
       "      <th>0</th>\n",
       "      <td>1</td>\n",
       "      <td>Кира</td>\n",
       "      <td>22</td>\n",
       "      <td>Тюмень</td>\n",
       "      <td>ultra</td>\n",
       "    </tr>\n",
       "    <tr>\n",
       "      <th>1</th>\n",
       "      <td>2</td>\n",
       "      <td>Станислав</td>\n",
       "      <td>31</td>\n",
       "      <td>Омск</td>\n",
       "      <td>ultra</td>\n",
       "    </tr>\n",
       "    <tr>\n",
       "      <th>2</th>\n",
       "      <td>3</td>\n",
       "      <td>Алексей</td>\n",
       "      <td>20</td>\n",
       "      <td>Москва</td>\n",
       "      <td>ultra</td>\n",
       "    </tr>\n",
       "    <tr>\n",
       "      <th>3</th>\n",
       "      <td>4</td>\n",
       "      <td>Константин</td>\n",
       "      <td>26</td>\n",
       "      <td>Ростов-на-Дону</td>\n",
       "      <td>ultra</td>\n",
       "    </tr>\n",
       "    <tr>\n",
       "      <th>4</th>\n",
       "      <td>5</td>\n",
       "      <td>Адель</td>\n",
       "      <td>28</td>\n",
       "      <td>Омск</td>\n",
       "      <td>ultra</td>\n",
       "    </tr>\n",
       "    <tr>\n",
       "      <th>...</th>\n",
       "      <td>...</td>\n",
       "      <td>...</td>\n",
       "      <td>...</td>\n",
       "      <td>...</td>\n",
       "      <td>...</td>\n",
       "    </tr>\n",
       "    <tr>\n",
       "      <th>1529</th>\n",
       "      <td>1530</td>\n",
       "      <td>Ростислав</td>\n",
       "      <td>29</td>\n",
       "      <td>Сочи</td>\n",
       "      <td>free</td>\n",
       "    </tr>\n",
       "    <tr>\n",
       "      <th>1530</th>\n",
       "      <td>1531</td>\n",
       "      <td>Никита</td>\n",
       "      <td>25</td>\n",
       "      <td>Пятигорск</td>\n",
       "      <td>free</td>\n",
       "    </tr>\n",
       "    <tr>\n",
       "      <th>1531</th>\n",
       "      <td>1532</td>\n",
       "      <td>Алексей</td>\n",
       "      <td>26</td>\n",
       "      <td>Тюмень</td>\n",
       "      <td>free</td>\n",
       "    </tr>\n",
       "    <tr>\n",
       "      <th>1532</th>\n",
       "      <td>1533</td>\n",
       "      <td>Степан</td>\n",
       "      <td>22</td>\n",
       "      <td>Краснодар</td>\n",
       "      <td>free</td>\n",
       "    </tr>\n",
       "    <tr>\n",
       "      <th>1533</th>\n",
       "      <td>1534</td>\n",
       "      <td>Альберт</td>\n",
       "      <td>25</td>\n",
       "      <td>Краснодар</td>\n",
       "      <td>free</td>\n",
       "    </tr>\n",
       "  </tbody>\n",
       "</table>\n",
       "<p>1534 rows × 5 columns</p>\n",
       "</div>"
      ],
      "text/plain": [
       "      user_id        name  age            city subscription_type\n",
       "0           1        Кира   22          Тюмень             ultra\n",
       "1           2   Станислав   31            Омск             ultra\n",
       "2           3     Алексей   20          Москва             ultra\n",
       "3           4  Константин   26  Ростов-на-Дону             ultra\n",
       "4           5       Адель   28            Омск             ultra\n",
       "...       ...         ...  ...             ...               ...\n",
       "1529     1530   Ростислав   29            Сочи              free\n",
       "1530     1531      Никита   25       Пятигорск              free\n",
       "1531     1532     Алексей   26          Тюмень              free\n",
       "1532     1533      Степан   22       Краснодар              free\n",
       "1533     1534     Альберт   25       Краснодар              free\n",
       "\n",
       "[1534 rows x 5 columns]"
      ]
     },
     "execution_count": 14,
     "metadata": {},
     "output_type": "execute_result"
    }
   ],
   "source": [
    "users"
   ]
  },
  {
   "cell_type": "markdown",
   "id": "e14cbd4d",
   "metadata": {},
   "source": [
    "*На данном этапе мы проверили данные на наличие пропусков и дубликатов, заменили тип данных  столбце с датой , чтоб в дальнейшем было легче работать с данными этого столбца, добавили столбец с номерм месяца,упростив себе дальнейшее исследование.*"
   ]
  },
  {
   "cell_type": "markdown",
   "id": "212593c7",
   "metadata": {},
   "source": [
    "#### Шаг 3. Исследовательский анализ данных"
   ]
  },
  {
   "cell_type": "code",
   "execution_count": 15,
   "id": "e3a4274c",
   "metadata": {},
   "outputs": [
    {
     "data": {
      "image/png": "[encoded data removed]",
      "text/plain": [
       "<Figure size 432x288 with 1 Axes>"
      ]
     },
     "metadata": {
      "needs_background": "light"
     },
     "output_type": "display_data"
    },
    {
     "data": {
      "text/html": [
       "<div>\n",
       "<style scoped>\n",
       "    .dataframe tbody tr th:only-of-type {\n",
       "        vertical-align: middle;\n",
       "    }\n",
       "\n",
       "    .dataframe tbody tr th {\n",
       "        vertical-align: top;\n",
       "    }\n",
       "\n",
       "    .dataframe thead th {\n",
       "        text-align: right;\n",
       "    }\n",
       "</style>\n",
       "<table border=\"1\" class=\"dataframe\">\n",
       "  <thead>\n",
       "    <tr style=\"text-align: right;\">\n",
       "      <th></th>\n",
       "      <th>city</th>\n",
       "      <th>user_id</th>\n",
       "    </tr>\n",
       "  </thead>\n",
       "  <tbody>\n",
       "    <tr>\n",
       "      <th>4</th>\n",
       "      <td>Пятигорск</td>\n",
       "      <td>219</td>\n",
       "    </tr>\n",
       "    <tr>\n",
       "      <th>0</th>\n",
       "      <td>Екатеринбург</td>\n",
       "      <td>204</td>\n",
       "    </tr>\n",
       "    <tr>\n",
       "      <th>5</th>\n",
       "      <td>Ростов-на-Дону</td>\n",
       "      <td>198</td>\n",
       "    </tr>\n",
       "    <tr>\n",
       "      <th>1</th>\n",
       "      <td>Краснодар</td>\n",
       "      <td>193</td>\n",
       "    </tr>\n",
       "    <tr>\n",
       "      <th>6</th>\n",
       "      <td>Сочи</td>\n",
       "      <td>189</td>\n",
       "    </tr>\n",
       "    <tr>\n",
       "      <th>3</th>\n",
       "      <td>Омск</td>\n",
       "      <td>183</td>\n",
       "    </tr>\n",
       "    <tr>\n",
       "      <th>7</th>\n",
       "      <td>Тюмень</td>\n",
       "      <td>180</td>\n",
       "    </tr>\n",
       "    <tr>\n",
       "      <th>2</th>\n",
       "      <td>Москва</td>\n",
       "      <td>168</td>\n",
       "    </tr>\n",
       "  </tbody>\n",
       "</table>\n",
       "</div>"
      ],
      "text/plain": [
       "             city  user_id\n",
       "4       Пятигорск      219\n",
       "0    Екатеринбург      204\n",
       "5  Ростов-на-Дону      198\n",
       "1       Краснодар      193\n",
       "6            Сочи      189\n",
       "3            Омск      183\n",
       "7          Тюмень      180\n",
       "2          Москва      168"
      ]
     },
     "execution_count": 15,
     "metadata": {},
     "output_type": "execute_result"
    }
   ],
   "source": [
    "city=users.pivot_table(index='city', values='user_id', aggfunc='count').reset_index()\n",
    "\n",
    "sns.lineplot(data=city,x='city', y='user_id')\n",
    "plt.title('Частота встречаемости городов')\n",
    "plt.xlabel('Города')\n",
    "plt.ylabel('Пользователи')\n",
    "plt.xticks(rotation=45)\n",
    "plt.grid(True)\n",
    "plt.show()\n",
    "city.sort_values(by='user_id',ascending=False)"
   ]
  },
  {
   "cell_type": "markdown",
   "id": "0c4eae97",
   "metadata": {},
   "source": [
    "*График показывает что кол-во пользователей преобладает в Пятигорске*"
   ]
  },
  {
   "cell_type": "code",
   "execution_count": 16,
   "id": "90897350",
   "metadata": {},
   "outputs": [
    {
     "data": {
      "image/png": "[encoded data removed]",
      "text/plain": [
       "<Figure size 720x720 with 1 Axes>"
      ]
     },
     "metadata": {},
     "output_type": "display_data"
    }
   ],
   "source": [
    "subscrip=users.groupby('subscription_type')['user_id'].count()\n",
    "ax=subscrip.plot.pie(figsize=(10,10),autopct='%.2f%%')\n",
    "\n"
   ]
  },
  {
   "cell_type": "markdown",
   "id": "b2eb3413",
   "metadata": {},
   "source": [
    "*Колличество пользователей с подпиской выше*"
   ]
  },
  {
   "cell_type": "code",
   "execution_count": 17,
   "id": "c423d586",
   "metadata": {},
   "outputs": [
    {
     "data": {
      "image/png": "[encoded data removed]",
      "text/plain": [
       "<Figure size 576x360 with 1 Axes>"
      ]
     },
     "metadata": {
      "needs_background": "light"
     },
     "output_type": "display_data"
    }
   ],
   "source": [
    "age=users.pivot_table(index='age', values='user_id', aggfunc='count').reset_index()\n",
    "\n",
    "plt.figure(figsize=(8,5))\n",
    "sns.barplot(x='age', y='user_id', data=age)\n",
    "plt.title('Возраст пользователя ')\n",
    "plt.xlabel('Возраст')\n",
    "plt.ylabel('Колличество людей')\n",
    "plt.show()"
   ]
  },
  {
   "cell_type": "markdown",
   "id": "2c25f2bc",
   "metadata": {},
   "source": [
    "*Основная часть пользователей от 22 до 28 лет*"
   ]
  },
  {
   "cell_type": "code",
   "execution_count": 18,
   "id": "e023ee7f",
   "metadata": {},
   "outputs": [
    {
     "data": {
      "image/png": "[encoded data removed]",
      "text/plain": [
       "<Figure size 1152x432 with 1 Axes>"
      ]
     },
     "metadata": {
      "needs_background": "light"
     },
     "output_type": "display_data"
    }
   ],
   "source": [
    "riders['distance']=riders['distance'].round()\n",
    "riders['distance_bins']=pd.cut(riders['distance'], bins=10)\n",
    "distance=riders.pivot_table(index='distance_bins',values='user_id', aggfunc='count').reset_index()\n",
    "\n",
    "plt.figure(figsize=(16,6))\n",
    "sns.barplot(x='distance_bins',y='user_id', data=distance, palette='coolwarm')\n",
    "plt.title('Расстояние, которое пользователь преодолел за одну поездку')\n",
    "plt.xlabel('Растояние(м)')\n",
    "plt.ylabel('Пользователи')\n",
    "plt.show()"
   ]
  },
  {
   "cell_type": "markdown",
   "id": "8425890b",
   "metadata": {},
   "source": [
    "*От 2100 до 4300 м проезжают пользователи*"
   ]
  },
  {
   "cell_type": "code",
   "execution_count": 19,
   "id": "54a83b4d",
   "metadata": {},
   "outputs": [
    {
     "data": {
      "image/png": "[encoded data removed]",
      "text/plain": [
       "<Figure size 1152x432 with 1 Axes>"
      ]
     },
     "metadata": {
      "needs_background": "light"
     },
     "output_type": "display_data"
    }
   ],
   "source": [
    "riders['duration']=riders['duration'].round(1)\n",
    "riders['duration_bins']=pd.cut(riders['duration'], bins=10)\n",
    "distance=riders.pivot_table(index='duration_bins',values='user_id', aggfunc='count').reset_index()\n",
    "\n",
    "plt.figure(figsize=(16,6))\n",
    "sns.barplot(x='duration_bins',y='user_id', data=distance, palette='coolwarm')\n",
    "plt.title('Продолжительность поездок')\n",
    "plt.xlabel('Время(мин)')\n",
    "plt.ylabel('Пользователи')\n",
    "plt.show()"
   ]
  },
  {
   "cell_type": "markdown",
   "id": "5bd7c9e4",
   "metadata": {},
   "source": [
    "*Большая часть данных показывет что время поездки от 8.56 до 24.68*"
   ]
  },
  {
   "cell_type": "markdown",
   "id": "c86a525f",
   "metadata": {},
   "source": [
    "**Исходя из исследования данных, можно сделать небольшой вывод о том что большая часть пользователей находится в г.Пятигорске,от 22 до 28 лет,около 53% из них не пользуется подпиской ,проезжают расстояние от 2100 до 4300 м и время поездки от 8,56 до 24,68 минут** "
   ]
  },
  {
   "cell_type": "markdown",
   "id": "4ef51331",
   "metadata": {},
   "source": [
    "#### Шаг 4. Объединение данных"
   ]
  },
  {
   "cell_type": "code",
   "execution_count": 20,
   "id": "27eb53de",
   "metadata": {},
   "outputs": [
    {
     "data": {
      "text/plain": [
       "(1534, 5)"
      ]
     },
     "execution_count": 20,
     "metadata": {},
     "output_type": "execute_result"
    }
   ],
   "source": [
    "users.shape"
   ]
  },
  {
   "cell_type": "code",
   "execution_count": 21,
   "id": "116b7c13",
   "metadata": {},
   "outputs": [
    {
     "data": {
      "text/plain": [
       "(18068, 7)"
      ]
     },
     "execution_count": 21,
     "metadata": {},
     "output_type": "execute_result"
    }
   ],
   "source": [
    "riders.shape"
   ]
  },
  {
   "cell_type": "markdown",
   "id": "995e9816",
   "metadata": {},
   "source": [
    "*Объединим все датафреймы в один*"
   ]
  },
  {
   "cell_type": "code",
   "execution_count": 22,
   "id": "6bf288b5",
   "metadata": {
    "scrolled": true
   },
   "outputs": [
    {
     "data": {
      "text/html": [
       "<div>\n",
       "<style scoped>\n",
       "    .dataframe tbody tr th:only-of-type {\n",
       "        vertical-align: middle;\n",
       "    }\n",
       "\n",
       "    .dataframe tbody tr th {\n",
       "        vertical-align: top;\n",
       "    }\n",
       "\n",
       "    .dataframe thead th {\n",
       "        text-align: right;\n",
       "    }\n",
       "</style>\n",
       "<table border=\"1\" class=\"dataframe\">\n",
       "  <thead>\n",
       "    <tr style=\"text-align: right;\">\n",
       "      <th></th>\n",
       "      <th>user_id</th>\n",
       "      <th>name</th>\n",
       "      <th>age</th>\n",
       "      <th>city</th>\n",
       "      <th>subscription_type</th>\n",
       "      <th>distance</th>\n",
       "      <th>duration</th>\n",
       "      <th>date</th>\n",
       "      <th>month</th>\n",
       "      <th>distance_bins</th>\n",
       "      <th>duration_bins</th>\n",
       "      <th>minute_price</th>\n",
       "      <th>start_ride_price</th>\n",
       "      <th>subscription_fee</th>\n",
       "    </tr>\n",
       "  </thead>\n",
       "  <tbody>\n",
       "    <tr>\n",
       "      <th>0</th>\n",
       "      <td>1</td>\n",
       "      <td>Кира</td>\n",
       "      <td>22</td>\n",
       "      <td>Тюмень</td>\n",
       "      <td>ultra</td>\n",
       "      <td>4410.0</td>\n",
       "      <td>25.6</td>\n",
       "      <td>2021-01-01</td>\n",
       "      <td>1</td>\n",
       "      <td>(4327.0, 5048.0]</td>\n",
       "      <td>(24.68, 28.71]</td>\n",
       "      <td>6</td>\n",
       "      <td>0</td>\n",
       "      <td>199</td>\n",
       "    </tr>\n",
       "    <tr>\n",
       "      <th>1</th>\n",
       "      <td>1</td>\n",
       "      <td>Кира</td>\n",
       "      <td>22</td>\n",
       "      <td>Тюмень</td>\n",
       "      <td>ultra</td>\n",
       "      <td>2618.0</td>\n",
       "      <td>15.8</td>\n",
       "      <td>2021-01-18</td>\n",
       "      <td>1</td>\n",
       "      <td>(2164.0, 2885.0]</td>\n",
       "      <td>(12.59, 16.62]</td>\n",
       "      <td>6</td>\n",
       "      <td>0</td>\n",
       "      <td>199</td>\n",
       "    </tr>\n",
       "    <tr>\n",
       "      <th>2</th>\n",
       "      <td>1</td>\n",
       "      <td>Кира</td>\n",
       "      <td>22</td>\n",
       "      <td>Тюмень</td>\n",
       "      <td>ultra</td>\n",
       "      <td>754.0</td>\n",
       "      <td>6.2</td>\n",
       "      <td>2021-04-20</td>\n",
       "      <td>4</td>\n",
       "      <td>(722.0, 1443.0]</td>\n",
       "      <td>(4.53, 8.56]</td>\n",
       "      <td>6</td>\n",
       "      <td>0</td>\n",
       "      <td>199</td>\n",
       "    </tr>\n",
       "    <tr>\n",
       "      <th>3</th>\n",
       "      <td>1</td>\n",
       "      <td>Кира</td>\n",
       "      <td>22</td>\n",
       "      <td>Тюмень</td>\n",
       "      <td>ultra</td>\n",
       "      <td>2695.0</td>\n",
       "      <td>18.5</td>\n",
       "      <td>2021-08-11</td>\n",
       "      <td>8</td>\n",
       "      <td>(2164.0, 2885.0]</td>\n",
       "      <td>(16.62, 20.65]</td>\n",
       "      <td>6</td>\n",
       "      <td>0</td>\n",
       "      <td>199</td>\n",
       "    </tr>\n",
       "    <tr>\n",
       "      <th>4</th>\n",
       "      <td>1</td>\n",
       "      <td>Кира</td>\n",
       "      <td>22</td>\n",
       "      <td>Тюмень</td>\n",
       "      <td>ultra</td>\n",
       "      <td>4029.0</td>\n",
       "      <td>26.3</td>\n",
       "      <td>2021-08-28</td>\n",
       "      <td>8</td>\n",
       "      <td>(3606.0, 4327.0]</td>\n",
       "      <td>(24.68, 28.71]</td>\n",
       "      <td>6</td>\n",
       "      <td>0</td>\n",
       "      <td>199</td>\n",
       "    </tr>\n",
       "    <tr>\n",
       "      <th>...</th>\n",
       "      <td>...</td>\n",
       "      <td>...</td>\n",
       "      <td>...</td>\n",
       "      <td>...</td>\n",
       "      <td>...</td>\n",
       "      <td>...</td>\n",
       "      <td>...</td>\n",
       "      <td>...</td>\n",
       "      <td>...</td>\n",
       "      <td>...</td>\n",
       "      <td>...</td>\n",
       "      <td>...</td>\n",
       "      <td>...</td>\n",
       "      <td>...</td>\n",
       "    </tr>\n",
       "    <tr>\n",
       "      <th>18063</th>\n",
       "      <td>1534</td>\n",
       "      <td>Альберт</td>\n",
       "      <td>25</td>\n",
       "      <td>Краснодар</td>\n",
       "      <td>free</td>\n",
       "      <td>3781.0</td>\n",
       "      <td>19.8</td>\n",
       "      <td>2021-11-04</td>\n",
       "      <td>11</td>\n",
       "      <td>(3606.0, 4327.0]</td>\n",
       "      <td>(16.62, 20.65]</td>\n",
       "      <td>8</td>\n",
       "      <td>50</td>\n",
       "      <td>0</td>\n",
       "    </tr>\n",
       "    <tr>\n",
       "      <th>18064</th>\n",
       "      <td>1534</td>\n",
       "      <td>Альберт</td>\n",
       "      <td>25</td>\n",
       "      <td>Краснодар</td>\n",
       "      <td>free</td>\n",
       "      <td>2840.0</td>\n",
       "      <td>21.4</td>\n",
       "      <td>2021-11-16</td>\n",
       "      <td>11</td>\n",
       "      <td>(2164.0, 2885.0]</td>\n",
       "      <td>(20.65, 24.68]</td>\n",
       "      <td>8</td>\n",
       "      <td>50</td>\n",
       "      <td>0</td>\n",
       "    </tr>\n",
       "    <tr>\n",
       "      <th>18065</th>\n",
       "      <td>1534</td>\n",
       "      <td>Альберт</td>\n",
       "      <td>25</td>\n",
       "      <td>Краснодар</td>\n",
       "      <td>free</td>\n",
       "      <td>3826.0</td>\n",
       "      <td>18.4</td>\n",
       "      <td>2021-11-18</td>\n",
       "      <td>11</td>\n",
       "      <td>(3606.0, 4327.0]</td>\n",
       "      <td>(16.62, 20.65]</td>\n",
       "      <td>8</td>\n",
       "      <td>50</td>\n",
       "      <td>0</td>\n",
       "    </tr>\n",
       "    <tr>\n",
       "      <th>18066</th>\n",
       "      <td>1534</td>\n",
       "      <td>Альберт</td>\n",
       "      <td>25</td>\n",
       "      <td>Краснодар</td>\n",
       "      <td>free</td>\n",
       "      <td>2902.0</td>\n",
       "      <td>16.7</td>\n",
       "      <td>2021-11-27</td>\n",
       "      <td>11</td>\n",
       "      <td>(2885.0, 3606.0]</td>\n",
       "      <td>(16.62, 20.65]</td>\n",
       "      <td>8</td>\n",
       "      <td>50</td>\n",
       "      <td>0</td>\n",
       "    </tr>\n",
       "    <tr>\n",
       "      <th>18067</th>\n",
       "      <td>1534</td>\n",
       "      <td>Альберт</td>\n",
       "      <td>25</td>\n",
       "      <td>Краснодар</td>\n",
       "      <td>free</td>\n",
       "      <td>2372.0</td>\n",
       "      <td>15.9</td>\n",
       "      <td>2021-12-29</td>\n",
       "      <td>12</td>\n",
       "      <td>(2164.0, 2885.0]</td>\n",
       "      <td>(12.59, 16.62]</td>\n",
       "      <td>8</td>\n",
       "      <td>50</td>\n",
       "      <td>0</td>\n",
       "    </tr>\n",
       "  </tbody>\n",
       "</table>\n",
       "<p>18068 rows × 14 columns</p>\n",
       "</div>"
      ],
      "text/plain": [
       "       user_id     name  age       city subscription_type  distance  duration  \\\n",
       "0            1     Кира   22     Тюмень             ultra    4410.0      25.6   \n",
       "1            1     Кира   22     Тюмень             ultra    2618.0      15.8   \n",
       "2            1     Кира   22     Тюмень             ultra     754.0       6.2   \n",
       "3            1     Кира   22     Тюмень             ultra    2695.0      18.5   \n",
       "4            1     Кира   22     Тюмень             ultra    4029.0      26.3   \n",
       "...        ...      ...  ...        ...               ...       ...       ...   \n",
       "18063     1534  Альберт   25  Краснодар              free    3781.0      19.8   \n",
       "18064     1534  Альберт   25  Краснодар              free    2840.0      21.4   \n",
       "18065     1534  Альберт   25  Краснодар              free    3826.0      18.4   \n",
       "18066     1534  Альберт   25  Краснодар              free    2902.0      16.7   \n",
       "18067     1534  Альберт   25  Краснодар              free    2372.0      15.9   \n",
       "\n",
       "            date  month     distance_bins   duration_bins  minute_price  \\\n",
       "0     2021-01-01      1  (4327.0, 5048.0]  (24.68, 28.71]             6   \n",
       "1     2021-01-18      1  (2164.0, 2885.0]  (12.59, 16.62]             6   \n",
       "2     2021-04-20      4   (722.0, 1443.0]    (4.53, 8.56]             6   \n",
       "3     2021-08-11      8  (2164.0, 2885.0]  (16.62, 20.65]             6   \n",
       "4     2021-08-28      8  (3606.0, 4327.0]  (24.68, 28.71]             6   \n",
       "...          ...    ...               ...             ...           ...   \n",
       "18063 2021-11-04     11  (3606.0, 4327.0]  (16.62, 20.65]             8   \n",
       "18064 2021-11-16     11  (2164.0, 2885.0]  (20.65, 24.68]             8   \n",
       "18065 2021-11-18     11  (3606.0, 4327.0]  (16.62, 20.65]             8   \n",
       "18066 2021-11-27     11  (2885.0, 3606.0]  (16.62, 20.65]             8   \n",
       "18067 2021-12-29     12  (2164.0, 2885.0]  (12.59, 16.62]             8   \n",
       "\n",
       "       start_ride_price  subscription_fee  \n",
       "0                     0               199  \n",
       "1                     0               199  \n",
       "2                     0               199  \n",
       "3                     0               199  \n",
       "4                     0               199  \n",
       "...                 ...               ...  \n",
       "18063                50                 0  \n",
       "18064                50                 0  \n",
       "18065                50                 0  \n",
       "18066                50                 0  \n",
       "18067                50                 0  \n",
       "\n",
       "[18068 rows x 14 columns]"
      ]
     },
     "execution_count": 22,
     "metadata": {},
     "output_type": "execute_result"
    }
   ],
   "source": [
    "df=users.merge(riders,on='user_id',how='right')\n",
    "df=df.merge(subscriptions,on='subscription_type',how ='left')\n",
    "df"
   ]
  },
  {
   "cell_type": "code",
   "execution_count": 23,
   "id": "dacedcc6",
   "metadata": {
    "scrolled": true
   },
   "outputs": [
    {
     "data": {
      "text/plain": [
       "(18068, 14)"
      ]
     },
     "execution_count": 23,
     "metadata": {},
     "output_type": "execute_result"
    }
   ],
   "source": [
    "df.shape"
   ]
  },
  {
   "cell_type": "code",
   "execution_count": 24,
   "id": "c3ae16d7",
   "metadata": {},
   "outputs": [
    {
     "data": {
      "text/plain": [
       "user_id              0\n",
       "name                 0\n",
       "age                  0\n",
       "city                 0\n",
       "subscription_type    0\n",
       "distance             0\n",
       "duration             0\n",
       "date                 0\n",
       "month                0\n",
       "distance_bins        0\n",
       "duration_bins        0\n",
       "minute_price         0\n",
       "start_ride_price     0\n",
       "subscription_fee     0\n",
       "dtype: int64"
      ]
     },
     "execution_count": 24,
     "metadata": {},
     "output_type": "execute_result"
    }
   ],
   "source": [
    "df.isnull().sum()"
   ]
  },
  {
   "cell_type": "code",
   "execution_count": 25,
   "id": "2d4c1c8b",
   "metadata": {},
   "outputs": [],
   "source": [
    "ultra=df.query('subscription_type==\"ultra\"')\n",
    "free=df.query('subscription_type==\"free\"')"
   ]
  },
  {
   "cell_type": "code",
   "execution_count": 26,
   "id": "6c55e581",
   "metadata": {},
   "outputs": [
    {
     "data": {
      "image/png": "[encoded data removed]",
      "text/plain": [
       "<Figure size 1152x576 with 1 Axes>"
      ]
     },
     "metadata": {
      "needs_background": "light"
     },
     "output_type": "display_data"
    }
   ],
   "source": [
    "ultra_schedule = ultra.groupby('distance_bins')['user_id'].count().reset_index()\n",
    "\n",
    "plt.figure(figsize=(16,8))\n",
    "sns.barplot(x='distance_bins',y='user_id',data=ultra_schedule)\n",
    "plt.xlabel('Расстояние(м)')\n",
    "plt.ylabel('Пользователи')\n",
    "plt.title('Расстояние с подпиской Ultra')\n",
    "plt.show()"
   ]
  },
  {
   "cell_type": "markdown",
   "id": "6fa1a5cb",
   "metadata": {},
   "source": [
    "*С большая часть людей с подпиской  проезжают от 2885 до 3606 м*"
   ]
  },
  {
   "cell_type": "code",
   "execution_count": 27,
   "id": "96e21b6c",
   "metadata": {},
   "outputs": [
    {
     "data": {
      "image/png": "[encoded data removed]",
      "text/plain": [
       "<Figure size 1152x576 with 1 Axes>"
      ]
     },
     "metadata": {
      "needs_background": "light"
     },
     "output_type": "display_data"
    }
   ],
   "source": [
    "ultra_schedule = ultra.groupby('duration_bins')['user_id'].count().reset_index()\n",
    "\n",
    "plt.figure(figsize=(16,8))\n",
    "sns.barplot(x='duration_bins',y='user_id',data=ultra_schedule)\n",
    "plt.xlabel('Время')\n",
    "plt.ylabel('Пользователи')\n",
    "plt.title('Время с подпиской Ultra')\n",
    "plt.show()"
   ]
  },
  {
   "cell_type": "markdown",
   "id": "0f079eaf",
   "metadata": {},
   "source": [
    "*От 12.59 до 24.68 минут тратит на поездки большая часть лдей с подпиской*"
   ]
  },
  {
   "cell_type": "code",
   "execution_count": 28,
   "id": "936e903a",
   "metadata": {},
   "outputs": [
    {
     "data": {
      "image/png": "[encoded data removed]",
      "text/plain": [
       "<Figure size 1152x576 with 1 Axes>"
      ]
     },
     "metadata": {
      "needs_background": "light"
     },
     "output_type": "display_data"
    }
   ],
   "source": [
    "free_schedule = free.groupby('distance_bins')['user_id'].count().reset_index()\n",
    "\n",
    "plt.figure(figsize=(16,8))\n",
    "sns.barplot(x='distance_bins',y='user_id',data=free_schedule)\n",
    "plt.xlabel('Расстояние(м)')\n",
    "plt.ylabel('Пользователи')\n",
    "plt.title('Расстояние с без подписки')\n",
    "plt.show()"
   ]
  },
  {
   "cell_type": "markdown",
   "id": "62348fba",
   "metadata": {},
   "source": [
    "*Без подписки люди проезжают от 2164 до 4327 м*"
   ]
  },
  {
   "cell_type": "code",
   "execution_count": 29,
   "id": "af19902f",
   "metadata": {},
   "outputs": [
    {
     "data": {
      "image/png": "[encoded data removed]",
      "text/plain": [
       "<Figure size 1152x576 with 1 Axes>"
      ]
     },
     "metadata": {
      "needs_background": "light"
     },
     "output_type": "display_data"
    }
   ],
   "source": [
    "free_schedule = free.groupby('duration_bins')['user_id'].count().reset_index()\n",
    "\n",
    "plt.figure(figsize=(16,8))\n",
    "sns.barplot(x='duration_bins',y='user_id',data=free_schedule)\n",
    "plt.xlabel('Время')\n",
    "plt.ylabel('Пользователи')\n",
    "plt.title('Время без подписки')\n",
    "plt.show()"
   ]
  },
  {
   "cell_type": "markdown",
   "id": "2e72fe14",
   "metadata": {},
   "source": [
    "*От 8.56 до 24.68 минут тратят на поездку люди без подписки*"
   ]
  },
  {
   "cell_type": "markdown",
   "id": "e2ca6203",
   "metadata": {},
   "source": [
    "**Общий вывод на основе данных по графикам: С большая часть людей с подпиской проезжают от 2885 до 3606 метров и тратят на это от 12.59 до 24.68 минут.\n",
    "Без подписки люди проезжают от 2164 до 4327 метров и тратят от 8.56 до 24.68 минут**"
   ]
  },
  {
   "cell_type": "markdown",
   "id": "b3c0c610",
   "metadata": {},
   "source": [
    "<div class=\"alert alert-success\" style=\"border-radius: 10px; box-shadow: 2px 2px 2px; border: 1px solid; padding: 10px \">\n",
    "<b>Комментарий ревьюера v.1</b> \n",
    "    \n",
    "👍 \n",
    "Выводы верны, визуализация корректная. Здорово, что есть сравнения профилей пользователей двух категорий.\n",
    "</div>"
   ]
  },
  {
   "cell_type": "markdown",
   "id": "402d620f",
   "metadata": {},
   "source": [
    "#### Шаг 5. Подсчёт выручки"
   ]
  },
  {
   "cell_type": "code",
   "execution_count": 30,
   "id": "b9864a52",
   "metadata": {
    "scrolled": false
   },
   "outputs": [
    {
     "data": {
      "text/html": [
       "<div>\n",
       "<style scoped>\n",
       "    .dataframe tbody tr th:only-of-type {\n",
       "        vertical-align: middle;\n",
       "    }\n",
       "\n",
       "    .dataframe tbody tr th {\n",
       "        vertical-align: top;\n",
       "    }\n",
       "\n",
       "    .dataframe thead th {\n",
       "        text-align: right;\n",
       "    }\n",
       "</style>\n",
       "<table border=\"1\" class=\"dataframe\">\n",
       "  <thead>\n",
       "    <tr style=\"text-align: right;\">\n",
       "      <th></th>\n",
       "      <th>user_id</th>\n",
       "      <th>name</th>\n",
       "      <th>age</th>\n",
       "      <th>city</th>\n",
       "      <th>subscription_type</th>\n",
       "      <th>distance</th>\n",
       "      <th>duration</th>\n",
       "      <th>date</th>\n",
       "      <th>month</th>\n",
       "      <th>distance_bins</th>\n",
       "      <th>duration_bins</th>\n",
       "      <th>minute_price</th>\n",
       "      <th>start_ride_price</th>\n",
       "      <th>subscription_fee</th>\n",
       "    </tr>\n",
       "  </thead>\n",
       "  <tbody>\n",
       "    <tr>\n",
       "      <th>0</th>\n",
       "      <td>1</td>\n",
       "      <td>Кира</td>\n",
       "      <td>22</td>\n",
       "      <td>Тюмень</td>\n",
       "      <td>ultra</td>\n",
       "      <td>4410.0</td>\n",
       "      <td>25.6</td>\n",
       "      <td>2021-01-01</td>\n",
       "      <td>1</td>\n",
       "      <td>(4327.0, 5048.0]</td>\n",
       "      <td>(24.68, 28.71]</td>\n",
       "      <td>6</td>\n",
       "      <td>0</td>\n",
       "      <td>199</td>\n",
       "    </tr>\n",
       "    <tr>\n",
       "      <th>1</th>\n",
       "      <td>1</td>\n",
       "      <td>Кира</td>\n",
       "      <td>22</td>\n",
       "      <td>Тюмень</td>\n",
       "      <td>ultra</td>\n",
       "      <td>2618.0</td>\n",
       "      <td>15.8</td>\n",
       "      <td>2021-01-18</td>\n",
       "      <td>1</td>\n",
       "      <td>(2164.0, 2885.0]</td>\n",
       "      <td>(12.59, 16.62]</td>\n",
       "      <td>6</td>\n",
       "      <td>0</td>\n",
       "      <td>199</td>\n",
       "    </tr>\n",
       "    <tr>\n",
       "      <th>2</th>\n",
       "      <td>1</td>\n",
       "      <td>Кира</td>\n",
       "      <td>22</td>\n",
       "      <td>Тюмень</td>\n",
       "      <td>ultra</td>\n",
       "      <td>754.0</td>\n",
       "      <td>6.2</td>\n",
       "      <td>2021-04-20</td>\n",
       "      <td>4</td>\n",
       "      <td>(722.0, 1443.0]</td>\n",
       "      <td>(4.53, 8.56]</td>\n",
       "      <td>6</td>\n",
       "      <td>0</td>\n",
       "      <td>199</td>\n",
       "    </tr>\n",
       "    <tr>\n",
       "      <th>3</th>\n",
       "      <td>1</td>\n",
       "      <td>Кира</td>\n",
       "      <td>22</td>\n",
       "      <td>Тюмень</td>\n",
       "      <td>ultra</td>\n",
       "      <td>2695.0</td>\n",
       "      <td>18.5</td>\n",
       "      <td>2021-08-11</td>\n",
       "      <td>8</td>\n",
       "      <td>(2164.0, 2885.0]</td>\n",
       "      <td>(16.62, 20.65]</td>\n",
       "      <td>6</td>\n",
       "      <td>0</td>\n",
       "      <td>199</td>\n",
       "    </tr>\n",
       "    <tr>\n",
       "      <th>4</th>\n",
       "      <td>1</td>\n",
       "      <td>Кира</td>\n",
       "      <td>22</td>\n",
       "      <td>Тюмень</td>\n",
       "      <td>ultra</td>\n",
       "      <td>4029.0</td>\n",
       "      <td>26.3</td>\n",
       "      <td>2021-08-28</td>\n",
       "      <td>8</td>\n",
       "      <td>(3606.0, 4327.0]</td>\n",
       "      <td>(24.68, 28.71]</td>\n",
       "      <td>6</td>\n",
       "      <td>0</td>\n",
       "      <td>199</td>\n",
       "    </tr>\n",
       "    <tr>\n",
       "      <th>...</th>\n",
       "      <td>...</td>\n",
       "      <td>...</td>\n",
       "      <td>...</td>\n",
       "      <td>...</td>\n",
       "      <td>...</td>\n",
       "      <td>...</td>\n",
       "      <td>...</td>\n",
       "      <td>...</td>\n",
       "      <td>...</td>\n",
       "      <td>...</td>\n",
       "      <td>...</td>\n",
       "      <td>...</td>\n",
       "      <td>...</td>\n",
       "      <td>...</td>\n",
       "    </tr>\n",
       "    <tr>\n",
       "      <th>18063</th>\n",
       "      <td>1534</td>\n",
       "      <td>Альберт</td>\n",
       "      <td>25</td>\n",
       "      <td>Краснодар</td>\n",
       "      <td>free</td>\n",
       "      <td>3781.0</td>\n",
       "      <td>19.8</td>\n",
       "      <td>2021-11-04</td>\n",
       "      <td>11</td>\n",
       "      <td>(3606.0, 4327.0]</td>\n",
       "      <td>(16.62, 20.65]</td>\n",
       "      <td>8</td>\n",
       "      <td>50</td>\n",
       "      <td>0</td>\n",
       "    </tr>\n",
       "    <tr>\n",
       "      <th>18064</th>\n",
       "      <td>1534</td>\n",
       "      <td>Альберт</td>\n",
       "      <td>25</td>\n",
       "      <td>Краснодар</td>\n",
       "      <td>free</td>\n",
       "      <td>2840.0</td>\n",
       "      <td>21.4</td>\n",
       "      <td>2021-11-16</td>\n",
       "      <td>11</td>\n",
       "      <td>(2164.0, 2885.0]</td>\n",
       "      <td>(20.65, 24.68]</td>\n",
       "      <td>8</td>\n",
       "      <td>50</td>\n",
       "      <td>0</td>\n",
       "    </tr>\n",
       "    <tr>\n",
       "      <th>18065</th>\n",
       "      <td>1534</td>\n",
       "      <td>Альберт</td>\n",
       "      <td>25</td>\n",
       "      <td>Краснодар</td>\n",
       "      <td>free</td>\n",
       "      <td>3826.0</td>\n",
       "      <td>18.4</td>\n",
       "      <td>2021-11-18</td>\n",
       "      <td>11</td>\n",
       "      <td>(3606.0, 4327.0]</td>\n",
       "      <td>(16.62, 20.65]</td>\n",
       "      <td>8</td>\n",
       "      <td>50</td>\n",
       "      <td>0</td>\n",
       "    </tr>\n",
       "    <tr>\n",
       "      <th>18066</th>\n",
       "      <td>1534</td>\n",
       "      <td>Альберт</td>\n",
       "      <td>25</td>\n",
       "      <td>Краснодар</td>\n",
       "      <td>free</td>\n",
       "      <td>2902.0</td>\n",
       "      <td>16.7</td>\n",
       "      <td>2021-11-27</td>\n",
       "      <td>11</td>\n",
       "      <td>(2885.0, 3606.0]</td>\n",
       "      <td>(16.62, 20.65]</td>\n",
       "      <td>8</td>\n",
       "      <td>50</td>\n",
       "      <td>0</td>\n",
       "    </tr>\n",
       "    <tr>\n",
       "      <th>18067</th>\n",
       "      <td>1534</td>\n",
       "      <td>Альберт</td>\n",
       "      <td>25</td>\n",
       "      <td>Краснодар</td>\n",
       "      <td>free</td>\n",
       "      <td>2372.0</td>\n",
       "      <td>15.9</td>\n",
       "      <td>2021-12-29</td>\n",
       "      <td>12</td>\n",
       "      <td>(2164.0, 2885.0]</td>\n",
       "      <td>(12.59, 16.62]</td>\n",
       "      <td>8</td>\n",
       "      <td>50</td>\n",
       "      <td>0</td>\n",
       "    </tr>\n",
       "  </tbody>\n",
       "</table>\n",
       "<p>18068 rows × 14 columns</p>\n",
       "</div>"
      ],
      "text/plain": [
       "       user_id     name  age       city subscription_type  distance  duration  \\\n",
       "0            1     Кира   22     Тюмень             ultra    4410.0      25.6   \n",
       "1            1     Кира   22     Тюмень             ultra    2618.0      15.8   \n",
       "2            1     Кира   22     Тюмень             ultra     754.0       6.2   \n",
       "3            1     Кира   22     Тюмень             ultra    2695.0      18.5   \n",
       "4            1     Кира   22     Тюмень             ultra    4029.0      26.3   \n",
       "...        ...      ...  ...        ...               ...       ...       ...   \n",
       "18063     1534  Альберт   25  Краснодар              free    3781.0      19.8   \n",
       "18064     1534  Альберт   25  Краснодар              free    2840.0      21.4   \n",
       "18065     1534  Альберт   25  Краснодар              free    3826.0      18.4   \n",
       "18066     1534  Альберт   25  Краснодар              free    2902.0      16.7   \n",
       "18067     1534  Альберт   25  Краснодар              free    2372.0      15.9   \n",
       "\n",
       "            date  month     distance_bins   duration_bins  minute_price  \\\n",
       "0     2021-01-01      1  (4327.0, 5048.0]  (24.68, 28.71]             6   \n",
       "1     2021-01-18      1  (2164.0, 2885.0]  (12.59, 16.62]             6   \n",
       "2     2021-04-20      4   (722.0, 1443.0]    (4.53, 8.56]             6   \n",
       "3     2021-08-11      8  (2164.0, 2885.0]  (16.62, 20.65]             6   \n",
       "4     2021-08-28      8  (3606.0, 4327.0]  (24.68, 28.71]             6   \n",
       "...          ...    ...               ...             ...           ...   \n",
       "18063 2021-11-04     11  (3606.0, 4327.0]  (16.62, 20.65]             8   \n",
       "18064 2021-11-16     11  (2164.0, 2885.0]  (20.65, 24.68]             8   \n",
       "18065 2021-11-18     11  (3606.0, 4327.0]  (16.62, 20.65]             8   \n",
       "18066 2021-11-27     11  (2885.0, 3606.0]  (16.62, 20.65]             8   \n",
       "18067 2021-12-29     12  (2164.0, 2885.0]  (12.59, 16.62]             8   \n",
       "\n",
       "       start_ride_price  subscription_fee  \n",
       "0                     0               199  \n",
       "1                     0               199  \n",
       "2                     0               199  \n",
       "3                     0               199  \n",
       "4                     0               199  \n",
       "...                 ...               ...  \n",
       "18063                50                 0  \n",
       "18064                50                 0  \n",
       "18065                50                 0  \n",
       "18066                50                 0  \n",
       "18067                50                 0  \n",
       "\n",
       "[18068 rows x 14 columns]"
      ]
     },
     "execution_count": 30,
     "metadata": {},
     "output_type": "execute_result"
    }
   ],
   "source": [
    "df"
   ]
  },
  {
   "cell_type": "code",
   "execution_count": 31,
   "id": "80ad2daa",
   "metadata": {},
   "outputs": [],
   "source": [
    "df['duration']=np.ceil(df['duration'])"
   ]
  },
  {
   "cell_type": "code",
   "execution_count": 32,
   "id": "ec513fa6",
   "metadata": {},
   "outputs": [
    {
     "data": {
      "text/html": [
       "<div>\n",
       "<style scoped>\n",
       "    .dataframe tbody tr th:only-of-type {\n",
       "        vertical-align: middle;\n",
       "    }\n",
       "\n",
       "    .dataframe tbody tr th {\n",
       "        vertical-align: top;\n",
       "    }\n",
       "\n",
       "    .dataframe thead th {\n",
       "        text-align: right;\n",
       "    }\n",
       "</style>\n",
       "<table border=\"1\" class=\"dataframe\">\n",
       "  <thead>\n",
       "    <tr style=\"text-align: right;\">\n",
       "      <th></th>\n",
       "      <th>user_id</th>\n",
       "      <th>month</th>\n",
       "      <th>total_distance</th>\n",
       "      <th>count</th>\n",
       "      <th>total_duration</th>\n",
       "      <th>subscription_type</th>\n",
       "      <th>minute_price</th>\n",
       "      <th>start_ride_price</th>\n",
       "      <th>subscription_fee</th>\n",
       "    </tr>\n",
       "  </thead>\n",
       "  <tbody>\n",
       "    <tr>\n",
       "      <th>0</th>\n",
       "      <td>1</td>\n",
       "      <td>1</td>\n",
       "      <td>7028.0</td>\n",
       "      <td>2</td>\n",
       "      <td>42.0</td>\n",
       "      <td>ultra</td>\n",
       "      <td>6</td>\n",
       "      <td>0</td>\n",
       "      <td>199</td>\n",
       "    </tr>\n",
       "    <tr>\n",
       "      <th>1</th>\n",
       "      <td>1</td>\n",
       "      <td>4</td>\n",
       "      <td>754.0</td>\n",
       "      <td>1</td>\n",
       "      <td>7.0</td>\n",
       "      <td>ultra</td>\n",
       "      <td>6</td>\n",
       "      <td>0</td>\n",
       "      <td>199</td>\n",
       "    </tr>\n",
       "    <tr>\n",
       "      <th>2</th>\n",
       "      <td>1</td>\n",
       "      <td>8</td>\n",
       "      <td>6724.0</td>\n",
       "      <td>2</td>\n",
       "      <td>46.0</td>\n",
       "      <td>ultra</td>\n",
       "      <td>6</td>\n",
       "      <td>0</td>\n",
       "      <td>199</td>\n",
       "    </tr>\n",
       "    <tr>\n",
       "      <th>3</th>\n",
       "      <td>1</td>\n",
       "      <td>10</td>\n",
       "      <td>5810.0</td>\n",
       "      <td>2</td>\n",
       "      <td>32.0</td>\n",
       "      <td>ultra</td>\n",
       "      <td>6</td>\n",
       "      <td>0</td>\n",
       "      <td>199</td>\n",
       "    </tr>\n",
       "    <tr>\n",
       "      <th>4</th>\n",
       "      <td>1</td>\n",
       "      <td>11</td>\n",
       "      <td>7004.0</td>\n",
       "      <td>3</td>\n",
       "      <td>55.0</td>\n",
       "      <td>ultra</td>\n",
       "      <td>6</td>\n",
       "      <td>0</td>\n",
       "      <td>199</td>\n",
       "    </tr>\n",
       "    <tr>\n",
       "      <th>...</th>\n",
       "      <td>...</td>\n",
       "      <td>...</td>\n",
       "      <td>...</td>\n",
       "      <td>...</td>\n",
       "      <td>...</td>\n",
       "      <td>...</td>\n",
       "      <td>...</td>\n",
       "      <td>...</td>\n",
       "      <td>...</td>\n",
       "    </tr>\n",
       "    <tr>\n",
       "      <th>11326</th>\n",
       "      <td>1534</td>\n",
       "      <td>6</td>\n",
       "      <td>3409.0</td>\n",
       "      <td>2</td>\n",
       "      <td>26.0</td>\n",
       "      <td>free</td>\n",
       "      <td>8</td>\n",
       "      <td>50</td>\n",
       "      <td>0</td>\n",
       "    </tr>\n",
       "    <tr>\n",
       "      <th>11327</th>\n",
       "      <td>1534</td>\n",
       "      <td>8</td>\n",
       "      <td>7623.0</td>\n",
       "      <td>2</td>\n",
       "      <td>48.0</td>\n",
       "      <td>free</td>\n",
       "      <td>8</td>\n",
       "      <td>50</td>\n",
       "      <td>0</td>\n",
       "    </tr>\n",
       "    <tr>\n",
       "      <th>11328</th>\n",
       "      <td>1534</td>\n",
       "      <td>9</td>\n",
       "      <td>4928.0</td>\n",
       "      <td>1</td>\n",
       "      <td>23.0</td>\n",
       "      <td>free</td>\n",
       "      <td>8</td>\n",
       "      <td>50</td>\n",
       "      <td>0</td>\n",
       "    </tr>\n",
       "    <tr>\n",
       "      <th>11329</th>\n",
       "      <td>1534</td>\n",
       "      <td>11</td>\n",
       "      <td>13349.0</td>\n",
       "      <td>4</td>\n",
       "      <td>78.0</td>\n",
       "      <td>free</td>\n",
       "      <td>8</td>\n",
       "      <td>50</td>\n",
       "      <td>0</td>\n",
       "    </tr>\n",
       "    <tr>\n",
       "      <th>11330</th>\n",
       "      <td>1534</td>\n",
       "      <td>12</td>\n",
       "      <td>2372.0</td>\n",
       "      <td>1</td>\n",
       "      <td>16.0</td>\n",
       "      <td>free</td>\n",
       "      <td>8</td>\n",
       "      <td>50</td>\n",
       "      <td>0</td>\n",
       "    </tr>\n",
       "  </tbody>\n",
       "</table>\n",
       "<p>11331 rows × 9 columns</p>\n",
       "</div>"
      ],
      "text/plain": [
       "       user_id  month  total_distance  count  total_duration  \\\n",
       "0            1      1          7028.0      2            42.0   \n",
       "1            1      4           754.0      1             7.0   \n",
       "2            1      8          6724.0      2            46.0   \n",
       "3            1     10          5810.0      2            32.0   \n",
       "4            1     11          7004.0      3            55.0   \n",
       "...        ...    ...             ...    ...             ...   \n",
       "11326     1534      6          3409.0      2            26.0   \n",
       "11327     1534      8          7623.0      2            48.0   \n",
       "11328     1534      9          4928.0      1            23.0   \n",
       "11329     1534     11         13349.0      4            78.0   \n",
       "11330     1534     12          2372.0      1            16.0   \n",
       "\n",
       "      subscription_type  minute_price  start_ride_price  subscription_fee  \n",
       "0                 ultra             6                 0               199  \n",
       "1                 ultra             6                 0               199  \n",
       "2                 ultra             6                 0               199  \n",
       "3                 ultra             6                 0               199  \n",
       "4                 ultra             6                 0               199  \n",
       "...                 ...           ...               ...               ...  \n",
       "11326              free             8                50                 0  \n",
       "11327              free             8                50                 0  \n",
       "11328              free             8                50                 0  \n",
       "11329              free             8                50                 0  \n",
       "11330              free             8                50                 0  \n",
       "\n",
       "[11331 rows x 9 columns]"
      ]
     },
     "execution_count": 32,
     "metadata": {},
     "output_type": "execute_result"
    }
   ],
   "source": [
    "df_group=df.groupby(['user_id', 'month']).agg({\n",
    "    'distance': ['sum','count'],\n",
    "    'duration': 'sum',\n",
    "    'subscription_type': 'first',\n",
    "    'minute_price':'first',\n",
    "    'start_ride_price': 'first',\n",
    "    'subscription_fee':'first',\n",
    "}).reset_index()\n",
    "df_group.columns=['user_id','month','total_distance','count','total_duration','subscription_type','minute_price','start_ride_price','subscription_fee']\n",
    "df_group"
   ]
  },
  {
   "cell_type": "code",
   "execution_count": 33,
   "id": "2fa6662c",
   "metadata": {},
   "outputs": [
    {
     "data": {
      "text/html": [
       "<div>\n",
       "<style scoped>\n",
       "    .dataframe tbody tr th:only-of-type {\n",
       "        vertical-align: middle;\n",
       "    }\n",
       "\n",
       "    .dataframe tbody tr th {\n",
       "        vertical-align: top;\n",
       "    }\n",
       "\n",
       "    .dataframe thead th {\n",
       "        text-align: right;\n",
       "    }\n",
       "</style>\n",
       "<table border=\"1\" class=\"dataframe\">\n",
       "  <thead>\n",
       "    <tr style=\"text-align: right;\">\n",
       "      <th></th>\n",
       "      <th>user_id</th>\n",
       "      <th>month</th>\n",
       "      <th>total_distance</th>\n",
       "      <th>count</th>\n",
       "      <th>total_duration</th>\n",
       "      <th>subscription_type</th>\n",
       "      <th>minute_price</th>\n",
       "      <th>start_ride_price</th>\n",
       "      <th>subscription_fee</th>\n",
       "      <th>monthly_revenue</th>\n",
       "    </tr>\n",
       "  </thead>\n",
       "  <tbody>\n",
       "    <tr>\n",
       "      <th>0</th>\n",
       "      <td>1</td>\n",
       "      <td>1</td>\n",
       "      <td>7028.0</td>\n",
       "      <td>2</td>\n",
       "      <td>42.0</td>\n",
       "      <td>ultra</td>\n",
       "      <td>6</td>\n",
       "      <td>0</td>\n",
       "      <td>199</td>\n",
       "      <td>451.0</td>\n",
       "    </tr>\n",
       "    <tr>\n",
       "      <th>1</th>\n",
       "      <td>1</td>\n",
       "      <td>4</td>\n",
       "      <td>754.0</td>\n",
       "      <td>1</td>\n",
       "      <td>7.0</td>\n",
       "      <td>ultra</td>\n",
       "      <td>6</td>\n",
       "      <td>0</td>\n",
       "      <td>199</td>\n",
       "      <td>241.0</td>\n",
       "    </tr>\n",
       "    <tr>\n",
       "      <th>2</th>\n",
       "      <td>1</td>\n",
       "      <td>8</td>\n",
       "      <td>6724.0</td>\n",
       "      <td>2</td>\n",
       "      <td>46.0</td>\n",
       "      <td>ultra</td>\n",
       "      <td>6</td>\n",
       "      <td>0</td>\n",
       "      <td>199</td>\n",
       "      <td>475.0</td>\n",
       "    </tr>\n",
       "    <tr>\n",
       "      <th>3</th>\n",
       "      <td>1</td>\n",
       "      <td>10</td>\n",
       "      <td>5810.0</td>\n",
       "      <td>2</td>\n",
       "      <td>32.0</td>\n",
       "      <td>ultra</td>\n",
       "      <td>6</td>\n",
       "      <td>0</td>\n",
       "      <td>199</td>\n",
       "      <td>391.0</td>\n",
       "    </tr>\n",
       "    <tr>\n",
       "      <th>4</th>\n",
       "      <td>1</td>\n",
       "      <td>11</td>\n",
       "      <td>7004.0</td>\n",
       "      <td>3</td>\n",
       "      <td>55.0</td>\n",
       "      <td>ultra</td>\n",
       "      <td>6</td>\n",
       "      <td>0</td>\n",
       "      <td>199</td>\n",
       "      <td>529.0</td>\n",
       "    </tr>\n",
       "    <tr>\n",
       "      <th>...</th>\n",
       "      <td>...</td>\n",
       "      <td>...</td>\n",
       "      <td>...</td>\n",
       "      <td>...</td>\n",
       "      <td>...</td>\n",
       "      <td>...</td>\n",
       "      <td>...</td>\n",
       "      <td>...</td>\n",
       "      <td>...</td>\n",
       "      <td>...</td>\n",
       "    </tr>\n",
       "    <tr>\n",
       "      <th>11326</th>\n",
       "      <td>1534</td>\n",
       "      <td>6</td>\n",
       "      <td>3409.0</td>\n",
       "      <td>2</td>\n",
       "      <td>26.0</td>\n",
       "      <td>free</td>\n",
       "      <td>8</td>\n",
       "      <td>50</td>\n",
       "      <td>0</td>\n",
       "      <td>308.0</td>\n",
       "    </tr>\n",
       "    <tr>\n",
       "      <th>11327</th>\n",
       "      <td>1534</td>\n",
       "      <td>8</td>\n",
       "      <td>7623.0</td>\n",
       "      <td>2</td>\n",
       "      <td>48.0</td>\n",
       "      <td>free</td>\n",
       "      <td>8</td>\n",
       "      <td>50</td>\n",
       "      <td>0</td>\n",
       "      <td>484.0</td>\n",
       "    </tr>\n",
       "    <tr>\n",
       "      <th>11328</th>\n",
       "      <td>1534</td>\n",
       "      <td>9</td>\n",
       "      <td>4928.0</td>\n",
       "      <td>1</td>\n",
       "      <td>23.0</td>\n",
       "      <td>free</td>\n",
       "      <td>8</td>\n",
       "      <td>50</td>\n",
       "      <td>0</td>\n",
       "      <td>234.0</td>\n",
       "    </tr>\n",
       "    <tr>\n",
       "      <th>11329</th>\n",
       "      <td>1534</td>\n",
       "      <td>11</td>\n",
       "      <td>13349.0</td>\n",
       "      <td>4</td>\n",
       "      <td>78.0</td>\n",
       "      <td>free</td>\n",
       "      <td>8</td>\n",
       "      <td>50</td>\n",
       "      <td>0</td>\n",
       "      <td>824.0</td>\n",
       "    </tr>\n",
       "    <tr>\n",
       "      <th>11330</th>\n",
       "      <td>1534</td>\n",
       "      <td>12</td>\n",
       "      <td>2372.0</td>\n",
       "      <td>1</td>\n",
       "      <td>16.0</td>\n",
       "      <td>free</td>\n",
       "      <td>8</td>\n",
       "      <td>50</td>\n",
       "      <td>0</td>\n",
       "      <td>178.0</td>\n",
       "    </tr>\n",
       "  </tbody>\n",
       "</table>\n",
       "<p>11331 rows × 10 columns</p>\n",
       "</div>"
      ],
      "text/plain": [
       "       user_id  month  total_distance  count  total_duration  \\\n",
       "0            1      1          7028.0      2            42.0   \n",
       "1            1      4           754.0      1             7.0   \n",
       "2            1      8          6724.0      2            46.0   \n",
       "3            1     10          5810.0      2            32.0   \n",
       "4            1     11          7004.0      3            55.0   \n",
       "...        ...    ...             ...    ...             ...   \n",
       "11326     1534      6          3409.0      2            26.0   \n",
       "11327     1534      8          7623.0      2            48.0   \n",
       "11328     1534      9          4928.0      1            23.0   \n",
       "11329     1534     11         13349.0      4            78.0   \n",
       "11330     1534     12          2372.0      1            16.0   \n",
       "\n",
       "      subscription_type  minute_price  start_ride_price  subscription_fee  \\\n",
       "0                 ultra             6                 0               199   \n",
       "1                 ultra             6                 0               199   \n",
       "2                 ultra             6                 0               199   \n",
       "3                 ultra             6                 0               199   \n",
       "4                 ultra             6                 0               199   \n",
       "...                 ...           ...               ...               ...   \n",
       "11326              free             8                50                 0   \n",
       "11327              free             8                50                 0   \n",
       "11328              free             8                50                 0   \n",
       "11329              free             8                50                 0   \n",
       "11330              free             8                50                 0   \n",
       "\n",
       "       monthly_revenue  \n",
       "0                451.0  \n",
       "1                241.0  \n",
       "2                475.0  \n",
       "3                391.0  \n",
       "4                529.0  \n",
       "...                ...  \n",
       "11326            308.0  \n",
       "11327            484.0  \n",
       "11328            234.0  \n",
       "11329            824.0  \n",
       "11330            178.0  \n",
       "\n",
       "[11331 rows x 10 columns]"
      ]
     },
     "execution_count": 33,
     "metadata": {},
     "output_type": "execute_result"
    }
   ],
   "source": [
    "df_group['monthly_revenue']=(\n",
    "    df_group['start_ride_price']\n",
    "    *df_group['count']\n",
    "    +df_group['minute_price']\n",
    "    *df_group['total_duration']\n",
    ")\n",
    "df_group.loc[df_group['subscription_fee']>0,'monthly_revenue']+=df_group['subscription_fee']\n",
    "df_group"
   ]
  },
  {
   "cell_type": "code",
   "execution_count": 34,
   "id": "6f679e68",
   "metadata": {},
   "outputs": [
    {
     "data": {
      "text/plain": [
       "0"
      ]
     },
     "execution_count": 34,
     "metadata": {},
     "output_type": "execute_result"
    }
   ],
   "source": [
    "df_group['subscription_type'].isna().sum()"
   ]
  },
  {
   "cell_type": "markdown",
   "id": "41545ac0",
   "metadata": {},
   "source": [
    "#### Шаг 6. Проверка гипотез"
   ]
  },
  {
   "cell_type": "markdown",
   "id": "9548163e",
   "metadata": {},
   "source": [
    "*Проверим гипотезу о том, что время потраченное на поездку не меняется в зависимости от подписки: H0-среднее время поездки у пользователей с подпиской не отличается от среднего времени поездки у пользователей без подписки, H1-Среднее время поездки у пользователей с подпиской больше, чем у пользователей без подписки.*"
   ]
  },
  {
   "cell_type": "code",
   "execution_count": 35,
   "id": "459a85bb",
   "metadata": {},
   "outputs": [
    {
     "name": "stdout",
     "output_type": "stream",
     "text": [
      "p-значение: 2.0838953951757965e-34\n",
      "Отвергаем нулевую гипотезу\n"
     ]
    }
   ],
   "source": [
    "subscribe=df[df['subscription_type']=='ultra']['duration']\n",
    "non_subscribe=df[df['subscription_type']=='free']['duration']\n",
    "\n",
    "alpha=0.05\n",
    "\n",
    "result=st.ttest_ind(subscribe,non_subscribe,alternative='greater')\n",
    "print('p-значение:',result.pvalue)\n",
    "\n",
    "if result.pvalue<alpha:\n",
    "    print('Отвергаем нулевую гипотезу')\n",
    "else:\n",
    "    print('Нет оснований отвергнуть нулевую гипотезу')"
   ]
  },
  {
   "cell_type": "markdown",
   "id": "dee65d4c",
   "metadata": {},
   "source": [
    "*р-Значение меньше уровня значимости,это значит что стоит отвергнуть нулевую гипотезу, среднее время поездки у пользователей с подпиской больше среднего времени поездки у полдьзователей без подписки*"
   ]
  },
  {
   "cell_type": "markdown",
   "id": "57fb4f34",
   "metadata": {},
   "source": [
    "6.2 Расстояние одной поездки в\n",
    "3130 метров — оптимальное с точки зрения износа самоката. Можно ли сказать, что среднее расстояние, которое проезжают пользователи с подпиской за одну поездку, не превышает 3130 метров? Проверьте гипотезу и сделайте выводы."
   ]
  },
  {
   "cell_type": "markdown",
   "id": "53e6e84a",
   "metadata": {},
   "source": [
    "*Нулевая гипотеза-Расстояние,пройденное пользователем за одну поездку, не больше 3130 метров.\n",
    "Альтернативная гипотеза-Расстояние,пройденное пользователем за одну поездку, больше 3130 метров*"
   ]
  },
  {
   "cell_type": "code",
   "execution_count": 36,
   "id": "45069995",
   "metadata": {},
   "outputs": [
    {
     "name": "stdout",
     "output_type": "stream",
     "text": [
      "p-значение: 0.9195649894697724\n",
      "Нет оснований отвергнуть нулевую гипотезу\n"
     ]
    }
   ],
   "source": [
    "subscribe=df[df['subscription_type']=='ultra']['distance']\n",
    "\n",
    "interested_value=3130\n",
    "\n",
    "alpha=0.05\n",
    "\n",
    "result=st.ttest_1samp(subscribe,interested_value,alternative='greater')\n",
    "print('p-значение:',result.pvalue)\n",
    "\n",
    "if result.pvalue<alpha:\n",
    "    print('Отвергаем нулевую гипотезу')\n",
    "else:\n",
    "    print('Нет оснований отвергнуть нулевую гипотезу')"
   ]
  },
  {
   "cell_type": "markdown",
   "id": "6a01463d",
   "metadata": {},
   "source": [
    "*р-значение больше уровня значимости , поэтому можно сказать что нет оснований отвергнуть нулевую гипотезу-расстояние пройденное пользователем за одну поездку, не больше 3130 метров*"
   ]
  },
  {
   "cell_type": "markdown",
   "id": "42d72849",
   "metadata": {},
   "source": [
    "6.3 Проверьте гипотезу о том, будет ли помесячная выручка от пользователей с подпиской по месяцам выше, чем выручка от пользователей без подписки. Сделайте вывод."
   ]
  },
  {
   "cell_type": "markdown",
   "id": "733c77ee",
   "metadata": {},
   "source": [
    "*Нулевая гипотеза-Помесячная выручка от пользователей с подпиской равна помесячной выручке пользователей без подписки.\n",
    "Альтернативная гипотеза-Помесячная выручка от пользователей с подпиской  выше,чем помесячная выручка пользователей без подписки.*"
   ]
  },
  {
   "cell_type": "code",
   "execution_count": 37,
   "id": "ba02432f",
   "metadata": {},
   "outputs": [
    {
     "name": "stdout",
     "output_type": "stream",
     "text": [
      "p-значение: 5.015631474144602e-32\n",
      "Отвергаем нулевую гипотезу\n"
     ]
    }
   ],
   "source": [
    "subscribe=df_group[df_group['subscription_type']=='ultra']['monthly_revenue']\n",
    "non_subscribe=df_group[df_group['subscription_type']=='free']['monthly_revenue']\n",
    "\n",
    "alpha=0.05\n",
    "\n",
    "result=st.ttest_ind(subscribe,non_subscribe,alternative='greater')\n",
    "print('p-значение:',result.pvalue)\n",
    "\n",
    "if result.pvalue<alpha:\n",
    "     print('Отвергаем нулевую гипотезу')\n",
    "else:\n",
    "    print('Нет оснований отвергнуть нулевую гипотезу')"
   ]
  },
  {
   "cell_type": "markdown",
   "id": "d8c40b52",
   "metadata": {},
   "source": [
    "*Помесячная выручка от пользователей с подпиской  выше,чем выручка от пользователей без подписки*"
   ]
  },
  {
   "cell_type": "markdown",
   "id": "5011b658",
   "metadata": {},
   "source": [
    "*Представьте такую ситуацию: техническая команда сервиса обновила сервера, с которыми взаимодействует мобильное приложение. Она надеется, что из-за этого количество обращений в техподдержку значимо снизилось. Некоторый файл содержит для каждого пользователя данные о количестве обращений до обновления и после него. Какой тест вам понадобился бы для проверки этой гипотезы?*\n",
    "\n",
    "**Ответ:Даны две зависимые выборки,до обновления и после, соответственно мы воспользуемся st.ttest_rel.Использовать мы будем одностороннюю гипотезу с параметром alternative='less'.Нулевая гипотеза- после обновления колличество обращений в техподдержку не изменилось.Альтернативная -после обновления колличество обращений меньше**"
   ]
  },
  {
   "cell_type": "markdown",
   "id": "51775a6d",
   "metadata": {},
   "source": [
    "*Мы провели несколько тестов с разными гипотезами и по ним можно сделать такой вывод:Время поездки с подпиской и без отличается пользователи с подпиской проезжают в среднем не больше 3130 м;выручка пользователей с подпиской выше-нужно как-то привлечь людей без подписки ее оформить.*"
   ]
  },
  {
   "cell_type": "markdown",
   "id": "61213c5e",
   "metadata": {},
   "source": [
    "#### Шаг 7. Распределения"
   ]
  },
  {
   "cell_type": "markdown",
   "id": "2050f25d",
   "metadata": {},
   "source": [
    "7.2 Отдел маркетинга рассылает клиентам push-уведомления в мобильном приложении. Клиенты могут открыть его или не открывать. Известно, что уведомления открывают около 40 % получивших клиентов. Отдел планирует разослать 1 млн уведомлений. С помощью аппроксимации постройте примерный график распределения и оцените вероятность того, что уведомление откроют не более 399,5 тыс. пользователей."
   ]
  },
  {
   "cell_type": "code",
   "execution_count": 38,
   "id": "5b3f3424",
   "metadata": {},
   "outputs": [
    {
     "name": "stdout",
     "output_type": "stream",
     "text": [
      "Вероятность открытия сообщений равна: 15.37 %\n"
     ]
    },
    {
     "data": {
      "image/png": "[encoded data removed]",
      "text/plain": [
       "<Figure size 720x360 with 1 Axes>"
      ]
     },
     "metadata": {
      "needs_background": "light"
     },
     "output_type": "display_data"
    }
   ],
   "source": [
    "p=0.4\n",
    "n=1000000\n",
    "k=399500\n",
    "\n",
    "mu=p*n\n",
    "sigma=(n*p*(1-p))**0.5\n",
    "\n",
    "distr=st.norm(mu,sigma)\n",
    "\n",
    "result=distr.cdf(k)\n",
    "\n",
    "print('Вероятность открытия сообщений равна:',(result*100).round(2),'%')\n",
    "\n",
    "x=np.linspace(mu-4*sigma,mu+4*sigma,1000)\n",
    "y=st.norm.pdf(x,mu,sigma)\n",
    "plt.figure(figsize=(10,5))\n",
    "plt.plot(x,y, label='Нормальное распределение',color='blue')\n",
    "plt.fill_between(x, y, where=(x<=k))\n",
    "plt.axvline(x=k, color='red',linestyle='dashed')\n",
    "plt.axvline(x=mu, color='green')\n",
    "plt.xlabel('Колличество открытий')\n",
    "plt.ylabel('Плотность вероятности')\n",
    "plt.title('Аппроксимация биноминального распределения')\n",
    "plt.show()"
   ]
  },
  {
   "cell_type": "markdown",
   "id": "38d769c2",
   "metadata": {},
   "source": [
    "*вероятность того, что уведомление откроют не более 399,5 тыс. пользователей=15.37%*"
   ]
  },
  {
   "cell_type": "markdown",
   "id": "bac69af5",
   "metadata": {},
   "source": [
    "***Итоговый отчет по исследованию данных популярного сервиса аренды самокатов GoFast ***\n",
    "\n",
    "*Цель исследования:*Проанализировать данные и проверить некоторые гипотезы, которые помогут помочь в развитии бизнеса\n",
    "\n",
    "*Ключевые этапы исследования:*\n",
    "\n",
    "1.Больше всего пользователей на Юге страны 219\n",
    "\n",
    "2.Доля пользователей с подкиской 45%\n",
    "\n",
    "3.Средний возраст пользователя 25 лет\n",
    "\n",
    "4.Среднее расстояние которое проезжает пользователь с подпиской-от 2885 до 3606 м, без подписки-от 2164 до 4327\n",
    "\n",
    "5.Среднее время ,которое пользователь с подпиской тратит на поездку - от 12.59 до 24.68, без подписки- от 8.56 до 24.68 \n",
    "\n",
    "6.Среднее расстояние которое проехал пользователь с подпиской не привышает оптимальное расстояние износа самоката в 3130 метров\n",
    "\n",
    "7.Среднее время поездки у пользователя с подпиской выше, чем у пользователя без подписки\n",
    "\n",
    "8.Помесячная выручка у от пользователей с подпиской выше . чем без подписки\n",
    "\n",
    "**Рекомендации для бизнеса:**\n",
    "\n",
    "Пользователи с подпиской являются более выгодными клиентами для сервиса аренды самокатов, в связи с этим руководству сервиса желательно принять меры для перехода клиентов на подписку."
   ]
  }
 ],
 "metadata": {
  "ExecuteTimeLog": [
   {
    "duration": 44,
    "start_time": "2025-01-22T11:57:24.192Z"
   },
   {
    "duration": 1379,
    "start_time": "2025-01-22T11:57:32.484Z"
   },
   {
    "duration": 103,
    "start_time": "2025-01-22T11:57:35.190Z"
   },
   {
    "duration": 53,
    "start_time": "2025-01-22T11:57:58.307Z"
   },
   {
    "duration": 14,
    "start_time": "2025-01-22T11:58:39.016Z"
   },
   {
    "duration": 54,
    "start_time": "2025-01-22T11:59:36.404Z"
   },
   {
    "duration": 1103,
    "start_time": "2025-01-22T11:59:55.693Z"
   },
   {
    "duration": 174,
    "start_time": "2025-01-22T11:59:56.798Z"
   },
   {
    "duration": 1153,
    "start_time": "2025-01-22T12:05:02.133Z"
   },
   {
    "duration": 145,
    "start_time": "2025-01-22T12:05:03.288Z"
   },
   {
    "duration": 52,
    "start_time": "2025-01-22T12:07:06.747Z"
   },
   {
    "duration": 204,
    "start_time": "2025-01-22T12:07:31.601Z"
   },
   {
    "duration": 66,
    "start_time": "2025-01-22T12:09:53.020Z"
   },
   {
    "duration": 11,
    "start_time": "2025-01-22T12:09:54.877Z"
   },
   {
    "duration": 11,
    "start_time": "2025-01-22T12:11:09.209Z"
   },
   {
    "duration": 11,
    "start_time": "2025-01-22T12:11:44.219Z"
   },
   {
    "duration": 10,
    "start_time": "2025-01-22T12:12:13.647Z"
   },
   {
    "duration": 1625,
    "start_time": "2025-01-23T07:23:10.928Z"
   },
   {
    "duration": 214,
    "start_time": "2025-01-23T07:23:12.555Z"
   },
   {
    "duration": 14,
    "start_time": "2025-01-23T07:23:12.771Z"
   },
   {
    "duration": 14,
    "start_time": "2025-01-23T07:23:12.787Z"
   },
   {
    "duration": 16,
    "start_time": "2025-01-23T07:23:12.803Z"
   },
   {
    "duration": 12,
    "start_time": "2025-01-23T07:23:12.821Z"
   },
   {
    "duration": 1107,
    "start_time": "2025-01-23T07:31:23.473Z"
   },
   {
    "duration": 1036,
    "start_time": "2025-01-23T07:31:30.146Z"
   },
   {
    "duration": 8,
    "start_time": "2025-01-23T07:31:54.235Z"
   },
   {
    "duration": 17,
    "start_time": "2025-01-23T07:32:16.246Z"
   },
   {
    "duration": 18,
    "start_time": "2025-01-23T07:32:19.964Z"
   },
   {
    "duration": 21,
    "start_time": "2025-01-23T07:32:38.231Z"
   },
   {
    "duration": 19,
    "start_time": "2025-01-23T07:32:44.226Z"
   },
   {
    "duration": 19,
    "start_time": "2025-01-23T07:32:51.809Z"
   },
   {
    "duration": 12,
    "start_time": "2025-01-23T07:36:19.049Z"
   },
   {
    "duration": 10,
    "start_time": "2025-01-23T07:36:36.613Z"
   },
   {
    "duration": 12,
    "start_time": "2025-01-23T07:36:44.148Z"
   },
   {
    "duration": 13,
    "start_time": "2025-01-23T07:55:12.554Z"
   },
   {
    "duration": 14,
    "start_time": "2025-01-23T07:57:25.328Z"
   },
   {
    "duration": 1205,
    "start_time": "2025-01-23T07:58:00.034Z"
   },
   {
    "duration": 71,
    "start_time": "2025-01-23T07:58:01.241Z"
   },
   {
    "duration": 11,
    "start_time": "2025-01-23T07:58:01.314Z"
   },
   {
    "duration": 15,
    "start_time": "2025-01-23T07:58:01.327Z"
   },
   {
    "duration": 88,
    "start_time": "2025-01-23T07:58:01.345Z"
   },
   {
    "duration": 19,
    "start_time": "2025-01-23T07:58:01.435Z"
   },
   {
    "duration": 14,
    "start_time": "2025-01-23T07:58:01.456Z"
   },
   {
    "duration": 111,
    "start_time": "2025-01-23T07:58:01.472Z"
   },
   {
    "duration": 3,
    "start_time": "2025-01-23T07:58:32.417Z"
   },
   {
    "duration": 13,
    "start_time": "2025-01-23T07:58:34.023Z"
   },
   {
    "duration": 18,
    "start_time": "2025-01-23T07:58:51.188Z"
   },
   {
    "duration": 17,
    "start_time": "2025-01-23T07:59:20.904Z"
   },
   {
    "duration": 16,
    "start_time": "2025-01-23T07:59:28.164Z"
   },
   {
    "duration": 12,
    "start_time": "2025-01-23T08:13:51.268Z"
   },
   {
    "duration": 10,
    "start_time": "2025-01-23T08:14:03.407Z"
   },
   {
    "duration": 4,
    "start_time": "2025-01-23T08:29:01.159Z"
   },
   {
    "duration": 15,
    "start_time": "2025-01-23T08:29:06.234Z"
   },
   {
    "duration": 13,
    "start_time": "2025-01-23T08:37:23.536Z"
   },
   {
    "duration": 14,
    "start_time": "2025-01-23T08:37:52.859Z"
   },
   {
    "duration": 13,
    "start_time": "2025-01-23T08:38:13.416Z"
   },
   {
    "duration": 13,
    "start_time": "2025-01-23T08:38:25.441Z"
   },
   {
    "duration": 12,
    "start_time": "2025-01-23T08:38:37.737Z"
   },
   {
    "duration": 9,
    "start_time": "2025-01-23T08:39:25.120Z"
   },
   {
    "duration": 9,
    "start_time": "2025-01-23T08:39:47.282Z"
   },
   {
    "duration": 5,
    "start_time": "2025-01-23T08:39:54.943Z"
   },
   {
    "duration": 8,
    "start_time": "2025-01-23T08:40:56.352Z"
   },
   {
    "duration": 1457,
    "start_time": "2025-01-23T08:43:04.556Z"
   },
   {
    "duration": 1386,
    "start_time": "2025-01-23T08:43:14.852Z"
   },
   {
    "duration": 9,
    "start_time": "2025-01-23T08:43:36.833Z"
   },
   {
    "duration": 5,
    "start_time": "2025-01-23T08:44:25.926Z"
   },
   {
    "duration": 17,
    "start_time": "2025-01-23T08:44:33.059Z"
   },
   {
    "duration": 8,
    "start_time": "2025-01-23T08:47:36.585Z"
   },
   {
    "duration": 9,
    "start_time": "2025-01-23T08:47:40.946Z"
   },
   {
    "duration": 3,
    "start_time": "2025-01-23T08:48:23.161Z"
   },
   {
    "duration": 21,
    "start_time": "2025-01-23T08:50:55.635Z"
   },
   {
    "duration": 164,
    "start_time": "2025-01-23T08:51:30.302Z"
   },
   {
    "duration": 4,
    "start_time": "2025-01-23T08:52:00.944Z"
   },
   {
    "duration": 155,
    "start_time": "2025-01-23T08:52:06.174Z"
   },
   {
    "duration": 181,
    "start_time": "2025-01-23T08:53:11.923Z"
   },
   {
    "duration": 1259,
    "start_time": "2025-01-23T08:53:44.197Z"
   },
   {
    "duration": 72,
    "start_time": "2025-01-23T08:53:45.458Z"
   },
   {
    "duration": 13,
    "start_time": "2025-01-23T08:53:45.531Z"
   },
   {
    "duration": 25,
    "start_time": "2025-01-23T08:53:45.545Z"
   },
   {
    "duration": 22,
    "start_time": "2025-01-23T08:53:45.573Z"
   },
   {
    "duration": 92,
    "start_time": "2025-01-23T08:53:45.597Z"
   },
   {
    "duration": 25,
    "start_time": "2025-01-23T08:53:45.691Z"
   },
   {
    "duration": 3,
    "start_time": "2025-01-23T08:53:45.718Z"
   },
   {
    "duration": 27,
    "start_time": "2025-01-23T08:53:45.723Z"
   },
   {
    "duration": 37,
    "start_time": "2025-01-23T08:53:45.755Z"
   },
   {
    "duration": 12,
    "start_time": "2025-01-23T08:53:45.795Z"
   },
   {
    "duration": 21,
    "start_time": "2025-01-23T08:53:45.809Z"
   },
   {
    "duration": 310,
    "start_time": "2025-01-23T08:53:45.832Z"
   },
   {
    "duration": 1185,
    "start_time": "2025-01-23T08:56:26.701Z"
   },
   {
    "duration": 69,
    "start_time": "2025-01-23T08:56:27.888Z"
   },
   {
    "duration": 11,
    "start_time": "2025-01-23T08:56:27.958Z"
   },
   {
    "duration": 15,
    "start_time": "2025-01-23T08:56:27.971Z"
   },
   {
    "duration": 15,
    "start_time": "2025-01-23T08:56:27.988Z"
   },
   {
    "duration": 11,
    "start_time": "2025-01-23T08:56:28.005Z"
   },
   {
    "duration": 16,
    "start_time": "2025-01-23T08:56:28.017Z"
   },
   {
    "duration": 2,
    "start_time": "2025-01-23T08:56:28.035Z"
   },
   {
    "duration": 42,
    "start_time": "2025-01-23T08:56:28.039Z"
   },
   {
    "duration": 15,
    "start_time": "2025-01-23T08:56:28.082Z"
   },
   {
    "duration": 7,
    "start_time": "2025-01-23T08:56:28.099Z"
   },
   {
    "duration": 25,
    "start_time": "2025-01-23T08:56:28.108Z"
   },
   {
    "duration": 202,
    "start_time": "2025-01-23T08:56:28.134Z"
   },
   {
    "duration": 148,
    "start_time": "2025-01-23T09:01:39.155Z"
   },
   {
    "duration": 17,
    "start_time": "2025-01-23T09:01:46.123Z"
   },
   {
    "duration": 21,
    "start_time": "2025-01-23T09:01:54.034Z"
   },
   {
    "duration": 155,
    "start_time": "2025-01-23T09:02:05.338Z"
   },
   {
    "duration": 164,
    "start_time": "2025-01-23T09:04:26.867Z"
   },
   {
    "duration": 15,
    "start_time": "2025-01-23T09:16:23.273Z"
   },
   {
    "duration": 16,
    "start_time": "2025-01-23T09:16:35.495Z"
   },
   {
    "duration": 20,
    "start_time": "2025-01-23T09:16:59.118Z"
   },
   {
    "duration": 18,
    "start_time": "2025-01-23T09:17:46.322Z"
   },
   {
    "duration": 9,
    "start_time": "2025-01-23T09:18:14.867Z"
   },
   {
    "duration": 13,
    "start_time": "2025-01-23T09:18:19.740Z"
   },
   {
    "duration": 1164,
    "start_time": "2025-01-23T09:18:46.127Z"
   },
   {
    "duration": 72,
    "start_time": "2025-01-23T09:18:47.293Z"
   },
   {
    "duration": 21,
    "start_time": "2025-01-23T09:18:47.367Z"
   },
   {
    "duration": 11,
    "start_time": "2025-01-23T09:18:47.390Z"
   },
   {
    "duration": 15,
    "start_time": "2025-01-23T09:18:47.403Z"
   },
   {
    "duration": 19,
    "start_time": "2025-01-23T09:18:47.420Z"
   },
   {
    "duration": 30,
    "start_time": "2025-01-23T09:18:47.441Z"
   },
   {
    "duration": 3,
    "start_time": "2025-01-23T09:18:47.473Z"
   },
   {
    "duration": 15,
    "start_time": "2025-01-23T09:18:47.477Z"
   },
   {
    "duration": 22,
    "start_time": "2025-01-23T09:18:47.494Z"
   },
   {
    "duration": 15,
    "start_time": "2025-01-23T09:18:47.517Z"
   },
   {
    "duration": 41,
    "start_time": "2025-01-23T09:18:47.533Z"
   },
   {
    "duration": 13,
    "start_time": "2025-01-23T09:18:47.575Z"
   },
   {
    "duration": 199,
    "start_time": "2025-01-23T09:18:47.590Z"
   },
   {
    "duration": 128,
    "start_time": "2025-01-23T09:18:47.790Z"
   },
   {
    "duration": 19,
    "start_time": "2025-01-23T09:19:25.380Z"
   },
   {
    "duration": 9,
    "start_time": "2025-01-23T10:15:42.901Z"
   },
   {
    "duration": 12,
    "start_time": "2025-01-23T10:15:52.659Z"
   },
   {
    "duration": 20,
    "start_time": "2025-01-23T10:16:17.065Z"
   },
   {
    "duration": 12,
    "start_time": "2025-01-23T10:19:25.562Z"
   },
   {
    "duration": 13,
    "start_time": "2025-01-23T10:20:06.598Z"
   },
   {
    "duration": 147,
    "start_time": "2025-01-23T10:20:14.130Z"
   },
   {
    "duration": 30,
    "start_time": "2025-01-23T10:20:36.692Z"
   },
   {
    "duration": 130,
    "start_time": "2025-01-23T10:21:21.522Z"
   },
   {
    "duration": 173,
    "start_time": "2025-01-23T10:21:45.105Z"
   },
   {
    "duration": 339,
    "start_time": "2025-01-23T10:25:35.627Z"
   },
   {
    "duration": 303,
    "start_time": "2025-01-23T10:26:28.311Z"
   },
   {
    "duration": 10,
    "start_time": "2025-01-23T10:28:04.938Z"
   },
   {
    "duration": 14,
    "start_time": "2025-01-23T10:28:10.923Z"
   },
   {
    "duration": 387,
    "start_time": "2025-01-23T10:31:15.862Z"
   },
   {
    "duration": 322,
    "start_time": "2025-01-23T10:31:40.244Z"
   },
   {
    "duration": 302,
    "start_time": "2025-01-23T10:32:07.885Z"
   },
   {
    "duration": 1213,
    "start_time": "2025-01-23T10:34:46.684Z"
   },
   {
    "duration": 72,
    "start_time": "2025-01-23T10:34:47.900Z"
   },
   {
    "duration": 12,
    "start_time": "2025-01-23T10:34:47.974Z"
   },
   {
    "duration": 88,
    "start_time": "2025-01-23T10:34:47.988Z"
   },
   {
    "duration": 27,
    "start_time": "2025-01-23T10:34:48.077Z"
   },
   {
    "duration": 11,
    "start_time": "2025-01-23T10:34:48.106Z"
   },
   {
    "duration": 20,
    "start_time": "2025-01-23T10:34:48.118Z"
   },
   {
    "duration": 3,
    "start_time": "2025-01-23T10:34:48.140Z"
   },
   {
    "duration": 27,
    "start_time": "2025-01-23T10:34:48.144Z"
   },
   {
    "duration": 15,
    "start_time": "2025-01-23T10:34:48.174Z"
   },
   {
    "duration": 8,
    "start_time": "2025-01-23T10:34:48.191Z"
   },
   {
    "duration": 24,
    "start_time": "2025-01-23T10:34:48.201Z"
   },
   {
    "duration": 43,
    "start_time": "2025-01-23T10:34:48.227Z"
   },
   {
    "duration": 198,
    "start_time": "2025-01-23T10:34:48.272Z"
   },
   {
    "duration": 134,
    "start_time": "2025-01-23T10:34:48.472Z"
   },
   {
    "duration": 325,
    "start_time": "2025-01-23T10:34:48.608Z"
   },
   {
    "duration": 0,
    "start_time": "2025-01-23T10:37:28.006Z"
   },
   {
    "duration": 0,
    "start_time": "2025-01-23T10:37:28.010Z"
   },
   {
    "duration": 10,
    "start_time": "2025-01-23T10:37:29.397Z"
   },
   {
    "duration": 1213,
    "start_time": "2025-01-23T10:38:42.180Z"
   },
   {
    "duration": 71,
    "start_time": "2025-01-23T10:38:43.395Z"
   },
   {
    "duration": 12,
    "start_time": "2025-01-23T10:38:43.467Z"
   },
   {
    "duration": 27,
    "start_time": "2025-01-23T10:38:43.481Z"
   },
   {
    "duration": 15,
    "start_time": "2025-01-23T10:38:43.509Z"
   },
   {
    "duration": 12,
    "start_time": "2025-01-23T10:38:43.526Z"
   },
   {
    "duration": 36,
    "start_time": "2025-01-23T10:38:43.539Z"
   },
   {
    "duration": 3,
    "start_time": "2025-01-23T10:38:43.577Z"
   },
   {
    "duration": 16,
    "start_time": "2025-01-23T10:38:43.581Z"
   },
   {
    "duration": 15,
    "start_time": "2025-01-23T10:38:43.599Z"
   },
   {
    "duration": 7,
    "start_time": "2025-01-23T10:38:43.616Z"
   },
   {
    "duration": 64,
    "start_time": "2025-01-23T10:38:43.625Z"
   },
   {
    "duration": 57,
    "start_time": "2025-01-23T10:38:43.690Z"
   },
   {
    "duration": 276,
    "start_time": "2025-01-23T10:38:43.749Z"
   },
   {
    "duration": 165,
    "start_time": "2025-01-23T10:38:44.027Z"
   },
   {
    "duration": 314,
    "start_time": "2025-01-23T10:38:44.194Z"
   },
   {
    "duration": 16,
    "start_time": "2025-01-23T10:44:36.508Z"
   },
   {
    "duration": 0,
    "start_time": "2025-01-23T10:46:28.425Z"
   },
   {
    "duration": 10,
    "start_time": "2025-01-23T10:46:30.005Z"
   },
   {
    "duration": 4857,
    "start_time": "2025-01-23T10:46:34.931Z"
   },
   {
    "duration": 0,
    "start_time": "2025-01-23T10:47:27.982Z"
   },
   {
    "duration": 10,
    "start_time": "2025-01-23T10:47:29.758Z"
   },
   {
    "duration": 1214,
    "start_time": "2025-01-23T10:48:07.577Z"
   },
   {
    "duration": 70,
    "start_time": "2025-01-23T10:48:08.792Z"
   },
   {
    "duration": 12,
    "start_time": "2025-01-23T10:48:08.863Z"
   },
   {
    "duration": 11,
    "start_time": "2025-01-23T10:48:08.876Z"
   },
   {
    "duration": 11,
    "start_time": "2025-01-23T10:48:08.889Z"
   },
   {
    "duration": 9,
    "start_time": "2025-01-23T10:48:08.902Z"
   },
   {
    "duration": 14,
    "start_time": "2025-01-23T10:48:08.913Z"
   },
   {
    "duration": 2,
    "start_time": "2025-01-23T10:48:08.929Z"
   },
   {
    "duration": 14,
    "start_time": "2025-01-23T10:48:08.970Z"
   },
   {
    "duration": 24,
    "start_time": "2025-01-23T10:48:08.986Z"
   },
   {
    "duration": 9,
    "start_time": "2025-01-23T10:48:09.011Z"
   },
   {
    "duration": 15,
    "start_time": "2025-01-23T10:48:09.021Z"
   },
   {
    "duration": 44,
    "start_time": "2025-01-23T10:48:09.037Z"
   },
   {
    "duration": 190,
    "start_time": "2025-01-23T10:48:09.083Z"
   },
   {
    "duration": 134,
    "start_time": "2025-01-23T10:48:09.275Z"
   },
   {
    "duration": 330,
    "start_time": "2025-01-23T10:48:09.411Z"
   },
   {
    "duration": 9,
    "start_time": "2025-01-23T10:48:09.743Z"
   },
   {
    "duration": 1219,
    "start_time": "2025-01-23T10:51:12.474Z"
   },
   {
    "duration": 70,
    "start_time": "2025-01-23T10:51:13.695Z"
   },
   {
    "duration": 22,
    "start_time": "2025-01-23T10:51:13.767Z"
   },
   {
    "duration": 11,
    "start_time": "2025-01-23T10:51:13.791Z"
   },
   {
    "duration": 22,
    "start_time": "2025-01-23T10:51:13.804Z"
   },
   {
    "duration": 10,
    "start_time": "2025-01-23T10:51:13.827Z"
   },
   {
    "duration": 14,
    "start_time": "2025-01-23T10:51:13.839Z"
   },
   {
    "duration": 2,
    "start_time": "2025-01-23T10:51:13.871Z"
   },
   {
    "duration": 13,
    "start_time": "2025-01-23T10:51:13.875Z"
   },
   {
    "duration": 14,
    "start_time": "2025-01-23T10:51:13.891Z"
   },
   {
    "duration": 8,
    "start_time": "2025-01-23T10:51:13.907Z"
   },
   {
    "duration": 55,
    "start_time": "2025-01-23T10:51:13.916Z"
   },
   {
    "duration": 13,
    "start_time": "2025-01-23T10:51:13.973Z"
   },
   {
    "duration": 221,
    "start_time": "2025-01-23T10:51:13.987Z"
   },
   {
    "duration": 135,
    "start_time": "2025-01-23T10:51:14.210Z"
   },
   {
    "duration": 311,
    "start_time": "2025-01-23T10:51:14.346Z"
   },
   {
    "duration": 19,
    "start_time": "2025-01-23T10:51:14.659Z"
   },
   {
    "duration": 87460,
    "start_time": "2025-01-23T10:51:14.680Z"
   },
   {
    "duration": 0,
    "start_time": "2025-01-23T10:52:42.142Z"
   },
   {
    "duration": 18,
    "start_time": "2025-01-23T10:52:57.611Z"
   },
   {
    "duration": 18,
    "start_time": "2025-01-23T10:53:58.804Z"
   },
   {
    "duration": 8,
    "start_time": "2025-01-23T10:54:06.007Z"
   },
   {
    "duration": 16,
    "start_time": "2025-01-23T10:54:08.561Z"
   },
   {
    "duration": 10,
    "start_time": "2025-01-23T10:54:22.764Z"
   },
   {
    "duration": 40855,
    "start_time": "2025-01-23T10:54:25.084Z"
   },
   {
    "duration": 83550,
    "start_time": "2025-01-23T10:55:52.067Z"
   },
   {
    "duration": 0,
    "start_time": "2025-01-23T10:57:15.619Z"
   },
   {
    "duration": 1377,
    "start_time": "2025-01-23T10:57:17.927Z"
   },
   {
    "duration": 8,
    "start_time": "2025-01-23T10:57:32.013Z"
   },
   {
    "duration": 11,
    "start_time": "2025-01-23T10:57:56.060Z"
   },
   {
    "duration": 11,
    "start_time": "2025-01-23T10:58:13.811Z"
   },
   {
    "duration": 4,
    "start_time": "2025-01-23T10:58:19.088Z"
   },
   {
    "duration": 49600,
    "start_time": "2025-01-23T10:58:24.488Z"
   },
   {
    "duration": 11,
    "start_time": "2025-01-23T10:59:27.394Z"
   },
   {
    "duration": 17,
    "start_time": "2025-01-23T11:00:35.484Z"
   },
   {
    "duration": 3,
    "start_time": "2025-01-23T11:01:15.847Z"
   },
   {
    "duration": 19,
    "start_time": "2025-01-23T11:01:16.878Z"
   },
   {
    "duration": 10,
    "start_time": "2025-01-23T11:03:47.437Z"
   },
   {
    "duration": 8,
    "start_time": "2025-01-23T11:03:57.503Z"
   },
   {
    "duration": 90,
    "start_time": "2025-01-23T11:04:03.827Z"
   },
   {
    "duration": 26,
    "start_time": "2025-01-23T11:04:06.824Z"
   },
   {
    "duration": 5,
    "start_time": "2025-01-23T11:05:41.368Z"
   },
   {
    "duration": 14,
    "start_time": "2025-01-23T11:06:45.069Z"
   },
   {
    "duration": 7,
    "start_time": "2025-01-23T11:06:49.209Z"
   },
   {
    "duration": 0,
    "start_time": "2025-01-23T11:08:03.354Z"
   },
   {
    "duration": 21,
    "start_time": "2025-01-23T11:08:11.586Z"
   },
   {
    "duration": 70616,
    "start_time": "2025-01-23T11:08:21.647Z"
   },
   {
    "duration": 71827,
    "start_time": "2025-01-23T11:10:46.661Z"
   },
   {
    "duration": 324,
    "start_time": "2025-01-23T11:12:29.858Z"
   },
   {
    "duration": 349,
    "start_time": "2025-01-23T11:12:56.603Z"
   },
   {
    "duration": 649,
    "start_time": "2025-01-23T11:13:42.240Z"
   },
   {
    "duration": 351,
    "start_time": "2025-01-23T11:13:50.096Z"
   },
   {
    "duration": 313,
    "start_time": "2025-01-23T11:13:58.572Z"
   },
   {
    "duration": 21,
    "start_time": "2025-01-23T11:14:13.070Z"
   },
   {
    "duration": 70528,
    "start_time": "2025-01-23T11:14:17.834Z"
   },
   {
    "duration": 70642,
    "start_time": "2025-01-23T11:18:36.871Z"
   },
   {
    "duration": 30,
    "start_time": "2025-01-23T11:22:42.001Z"
   },
   {
    "duration": 224,
    "start_time": "2025-01-23T11:22:57.078Z"
   },
   {
    "duration": 208,
    "start_time": "2025-01-23T11:27:40.877Z"
   },
   {
    "duration": 206,
    "start_time": "2025-01-23T11:29:05.848Z"
   },
   {
    "duration": 220,
    "start_time": "2025-01-23T11:29:23.753Z"
   },
   {
    "duration": 194,
    "start_time": "2025-01-23T11:29:38.211Z"
   },
   {
    "duration": 1436,
    "start_time": "2025-01-25T05:29:51.622Z"
   },
   {
    "duration": 182,
    "start_time": "2025-01-25T05:29:53.060Z"
   },
   {
    "duration": 12,
    "start_time": "2025-01-25T05:29:53.244Z"
   },
   {
    "duration": 20,
    "start_time": "2025-01-25T05:29:53.258Z"
   },
   {
    "duration": 22,
    "start_time": "2025-01-25T05:29:53.280Z"
   },
   {
    "duration": 35,
    "start_time": "2025-01-25T05:29:53.304Z"
   },
   {
    "duration": 25,
    "start_time": "2025-01-25T05:29:53.341Z"
   },
   {
    "duration": 28,
    "start_time": "2025-01-25T05:29:53.368Z"
   },
   {
    "duration": 3,
    "start_time": "2025-01-25T05:29:53.398Z"
   },
   {
    "duration": 24,
    "start_time": "2025-01-25T05:29:53.404Z"
   },
   {
    "duration": 15,
    "start_time": "2025-01-25T05:29:53.430Z"
   },
   {
    "duration": 11,
    "start_time": "2025-01-25T05:29:53.447Z"
   },
   {
    "duration": 53,
    "start_time": "2025-01-25T05:29:53.460Z"
   },
   {
    "duration": 12,
    "start_time": "2025-01-25T05:29:53.515Z"
   },
   {
    "duration": 203,
    "start_time": "2025-01-25T05:29:53.529Z"
   },
   {
    "duration": 140,
    "start_time": "2025-01-25T05:29:53.734Z"
   },
   {
    "duration": 320,
    "start_time": "2025-01-25T05:29:53.876Z"
   },
   {
    "duration": 234,
    "start_time": "2025-01-25T05:29:54.198Z"
   },
   {
    "duration": 217,
    "start_time": "2025-01-25T05:29:54.434Z"
   },
   {
    "duration": 44,
    "start_time": "2025-01-25T05:37:03.434Z"
   },
   {
    "duration": 35,
    "start_time": "2025-01-25T05:37:18.990Z"
   },
   {
    "duration": 16,
    "start_time": "2025-01-25T05:39:55.948Z"
   },
   {
    "duration": 32,
    "start_time": "2025-01-25T05:39:59.883Z"
   },
   {
    "duration": 43,
    "start_time": "2025-01-25T05:41:19.364Z"
   },
   {
    "duration": 7,
    "start_time": "2025-01-25T05:41:51.885Z"
   },
   {
    "duration": 104,
    "start_time": "2025-01-25T05:42:44.601Z"
   },
   {
    "duration": 4,
    "start_time": "2025-01-25T05:42:49.462Z"
   },
   {
    "duration": 35,
    "start_time": "2025-01-25T05:44:43.608Z"
   },
   {
    "duration": 42,
    "start_time": "2025-01-25T05:44:59.600Z"
   },
   {
    "duration": 43,
    "start_time": "2025-01-25T05:45:12.488Z"
   },
   {
    "duration": 7,
    "start_time": "2025-01-25T05:46:36.376Z"
   },
   {
    "duration": 129,
    "start_time": "2025-01-25T05:47:03.734Z"
   },
   {
    "duration": 7,
    "start_time": "2025-01-25T05:47:07.387Z"
   },
   {
    "duration": 7,
    "start_time": "2025-01-25T05:47:10.200Z"
   },
   {
    "duration": 1209,
    "start_time": "2025-01-25T05:47:20.237Z"
   },
   {
    "duration": 61,
    "start_time": "2025-01-25T05:47:21.448Z"
   },
   {
    "duration": 12,
    "start_time": "2025-01-25T05:47:21.511Z"
   },
   {
    "duration": 17,
    "start_time": "2025-01-25T05:47:21.524Z"
   },
   {
    "duration": 21,
    "start_time": "2025-01-25T05:47:21.543Z"
   },
   {
    "duration": 46,
    "start_time": "2025-01-25T05:47:21.566Z"
   },
   {
    "duration": 10,
    "start_time": "2025-01-25T05:47:21.614Z"
   },
   {
    "duration": 39,
    "start_time": "2025-01-25T05:47:21.626Z"
   },
   {
    "duration": 3,
    "start_time": "2025-01-25T05:47:21.666Z"
   },
   {
    "duration": 44,
    "start_time": "2025-01-25T05:47:21.671Z"
   },
   {
    "duration": 17,
    "start_time": "2025-01-25T05:47:21.717Z"
   },
   {
    "duration": 19,
    "start_time": "2025-01-25T05:47:21.736Z"
   },
   {
    "duration": 18,
    "start_time": "2025-01-25T05:47:21.756Z"
   },
   {
    "duration": 30,
    "start_time": "2025-01-25T05:47:21.777Z"
   },
   {
    "duration": 187,
    "start_time": "2025-01-25T05:47:21.809Z"
   },
   {
    "duration": 136,
    "start_time": "2025-01-25T05:47:21.998Z"
   },
   {
    "duration": 305,
    "start_time": "2025-01-25T05:47:22.136Z"
   },
   {
    "duration": 225,
    "start_time": "2025-01-25T05:47:22.443Z"
   },
   {
    "duration": 215,
    "start_time": "2025-01-25T05:47:22.670Z"
   },
   {
    "duration": 8,
    "start_time": "2025-01-25T05:47:22.887Z"
   },
   {
    "duration": 77,
    "start_time": "2025-01-25T05:47:22.908Z"
   },
   {
    "duration": 36,
    "start_time": "2025-01-25T05:51:49.447Z"
   },
   {
    "duration": 12,
    "start_time": "2025-01-25T05:52:08.550Z"
   },
   {
    "duration": 984,
    "start_time": "2025-01-25T05:53:00.270Z"
   },
   {
    "duration": 111,
    "start_time": "2025-01-25T06:12:47.141Z"
   },
   {
    "duration": 13,
    "start_time": "2025-01-25T06:12:56.788Z"
   },
   {
    "duration": 17,
    "start_time": "2025-01-25T06:13:09.466Z"
   },
   {
    "duration": 22,
    "start_time": "2025-01-25T06:15:26.697Z"
   },
   {
    "duration": 21,
    "start_time": "2025-01-25T06:15:45.156Z"
   },
   {
    "duration": 20,
    "start_time": "2025-01-25T06:16:48.919Z"
   },
   {
    "duration": 4761,
    "start_time": "2025-01-25T06:16:56.410Z"
   },
   {
    "duration": 4939,
    "start_time": "2025-01-25T06:17:18.980Z"
   },
   {
    "duration": 252,
    "start_time": "2025-01-25T06:18:15.193Z"
   },
   {
    "duration": 4860,
    "start_time": "2025-01-25T06:18:53.719Z"
   },
   {
    "duration": 4690,
    "start_time": "2025-01-25T06:19:12.343Z"
   },
   {
    "duration": 13,
    "start_time": "2025-01-25T06:23:50.622Z"
   },
   {
    "duration": 17,
    "start_time": "2025-01-25T06:24:05.924Z"
   },
   {
    "duration": 4719,
    "start_time": "2025-01-25T06:27:21.874Z"
   },
   {
    "duration": 18,
    "start_time": "2025-01-25T06:28:36.136Z"
   },
   {
    "duration": 17,
    "start_time": "2025-01-25T06:37:48.682Z"
   },
   {
    "duration": 1206,
    "start_time": "2025-01-25T06:47:02.833Z"
   },
   {
    "duration": 18,
    "start_time": "2025-01-25T06:53:04.511Z"
   },
   {
    "duration": 219,
    "start_time": "2025-01-25T06:53:20.600Z"
   },
   {
    "duration": 214,
    "start_time": "2025-01-25T06:53:42.845Z"
   },
   {
    "duration": 218,
    "start_time": "2025-01-25T06:54:13.641Z"
   },
   {
    "duration": 213,
    "start_time": "2025-01-25T06:54:56.547Z"
   },
   {
    "duration": 298,
    "start_time": "2025-01-25T06:55:18.015Z"
   },
   {
    "duration": 20,
    "start_time": "2025-01-25T06:59:05.393Z"
   },
   {
    "duration": 220,
    "start_time": "2025-01-25T06:59:16.790Z"
   },
   {
    "duration": 212,
    "start_time": "2025-01-25T07:00:10.845Z"
   },
   {
    "duration": 218,
    "start_time": "2025-01-25T07:00:20.623Z"
   },
   {
    "duration": 1387,
    "start_time": "2025-01-26T05:48:25.176Z"
   },
   {
    "duration": 58,
    "start_time": "2025-01-26T05:48:26.565Z"
   },
   {
    "duration": 11,
    "start_time": "2025-01-26T05:48:26.625Z"
   },
   {
    "duration": 13,
    "start_time": "2025-01-26T05:48:26.638Z"
   },
   {
    "duration": 12,
    "start_time": "2025-01-26T05:48:26.653Z"
   },
   {
    "duration": 64,
    "start_time": "2025-01-26T05:48:26.667Z"
   },
   {
    "duration": 12,
    "start_time": "2025-01-26T05:48:26.733Z"
   },
   {
    "duration": 83,
    "start_time": "2025-01-26T05:48:26.746Z"
   },
   {
    "duration": 2,
    "start_time": "2025-01-26T05:48:26.831Z"
   },
   {
    "duration": 24,
    "start_time": "2025-01-26T05:48:26.835Z"
   },
   {
    "duration": 23,
    "start_time": "2025-01-26T05:48:26.862Z"
   },
   {
    "duration": 10,
    "start_time": "2025-01-26T05:48:26.887Z"
   },
   {
    "duration": 42,
    "start_time": "2025-01-26T05:48:26.899Z"
   },
   {
    "duration": 13,
    "start_time": "2025-01-26T05:48:26.945Z"
   },
   {
    "duration": 192,
    "start_time": "2025-01-26T05:48:26.960Z"
   },
   {
    "duration": 133,
    "start_time": "2025-01-26T05:48:27.154Z"
   },
   {
    "duration": 303,
    "start_time": "2025-01-26T05:48:27.289Z"
   },
   {
    "duration": 219,
    "start_time": "2025-01-26T05:48:27.593Z"
   },
   {
    "duration": 208,
    "start_time": "2025-01-26T05:48:27.814Z"
   },
   {
    "duration": 8,
    "start_time": "2025-01-26T05:48:28.024Z"
   },
   {
    "duration": 149,
    "start_time": "2025-01-26T05:48:28.033Z"
   },
   {
    "duration": 0,
    "start_time": "2025-01-26T05:48:28.184Z"
   },
   {
    "duration": 0,
    "start_time": "2025-01-26T05:48:28.186Z"
   },
   {
    "duration": 0,
    "start_time": "2025-01-26T05:48:28.187Z"
   },
   {
    "duration": 0,
    "start_time": "2025-01-26T05:48:28.188Z"
   },
   {
    "duration": 0,
    "start_time": "2025-01-26T05:48:28.190Z"
   },
   {
    "duration": 1230,
    "start_time": "2025-01-26T05:49:31.335Z"
   },
   {
    "duration": 59,
    "start_time": "2025-01-26T05:49:32.568Z"
   },
   {
    "duration": 11,
    "start_time": "2025-01-26T05:49:32.629Z"
   },
   {
    "duration": 11,
    "start_time": "2025-01-26T05:49:32.642Z"
   },
   {
    "duration": 11,
    "start_time": "2025-01-26T05:49:32.655Z"
   },
   {
    "duration": 24,
    "start_time": "2025-01-26T05:49:32.668Z"
   },
   {
    "duration": 45,
    "start_time": "2025-01-26T05:49:32.694Z"
   },
   {
    "duration": 113,
    "start_time": "2025-01-26T05:49:32.741Z"
   },
   {
    "duration": 3,
    "start_time": "2025-01-26T05:49:32.855Z"
   },
   {
    "duration": 19,
    "start_time": "2025-01-26T05:49:32.860Z"
   },
   {
    "duration": 23,
    "start_time": "2025-01-26T05:49:32.881Z"
   },
   {
    "duration": 19,
    "start_time": "2025-01-26T05:49:32.905Z"
   },
   {
    "duration": 30,
    "start_time": "2025-01-26T05:49:32.926Z"
   },
   {
    "duration": 11,
    "start_time": "2025-01-26T05:49:32.959Z"
   },
   {
    "duration": 182,
    "start_time": "2025-01-26T05:49:32.972Z"
   },
   {
    "duration": 133,
    "start_time": "2025-01-26T05:49:33.156Z"
   },
   {
    "duration": 310,
    "start_time": "2025-01-26T05:49:33.290Z"
   },
   {
    "duration": 219,
    "start_time": "2025-01-26T05:49:33.601Z"
   },
   {
    "duration": 205,
    "start_time": "2025-01-26T05:49:33.821Z"
   },
   {
    "duration": 8,
    "start_time": "2025-01-26T05:49:34.027Z"
   },
   {
    "duration": 32,
    "start_time": "2025-01-26T05:49:34.037Z"
   },
   {
    "duration": 14,
    "start_time": "2025-01-26T05:49:34.071Z"
   },
   {
    "duration": 215,
    "start_time": "2025-01-26T05:49:34.086Z"
   },
   {
    "duration": 216,
    "start_time": "2025-01-26T05:49:34.303Z"
   },
   {
    "duration": 292,
    "start_time": "2025-01-26T05:49:34.520Z"
   },
   {
    "duration": 204,
    "start_time": "2025-01-26T05:49:34.814Z"
   },
   {
    "duration": 101,
    "start_time": "2025-01-26T05:54:00.683Z"
   },
   {
    "duration": 28,
    "start_time": "2025-01-26T05:54:08.188Z"
   },
   {
    "duration": 17,
    "start_time": "2025-01-26T06:03:07.887Z"
   },
   {
    "duration": 5,
    "start_time": "2025-01-26T06:05:11.117Z"
   },
   {
    "duration": 20,
    "start_time": "2025-01-26T06:05:18.851Z"
   },
   {
    "duration": 22,
    "start_time": "2025-01-26T06:06:27.663Z"
   },
   {
    "duration": 122,
    "start_time": "2025-01-26T06:14:25.494Z"
   },
   {
    "duration": 124,
    "start_time": "2025-01-26T06:15:11.044Z"
   },
   {
    "duration": 26,
    "start_time": "2025-01-26T06:15:28.930Z"
   },
   {
    "duration": 27,
    "start_time": "2025-01-26T06:16:33.922Z"
   },
   {
    "duration": 24,
    "start_time": "2025-01-26T06:19:58.198Z"
   },
   {
    "duration": 3,
    "start_time": "2025-01-26T06:20:13.157Z"
   },
   {
    "duration": 3,
    "start_time": "2025-01-26T06:22:29.563Z"
   },
   {
    "duration": 4,
    "start_time": "2025-01-26T06:22:47.467Z"
   },
   {
    "duration": 11,
    "start_time": "2025-01-26T06:28:58.816Z"
   },
   {
    "duration": 6,
    "start_time": "2025-01-26T06:30:10.354Z"
   },
   {
    "duration": 18,
    "start_time": "2025-01-26T06:30:19.403Z"
   },
   {
    "duration": 7,
    "start_time": "2025-01-26T06:42:36.110Z"
   },
   {
    "duration": 19,
    "start_time": "2025-01-26T06:42:44.404Z"
   },
   {
    "duration": 28,
    "start_time": "2025-01-26T06:43:46.736Z"
   },
   {
    "duration": 7,
    "start_time": "2025-01-26T06:44:24.056Z"
   },
   {
    "duration": 1461,
    "start_time": "2025-01-28T05:08:47.138Z"
   },
   {
    "duration": 71,
    "start_time": "2025-01-28T05:08:48.601Z"
   },
   {
    "duration": 13,
    "start_time": "2025-01-28T05:08:48.673Z"
   },
   {
    "duration": 24,
    "start_time": "2025-01-28T05:08:48.688Z"
   },
   {
    "duration": 17,
    "start_time": "2025-01-28T05:08:48.714Z"
   },
   {
    "duration": 25,
    "start_time": "2025-01-28T05:08:48.733Z"
   },
   {
    "duration": 10,
    "start_time": "2025-01-28T05:08:48.760Z"
   },
   {
    "duration": 18,
    "start_time": "2025-01-28T05:08:48.771Z"
   },
   {
    "duration": 3,
    "start_time": "2025-01-28T05:08:48.790Z"
   },
   {
    "duration": 16,
    "start_time": "2025-01-28T05:08:48.829Z"
   },
   {
    "duration": 13,
    "start_time": "2025-01-28T05:08:48.846Z"
   },
   {
    "duration": 7,
    "start_time": "2025-01-28T05:08:48.861Z"
   },
   {
    "duration": 15,
    "start_time": "2025-01-28T05:08:48.870Z"
   },
   {
    "duration": 52,
    "start_time": "2025-01-28T05:08:48.887Z"
   },
   {
    "duration": 201,
    "start_time": "2025-01-28T05:08:48.940Z"
   },
   {
    "duration": 147,
    "start_time": "2025-01-28T05:08:49.143Z"
   },
   {
    "duration": 320,
    "start_time": "2025-01-28T05:08:49.292Z"
   },
   {
    "duration": 242,
    "start_time": "2025-01-28T05:08:49.613Z"
   },
   {
    "duration": 224,
    "start_time": "2025-01-28T05:08:49.857Z"
   },
   {
    "duration": 7,
    "start_time": "2025-01-28T05:08:50.083Z"
   },
   {
    "duration": 38,
    "start_time": "2025-01-28T05:08:50.092Z"
   },
   {
    "duration": 20,
    "start_time": "2025-01-28T05:08:50.131Z"
   },
   {
    "duration": 224,
    "start_time": "2025-01-28T05:08:50.153Z"
   },
   {
    "duration": 225,
    "start_time": "2025-01-28T05:08:50.379Z"
   },
   {
    "duration": 304,
    "start_time": "2025-01-28T05:08:50.606Z"
   },
   {
    "duration": 220,
    "start_time": "2025-01-28T05:08:50.912Z"
   },
   {
    "duration": 26,
    "start_time": "2025-01-28T05:08:51.134Z"
   },
   {
    "duration": 27,
    "start_time": "2025-01-28T05:08:51.162Z"
   },
   {
    "duration": 53,
    "start_time": "2025-01-28T05:08:51.191Z"
   },
   {
    "duration": 1284,
    "start_time": "2025-01-28T05:42:16.063Z"
   },
   {
    "duration": 8,
    "start_time": "2025-01-28T05:42:46.032Z"
   },
   {
    "duration": 8,
    "start_time": "2025-01-28T05:46:11.027Z"
   },
   {
    "duration": 6,
    "start_time": "2025-01-28T05:56:46.360Z"
   },
   {
    "duration": 1186,
    "start_time": "2025-01-28T05:58:18.364Z"
   },
   {
    "duration": 7,
    "start_time": "2025-01-28T05:58:54.625Z"
   },
   {
    "duration": 6,
    "start_time": "2025-01-28T06:00:35.609Z"
   },
   {
    "duration": 6,
    "start_time": "2025-01-28T06:12:55.499Z"
   },
   {
    "duration": 8,
    "start_time": "2025-01-28T06:13:32.758Z"
   },
   {
    "duration": 26,
    "start_time": "2025-01-28T06:18:54.162Z"
   },
   {
    "duration": 19,
    "start_time": "2025-01-28T06:19:00.141Z"
   },
   {
    "duration": 7,
    "start_time": "2025-01-28T06:19:03.086Z"
   },
   {
    "duration": 21,
    "start_time": "2025-01-28T06:19:08.166Z"
   },
   {
    "duration": 22,
    "start_time": "2025-01-28T06:29:12.264Z"
   },
   {
    "duration": 20,
    "start_time": "2025-01-28T06:30:31.134Z"
   },
   {
    "duration": 13,
    "start_time": "2025-01-28T06:34:39.171Z"
   },
   {
    "duration": 11,
    "start_time": "2025-01-28T06:35:10.906Z"
   },
   {
    "duration": 11,
    "start_time": "2025-01-28T06:35:41.499Z"
   },
   {
    "duration": 11,
    "start_time": "2025-01-28T06:35:45.456Z"
   },
   {
    "duration": 6,
    "start_time": "2025-01-28T06:37:40.354Z"
   },
   {
    "duration": 1340,
    "start_time": "2025-01-29T05:25:47.154Z"
   },
   {
    "duration": 56,
    "start_time": "2025-01-29T05:25:48.496Z"
   },
   {
    "duration": 12,
    "start_time": "2025-01-29T05:25:48.553Z"
   },
   {
    "duration": 12,
    "start_time": "2025-01-29T05:25:48.567Z"
   },
   {
    "duration": 12,
    "start_time": "2025-01-29T05:25:48.581Z"
   },
   {
    "duration": 21,
    "start_time": "2025-01-29T05:25:48.595Z"
   },
   {
    "duration": 38,
    "start_time": "2025-01-29T05:25:48.617Z"
   },
   {
    "duration": 60,
    "start_time": "2025-01-29T05:25:48.657Z"
   },
   {
    "duration": 5,
    "start_time": "2025-01-29T05:25:48.719Z"
   },
   {
    "duration": 21,
    "start_time": "2025-01-29T05:25:48.726Z"
   },
   {
    "duration": 12,
    "start_time": "2025-01-29T05:25:48.748Z"
   },
   {
    "duration": 7,
    "start_time": "2025-01-29T05:25:48.762Z"
   },
   {
    "duration": 31,
    "start_time": "2025-01-29T05:25:48.770Z"
   },
   {
    "duration": 13,
    "start_time": "2025-01-29T05:25:48.803Z"
   },
   {
    "duration": 182,
    "start_time": "2025-01-29T05:25:48.817Z"
   },
   {
    "duration": 118,
    "start_time": "2025-01-29T05:25:49.000Z"
   },
   {
    "duration": 279,
    "start_time": "2025-01-29T05:25:49.119Z"
   },
   {
    "duration": 191,
    "start_time": "2025-01-29T05:25:49.399Z"
   },
   {
    "duration": 190,
    "start_time": "2025-01-29T05:25:49.592Z"
   },
   {
    "duration": 7,
    "start_time": "2025-01-29T05:25:49.783Z"
   },
   {
    "duration": 59,
    "start_time": "2025-01-29T05:25:49.791Z"
   },
   {
    "duration": 11,
    "start_time": "2025-01-29T05:25:49.852Z"
   },
   {
    "duration": 204,
    "start_time": "2025-01-29T05:25:49.865Z"
   },
   {
    "duration": 206,
    "start_time": "2025-01-29T05:25:50.070Z"
   },
   {
    "duration": 273,
    "start_time": "2025-01-29T05:25:50.278Z"
   },
   {
    "duration": 187,
    "start_time": "2025-01-29T05:25:50.552Z"
   },
   {
    "duration": 24,
    "start_time": "2025-01-29T05:25:50.747Z"
   },
   {
    "duration": 28,
    "start_time": "2025-01-29T05:25:50.774Z"
   },
   {
    "duration": 18,
    "start_time": "2025-01-29T05:25:50.804Z"
   },
   {
    "duration": 27,
    "start_time": "2025-01-29T05:25:50.824Z"
   },
   {
    "duration": 16,
    "start_time": "2025-01-29T05:25:50.852Z"
   },
   {
    "duration": 43,
    "start_time": "2025-01-29T05:25:50.869Z"
   },
   {
    "duration": 6,
    "start_time": "2025-01-29T06:23:16.417Z"
   },
   {
    "duration": 125,
    "start_time": "2025-01-29T06:35:20.588Z"
   },
   {
    "duration": 0,
    "start_time": "2025-01-29T06:36:59.816Z"
   },
   {
    "duration": 7050,
    "start_time": "2025-01-29T06:37:02.186Z"
   },
   {
    "duration": 1239,
    "start_time": "2025-01-29T06:37:40.318Z"
   },
   {
    "duration": 18,
    "start_time": "2025-01-29T06:42:51.088Z"
   },
   {
    "duration": 328,
    "start_time": "2025-01-29T06:43:06.101Z"
   },
   {
    "duration": 250,
    "start_time": "2025-01-29T06:44:24.214Z"
   },
   {
    "duration": 244,
    "start_time": "2025-01-29T06:44:40.638Z"
   },
   {
    "duration": 231,
    "start_time": "2025-01-29T06:44:45.463Z"
   },
   {
    "duration": 84,
    "start_time": "2025-01-29T06:46:39.550Z"
   },
   {
    "duration": 106,
    "start_time": "2025-01-29T06:46:46.829Z"
   },
   {
    "duration": 72,
    "start_time": "2025-01-29T06:46:56.425Z"
   },
   {
    "duration": 66,
    "start_time": "2025-01-29T06:47:01.601Z"
   },
   {
    "duration": 201,
    "start_time": "2025-01-29T06:47:05.389Z"
   },
   {
    "duration": 131,
    "start_time": "2025-01-29T06:50:37.684Z"
   },
   {
    "duration": 133,
    "start_time": "2025-01-29T06:52:03.271Z"
   },
   {
    "duration": 6,
    "start_time": "2025-01-29T06:52:16.303Z"
   },
   {
    "duration": 9,
    "start_time": "2025-01-29T06:53:10.219Z"
   },
   {
    "duration": 2,
    "start_time": "2025-01-29T06:53:57.584Z"
   },
   {
    "duration": 30,
    "start_time": "2025-01-29T06:54:08.039Z"
   },
   {
    "duration": 1167,
    "start_time": "2025-01-29T07:08:41.955Z"
   },
   {
    "duration": 70,
    "start_time": "2025-01-29T07:08:43.123Z"
   },
   {
    "duration": 12,
    "start_time": "2025-01-29T07:08:43.195Z"
   },
   {
    "duration": 21,
    "start_time": "2025-01-29T07:08:43.209Z"
   },
   {
    "duration": 11,
    "start_time": "2025-01-29T07:08:43.232Z"
   },
   {
    "duration": 28,
    "start_time": "2025-01-29T07:08:43.245Z"
   },
   {
    "duration": 35,
    "start_time": "2025-01-29T07:08:43.275Z"
   },
   {
    "duration": 15,
    "start_time": "2025-01-29T07:08:43.311Z"
   },
   {
    "duration": 11,
    "start_time": "2025-01-29T07:08:43.328Z"
   },
   {
    "duration": 16,
    "start_time": "2025-01-29T07:08:43.342Z"
   },
   {
    "duration": 18,
    "start_time": "2025-01-29T07:08:43.360Z"
   },
   {
    "duration": 38,
    "start_time": "2025-01-29T07:08:43.380Z"
   },
   {
    "duration": 36,
    "start_time": "2025-01-29T07:08:43.420Z"
   },
   {
    "duration": 16,
    "start_time": "2025-01-29T07:08:43.458Z"
   },
   {
    "duration": 213,
    "start_time": "2025-01-29T07:08:43.476Z"
   },
   {
    "duration": 137,
    "start_time": "2025-01-29T07:08:43.691Z"
   },
   {
    "duration": 304,
    "start_time": "2025-01-29T07:08:43.830Z"
   },
   {
    "duration": 248,
    "start_time": "2025-01-29T07:08:44.136Z"
   },
   {
    "duration": 194,
    "start_time": "2025-01-29T07:08:44.386Z"
   },
   {
    "duration": 6,
    "start_time": "2025-01-29T07:08:44.582Z"
   },
   {
    "duration": 29,
    "start_time": "2025-01-29T07:08:44.590Z"
   },
   {
    "duration": 12,
    "start_time": "2025-01-29T07:08:44.621Z"
   },
   {
    "duration": 269,
    "start_time": "2025-01-29T07:08:44.635Z"
   },
   {
    "duration": 237,
    "start_time": "2025-01-29T07:08:44.910Z"
   },
   {
    "duration": 289,
    "start_time": "2025-01-29T07:08:45.149Z"
   },
   {
    "duration": 204,
    "start_time": "2025-01-29T07:08:45.440Z"
   },
   {
    "duration": 26,
    "start_time": "2025-01-29T07:08:45.645Z"
   },
   {
    "duration": 53,
    "start_time": "2025-01-29T07:08:45.675Z"
   },
   {
    "duration": 19,
    "start_time": "2025-01-29T07:08:45.730Z"
   },
   {
    "duration": 7,
    "start_time": "2025-01-29T07:08:45.751Z"
   },
   {
    "duration": 5,
    "start_time": "2025-01-29T07:08:45.760Z"
   },
   {
    "duration": 42,
    "start_time": "2025-01-29T07:08:45.767Z"
   },
   {
    "duration": 6,
    "start_time": "2025-01-29T07:08:45.811Z"
   },
   {
    "duration": 20,
    "start_time": "2025-01-29T07:14:11.343Z"
   },
   {
    "duration": 1481,
    "start_time": "2025-01-29T18:41:32.739Z"
   },
   {
    "duration": 69,
    "start_time": "2025-01-29T18:41:34.222Z"
   },
   {
    "duration": 12,
    "start_time": "2025-01-29T18:41:34.296Z"
   },
   {
    "duration": 18,
    "start_time": "2025-01-29T18:41:34.310Z"
   },
   {
    "duration": 16,
    "start_time": "2025-01-29T18:41:34.330Z"
   },
   {
    "duration": 35,
    "start_time": "2025-01-29T18:41:34.348Z"
   },
   {
    "duration": 11,
    "start_time": "2025-01-29T18:41:34.385Z"
   },
   {
    "duration": 26,
    "start_time": "2025-01-29T18:41:34.398Z"
   },
   {
    "duration": 3,
    "start_time": "2025-01-29T18:41:34.427Z"
   },
   {
    "duration": 22,
    "start_time": "2025-01-29T18:41:34.458Z"
   },
   {
    "duration": 15,
    "start_time": "2025-01-29T18:41:34.483Z"
   },
   {
    "duration": 9,
    "start_time": "2025-01-29T18:41:34.500Z"
   },
   {
    "duration": 59,
    "start_time": "2025-01-29T18:41:34.511Z"
   },
   {
    "duration": 68,
    "start_time": "2025-01-29T18:41:34.572Z"
   },
   {
    "duration": 197,
    "start_time": "2025-01-29T18:41:34.642Z"
   },
   {
    "duration": 139,
    "start_time": "2025-01-29T18:41:34.841Z"
   },
   {
    "duration": 318,
    "start_time": "2025-01-29T18:41:34.981Z"
   },
   {
    "duration": 229,
    "start_time": "2025-01-29T18:41:35.301Z"
   },
   {
    "duration": 226,
    "start_time": "2025-01-29T18:41:35.532Z"
   },
   {
    "duration": 8,
    "start_time": "2025-01-29T18:41:35.759Z"
   },
   {
    "duration": 39,
    "start_time": "2025-01-29T18:41:35.769Z"
   },
   {
    "duration": 73,
    "start_time": "2025-01-29T18:41:35.810Z"
   },
   {
    "duration": 221,
    "start_time": "2025-01-29T18:41:35.885Z"
   },
   {
    "duration": 227,
    "start_time": "2025-01-29T18:41:36.108Z"
   },
   {
    "duration": 328,
    "start_time": "2025-01-29T18:41:36.337Z"
   },
   {
    "duration": 225,
    "start_time": "2025-01-29T18:41:36.667Z"
   },
   {
    "duration": 26,
    "start_time": "2025-01-29T18:41:36.896Z"
   },
   {
    "duration": 53,
    "start_time": "2025-01-29T18:41:36.924Z"
   },
   {
    "duration": 20,
    "start_time": "2025-01-29T18:41:36.979Z"
   },
   {
    "duration": 6,
    "start_time": "2025-01-29T18:41:37.001Z"
   },
   {
    "duration": 45,
    "start_time": "2025-01-29T18:41:37.009Z"
   },
   {
    "duration": 15,
    "start_time": "2025-01-29T18:41:37.055Z"
   },
   {
    "duration": 7,
    "start_time": "2025-01-29T18:41:37.072Z"
   },
   {
    "duration": 18,
    "start_time": "2025-01-29T18:43:17.066Z"
   },
   {
    "duration": 27,
    "start_time": "2025-01-29T18:43:30.413Z"
   },
   {
    "duration": 174,
    "start_time": "2025-01-29T18:51:55.518Z"
   },
   {
    "duration": 166,
    "start_time": "2025-01-29T18:53:42.045Z"
   },
   {
    "duration": 169,
    "start_time": "2025-01-29T18:53:52.278Z"
   },
   {
    "duration": 388,
    "start_time": "2025-01-29T18:54:54.098Z"
   },
   {
    "duration": 174,
    "start_time": "2025-01-29T18:55:02.019Z"
   },
   {
    "duration": 117,
    "start_time": "2025-01-29T18:59:38.836Z"
   },
   {
    "duration": 18,
    "start_time": "2025-01-29T19:00:52.715Z"
   },
   {
    "duration": 19,
    "start_time": "2025-01-29T19:01:52.014Z"
   },
   {
    "duration": 28,
    "start_time": "2025-01-29T19:02:01.791Z"
   },
   {
    "duration": 135,
    "start_time": "2025-01-29T19:02:18.552Z"
   },
   {
    "duration": 15,
    "start_time": "2025-01-29T19:05:51.043Z"
   },
   {
    "duration": 98,
    "start_time": "2025-01-29T19:06:10.081Z"
   },
   {
    "duration": 103,
    "start_time": "2025-01-29T19:06:29.828Z"
   },
   {
    "duration": 10,
    "start_time": "2025-01-29T19:08:26.160Z"
   },
   {
    "duration": 4,
    "start_time": "2025-01-29T19:08:31.107Z"
   },
   {
    "duration": 4,
    "start_time": "2025-01-29T19:08:51.854Z"
   },
   {
    "duration": 4,
    "start_time": "2025-01-29T19:09:22.249Z"
   },
   {
    "duration": 40,
    "start_time": "2025-01-29T19:09:59.212Z"
   },
   {
    "duration": 1179,
    "start_time": "2025-01-29T19:10:09.100Z"
   },
   {
    "duration": 57,
    "start_time": "2025-01-29T19:10:10.281Z"
   },
   {
    "duration": 22,
    "start_time": "2025-01-29T19:10:10.344Z"
   },
   {
    "duration": 11,
    "start_time": "2025-01-29T19:10:10.367Z"
   },
   {
    "duration": 11,
    "start_time": "2025-01-29T19:10:10.380Z"
   },
   {
    "duration": 22,
    "start_time": "2025-01-29T19:10:10.392Z"
   },
   {
    "duration": 10,
    "start_time": "2025-01-29T19:10:10.416Z"
   },
   {
    "duration": 15,
    "start_time": "2025-01-29T19:10:10.459Z"
   },
   {
    "duration": 2,
    "start_time": "2025-01-29T19:10:10.476Z"
   },
   {
    "duration": 15,
    "start_time": "2025-01-29T19:10:10.480Z"
   },
   {
    "duration": 13,
    "start_time": "2025-01-29T19:10:10.497Z"
   },
   {
    "duration": 49,
    "start_time": "2025-01-29T19:10:10.512Z"
   },
   {
    "duration": 15,
    "start_time": "2025-01-29T19:10:10.563Z"
   },
   {
    "duration": 12,
    "start_time": "2025-01-29T19:10:10.579Z"
   },
   {
    "duration": 222,
    "start_time": "2025-01-29T19:10:10.593Z"
   },
   {
    "duration": 127,
    "start_time": "2025-01-29T19:10:10.817Z"
   },
   {
    "duration": 313,
    "start_time": "2025-01-29T19:10:10.946Z"
   },
   {
    "duration": 255,
    "start_time": "2025-01-29T19:10:11.261Z"
   },
   {
    "duration": 212,
    "start_time": "2025-01-29T19:10:11.518Z"
   },
   {
    "duration": 4,
    "start_time": "2025-01-29T19:10:11.732Z"
   },
   {
    "duration": 45,
    "start_time": "2025-01-29T19:10:11.737Z"
   },
   {
    "duration": 49,
    "start_time": "2025-01-29T19:10:11.783Z"
   },
   {
    "duration": 3,
    "start_time": "2025-01-29T19:10:11.834Z"
   },
   {
    "duration": 14,
    "start_time": "2025-01-29T19:10:11.839Z"
   },
   {
    "duration": 227,
    "start_time": "2025-01-29T19:10:11.855Z"
   },
   {
    "duration": 228,
    "start_time": "2025-01-29T19:10:12.086Z"
   },
   {
    "duration": 296,
    "start_time": "2025-01-29T19:10:12.316Z"
   },
   {
    "duration": 215,
    "start_time": "2025-01-29T19:10:12.614Z"
   },
   {
    "duration": 33,
    "start_time": "2025-01-29T19:10:12.831Z"
   },
   {
    "duration": 26,
    "start_time": "2025-01-29T19:10:12.866Z"
   },
   {
    "duration": 20,
    "start_time": "2025-01-29T19:10:12.893Z"
   },
   {
    "duration": 6,
    "start_time": "2025-01-29T19:10:12.915Z"
   },
   {
    "duration": 39,
    "start_time": "2025-01-29T19:10:12.922Z"
   },
   {
    "duration": 78,
    "start_time": "2025-01-29T19:10:12.963Z"
   },
   {
    "duration": 17,
    "start_time": "2025-01-29T19:10:13.042Z"
   },
   {
    "duration": 106,
    "start_time": "2025-01-29T19:11:17.320Z"
   },
   {
    "duration": 9,
    "start_time": "2025-01-29T19:12:39.291Z"
   },
   {
    "duration": 1381,
    "start_time": "2025-01-30T09:42:46.708Z"
   },
   {
    "duration": 66,
    "start_time": "2025-01-30T09:42:48.091Z"
   },
   {
    "duration": 22,
    "start_time": "2025-01-30T09:42:48.161Z"
   },
   {
    "duration": 11,
    "start_time": "2025-01-30T09:42:48.184Z"
   },
   {
    "duration": 18,
    "start_time": "2025-01-30T09:42:48.196Z"
   },
   {
    "duration": 28,
    "start_time": "2025-01-30T09:42:48.215Z"
   },
   {
    "duration": 10,
    "start_time": "2025-01-30T09:42:48.244Z"
   },
   {
    "duration": 13,
    "start_time": "2025-01-30T09:42:48.255Z"
   },
   {
    "duration": 3,
    "start_time": "2025-01-30T09:42:48.271Z"
   },
   {
    "duration": 27,
    "start_time": "2025-01-30T09:42:48.275Z"
   },
   {
    "duration": 33,
    "start_time": "2025-01-30T09:42:48.304Z"
   },
   {
    "duration": 8,
    "start_time": "2025-01-30T09:42:48.338Z"
   },
   {
    "duration": 17,
    "start_time": "2025-01-30T09:42:48.347Z"
   },
   {
    "duration": 14,
    "start_time": "2025-01-30T09:42:48.365Z"
   },
   {
    "duration": 203,
    "start_time": "2025-01-30T09:42:48.380Z"
   },
   {
    "duration": 121,
    "start_time": "2025-01-30T09:42:48.586Z"
   },
   {
    "duration": 312,
    "start_time": "2025-01-30T09:42:48.709Z"
   },
   {
    "duration": 227,
    "start_time": "2025-01-30T09:42:49.024Z"
   },
   {
    "duration": 209,
    "start_time": "2025-01-30T09:42:49.253Z"
   },
   {
    "duration": 4,
    "start_time": "2025-01-30T09:42:49.465Z"
   },
   {
    "duration": 25,
    "start_time": "2025-01-30T09:42:49.471Z"
   },
   {
    "duration": 55,
    "start_time": "2025-01-30T09:42:49.498Z"
   },
   {
    "duration": 5,
    "start_time": "2025-01-30T09:42:49.555Z"
   },
   {
    "duration": 24,
    "start_time": "2025-01-30T09:42:49.562Z"
   },
   {
    "duration": 16,
    "start_time": "2025-01-30T09:42:49.588Z"
   },
   {
    "duration": 230,
    "start_time": "2025-01-30T09:42:49.606Z"
   },
   {
    "duration": 235,
    "start_time": "2025-01-30T09:42:49.841Z"
   },
   {
    "duration": 288,
    "start_time": "2025-01-30T09:42:50.077Z"
   },
   {
    "duration": 210,
    "start_time": "2025-01-30T09:42:50.366Z"
   },
   {
    "duration": 26,
    "start_time": "2025-01-30T09:42:50.577Z"
   },
   {
    "duration": 47,
    "start_time": "2025-01-30T09:42:50.605Z"
   },
   {
    "duration": 19,
    "start_time": "2025-01-30T09:42:50.653Z"
   },
   {
    "duration": 6,
    "start_time": "2025-01-30T09:42:50.674Z"
   },
   {
    "duration": 5,
    "start_time": "2025-01-30T09:42:50.681Z"
   },
   {
    "duration": 10,
    "start_time": "2025-01-30T09:42:50.688Z"
   },
   {
    "duration": 34,
    "start_time": "2025-01-30T09:42:50.700Z"
   },
   {
    "duration": 28,
    "start_time": "2025-01-30T09:48:52.720Z"
   },
   {
    "duration": 1334,
    "start_time": "2025-01-30T09:54:43.870Z"
   },
   {
    "duration": 29,
    "start_time": "2025-01-30T09:55:38.068Z"
   },
   {
    "duration": 19,
    "start_time": "2025-01-30T10:02:13.843Z"
   },
   {
    "duration": 29,
    "start_time": "2025-01-30T10:02:56.819Z"
   },
   {
    "duration": 29,
    "start_time": "2025-01-30T10:03:22.845Z"
   },
   {
    "duration": 394,
    "start_time": "2025-01-30T10:06:15.596Z"
   },
   {
    "duration": 27,
    "start_time": "2025-01-30T10:06:35.156Z"
   },
   {
    "duration": 25,
    "start_time": "2025-01-30T10:07:00.125Z"
   },
   {
    "duration": 29,
    "start_time": "2025-01-30T10:07:07.677Z"
   },
   {
    "duration": 24,
    "start_time": "2025-01-30T10:07:52.663Z"
   },
   {
    "duration": 322,
    "start_time": "2025-01-30T10:12:57.012Z"
   },
   {
    "duration": 33,
    "start_time": "2025-01-30T10:13:39.560Z"
   },
   {
    "duration": 20,
    "start_time": "2025-01-30T10:19:33.037Z"
   },
   {
    "duration": 108,
    "start_time": "2025-01-30T10:25:43.252Z"
   },
   {
    "duration": 105,
    "start_time": "2025-01-30T10:26:43.064Z"
   },
   {
    "duration": 31,
    "start_time": "2025-01-30T10:34:21.360Z"
   },
   {
    "duration": 31,
    "start_time": "2025-01-30T10:36:17.516Z"
   },
   {
    "duration": 21,
    "start_time": "2025-01-30T10:36:25.785Z"
   },
   {
    "duration": 1186,
    "start_time": "2025-01-30T10:36:35.000Z"
   },
   {
    "duration": 70,
    "start_time": "2025-01-30T10:36:36.187Z"
   },
   {
    "duration": 23,
    "start_time": "2025-01-30T10:36:36.258Z"
   },
   {
    "duration": 20,
    "start_time": "2025-01-30T10:36:36.284Z"
   },
   {
    "duration": 87,
    "start_time": "2025-01-30T10:36:36.306Z"
   },
   {
    "duration": 33,
    "start_time": "2025-01-30T10:36:36.394Z"
   },
   {
    "duration": 10,
    "start_time": "2025-01-30T10:36:36.428Z"
   },
   {
    "duration": 13,
    "start_time": "2025-01-30T10:36:36.439Z"
   },
   {
    "duration": 10,
    "start_time": "2025-01-30T10:36:36.454Z"
   },
   {
    "duration": 37,
    "start_time": "2025-01-30T10:36:36.467Z"
   },
   {
    "duration": 31,
    "start_time": "2025-01-30T10:36:36.506Z"
   },
   {
    "duration": 7,
    "start_time": "2025-01-30T10:36:36.539Z"
   },
   {
    "duration": 15,
    "start_time": "2025-01-30T10:36:36.547Z"
   },
   {
    "duration": 14,
    "start_time": "2025-01-30T10:36:36.563Z"
   },
   {
    "duration": 216,
    "start_time": "2025-01-30T10:36:36.578Z"
   },
   {
    "duration": 141,
    "start_time": "2025-01-30T10:36:36.796Z"
   },
   {
    "duration": 306,
    "start_time": "2025-01-30T10:36:36.938Z"
   },
   {
    "duration": 226,
    "start_time": "2025-01-30T10:36:37.247Z"
   },
   {
    "duration": 247,
    "start_time": "2025-01-30T10:36:37.475Z"
   },
   {
    "duration": 11,
    "start_time": "2025-01-30T10:36:37.723Z"
   },
   {
    "duration": 8,
    "start_time": "2025-01-30T10:36:37.737Z"
   },
   {
    "duration": 54,
    "start_time": "2025-01-30T10:36:37.747Z"
   },
   {
    "duration": 3,
    "start_time": "2025-01-30T10:36:37.803Z"
   },
   {
    "duration": 10,
    "start_time": "2025-01-30T10:36:37.833Z"
   },
   {
    "duration": 13,
    "start_time": "2025-01-30T10:36:37.845Z"
   },
   {
    "duration": 247,
    "start_time": "2025-01-30T10:36:37.860Z"
   },
   {
    "duration": 219,
    "start_time": "2025-01-30T10:36:38.109Z"
   },
   {
    "duration": 296,
    "start_time": "2025-01-30T10:36:38.332Z"
   },
   {
    "duration": 210,
    "start_time": "2025-01-30T10:36:38.632Z"
   },
   {
    "duration": 29,
    "start_time": "2025-01-30T10:36:38.844Z"
   },
   {
    "duration": 40,
    "start_time": "2025-01-30T10:36:38.874Z"
   },
   {
    "duration": 37,
    "start_time": "2025-01-30T10:36:38.915Z"
   },
   {
    "duration": 125,
    "start_time": "2025-01-30T10:36:38.954Z"
   },
   {
    "duration": 6,
    "start_time": "2025-01-30T10:36:39.081Z"
   },
   {
    "duration": 1448,
    "start_time": "2025-01-30T16:50:40.212Z"
   },
   {
    "duration": 71,
    "start_time": "2025-01-30T16:50:41.662Z"
   },
   {
    "duration": 22,
    "start_time": "2025-01-30T16:50:41.735Z"
   },
   {
    "duration": 12,
    "start_time": "2025-01-30T16:50:41.759Z"
   },
   {
    "duration": 12,
    "start_time": "2025-01-30T16:50:41.773Z"
   },
   {
    "duration": 24,
    "start_time": "2025-01-30T16:50:41.801Z"
   },
   {
    "duration": 84,
    "start_time": "2025-01-30T16:50:41.827Z"
   },
   {
    "duration": 26,
    "start_time": "2025-01-30T16:50:41.913Z"
   },
   {
    "duration": 5,
    "start_time": "2025-01-30T16:50:41.941Z"
   },
   {
    "duration": 17,
    "start_time": "2025-01-30T16:50:41.948Z"
   },
   {
    "duration": 15,
    "start_time": "2025-01-30T16:50:41.967Z"
   },
   {
    "duration": 20,
    "start_time": "2025-01-30T16:50:41.984Z"
   },
   {
    "duration": 15,
    "start_time": "2025-01-30T16:50:42.006Z"
   },
   {
    "duration": 15,
    "start_time": "2025-01-30T16:50:42.023Z"
   },
   {
    "duration": 201,
    "start_time": "2025-01-30T16:50:42.040Z"
   },
   {
    "duration": 118,
    "start_time": "2025-01-30T16:50:42.243Z"
   },
   {
    "duration": 312,
    "start_time": "2025-01-30T16:50:42.363Z"
   },
   {
    "duration": 238,
    "start_time": "2025-01-30T16:50:42.676Z"
   },
   {
    "duration": 222,
    "start_time": "2025-01-30T16:50:42.917Z"
   },
   {
    "duration": 4,
    "start_time": "2025-01-30T16:50:43.142Z"
   },
   {
    "duration": 12,
    "start_time": "2025-01-30T16:50:43.148Z"
   },
   {
    "duration": 57,
    "start_time": "2025-01-30T16:50:43.162Z"
   },
   {
    "duration": 5,
    "start_time": "2025-01-30T16:50:43.220Z"
   },
   {
    "duration": 23,
    "start_time": "2025-01-30T16:50:43.226Z"
   },
   {
    "duration": 16,
    "start_time": "2025-01-30T16:50:43.251Z"
   },
   {
    "duration": 233,
    "start_time": "2025-01-30T16:50:43.269Z"
   },
   {
    "duration": 229,
    "start_time": "2025-01-30T16:50:43.504Z"
   },
   {
    "duration": 311,
    "start_time": "2025-01-30T16:50:43.736Z"
   },
   {
    "duration": 206,
    "start_time": "2025-01-30T16:50:44.049Z"
   },
   {
    "duration": 28,
    "start_time": "2025-01-30T16:50:44.256Z"
   },
   {
    "duration": 58,
    "start_time": "2025-01-30T16:50:44.286Z"
   },
   {
    "duration": 22,
    "start_time": "2025-01-30T16:50:44.345Z"
   },
   {
    "duration": 152,
    "start_time": "2025-01-30T16:50:44.368Z"
   },
   {
    "duration": 6,
    "start_time": "2025-01-30T16:50:44.522Z"
   },
   {
    "duration": 109,
    "start_time": "2025-01-30T16:50:55.160Z"
   },
   {
    "duration": 13,
    "start_time": "2025-01-30T16:52:01.179Z"
   },
   {
    "duration": 9,
    "start_time": "2025-01-30T16:52:30.762Z"
   },
   {
    "duration": 2402,
    "start_time": "2025-01-30T16:59:26.687Z"
   },
   {
    "duration": 11,
    "start_time": "2025-01-30T16:59:40.055Z"
   },
   {
    "duration": 9,
    "start_time": "2025-01-30T17:12:07.550Z"
   },
   {
    "duration": 9,
    "start_time": "2025-01-30T17:12:38.171Z"
   },
   {
    "duration": 5,
    "start_time": "2025-01-30T17:27:07.539Z"
   },
   {
    "duration": 8,
    "start_time": "2025-01-30T17:29:43.151Z"
   },
   {
    "duration": 9,
    "start_time": "2025-01-30T17:31:11.964Z"
   },
   {
    "duration": 8,
    "start_time": "2025-01-30T17:31:42.100Z"
   },
   {
    "duration": 8,
    "start_time": "2025-01-30T17:41:03.720Z"
   },
   {
    "duration": 14,
    "start_time": "2025-01-30T18:12:54.729Z"
   },
   {
    "duration": 15,
    "start_time": "2025-01-30T18:13:07.571Z"
   },
   {
    "duration": 175,
    "start_time": "2025-01-30T18:13:26.056Z"
   },
   {
    "duration": 227,
    "start_time": "2025-01-30T18:13:57.415Z"
   },
   {
    "duration": 202,
    "start_time": "2025-01-30T18:14:15.963Z"
   },
   {
    "duration": 162,
    "start_time": "2025-01-30T18:14:26.581Z"
   },
   {
    "duration": 180,
    "start_time": "2025-01-30T18:16:44.841Z"
   },
   {
    "duration": 173,
    "start_time": "2025-01-30T18:17:08.002Z"
   },
   {
    "duration": 177,
    "start_time": "2025-01-30T18:17:42.372Z"
   },
   {
    "duration": 144,
    "start_time": "2025-01-30T18:18:45.943Z"
   },
   {
    "duration": 324,
    "start_time": "2025-01-30T18:18:51.628Z"
   },
   {
    "duration": 291,
    "start_time": "2025-01-30T18:20:21.413Z"
   },
   {
    "duration": 394,
    "start_time": "2025-01-30T18:21:32.311Z"
   },
   {
    "duration": 296,
    "start_time": "2025-01-30T18:22:02.870Z"
   },
   {
    "duration": 1422,
    "start_time": "2025-01-31T04:39:26.619Z"
   },
   {
    "duration": 60,
    "start_time": "2025-01-31T04:39:28.043Z"
   },
   {
    "duration": 21,
    "start_time": "2025-01-31T04:39:28.104Z"
   },
   {
    "duration": 11,
    "start_time": "2025-01-31T04:39:28.127Z"
   },
   {
    "duration": 10,
    "start_time": "2025-01-31T04:39:28.141Z"
   },
   {
    "duration": 22,
    "start_time": "2025-01-31T04:39:28.152Z"
   },
   {
    "duration": 34,
    "start_time": "2025-01-31T04:39:28.176Z"
   },
   {
    "duration": 19,
    "start_time": "2025-01-31T04:39:28.212Z"
   },
   {
    "duration": 2,
    "start_time": "2025-01-31T04:39:28.233Z"
   },
   {
    "duration": 13,
    "start_time": "2025-01-31T04:39:28.236Z"
   },
   {
    "duration": 13,
    "start_time": "2025-01-31T04:39:28.250Z"
   },
   {
    "duration": 38,
    "start_time": "2025-01-31T04:39:28.264Z"
   },
   {
    "duration": 15,
    "start_time": "2025-01-31T04:39:28.304Z"
   },
   {
    "duration": 12,
    "start_time": "2025-01-31T04:39:28.322Z"
   },
   {
    "duration": 203,
    "start_time": "2025-01-31T04:39:28.335Z"
   },
   {
    "duration": 115,
    "start_time": "2025-01-31T04:39:28.539Z"
   },
   {
    "duration": 306,
    "start_time": "2025-01-31T04:39:28.655Z"
   },
   {
    "duration": 218,
    "start_time": "2025-01-31T04:39:28.963Z"
   },
   {
    "duration": 208,
    "start_time": "2025-01-31T04:39:29.182Z"
   },
   {
    "duration": 4,
    "start_time": "2025-01-31T04:39:29.391Z"
   },
   {
    "duration": 8,
    "start_time": "2025-01-31T04:39:29.403Z"
   },
   {
    "duration": 44,
    "start_time": "2025-01-31T04:39:29.413Z"
   },
   {
    "duration": 69,
    "start_time": "2025-01-31T04:39:29.459Z"
   },
   {
    "duration": 15,
    "start_time": "2025-01-31T04:39:29.530Z"
   },
   {
    "duration": 13,
    "start_time": "2025-01-31T04:39:29.547Z"
   },
   {
    "duration": 211,
    "start_time": "2025-01-31T04:39:29.562Z"
   },
   {
    "duration": 217,
    "start_time": "2025-01-31T04:39:29.775Z"
   },
   {
    "duration": 308,
    "start_time": "2025-01-31T04:39:29.994Z"
   },
   {
    "duration": 210,
    "start_time": "2025-01-31T04:39:30.304Z"
   },
   {
    "duration": 29,
    "start_time": "2025-01-31T04:39:30.516Z"
   },
   {
    "duration": 58,
    "start_time": "2025-01-31T04:39:30.547Z"
   },
   {
    "duration": 22,
    "start_time": "2025-01-31T04:39:30.606Z"
   },
   {
    "duration": 124,
    "start_time": "2025-01-31T04:39:30.630Z"
   },
   {
    "duration": 11,
    "start_time": "2025-01-31T04:39:30.756Z"
   },
   {
    "duration": 92,
    "start_time": "2025-01-31T04:39:30.768Z"
   },
   {
    "duration": 7,
    "start_time": "2025-01-31T04:39:30.861Z"
   },
   {
    "duration": 365,
    "start_time": "2025-01-31T04:39:30.870Z"
   },
   {
    "duration": 6,
    "start_time": "2025-01-31T04:40:54.525Z"
   },
   {
    "duration": 17,
    "start_time": "2025-01-31T04:41:21.407Z"
   },
   {
    "duration": 1295,
    "start_time": "2025-01-31T05:55:10.925Z"
   },
   {
    "duration": 71,
    "start_time": "2025-01-31T05:55:12.222Z"
   },
   {
    "duration": 24,
    "start_time": "2025-01-31T05:55:12.295Z"
   },
   {
    "duration": 16,
    "start_time": "2025-01-31T05:55:12.322Z"
   },
   {
    "duration": 131,
    "start_time": "2025-01-31T05:55:12.339Z"
   },
   {
    "duration": 30,
    "start_time": "2025-01-31T05:55:12.471Z"
   },
   {
    "duration": 10,
    "start_time": "2025-01-31T05:55:12.502Z"
   },
   {
    "duration": 15,
    "start_time": "2025-01-31T05:55:12.513Z"
   },
   {
    "duration": 3,
    "start_time": "2025-01-31T05:55:12.529Z"
   },
   {
    "duration": 14,
    "start_time": "2025-01-31T05:55:12.534Z"
   },
   {
    "duration": 79,
    "start_time": "2025-01-31T05:55:12.549Z"
   },
   {
    "duration": 8,
    "start_time": "2025-01-31T05:55:12.629Z"
   },
   {
    "duration": 14,
    "start_time": "2025-01-31T05:55:12.638Z"
   },
   {
    "duration": 11,
    "start_time": "2025-01-31T05:55:12.653Z"
   },
   {
    "duration": 179,
    "start_time": "2025-01-31T05:55:12.665Z"
   },
   {
    "duration": 113,
    "start_time": "2025-01-31T05:55:12.845Z"
   },
   {
    "duration": 299,
    "start_time": "2025-01-31T05:55:12.960Z"
   },
   {
    "duration": 257,
    "start_time": "2025-01-31T05:55:13.260Z"
   },
   {
    "duration": 284,
    "start_time": "2025-01-31T05:55:13.519Z"
   },
   {
    "duration": 3,
    "start_time": "2025-01-31T05:55:13.805Z"
   },
   {
    "duration": 12,
    "start_time": "2025-01-31T05:55:13.811Z"
   },
   {
    "duration": 48,
    "start_time": "2025-01-31T05:55:13.825Z"
   },
   {
    "duration": 3,
    "start_time": "2025-01-31T05:55:13.875Z"
   },
   {
    "duration": 30,
    "start_time": "2025-01-31T05:55:13.880Z"
   },
   {
    "duration": 22,
    "start_time": "2025-01-31T05:55:13.911Z"
   },
   {
    "duration": 228,
    "start_time": "2025-01-31T05:55:13.934Z"
   },
   {
    "duration": 228,
    "start_time": "2025-01-31T05:55:14.164Z"
   },
   {
    "duration": 277,
    "start_time": "2025-01-31T05:55:14.399Z"
   },
   {
    "duration": 203,
    "start_time": "2025-01-31T05:55:14.677Z"
   },
   {
    "duration": 39,
    "start_time": "2025-01-31T05:55:14.882Z"
   },
   {
    "duration": 187,
    "start_time": "2025-01-31T05:55:14.923Z"
   },
   {
    "duration": 25,
    "start_time": "2025-01-31T05:55:15.112Z"
   },
   {
    "duration": 118,
    "start_time": "2025-01-31T05:55:15.139Z"
   },
   {
    "duration": 10,
    "start_time": "2025-01-31T05:55:15.259Z"
   },
   {
    "duration": 107,
    "start_time": "2025-01-31T05:55:15.271Z"
   },
   {
    "duration": 22,
    "start_time": "2025-01-31T05:55:15.380Z"
   },
   {
    "duration": 340,
    "start_time": "2025-01-31T05:55:15.404Z"
   },
   {
    "duration": 4,
    "start_time": "2025-01-31T05:55:31.732Z"
   },
   {
    "duration": 576,
    "start_time": "2025-01-31T05:56:40.057Z"
   },
   {
    "duration": 1164,
    "start_time": "2025-01-31T05:56:45.936Z"
   },
   {
    "duration": 58,
    "start_time": "2025-01-31T05:56:47.101Z"
   },
   {
    "duration": 21,
    "start_time": "2025-01-31T05:56:47.160Z"
   },
   {
    "duration": 10,
    "start_time": "2025-01-31T05:56:47.183Z"
   },
   {
    "duration": 13,
    "start_time": "2025-01-31T05:56:47.195Z"
   },
   {
    "duration": 23,
    "start_time": "2025-01-31T05:56:47.210Z"
   },
   {
    "duration": 10,
    "start_time": "2025-01-31T05:56:47.234Z"
   },
   {
    "duration": 14,
    "start_time": "2025-01-31T05:56:47.245Z"
   },
   {
    "duration": 71,
    "start_time": "2025-01-31T05:56:47.260Z"
   },
   {
    "duration": 58,
    "start_time": "2025-01-31T05:56:47.334Z"
   },
   {
    "duration": 12,
    "start_time": "2025-01-31T05:56:47.394Z"
   },
   {
    "duration": 7,
    "start_time": "2025-01-31T05:56:47.408Z"
   },
   {
    "duration": 13,
    "start_time": "2025-01-31T05:56:47.417Z"
   },
   {
    "duration": 11,
    "start_time": "2025-01-31T05:56:47.432Z"
   },
   {
    "duration": 192,
    "start_time": "2025-01-31T05:56:47.445Z"
   },
   {
    "duration": 110,
    "start_time": "2025-01-31T05:56:47.639Z"
   },
   {
    "duration": 296,
    "start_time": "2025-01-31T05:56:47.750Z"
   },
   {
    "duration": 207,
    "start_time": "2025-01-31T05:56:48.048Z"
   },
   {
    "duration": 201,
    "start_time": "2025-01-31T05:56:48.257Z"
   },
   {
    "duration": 3,
    "start_time": "2025-01-31T05:56:48.460Z"
   },
   {
    "duration": 5,
    "start_time": "2025-01-31T05:56:48.465Z"
   },
   {
    "duration": 51,
    "start_time": "2025-01-31T05:56:48.472Z"
   },
   {
    "duration": 3,
    "start_time": "2025-01-31T05:56:48.525Z"
   },
   {
    "duration": 11,
    "start_time": "2025-01-31T05:56:48.530Z"
   },
   {
    "duration": 12,
    "start_time": "2025-01-31T05:56:48.543Z"
   },
   {
    "duration": 276,
    "start_time": "2025-01-31T05:56:48.556Z"
   },
   {
    "duration": 221,
    "start_time": "2025-01-31T05:56:48.834Z"
   },
   {
    "duration": 266,
    "start_time": "2025-01-31T05:56:49.058Z"
   },
   {
    "duration": 201,
    "start_time": "2025-01-31T05:56:49.326Z"
   },
   {
    "duration": 27,
    "start_time": "2025-01-31T05:56:49.528Z"
   },
   {
    "duration": 121,
    "start_time": "2025-01-31T05:56:49.557Z"
   },
   {
    "duration": 0,
    "start_time": "2025-01-31T05:56:49.679Z"
   },
   {
    "duration": 0,
    "start_time": "2025-01-31T05:56:49.681Z"
   },
   {
    "duration": 0,
    "start_time": "2025-01-31T05:56:49.682Z"
   },
   {
    "duration": 0,
    "start_time": "2025-01-31T05:56:49.683Z"
   },
   {
    "duration": 0,
    "start_time": "2025-01-31T05:56:49.684Z"
   },
   {
    "duration": 0,
    "start_time": "2025-01-31T05:56:49.685Z"
   },
   {
    "duration": 0,
    "start_time": "2025-01-31T05:56:49.686Z"
   },
   {
    "duration": 11,
    "start_time": "2025-01-31T05:57:13.447Z"
   },
   {
    "duration": 2073,
    "start_time": "2025-01-31T05:57:19.790Z"
   },
   {
    "duration": 3,
    "start_time": "2025-01-31T05:57:43.755Z"
   },
   {
    "duration": 550,
    "start_time": "2025-01-31T05:57:47.006Z"
   },
   {
    "duration": 26,
    "start_time": "2025-01-31T05:58:08.968Z"
   },
   {
    "duration": 47,
    "start_time": "2025-01-31T06:07:41.362Z"
   },
   {
    "duration": 48,
    "start_time": "2025-01-31T06:07:53.093Z"
   },
   {
    "duration": 1258,
    "start_time": "2025-01-31T06:09:45.292Z"
   },
   {
    "duration": 58,
    "start_time": "2025-01-31T06:09:46.552Z"
   },
   {
    "duration": 25,
    "start_time": "2025-01-31T06:09:46.611Z"
   },
   {
    "duration": 11,
    "start_time": "2025-01-31T06:09:46.638Z"
   },
   {
    "duration": 66,
    "start_time": "2025-01-31T06:09:46.650Z"
   },
   {
    "duration": 32,
    "start_time": "2025-01-31T06:09:46.719Z"
   },
   {
    "duration": 9,
    "start_time": "2025-01-31T06:09:46.753Z"
   },
   {
    "duration": 15,
    "start_time": "2025-01-31T06:09:46.763Z"
   },
   {
    "duration": 2,
    "start_time": "2025-01-31T06:09:46.779Z"
   },
   {
    "duration": 34,
    "start_time": "2025-01-31T06:09:46.784Z"
   },
   {
    "duration": 14,
    "start_time": "2025-01-31T06:09:46.820Z"
   },
   {
    "duration": 7,
    "start_time": "2025-01-31T06:09:46.836Z"
   },
   {
    "duration": 13,
    "start_time": "2025-01-31T06:09:46.845Z"
   },
   {
    "duration": 11,
    "start_time": "2025-01-31T06:09:46.860Z"
   },
   {
    "duration": 212,
    "start_time": "2025-01-31T06:09:46.901Z"
   },
   {
    "duration": 137,
    "start_time": "2025-01-31T06:09:47.115Z"
   },
   {
    "duration": 335,
    "start_time": "2025-01-31T06:09:47.254Z"
   },
   {
    "duration": 253,
    "start_time": "2025-01-31T06:09:47.591Z"
   },
   {
    "duration": 225,
    "start_time": "2025-01-31T06:09:47.846Z"
   },
   {
    "duration": 3,
    "start_time": "2025-01-31T06:09:48.073Z"
   },
   {
    "duration": 14,
    "start_time": "2025-01-31T06:09:48.078Z"
   },
   {
    "duration": 66,
    "start_time": "2025-01-31T06:09:48.093Z"
   },
   {
    "duration": 3,
    "start_time": "2025-01-31T06:09:48.161Z"
   },
   {
    "duration": 94,
    "start_time": "2025-01-31T06:09:48.166Z"
   },
   {
    "duration": 48,
    "start_time": "2025-01-31T06:09:48.261Z"
   },
   {
    "duration": 205,
    "start_time": "2025-01-31T06:09:48.310Z"
   },
   {
    "duration": 222,
    "start_time": "2025-01-31T06:09:48.517Z"
   },
   {
    "duration": 322,
    "start_time": "2025-01-31T06:09:48.743Z"
   },
   {
    "duration": 223,
    "start_time": "2025-01-31T06:09:49.067Z"
   },
   {
    "duration": 46,
    "start_time": "2025-01-31T06:09:49.291Z"
   },
   {
    "duration": 59,
    "start_time": "2025-01-31T06:09:49.338Z"
   },
   {
    "duration": 41,
    "start_time": "2025-01-31T06:09:49.399Z"
   },
   {
    "duration": 55,
    "start_time": "2025-01-31T06:10:14.009Z"
   },
   {
    "duration": 1335,
    "start_time": "2025-01-31T06:10:25.136Z"
   },
   {
    "duration": 67,
    "start_time": "2025-01-31T06:10:26.473Z"
   },
   {
    "duration": 21,
    "start_time": "2025-01-31T06:10:26.543Z"
   },
   {
    "duration": 11,
    "start_time": "2025-01-31T06:10:26.566Z"
   },
   {
    "duration": 12,
    "start_time": "2025-01-31T06:10:26.579Z"
   },
   {
    "duration": 34,
    "start_time": "2025-01-31T06:10:26.592Z"
   },
   {
    "duration": 9,
    "start_time": "2025-01-31T06:10:26.627Z"
   },
   {
    "duration": 72,
    "start_time": "2025-01-31T06:10:26.638Z"
   },
   {
    "duration": 3,
    "start_time": "2025-01-31T06:10:26.713Z"
   },
   {
    "duration": 14,
    "start_time": "2025-01-31T06:10:26.721Z"
   },
   {
    "duration": 14,
    "start_time": "2025-01-31T06:10:26.736Z"
   },
   {
    "duration": 6,
    "start_time": "2025-01-31T06:10:26.751Z"
   },
   {
    "duration": 47,
    "start_time": "2025-01-31T06:10:26.758Z"
   },
   {
    "duration": 18,
    "start_time": "2025-01-31T06:10:26.808Z"
   },
   {
    "duration": 215,
    "start_time": "2025-01-31T06:10:26.828Z"
   },
   {
    "duration": 131,
    "start_time": "2025-01-31T06:10:27.045Z"
   },
   {
    "duration": 350,
    "start_time": "2025-01-31T06:10:27.177Z"
   },
   {
    "duration": 238,
    "start_time": "2025-01-31T06:10:27.528Z"
   },
   {
    "duration": 222,
    "start_time": "2025-01-31T06:10:27.768Z"
   },
   {
    "duration": 10,
    "start_time": "2025-01-31T06:10:27.991Z"
   },
   {
    "duration": 6,
    "start_time": "2025-01-31T06:10:28.004Z"
   },
   {
    "duration": 45,
    "start_time": "2025-01-31T06:10:28.013Z"
   },
   {
    "duration": 3,
    "start_time": "2025-01-31T06:10:28.059Z"
   },
   {
    "duration": 46,
    "start_time": "2025-01-31T06:10:28.063Z"
   },
   {
    "duration": 20,
    "start_time": "2025-01-31T06:10:28.111Z"
   },
   {
    "duration": 249,
    "start_time": "2025-01-31T06:10:28.133Z"
   },
   {
    "duration": 249,
    "start_time": "2025-01-31T06:10:28.383Z"
   },
   {
    "duration": 286,
    "start_time": "2025-01-31T06:10:28.635Z"
   },
   {
    "duration": 206,
    "start_time": "2025-01-31T06:10:28.923Z"
   },
   {
    "duration": 29,
    "start_time": "2025-01-31T06:10:29.130Z"
   },
   {
    "duration": 3,
    "start_time": "2025-01-31T06:10:29.160Z"
   },
   {
    "duration": 78,
    "start_time": "2025-01-31T06:10:29.164Z"
   },
   {
    "duration": 20,
    "start_time": "2025-01-31T06:10:29.243Z"
   },
   {
    "duration": 126,
    "start_time": "2025-01-31T06:10:29.265Z"
   },
   {
    "duration": 22,
    "start_time": "2025-01-31T06:10:29.393Z"
   },
   {
    "duration": 12,
    "start_time": "2025-01-31T06:10:29.418Z"
   },
   {
    "duration": 11,
    "start_time": "2025-01-31T06:10:29.432Z"
   },
   {
    "duration": 399,
    "start_time": "2025-01-31T06:10:29.444Z"
   },
   {
    "duration": 25,
    "start_time": "2025-01-31T06:21:00.814Z"
   },
   {
    "duration": 102,
    "start_time": "2025-01-31T06:21:13.947Z"
   },
   {
    "duration": 1694,
    "start_time": "2025-01-31T06:23:26.466Z"
   },
   {
    "duration": 1705,
    "start_time": "2025-01-31T06:23:37.701Z"
   },
   {
    "duration": 1706,
    "start_time": "2025-01-31T06:24:00.070Z"
   },
   {
    "duration": 22,
    "start_time": "2025-01-31T06:24:12.001Z"
   },
   {
    "duration": 9,
    "start_time": "2025-01-31T06:27:08.641Z"
   },
   {
    "duration": 109,
    "start_time": "2025-01-31T06:29:49.589Z"
   },
   {
    "duration": 19,
    "start_time": "2025-01-31T06:30:44.393Z"
   },
   {
    "duration": 9,
    "start_time": "2025-01-31T06:30:54.862Z"
   },
   {
    "duration": 9,
    "start_time": "2025-01-31T06:31:03.477Z"
   },
   {
    "duration": 23,
    "start_time": "2025-01-31T06:34:47.276Z"
   },
   {
    "duration": 103,
    "start_time": "2025-01-31T06:34:50.638Z"
   },
   {
    "duration": 1814,
    "start_time": "2025-01-31T06:39:35.131Z"
   },
   {
    "duration": 5,
    "start_time": "2025-01-31T06:39:54.816Z"
   },
   {
    "duration": 9,
    "start_time": "2025-01-31T06:57:58.080Z"
   },
   {
    "duration": 1751,
    "start_time": "2025-01-31T10:15:33.810Z"
   },
   {
    "duration": 59,
    "start_time": "2025-01-31T10:15:35.563Z"
   },
   {
    "duration": 22,
    "start_time": "2025-01-31T10:15:35.623Z"
   },
   {
    "duration": 12,
    "start_time": "2025-01-31T10:15:35.646Z"
   },
   {
    "duration": 33,
    "start_time": "2025-01-31T10:15:35.661Z"
   },
   {
    "duration": 48,
    "start_time": "2025-01-31T10:15:35.696Z"
   },
   {
    "duration": 14,
    "start_time": "2025-01-31T10:15:35.746Z"
   },
   {
    "duration": 29,
    "start_time": "2025-01-31T10:15:35.762Z"
   },
   {
    "duration": 6,
    "start_time": "2025-01-31T10:15:35.793Z"
   },
   {
    "duration": 20,
    "start_time": "2025-01-31T10:15:35.800Z"
   },
   {
    "duration": 23,
    "start_time": "2025-01-31T10:15:35.821Z"
   },
   {
    "duration": 7,
    "start_time": "2025-01-31T10:15:35.846Z"
   },
   {
    "duration": 28,
    "start_time": "2025-01-31T10:15:35.855Z"
   },
   {
    "duration": 12,
    "start_time": "2025-01-31T10:15:35.886Z"
   },
   {
    "duration": 206,
    "start_time": "2025-01-31T10:15:35.900Z"
   },
   {
    "duration": 126,
    "start_time": "2025-01-31T10:15:36.108Z"
   },
   {
    "duration": 313,
    "start_time": "2025-01-31T10:15:36.236Z"
   },
   {
    "duration": 227,
    "start_time": "2025-01-31T10:15:36.550Z"
   },
   {
    "duration": 215,
    "start_time": "2025-01-31T10:15:36.779Z"
   },
   {
    "duration": 4,
    "start_time": "2025-01-31T10:15:36.995Z"
   },
   {
    "duration": 12,
    "start_time": "2025-01-31T10:15:37.001Z"
   },
   {
    "duration": 56,
    "start_time": "2025-01-31T10:15:37.014Z"
   },
   {
    "duration": 3,
    "start_time": "2025-01-31T10:15:37.072Z"
   },
   {
    "duration": 13,
    "start_time": "2025-01-31T10:15:37.077Z"
   },
   {
    "duration": 43,
    "start_time": "2025-01-31T10:15:37.091Z"
   },
   {
    "duration": 232,
    "start_time": "2025-01-31T10:15:37.135Z"
   },
   {
    "duration": 270,
    "start_time": "2025-01-31T10:15:37.368Z"
   },
   {
    "duration": 319,
    "start_time": "2025-01-31T10:15:37.640Z"
   },
   {
    "duration": 221,
    "start_time": "2025-01-31T10:15:37.961Z"
   },
   {
    "duration": 29,
    "start_time": "2025-01-31T10:15:38.183Z"
   },
   {
    "duration": 20,
    "start_time": "2025-01-31T10:15:38.214Z"
   },
   {
    "duration": 42,
    "start_time": "2025-01-31T10:15:38.236Z"
   },
   {
    "duration": 24,
    "start_time": "2025-01-31T10:15:38.279Z"
   },
   {
    "duration": 31,
    "start_time": "2025-01-31T10:15:38.304Z"
   },
   {
    "duration": 22,
    "start_time": "2025-01-31T10:15:38.337Z"
   },
   {
    "duration": 8,
    "start_time": "2025-01-31T10:15:38.361Z"
   },
   {
    "duration": 10,
    "start_time": "2025-01-31T10:15:38.371Z"
   },
   {
    "duration": 345,
    "start_time": "2025-01-31T10:15:38.383Z"
   }
  ],
  "kernelspec": {
   "display_name": "Python 3 (ipykernel)",
   "language": "python",
   "name": "python3"
  },
  "language_info": {
   "codemirror_mode": {
    "name": "ipython",
    "version": 3
   },
   "file_extension": ".py",
   "mimetype": "text/x-python",
   "name": "python",
   "nbconvert_exporter": "python",
   "pygments_lexer": "ipython3",
   "version": "3.9.5"
  },
  "toc": {
   "base_numbering": 1,
   "nav_menu": {},
   "number_sections": true,
   "sideBar": true,
   "skip_h1_title": true,
   "title_cell": "Table of Contents",
   "title_sidebar": "Contents",
   "toc_cell": false,
   "toc_position": {},
   "toc_section_display": true,
   "toc_window_display": false
  }
 },
 "nbformat": 4,
 "nbformat_minor": 5
}
