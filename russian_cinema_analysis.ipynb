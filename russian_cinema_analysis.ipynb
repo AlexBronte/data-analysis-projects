{
 "cells": [
  {
   "cell_type": "markdown",
   "metadata": {
    "id": "sIfNaMOxgFyK"
   },
   "source": [
    "## Исследование данных о российском кинопрокате\n",
    "\n"
   ]
  },
  {
   "cell_type": "markdown",
   "metadata": {},
   "source": [
    "Вам нужно изучить рынок российского кинопроката и выявить текущие тренды. Уделите внимание фильмам, которые получили государственную поддержку. Попробуйте ответить на вопрос, насколько такие фильмы интересны зрителю. \n",
    "\n",
    "Вы будете работать с данными, опубликованными на портале открытых данных Министерства культуры. Набор данных содержит информацию о прокатных удостоверениях, сборах и государственной поддержке фильмов, а также информацию с сайта КиноПоиск. \n",
    "\n",
    "**Цель иссиледования:**\n",
    "\n",
    "\n",
    "1.Изучить рынок российского кинопроката и выявить текущие тренды.\n",
    "\n",
    "\n",
    "2.Изучить фильмы ,получившие гос. поддержку, и понять насколько такие фильмы интересны зрителю.\n",
    "\n",
    "\n",
    "3.Узнать какие факторы влияют на появление новых трендов.\n",
    "\n",
    "**Ход исследования**\n",
    "Данные для исследования я получу из 2 файлов \"/datasets/mkrf_movies.csv\" и \"/datasets/mkrf_shows.csv\". Для начала нужно объединить их в 1 датасет.О качестве данных ничего неизвесто , поэтому перед исследованием необходимо проверить данные.\n",
    "\n",
    "*Проверка данных пройдет в несколько этаппов:*\n",
    "\n",
    "1.Я проверю данные на наличие ошибок и оценю их влияние на исследование.\n",
    "\n",
    "2.На этапе пердобработки данных ,я найду возможность исправить все ошибки данных , которые не приведут к искажению исследования.\n",
    "\n",
    "3.Создам необходимые столбцы и приступлю к исследовательскому анализу."
   ]
  },
  {
   "cell_type": "markdown",
   "metadata": {},
   "source": [
    "<div class=\"alert alert-block alert-success\">\n",
    " \n",
    "### Комментарий ревьюера\n",
    "    \n",
    "#### Успех\n",
    "\n",
    "Спасибо большое за оформление оглавления к проекту. Так он выглядит более опрятно. "
   ]
  },
  {
   "cell_type": "markdown",
   "metadata": {
    "id": "3bSlkCsbgFyL"
   },
   "source": [
    "### Шаг 1. Откройте файлы с данными и объедините их в один датафрейм. \n",
    "\n",
    "Объедините данные таким образом, чтобы все объекты из датасета `mkrf_movies` обязательно вошли в получившийся датафрейм. \n",
    "\n",
    "<div id=\"accordion\">\n",
    "    <div class=\"card\">\n",
    "        <div class=\"card-header\" id=\"headingThree\">\n",
    "            <button class=\"btn btn-link collapsed\" data-toggle=\"collapse\" data-target=\"#collapseHint_0\" aria-expanded=\"false\" aria-controls=\"collapseHint_0\">Подсказка</button>\n",
    "        </div>\n",
    "        <div id=\"collapseHint_0\" class=\"collapse\" aria-labelledby=\"headingThree\" data-parent=\"#accordion\">\n",
    "            <div class=\"card-body\">\n",
    "Обратите внимание на тип данных столбца, по которому будете соединять датафреймы. Тип данных этих столбцов должен быть одинаковым в обоих датафреймах.\n",
    "            </div>\n",
    "        </div>\n",
    "    </div>\n",
    "</div>"
   ]
  },
  {
   "cell_type": "code",
   "execution_count": 6,
   "metadata": {
    "id": "dw87FlzMgFyM"
   },
   "outputs": [],
   "source": [
    "import pandas as pd\n",
    "import matplotlib.pyplot as plt\n",
    "import seaborn as sns"
   ]
  },
  {
   "cell_type": "code",
   "execution_count": 7,
   "metadata": {},
   "outputs": [],
   "source": [
    "df1=pd.read_csv('C:/Users/boyah/.jupyter/mkrf_movies.csv')\n",
    "df2=pd.read_csv('C:/Users/boyah/.jupyter/mkrf_shows.csv')"
   ]
  },
  {
   "cell_type": "code",
   "execution_count": 8,
   "metadata": {},
   "outputs": [
    {
     "name": "stdout",
     "output_type": "stream",
     "text": [
      "<class 'pandas.core.frame.DataFrame'>\n",
      "RangeIndex: 7486 entries, 0 to 7485\n",
      "Data columns (total 15 columns):\n",
      " #   Column                 Non-Null Count  Dtype  \n",
      "---  ------                 --------------  -----  \n",
      " 0   title                  7486 non-null   object \n",
      " 1   puNumber               7486 non-null   object \n",
      " 2   show_start_date        7486 non-null   object \n",
      " 3   type                   7486 non-null   object \n",
      " 4   film_studio            7468 non-null   object \n",
      " 5   production_country     7484 non-null   object \n",
      " 6   director               7477 non-null   object \n",
      " 7   producer               6918 non-null   object \n",
      " 8   age_restriction        7486 non-null   object \n",
      " 9   refundable_support     332 non-null    float64\n",
      " 10  nonrefundable_support  332 non-null    float64\n",
      " 11  budget                 332 non-null    float64\n",
      " 12  financing_source       332 non-null    object \n",
      " 13  ratings                6519 non-null   object \n",
      " 14  genres                 6510 non-null   object \n",
      "dtypes: float64(3), object(12)\n",
      "memory usage: 877.4+ KB\n"
     ]
    }
   ],
   "source": [
    "df1.info()"
   ]
  },
  {
   "cell_type": "code",
   "execution_count": 9,
   "metadata": {},
   "outputs": [
    {
     "name": "stdout",
     "output_type": "stream",
     "text": [
      "<class 'pandas.core.frame.DataFrame'>\n",
      "RangeIndex: 3158 entries, 0 to 3157\n",
      "Data columns (total 2 columns):\n",
      " #   Column      Non-Null Count  Dtype  \n",
      "---  ------      --------------  -----  \n",
      " 0   puNumber    3158 non-null   int64  \n",
      " 1   box_office  3158 non-null   float64\n",
      "dtypes: float64(1), int64(1)\n",
      "memory usage: 49.5 KB\n"
     ]
    }
   ],
   "source": [
    "df2.info()"
   ]
  },
  {
   "cell_type": "markdown",
   "metadata": {},
   "source": [
    "*Заменим тип данных в столбце \"puNumber\" ,так мы сможем объединить две таблицы в одну*"
   ]
  },
  {
   "cell_type": "code",
   "execution_count": 10,
   "metadata": {},
   "outputs": [],
   "source": [
    "df2['puNumber']=df2['puNumber'].astype('str')"
   ]
  },
  {
   "cell_type": "code",
   "execution_count": 11,
   "metadata": {
    "scrolled": true
   },
   "outputs": [
    {
     "data": {
      "text/html": [
       "<div>\n",
       "<style scoped>\n",
       "    .dataframe tbody tr th:only-of-type {\n",
       "        vertical-align: middle;\n",
       "    }\n",
       "\n",
       "    .dataframe tbody tr th {\n",
       "        vertical-align: top;\n",
       "    }\n",
       "\n",
       "    .dataframe thead th {\n",
       "        text-align: right;\n",
       "    }\n",
       "</style>\n",
       "<table border=\"1\" class=\"dataframe\">\n",
       "  <thead>\n",
       "    <tr style=\"text-align: right;\">\n",
       "      <th></th>\n",
       "      <th>title</th>\n",
       "      <th>puNumber</th>\n",
       "      <th>show_start_date</th>\n",
       "      <th>type</th>\n",
       "      <th>film_studio</th>\n",
       "      <th>production_country</th>\n",
       "      <th>director</th>\n",
       "      <th>producer</th>\n",
       "      <th>age_restriction</th>\n",
       "      <th>refundable_support</th>\n",
       "      <th>nonrefundable_support</th>\n",
       "      <th>budget</th>\n",
       "      <th>financing_source</th>\n",
       "      <th>ratings</th>\n",
       "      <th>genres</th>\n",
       "      <th>box_office</th>\n",
       "    </tr>\n",
       "  </thead>\n",
       "  <tbody>\n",
       "    <tr>\n",
       "      <th>0</th>\n",
       "      <td>Открытый простор</td>\n",
       "      <td>221048915</td>\n",
       "      <td>2015-11-27T12:00:00.000Z</td>\n",
       "      <td>Художественный</td>\n",
       "      <td>Тачстоун Пикчерз, Кобальт Пикчерз, Бикон Пикче...</td>\n",
       "      <td>США</td>\n",
       "      <td>Кевин Костнер</td>\n",
       "      <td>Дэвид Валдес, Кевин Костнер, Джейк Эбертс</td>\n",
       "      <td>«18+» - запрещено для детей</td>\n",
       "      <td>NaN</td>\n",
       "      <td>NaN</td>\n",
       "      <td>NaN</td>\n",
       "      <td>NaN</td>\n",
       "      <td>7.2</td>\n",
       "      <td>боевик,драма,мелодрама</td>\n",
       "      <td>NaN</td>\n",
       "    </tr>\n",
       "    <tr>\n",
       "      <th>1</th>\n",
       "      <td>Особо важное задание</td>\n",
       "      <td>111013716</td>\n",
       "      <td>2016-09-13T12:00:00.000Z</td>\n",
       "      <td>Художественный</td>\n",
       "      <td>Киностудия \"Мосфильм\"</td>\n",
       "      <td>СССР</td>\n",
       "      <td>Е.Матвеев</td>\n",
       "      <td>NaN</td>\n",
       "      <td>«6+» - для детей старше 6 лет</td>\n",
       "      <td>NaN</td>\n",
       "      <td>NaN</td>\n",
       "      <td>NaN</td>\n",
       "      <td>NaN</td>\n",
       "      <td>6.6</td>\n",
       "      <td>драма,военный</td>\n",
       "      <td>NaN</td>\n",
       "    </tr>\n",
       "    <tr>\n",
       "      <th>2</th>\n",
       "      <td>Особо опасен</td>\n",
       "      <td>221038416</td>\n",
       "      <td>2016-10-10T12:00:00.000Z</td>\n",
       "      <td>Художественный</td>\n",
       "      <td>Юниверсал Пикчерз, Кикстарт Продакшнз, Марк Пл...</td>\n",
       "      <td>США</td>\n",
       "      <td>Тимур Бекмамбетов</td>\n",
       "      <td>Джим Лемли, Джейсон Нетер, Марк Е.Платт, Яйн Смит</td>\n",
       "      <td>«18+» - запрещено для детей</td>\n",
       "      <td>NaN</td>\n",
       "      <td>NaN</td>\n",
       "      <td>NaN</td>\n",
       "      <td>NaN</td>\n",
       "      <td>6.8</td>\n",
       "      <td>фантастика,боевик,триллер</td>\n",
       "      <td>NaN</td>\n",
       "    </tr>\n",
       "    <tr>\n",
       "      <th>3</th>\n",
       "      <td>Особо опасен</td>\n",
       "      <td>221026916</td>\n",
       "      <td>2016-06-10T12:00:00.000Z</td>\n",
       "      <td>Художественный</td>\n",
       "      <td>Юниверсал Пикчерз, Кикстарт Продакшнз, Марк Пл...</td>\n",
       "      <td>США</td>\n",
       "      <td>Тимур Бекмамбетов</td>\n",
       "      <td>Джим Лемли, Джейсон Нетер, Марк Е.Платт, Яйн Смит</td>\n",
       "      <td>«18+» - запрещено для детей</td>\n",
       "      <td>NaN</td>\n",
       "      <td>NaN</td>\n",
       "      <td>NaN</td>\n",
       "      <td>NaN</td>\n",
       "      <td>6.8</td>\n",
       "      <td>фантастика,боевик,триллер</td>\n",
       "      <td>NaN</td>\n",
       "    </tr>\n",
       "    <tr>\n",
       "      <th>4</th>\n",
       "      <td>Особо опасен</td>\n",
       "      <td>221030815</td>\n",
       "      <td>2015-07-29T12:00:00.000Z</td>\n",
       "      <td>Художественный</td>\n",
       "      <td>Юниверсал Пикчерз, Кикстарт Продакшнз, Марк Пл...</td>\n",
       "      <td>США</td>\n",
       "      <td>Тимур Бекмамбетов</td>\n",
       "      <td>Джим Лемли, Джейсон Нетер, Марк Е.Платт, Яйн Смит</td>\n",
       "      <td>«18+» - запрещено для детей</td>\n",
       "      <td>NaN</td>\n",
       "      <td>NaN</td>\n",
       "      <td>NaN</td>\n",
       "      <td>NaN</td>\n",
       "      <td>6.8</td>\n",
       "      <td>фантастика,боевик,триллер</td>\n",
       "      <td>NaN</td>\n",
       "    </tr>\n",
       "    <tr>\n",
       "      <th>...</th>\n",
       "      <td>...</td>\n",
       "      <td>...</td>\n",
       "      <td>...</td>\n",
       "      <td>...</td>\n",
       "      <td>...</td>\n",
       "      <td>...</td>\n",
       "      <td>...</td>\n",
       "      <td>...</td>\n",
       "      <td>...</td>\n",
       "      <td>...</td>\n",
       "      <td>...</td>\n",
       "      <td>...</td>\n",
       "      <td>...</td>\n",
       "      <td>...</td>\n",
       "      <td>...</td>\n",
       "      <td>...</td>\n",
       "    </tr>\n",
       "    <tr>\n",
       "      <th>7481</th>\n",
       "      <td>Сад художника: Американский импрессионизм</td>\n",
       "      <td>126008019</td>\n",
       "      <td>2019-12-23T12:00:00.000Z</td>\n",
       "      <td>Прочие</td>\n",
       "      <td>Севен Артс Продакшнз</td>\n",
       "      <td>Великобритания</td>\n",
       "      <td>Фил Грабски</td>\n",
       "      <td>Фил Грабски</td>\n",
       "      <td>«12+» - для детей старше 12 лет</td>\n",
       "      <td>NaN</td>\n",
       "      <td>NaN</td>\n",
       "      <td>NaN</td>\n",
       "      <td>NaN</td>\n",
       "      <td>NaN</td>\n",
       "      <td>NaN</td>\n",
       "      <td>NaN</td>\n",
       "    </tr>\n",
       "    <tr>\n",
       "      <th>7482</th>\n",
       "      <td>Звериная ярость</td>\n",
       "      <td>121037819</td>\n",
       "      <td>2019-12-24T12:00:00.000Z</td>\n",
       "      <td>Художественный</td>\n",
       "      <td>Дэниел Гродник Продакшнз, Вандерфилм Медиа Кор...</td>\n",
       "      <td>США</td>\n",
       "      <td>Ник Пауэлл</td>\n",
       "      <td>Джефф Боулер, Дэниэл Гродник, Луильо Руис, Брэ...</td>\n",
       "      <td>«16+» - для детей старше 16 лет</td>\n",
       "      <td>NaN</td>\n",
       "      <td>NaN</td>\n",
       "      <td>NaN</td>\n",
       "      <td>NaN</td>\n",
       "      <td>5.4</td>\n",
       "      <td>боевик,триллер</td>\n",
       "      <td>NaN</td>\n",
       "    </tr>\n",
       "    <tr>\n",
       "      <th>7483</th>\n",
       "      <td>Щенячий патруль: Скорей спешим на помощь!</td>\n",
       "      <td>124010819</td>\n",
       "      <td>2019-12-28T12:00:00.000Z</td>\n",
       "      <td>Художественный</td>\n",
       "      <td>Никелодеон Анимейшн Студиос, Спин Мастер</td>\n",
       "      <td>США - Канада</td>\n",
       "      <td>Чарльз Е.Бастьен</td>\n",
       "      <td>Дженнифер Додж</td>\n",
       "      <td>«0+» - для любой зрительской аудитории</td>\n",
       "      <td>NaN</td>\n",
       "      <td>NaN</td>\n",
       "      <td>NaN</td>\n",
       "      <td>NaN</td>\n",
       "      <td>NaN</td>\n",
       "      <td>NaN</td>\n",
       "      <td>NaN</td>\n",
       "    </tr>\n",
       "    <tr>\n",
       "      <th>7484</th>\n",
       "      <td>Машины песенки. Серия \"Испанские мотивы\"</td>\n",
       "      <td>124010619</td>\n",
       "      <td>2019-12-30T12:00:00.000Z</td>\n",
       "      <td>Анимационный</td>\n",
       "      <td>Анимаккорд Лтд., ООО Студия \"АНИМАККОРД\"</td>\n",
       "      <td>Республика Кипр, Россия</td>\n",
       "      <td>А.Беляев</td>\n",
       "      <td>Д.Ловейко</td>\n",
       "      <td>«0+» - для любой зрительской аудитории</td>\n",
       "      <td>NaN</td>\n",
       "      <td>NaN</td>\n",
       "      <td>NaN</td>\n",
       "      <td>NaN</td>\n",
       "      <td>NaN</td>\n",
       "      <td>NaN</td>\n",
       "      <td>NaN</td>\n",
       "    </tr>\n",
       "    <tr>\n",
       "      <th>7485</th>\n",
       "      <td>Машины песенки. Серия \"Когда цветут кактусы\"</td>\n",
       "      <td>124010719</td>\n",
       "      <td>2019-12-30T12:00:00.000Z</td>\n",
       "      <td>Анимационный</td>\n",
       "      <td>Анимаккорд Лтд., ООО Студия \"АНИМАККОРД\"</td>\n",
       "      <td>Республика Кипр, Россия</td>\n",
       "      <td>И.Трусов</td>\n",
       "      <td>Д.Ловейко</td>\n",
       "      <td>«0+» - для любой зрительской аудитории</td>\n",
       "      <td>NaN</td>\n",
       "      <td>NaN</td>\n",
       "      <td>NaN</td>\n",
       "      <td>NaN</td>\n",
       "      <td>6.3</td>\n",
       "      <td>комедия,вестерн</td>\n",
       "      <td>NaN</td>\n",
       "    </tr>\n",
       "  </tbody>\n",
       "</table>\n",
       "<p>7486 rows × 16 columns</p>\n",
       "</div>"
      ],
      "text/plain": [
       "                                             title   puNumber  \\\n",
       "0                                 Открытый простор  221048915   \n",
       "1                             Особо важное задание  111013716   \n",
       "2                                     Особо опасен  221038416   \n",
       "3                                     Особо опасен  221026916   \n",
       "4                                     Особо опасен  221030815   \n",
       "...                                            ...        ...   \n",
       "7481     Сад художника: Американский импрессионизм  126008019   \n",
       "7482                               Звериная ярость  121037819   \n",
       "7483     Щенячий патруль: Скорей спешим на помощь!  124010819   \n",
       "7484      Машины песенки. Серия \"Испанские мотивы\"  124010619   \n",
       "7485  Машины песенки. Серия \"Когда цветут кактусы\"  124010719   \n",
       "\n",
       "               show_start_date             type  \\\n",
       "0     2015-11-27T12:00:00.000Z   Художественный   \n",
       "1     2016-09-13T12:00:00.000Z   Художественный   \n",
       "2     2016-10-10T12:00:00.000Z   Художественный   \n",
       "3     2016-06-10T12:00:00.000Z   Художественный   \n",
       "4     2015-07-29T12:00:00.000Z   Художественный   \n",
       "...                        ...              ...   \n",
       "7481  2019-12-23T12:00:00.000Z           Прочие   \n",
       "7482  2019-12-24T12:00:00.000Z   Художественный   \n",
       "7483  2019-12-28T12:00:00.000Z   Художественный   \n",
       "7484  2019-12-30T12:00:00.000Z     Анимационный   \n",
       "7485  2019-12-30T12:00:00.000Z     Анимационный   \n",
       "\n",
       "                                            film_studio  \\\n",
       "0     Тачстоун Пикчерз, Кобальт Пикчерз, Бикон Пикче...   \n",
       "1                                 Киностудия \"Мосфильм\"   \n",
       "2     Юниверсал Пикчерз, Кикстарт Продакшнз, Марк Пл...   \n",
       "3     Юниверсал Пикчерз, Кикстарт Продакшнз, Марк Пл...   \n",
       "4     Юниверсал Пикчерз, Кикстарт Продакшнз, Марк Пл...   \n",
       "...                                                 ...   \n",
       "7481                               Севен Артс Продакшнз   \n",
       "7482  Дэниел Гродник Продакшнз, Вандерфилм Медиа Кор...   \n",
       "7483           Никелодеон Анимейшн Студиос, Спин Мастер   \n",
       "7484           Анимаккорд Лтд., ООО Студия \"АНИМАККОРД\"   \n",
       "7485           Анимаккорд Лтд., ООО Студия \"АНИМАККОРД\"   \n",
       "\n",
       "           production_country           director  \\\n",
       "0                         США      Кевин Костнер   \n",
       "1                        СССР          Е.Матвеев   \n",
       "2                         США  Тимур Бекмамбетов   \n",
       "3                         США  Тимур Бекмамбетов   \n",
       "4                         США  Тимур Бекмамбетов   \n",
       "...                       ...                ...   \n",
       "7481           Великобритания        Фил Грабски   \n",
       "7482                      США         Ник Пауэлл   \n",
       "7483             США - Канада   Чарльз Е.Бастьен   \n",
       "7484  Республика Кипр, Россия           А.Беляев   \n",
       "7485  Республика Кипр, Россия           И.Трусов   \n",
       "\n",
       "                                               producer  \\\n",
       "0             Дэвид Валдес, Кевин Костнер, Джейк Эбертс   \n",
       "1                                                   NaN   \n",
       "2     Джим Лемли, Джейсон Нетер, Марк Е.Платт, Яйн Смит   \n",
       "3     Джим Лемли, Джейсон Нетер, Марк Е.Платт, Яйн Смит   \n",
       "4     Джим Лемли, Джейсон Нетер, Марк Е.Платт, Яйн Смит   \n",
       "...                                                 ...   \n",
       "7481                                        Фил Грабски   \n",
       "7482  Джефф Боулер, Дэниэл Гродник, Луильо Руис, Брэ...   \n",
       "7483                                     Дженнифер Додж   \n",
       "7484                                          Д.Ловейко   \n",
       "7485                                          Д.Ловейко   \n",
       "\n",
       "                             age_restriction  refundable_support  \\\n",
       "0                «18+» - запрещено для детей                 NaN   \n",
       "1              «6+» - для детей старше 6 лет                 NaN   \n",
       "2                «18+» - запрещено для детей                 NaN   \n",
       "3                «18+» - запрещено для детей                 NaN   \n",
       "4                «18+» - запрещено для детей                 NaN   \n",
       "...                                      ...                 ...   \n",
       "7481         «12+» - для детей старше 12 лет                 NaN   \n",
       "7482         «16+» - для детей старше 16 лет                 NaN   \n",
       "7483  «0+» - для любой зрительской аудитории                 NaN   \n",
       "7484  «0+» - для любой зрительской аудитории                 NaN   \n",
       "7485  «0+» - для любой зрительской аудитории                 NaN   \n",
       "\n",
       "      nonrefundable_support  budget financing_source ratings  \\\n",
       "0                       NaN     NaN              NaN     7.2   \n",
       "1                       NaN     NaN              NaN     6.6   \n",
       "2                       NaN     NaN              NaN     6.8   \n",
       "3                       NaN     NaN              NaN     6.8   \n",
       "4                       NaN     NaN              NaN     6.8   \n",
       "...                     ...     ...              ...     ...   \n",
       "7481                    NaN     NaN              NaN     NaN   \n",
       "7482                    NaN     NaN              NaN     5.4   \n",
       "7483                    NaN     NaN              NaN     NaN   \n",
       "7484                    NaN     NaN              NaN     NaN   \n",
       "7485                    NaN     NaN              NaN     6.3   \n",
       "\n",
       "                         genres  box_office  \n",
       "0        боевик,драма,мелодрама         NaN  \n",
       "1                 драма,военный         NaN  \n",
       "2     фантастика,боевик,триллер         NaN  \n",
       "3     фантастика,боевик,триллер         NaN  \n",
       "4     фантастика,боевик,триллер         NaN  \n",
       "...                         ...         ...  \n",
       "7481                        NaN         NaN  \n",
       "7482             боевик,триллер         NaN  \n",
       "7483                        NaN         NaN  \n",
       "7484                        NaN         NaN  \n",
       "7485            комедия,вестерн         NaN  \n",
       "\n",
       "[7486 rows x 16 columns]"
      ]
     },
     "execution_count": 11,
     "metadata": {},
     "output_type": "execute_result"
    }
   ],
   "source": [
    "df=pd.merge(df1,df2, on='puNumber',how='left')\n",
    "df"
   ]
  },
  {
   "cell_type": "markdown",
   "metadata": {
    "id": "KLDGpPG0gFyM"
   },
   "source": [
    "### Шаг 2. Предобработка данных"
   ]
  },
  {
   "cell_type": "markdown",
   "metadata": {
    "id": "ssWwKXsxgFyO"
   },
   "source": [
    "#### Шаг 2.1. Проверьте типы данных\n",
    "\n",
    "- Проверьте типы данных в датафрейме и преобразуйте их там, где это необходимо."
   ]
  },
  {
   "cell_type": "code",
   "execution_count": 12,
   "metadata": {
    "id": "kVGSplJOgFyO"
   },
   "outputs": [
    {
     "name": "stdout",
     "output_type": "stream",
     "text": [
      "<class 'pandas.core.frame.DataFrame'>\n",
      "RangeIndex: 7486 entries, 0 to 7485\n",
      "Data columns (total 16 columns):\n",
      " #   Column                 Non-Null Count  Dtype  \n",
      "---  ------                 --------------  -----  \n",
      " 0   title                  7486 non-null   object \n",
      " 1   puNumber               7486 non-null   object \n",
      " 2   show_start_date        7486 non-null   object \n",
      " 3   type                   7486 non-null   object \n",
      " 4   film_studio            7468 non-null   object \n",
      " 5   production_country     7484 non-null   object \n",
      " 6   director               7477 non-null   object \n",
      " 7   producer               6918 non-null   object \n",
      " 8   age_restriction        7486 non-null   object \n",
      " 9   refundable_support     332 non-null    float64\n",
      " 10  nonrefundable_support  332 non-null    float64\n",
      " 11  budget                 332 non-null    float64\n",
      " 12  financing_source       332 non-null    object \n",
      " 13  ratings                6519 non-null   object \n",
      " 14  genres                 6510 non-null   object \n",
      " 15  box_office             3158 non-null   float64\n",
      "dtypes: float64(4), object(12)\n",
      "memory usage: 935.9+ KB\n"
     ]
    }
   ],
   "source": [
    "df.info()"
   ]
  },
  {
   "cell_type": "code",
   "execution_count": 13,
   "metadata": {},
   "outputs": [
    {
     "data": {
      "text/html": [
       "<div>\n",
       "<style scoped>\n",
       "    .dataframe tbody tr th:only-of-type {\n",
       "        vertical-align: middle;\n",
       "    }\n",
       "\n",
       "    .dataframe tbody tr th {\n",
       "        vertical-align: top;\n",
       "    }\n",
       "\n",
       "    .dataframe thead th {\n",
       "        text-align: right;\n",
       "    }\n",
       "</style>\n",
       "<table border=\"1\" class=\"dataframe\">\n",
       "  <thead>\n",
       "    <tr style=\"text-align: right;\">\n",
       "      <th></th>\n",
       "      <th>refundable_support</th>\n",
       "      <th>nonrefundable_support</th>\n",
       "      <th>budget</th>\n",
       "      <th>box_office</th>\n",
       "    </tr>\n",
       "  </thead>\n",
       "  <tbody>\n",
       "    <tr>\n",
       "      <th>count</th>\n",
       "      <td>3.320000e+02</td>\n",
       "      <td>3.320000e+02</td>\n",
       "      <td>3.320000e+02</td>\n",
       "      <td>3.158000e+03</td>\n",
       "    </tr>\n",
       "    <tr>\n",
       "      <th>mean</th>\n",
       "      <td>1.186446e+07</td>\n",
       "      <td>4.898099e+07</td>\n",
       "      <td>1.272297e+08</td>\n",
       "      <td>7.647870e+07</td>\n",
       "    </tr>\n",
       "    <tr>\n",
       "      <th>std</th>\n",
       "      <td>2.491656e+07</td>\n",
       "      <td>5.998012e+07</td>\n",
       "      <td>1.885883e+08</td>\n",
       "      <td>2.403531e+08</td>\n",
       "    </tr>\n",
       "    <tr>\n",
       "      <th>min</th>\n",
       "      <td>0.000000e+00</td>\n",
       "      <td>0.000000e+00</td>\n",
       "      <td>0.000000e+00</td>\n",
       "      <td>0.000000e+00</td>\n",
       "    </tr>\n",
       "    <tr>\n",
       "      <th>25%</th>\n",
       "      <td>0.000000e+00</td>\n",
       "      <td>2.500000e+07</td>\n",
       "      <td>4.200000e+07</td>\n",
       "      <td>8.623900e+04</td>\n",
       "    </tr>\n",
       "    <tr>\n",
       "      <th>50%</th>\n",
       "      <td>0.000000e+00</td>\n",
       "      <td>3.000000e+07</td>\n",
       "      <td>6.864992e+07</td>\n",
       "      <td>2.327988e+06</td>\n",
       "    </tr>\n",
       "    <tr>\n",
       "      <th>75%</th>\n",
       "      <td>1.500000e+07</td>\n",
       "      <td>4.037500e+07</td>\n",
       "      <td>1.419853e+08</td>\n",
       "      <td>2.397967e+07</td>\n",
       "    </tr>\n",
       "    <tr>\n",
       "      <th>max</th>\n",
       "      <td>1.800000e+08</td>\n",
       "      <td>4.000000e+08</td>\n",
       "      <td>2.305074e+09</td>\n",
       "      <td>3.073569e+09</td>\n",
       "    </tr>\n",
       "  </tbody>\n",
       "</table>\n",
       "</div>"
      ],
      "text/plain": [
       "       refundable_support  nonrefundable_support        budget    box_office\n",
       "count        3.320000e+02           3.320000e+02  3.320000e+02  3.158000e+03\n",
       "mean         1.186446e+07           4.898099e+07  1.272297e+08  7.647870e+07\n",
       "std          2.491656e+07           5.998012e+07  1.885883e+08  2.403531e+08\n",
       "min          0.000000e+00           0.000000e+00  0.000000e+00  0.000000e+00\n",
       "25%          0.000000e+00           2.500000e+07  4.200000e+07  8.623900e+04\n",
       "50%          0.000000e+00           3.000000e+07  6.864992e+07  2.327988e+06\n",
       "75%          1.500000e+07           4.037500e+07  1.419853e+08  2.397967e+07\n",
       "max          1.800000e+08           4.000000e+08  2.305074e+09  3.073569e+09"
      ]
     },
     "execution_count": 13,
     "metadata": {},
     "output_type": "execute_result"
    }
   ],
   "source": [
    "df.describe()"
   ]
  },
  {
   "cell_type": "markdown",
   "metadata": {},
   "source": [
    "*В одной строке отсутствует номер прокатного удостоверения , это мешает нам преобразовать тип данных в данном столбце, заменим значение ячейки на 0*"
   ]
  },
  {
   "cell_type": "code",
   "execution_count": 14,
   "metadata": {},
   "outputs": [],
   "source": [
    "df['puNumber']=df['puNumber'].replace(to_replace='нет', value='0')"
   ]
  },
  {
   "cell_type": "code",
   "execution_count": 15,
   "metadata": {},
   "outputs": [],
   "source": [
    "df['puNumber']=df['puNumber'].astype('int32')"
   ]
  },
  {
   "cell_type": "markdown",
   "metadata": {},
   "source": [
    "<div class=\"alert alert-info\"> <b>Комментарий студента:</b> Сделано. </div>"
   ]
  },
  {
   "cell_type": "markdown",
   "metadata": {},
   "source": [
    "*Преобразуем тип данных в столбце с датой в datatime*"
   ]
  },
  {
   "cell_type": "code",
   "execution_count": 16,
   "metadata": {},
   "outputs": [],
   "source": [
    "df['show_start_date']=pd.to_datetime(df['show_start_date'], format='%Y-%m-%dT%H:%M:%S.%fZ')"
   ]
  },
  {
   "cell_type": "markdown",
   "metadata": {},
   "source": [
    "*Преобразуем данные в столбце 'reitings'*"
   ]
  },
  {
   "cell_type": "code",
   "execution_count": 17,
   "metadata": {},
   "outputs": [],
   "source": [
    "df['ratings']=df['ratings'].replace('%','',regex=False)\n",
    "df['ratings']=pd.to_numeric(df['ratings'], errors='coerce')"
   ]
  },
  {
   "cell_type": "code",
   "execution_count": 18,
   "metadata": {},
   "outputs": [],
   "source": [
    "df=df.rename(columns={'puNumber': 'pu_number'})"
   ]
  },
  {
   "cell_type": "code",
   "execution_count": 19,
   "metadata": {},
   "outputs": [
    {
     "name": "stdout",
     "output_type": "stream",
     "text": [
      "<class 'pandas.core.frame.DataFrame'>\n",
      "RangeIndex: 7486 entries, 0 to 7485\n",
      "Data columns (total 16 columns):\n",
      " #   Column                 Non-Null Count  Dtype         \n",
      "---  ------                 --------------  -----         \n",
      " 0   title                  7486 non-null   object        \n",
      " 1   pu_number              7486 non-null   int32         \n",
      " 2   show_start_date        7486 non-null   datetime64[ns]\n",
      " 3   type                   7486 non-null   object        \n",
      " 4   film_studio            7468 non-null   object        \n",
      " 5   production_country     7484 non-null   object        \n",
      " 6   director               7477 non-null   object        \n",
      " 7   producer               6918 non-null   object        \n",
      " 8   age_restriction        7486 non-null   object        \n",
      " 9   refundable_support     332 non-null    float64       \n",
      " 10  nonrefundable_support  332 non-null    float64       \n",
      " 11  budget                 332 non-null    float64       \n",
      " 12  financing_source       332 non-null    object        \n",
      " 13  ratings                6490 non-null   float64       \n",
      " 14  genres                 6510 non-null   object        \n",
      " 15  box_office             3158 non-null   float64       \n",
      "dtypes: datetime64[ns](1), float64(5), int32(1), object(9)\n",
      "memory usage: 906.6+ KB\n"
     ]
    }
   ],
   "source": [
    "df.info()"
   ]
  },
  {
   "cell_type": "markdown",
   "metadata": {
    "id": "i0MOLbF-gFyP"
   },
   "source": [
    "#### Шаг 2.2. Изучите пропуски в датафрейме\n",
    "\n",
    "- Объясните, почему заполнили пропуски определённым образом или почему не стали этого делать."
   ]
  },
  {
   "cell_type": "code",
   "execution_count": 20,
   "metadata": {},
   "outputs": [
    {
     "data": {
      "text/plain": [
       "title                       0\n",
       "pu_number                   0\n",
       "show_start_date             0\n",
       "type                        0\n",
       "film_studio                18\n",
       "production_country          2\n",
       "director                    9\n",
       "producer                  568\n",
       "age_restriction             0\n",
       "refundable_support       7154\n",
       "nonrefundable_support    7154\n",
       "budget                   7154\n",
       "financing_source         7154\n",
       "ratings                   996\n",
       "genres                    976\n",
       "box_office               4328\n",
       "dtype: int64"
      ]
     },
     "execution_count": 20,
     "metadata": {},
     "output_type": "execute_result"
    }
   ],
   "source": [
    "df.isna().sum()"
   ]
  },
  {
   "cell_type": "code",
   "execution_count": 21,
   "metadata": {
    "id": "8MJD_lkngFyP",
    "scrolled": true
   },
   "outputs": [
    {
     "data": {
      "text/html": [
       "<style type=\"text/css\">\n",
       "#T_0cb9e_row0_col0, #T_0cb9e_row1_col0, #T_0cb9e_row2_col0, #T_0cb9e_row3_col0, #T_0cb9e_row4_col0, #T_0cb9e_row5_col0, #T_0cb9e_row6_col0, #T_0cb9e_row8_col0 {\n",
       "  background-color: #3b4cc0;\n",
       "  color: #f1f1f1;\n",
       "}\n",
       "#T_0cb9e_row7_col0 {\n",
       "  background-color: #5470de;\n",
       "  color: #f1f1f1;\n",
       "}\n",
       "#T_0cb9e_row9_col0, #T_0cb9e_row10_col0, #T_0cb9e_row11_col0, #T_0cb9e_row12_col0 {\n",
       "  background-color: #b40426;\n",
       "  color: #f1f1f1;\n",
       "}\n",
       "#T_0cb9e_row13_col0, #T_0cb9e_row14_col0 {\n",
       "  background-color: #6485ec;\n",
       "  color: #f1f1f1;\n",
       "}\n",
       "#T_0cb9e_row15_col0 {\n",
       "  background-color: #f2cab5;\n",
       "  color: #000000;\n",
       "}\n",
       "</style>\n",
       "<table id=\"T_0cb9e\">\n",
       "  <thead>\n",
       "    <tr>\n",
       "      <th class=\"blank level0\" >&nbsp;</th>\n",
       "      <th id=\"T_0cb9e_level0_col0\" class=\"col_heading level0 col0\" >0</th>\n",
       "    </tr>\n",
       "  </thead>\n",
       "  <tbody>\n",
       "    <tr>\n",
       "      <th id=\"T_0cb9e_level0_row0\" class=\"row_heading level0 row0\" >title</th>\n",
       "      <td id=\"T_0cb9e_row0_col0\" class=\"data row0 col0\" >0.000000</td>\n",
       "    </tr>\n",
       "    <tr>\n",
       "      <th id=\"T_0cb9e_level0_row1\" class=\"row_heading level0 row1\" >pu_number</th>\n",
       "      <td id=\"T_0cb9e_row1_col0\" class=\"data row1 col0\" >0.000000</td>\n",
       "    </tr>\n",
       "    <tr>\n",
       "      <th id=\"T_0cb9e_level0_row2\" class=\"row_heading level0 row2\" >show_start_date</th>\n",
       "      <td id=\"T_0cb9e_row2_col0\" class=\"data row2 col0\" >0.000000</td>\n",
       "    </tr>\n",
       "    <tr>\n",
       "      <th id=\"T_0cb9e_level0_row3\" class=\"row_heading level0 row3\" >type</th>\n",
       "      <td id=\"T_0cb9e_row3_col0\" class=\"data row3 col0\" >0.000000</td>\n",
       "    </tr>\n",
       "    <tr>\n",
       "      <th id=\"T_0cb9e_level0_row4\" class=\"row_heading level0 row4\" >film_studio</th>\n",
       "      <td id=\"T_0cb9e_row4_col0\" class=\"data row4 col0\" >0.000000</td>\n",
       "    </tr>\n",
       "    <tr>\n",
       "      <th id=\"T_0cb9e_level0_row5\" class=\"row_heading level0 row5\" >production_country</th>\n",
       "      <td id=\"T_0cb9e_row5_col0\" class=\"data row5 col0\" >0.000000</td>\n",
       "    </tr>\n",
       "    <tr>\n",
       "      <th id=\"T_0cb9e_level0_row6\" class=\"row_heading level0 row6\" >director</th>\n",
       "      <td id=\"T_0cb9e_row6_col0\" class=\"data row6 col0\" >0.000000</td>\n",
       "    </tr>\n",
       "    <tr>\n",
       "      <th id=\"T_0cb9e_level0_row7\" class=\"row_heading level0 row7\" >producer</th>\n",
       "      <td id=\"T_0cb9e_row7_col0\" class=\"data row7 col0\" >8.000000</td>\n",
       "    </tr>\n",
       "    <tr>\n",
       "      <th id=\"T_0cb9e_level0_row8\" class=\"row_heading level0 row8\" >age_restriction</th>\n",
       "      <td id=\"T_0cb9e_row8_col0\" class=\"data row8 col0\" >0.000000</td>\n",
       "    </tr>\n",
       "    <tr>\n",
       "      <th id=\"T_0cb9e_level0_row9\" class=\"row_heading level0 row9\" >refundable_support</th>\n",
       "      <td id=\"T_0cb9e_row9_col0\" class=\"data row9 col0\" >96.000000</td>\n",
       "    </tr>\n",
       "    <tr>\n",
       "      <th id=\"T_0cb9e_level0_row10\" class=\"row_heading level0 row10\" >nonrefundable_support</th>\n",
       "      <td id=\"T_0cb9e_row10_col0\" class=\"data row10 col0\" >96.000000</td>\n",
       "    </tr>\n",
       "    <tr>\n",
       "      <th id=\"T_0cb9e_level0_row11\" class=\"row_heading level0 row11\" >budget</th>\n",
       "      <td id=\"T_0cb9e_row11_col0\" class=\"data row11 col0\" >96.000000</td>\n",
       "    </tr>\n",
       "    <tr>\n",
       "      <th id=\"T_0cb9e_level0_row12\" class=\"row_heading level0 row12\" >financing_source</th>\n",
       "      <td id=\"T_0cb9e_row12_col0\" class=\"data row12 col0\" >96.000000</td>\n",
       "    </tr>\n",
       "    <tr>\n",
       "      <th id=\"T_0cb9e_level0_row13\" class=\"row_heading level0 row13\" >ratings</th>\n",
       "      <td id=\"T_0cb9e_row13_col0\" class=\"data row13 col0\" >13.000000</td>\n",
       "    </tr>\n",
       "    <tr>\n",
       "      <th id=\"T_0cb9e_level0_row14\" class=\"row_heading level0 row14\" >genres</th>\n",
       "      <td id=\"T_0cb9e_row14_col0\" class=\"data row14 col0\" >13.000000</td>\n",
       "    </tr>\n",
       "    <tr>\n",
       "      <th id=\"T_0cb9e_level0_row15\" class=\"row_heading level0 row15\" >box_office</th>\n",
       "      <td id=\"T_0cb9e_row15_col0\" class=\"data row15 col0\" >58.000000</td>\n",
       "    </tr>\n",
       "  </tbody>\n",
       "</table>\n"
      ],
      "text/plain": [
       "<pandas.io.formats.style.Styler at 0x16529b54920>"
      ]
     },
     "execution_count": 21,
     "metadata": {},
     "output_type": "execute_result"
    }
   ],
   "source": [
    "pd.DataFrame(round(df.isna().mean()*100,)).style.background_gradient('coolwarm')"
   ]
  },
  {
   "cell_type": "markdown",
   "metadata": {},
   "source": [
    "<div class=\"alert alert-block alert-success\">\n",
    " \n",
    "# Комментарий ревьюера ver.2 \n",
    "    \n",
    "#### Успех\n",
    "\n",
    "Странно почему не открывается. Попробуй тогда поискать библиотека называется missingno"
   ]
  },
  {
   "cell_type": "markdown",
   "metadata": {},
   "source": [
    "*Заменим пропуски в столбцах с данными \"refundable_support\",\"nonrefundable_support\",\"budget\",\"financing_source\", на 0 так как они не получили гос. поддержку, от этого и пропуски в данных*"
   ]
  },
  {
   "cell_type": "code",
   "execution_count": 22,
   "metadata": {},
   "outputs": [],
   "source": [
    "columns_to_fill=['refundable_support','nonrefundable_support','budget','financing_source']\n",
    "\n",
    "default_value= 0\n",
    "\n",
    "for col in columns_to_fill:\n",
    "    for index in df[col].index:\n",
    "        if pd.isna(df.loc[index,col]):\n",
    "            df.loc[index,col]=default_value"
   ]
  },
  {
   "cell_type": "markdown",
   "metadata": {},
   "source": [
    "<div class=\"alert alert-block alert-warning\">\n",
    " \n",
    "### Комментарий ревьюера\n",
    "    \n",
    "#### Совет\n",
    "\n",
    "Значения-заглушки хорошо подходят тут, но поскольку везде заменяешь на 0, то можно было через цикл сразу проработать в нескольких столбцах."
   ]
  },
  {
   "cell_type": "markdown",
   "metadata": {},
   "source": [
    "<div class=\"alert alert-info\"> <b>Комментарий студента:</b>Сделано"
   ]
  },
  {
   "cell_type": "code",
   "execution_count": 23,
   "metadata": {
    "scrolled": true
   },
   "outputs": [
    {
     "data": {
      "text/html": [
       "<div>\n",
       "<style scoped>\n",
       "    .dataframe tbody tr th:only-of-type {\n",
       "        vertical-align: middle;\n",
       "    }\n",
       "\n",
       "    .dataframe tbody tr th {\n",
       "        vertical-align: top;\n",
       "    }\n",
       "\n",
       "    .dataframe thead th {\n",
       "        text-align: right;\n",
       "    }\n",
       "</style>\n",
       "<table border=\"1\" class=\"dataframe\">\n",
       "  <thead>\n",
       "    <tr style=\"text-align: right;\">\n",
       "      <th></th>\n",
       "      <th>title</th>\n",
       "      <th>pu_number</th>\n",
       "      <th>show_start_date</th>\n",
       "      <th>type</th>\n",
       "      <th>film_studio</th>\n",
       "      <th>production_country</th>\n",
       "      <th>director</th>\n",
       "      <th>producer</th>\n",
       "      <th>age_restriction</th>\n",
       "      <th>refundable_support</th>\n",
       "      <th>nonrefundable_support</th>\n",
       "      <th>budget</th>\n",
       "      <th>financing_source</th>\n",
       "      <th>ratings</th>\n",
       "      <th>genres</th>\n",
       "      <th>box_office</th>\n",
       "    </tr>\n",
       "  </thead>\n",
       "  <tbody>\n",
       "    <tr>\n",
       "      <th>1</th>\n",
       "      <td>Особо важное задание</td>\n",
       "      <td>111013716</td>\n",
       "      <td>2016-09-13 12:00:00</td>\n",
       "      <td>Художественный</td>\n",
       "      <td>Киностудия \"Мосфильм\"</td>\n",
       "      <td>СССР</td>\n",
       "      <td>Е.Матвеев</td>\n",
       "      <td>NaN</td>\n",
       "      <td>«6+» - для детей старше 6 лет</td>\n",
       "      <td>0.0</td>\n",
       "      <td>0.0</td>\n",
       "      <td>0.0</td>\n",
       "      <td>0</td>\n",
       "      <td>6.6</td>\n",
       "      <td>драма,военный</td>\n",
       "      <td>NaN</td>\n",
       "    </tr>\n",
       "    <tr>\n",
       "      <th>5</th>\n",
       "      <td>Остановился поезд</td>\n",
       "      <td>111013816</td>\n",
       "      <td>2016-09-13 12:00:00</td>\n",
       "      <td>Художественный</td>\n",
       "      <td>Киностудия \"Мосфильм\"</td>\n",
       "      <td>СССР</td>\n",
       "      <td>В.Абдрашитов</td>\n",
       "      <td>NaN</td>\n",
       "      <td>«6+» - для детей старше 6 лет</td>\n",
       "      <td>0.0</td>\n",
       "      <td>0.0</td>\n",
       "      <td>0.0</td>\n",
       "      <td>0</td>\n",
       "      <td>7.7</td>\n",
       "      <td>драма</td>\n",
       "      <td>NaN</td>\n",
       "    </tr>\n",
       "    <tr>\n",
       "      <th>6</th>\n",
       "      <td>Любовь и голуби</td>\n",
       "      <td>111007013</td>\n",
       "      <td>2013-10-18 12:00:00</td>\n",
       "      <td>Художественный</td>\n",
       "      <td>Киностудия \"Мосфильм\"</td>\n",
       "      <td>СССР</td>\n",
       "      <td>В.Меньшов</td>\n",
       "      <td>NaN</td>\n",
       "      <td>«12+» - для детей старше 12 лет</td>\n",
       "      <td>0.0</td>\n",
       "      <td>0.0</td>\n",
       "      <td>0.0</td>\n",
       "      <td>0</td>\n",
       "      <td>8.3</td>\n",
       "      <td>мелодрама,комедия</td>\n",
       "      <td>2700.0</td>\n",
       "    </tr>\n",
       "    <tr>\n",
       "      <th>9</th>\n",
       "      <td>Отпуск за свой счет</td>\n",
       "      <td>111019114</td>\n",
       "      <td>2014-12-01 12:00:00</td>\n",
       "      <td>Художественный</td>\n",
       "      <td>Киностудия \"Мосфильм\", Телевидение ВНР</td>\n",
       "      <td>СССР, Венгрия</td>\n",
       "      <td>В.Титов</td>\n",
       "      <td>NaN</td>\n",
       "      <td>«12+» - для детей старше 12 лет</td>\n",
       "      <td>0.0</td>\n",
       "      <td>0.0</td>\n",
       "      <td>0.0</td>\n",
       "      <td>0</td>\n",
       "      <td>7.8</td>\n",
       "      <td>мелодрама,комедия</td>\n",
       "      <td>NaN</td>\n",
       "    </tr>\n",
       "    <tr>\n",
       "      <th>11</th>\n",
       "      <td>Ответный ход</td>\n",
       "      <td>111019014</td>\n",
       "      <td>2014-12-01 12:00:00</td>\n",
       "      <td>Художественный</td>\n",
       "      <td>Киностудия \"Мосфильм\"</td>\n",
       "      <td>СССР</td>\n",
       "      <td>М.Туманишвили</td>\n",
       "      <td>NaN</td>\n",
       "      <td>«12+» - для детей старше 12 лет</td>\n",
       "      <td>0.0</td>\n",
       "      <td>0.0</td>\n",
       "      <td>0.0</td>\n",
       "      <td>0</td>\n",
       "      <td>7.8</td>\n",
       "      <td>боевик,драма,приключения</td>\n",
       "      <td>NaN</td>\n",
       "    </tr>\n",
       "    <tr>\n",
       "      <th>...</th>\n",
       "      <td>...</td>\n",
       "      <td>...</td>\n",
       "      <td>...</td>\n",
       "      <td>...</td>\n",
       "      <td>...</td>\n",
       "      <td>...</td>\n",
       "      <td>...</td>\n",
       "      <td>...</td>\n",
       "      <td>...</td>\n",
       "      <td>...</td>\n",
       "      <td>...</td>\n",
       "      <td>...</td>\n",
       "      <td>...</td>\n",
       "      <td>...</td>\n",
       "      <td>...</td>\n",
       "      <td>...</td>\n",
       "    </tr>\n",
       "    <tr>\n",
       "      <th>7405</th>\n",
       "      <td>Отряд специального назначения</td>\n",
       "      <td>111020419</td>\n",
       "      <td>2019-12-01 12:00:00</td>\n",
       "      <td>Художественный</td>\n",
       "      <td>Свердловская киностудия</td>\n",
       "      <td>СССР</td>\n",
       "      <td>Г.Кузнецов</td>\n",
       "      <td>NaN</td>\n",
       "      <td>«6+» - для детей старше 6 лет</td>\n",
       "      <td>0.0</td>\n",
       "      <td>0.0</td>\n",
       "      <td>0.0</td>\n",
       "      <td>0</td>\n",
       "      <td>7.0</td>\n",
       "      <td>приключения,военный</td>\n",
       "      <td>NaN</td>\n",
       "    </tr>\n",
       "    <tr>\n",
       "      <th>7406</th>\n",
       "      <td>Назначаешься внучкой</td>\n",
       "      <td>111020519</td>\n",
       "      <td>2019-12-01 12:00:00</td>\n",
       "      <td>Художественный</td>\n",
       "      <td>Свердловская киностудия</td>\n",
       "      <td>СССР</td>\n",
       "      <td>Я.Лапшин</td>\n",
       "      <td>NaN</td>\n",
       "      <td>«12+» - для детей старше 12 лет</td>\n",
       "      <td>0.0</td>\n",
       "      <td>0.0</td>\n",
       "      <td>0.0</td>\n",
       "      <td>0</td>\n",
       "      <td>7.0</td>\n",
       "      <td>военный</td>\n",
       "      <td>NaN</td>\n",
       "    </tr>\n",
       "    <tr>\n",
       "      <th>7407</th>\n",
       "      <td>Перед рассветом</td>\n",
       "      <td>111020619</td>\n",
       "      <td>2019-12-01 12:00:00</td>\n",
       "      <td>Художественный</td>\n",
       "      <td>Свердловская киностудия</td>\n",
       "      <td>СССР</td>\n",
       "      <td>Я.Лапшин</td>\n",
       "      <td>NaN</td>\n",
       "      <td>«16+» - для детей старше 16 лет</td>\n",
       "      <td>0.0</td>\n",
       "      <td>0.0</td>\n",
       "      <td>0.0</td>\n",
       "      <td>0</td>\n",
       "      <td>7.9</td>\n",
       "      <td>драма,мелодрама</td>\n",
       "      <td>NaN</td>\n",
       "    </tr>\n",
       "    <tr>\n",
       "      <th>7408</th>\n",
       "      <td>Ты помнишь</td>\n",
       "      <td>111020719</td>\n",
       "      <td>2019-12-01 12:00:00</td>\n",
       "      <td>Художественный</td>\n",
       "      <td>Свердловская киностудия</td>\n",
       "      <td>СССР</td>\n",
       "      <td>О.Николаевский</td>\n",
       "      <td>NaN</td>\n",
       "      <td>«12+» - для детей старше 12 лет</td>\n",
       "      <td>0.0</td>\n",
       "      <td>0.0</td>\n",
       "      <td>0.0</td>\n",
       "      <td>0</td>\n",
       "      <td>7.0</td>\n",
       "      <td>драма,мелодрама,военный</td>\n",
       "      <td>NaN</td>\n",
       "    </tr>\n",
       "    <tr>\n",
       "      <th>7409</th>\n",
       "      <td>Здесь твой фронт</td>\n",
       "      <td>111020819</td>\n",
       "      <td>2019-12-01 12:00:00</td>\n",
       "      <td>Художественный</td>\n",
       "      <td>Свердловская киностудия</td>\n",
       "      <td>СССР</td>\n",
       "      <td>Э.Гаврилов</td>\n",
       "      <td>NaN</td>\n",
       "      <td>«16+» - для детей старше 16 лет</td>\n",
       "      <td>0.0</td>\n",
       "      <td>0.0</td>\n",
       "      <td>0.0</td>\n",
       "      <td>0</td>\n",
       "      <td>5.8</td>\n",
       "      <td>драма,военный</td>\n",
       "      <td>NaN</td>\n",
       "    </tr>\n",
       "  </tbody>\n",
       "</table>\n",
       "<p>568 rows × 16 columns</p>\n",
       "</div>"
      ],
      "text/plain": [
       "                              title  pu_number     show_start_date  \\\n",
       "1              Особо важное задание  111013716 2016-09-13 12:00:00   \n",
       "5                 Остановился поезд  111013816 2016-09-13 12:00:00   \n",
       "6                   Любовь и голуби  111007013 2013-10-18 12:00:00   \n",
       "9               Отпуск за свой счет  111019114 2014-12-01 12:00:00   \n",
       "11                     Ответный ход  111019014 2014-12-01 12:00:00   \n",
       "...                             ...        ...                 ...   \n",
       "7405  Отряд специального назначения  111020419 2019-12-01 12:00:00   \n",
       "7406           Назначаешься внучкой  111020519 2019-12-01 12:00:00   \n",
       "7407                Перед рассветом  111020619 2019-12-01 12:00:00   \n",
       "7408                     Ты помнишь  111020719 2019-12-01 12:00:00   \n",
       "7409               Здесь твой фронт  111020819 2019-12-01 12:00:00   \n",
       "\n",
       "                 type                             film_studio  \\\n",
       "1      Художественный                   Киностудия \"Мосфильм\"   \n",
       "5      Художественный                   Киностудия \"Мосфильм\"   \n",
       "6      Художественный                   Киностудия \"Мосфильм\"   \n",
       "9      Художественный  Киностудия \"Мосфильм\", Телевидение ВНР   \n",
       "11     Художественный                   Киностудия \"Мосфильм\"   \n",
       "...               ...                                     ...   \n",
       "7405   Художественный                 Свердловская киностудия   \n",
       "7406   Художественный                 Свердловская киностудия   \n",
       "7407   Художественный                 Свердловская киностудия   \n",
       "7408   Художественный                 Свердловская киностудия   \n",
       "7409   Художественный                 Свердловская киностудия   \n",
       "\n",
       "     production_country        director producer  \\\n",
       "1                  СССР       Е.Матвеев      NaN   \n",
       "5                  СССР    В.Абдрашитов      NaN   \n",
       "6                  СССР       В.Меньшов      NaN   \n",
       "9         СССР, Венгрия         В.Титов      NaN   \n",
       "11                 СССР   М.Туманишвили      NaN   \n",
       "...                 ...             ...      ...   \n",
       "7405               СССР      Г.Кузнецов      NaN   \n",
       "7406               СССР        Я.Лапшин      NaN   \n",
       "7407               СССР        Я.Лапшин      NaN   \n",
       "7408               СССР  О.Николаевский      NaN   \n",
       "7409               СССР      Э.Гаврилов      NaN   \n",
       "\n",
       "                      age_restriction  refundable_support  \\\n",
       "1       «6+» - для детей старше 6 лет                 0.0   \n",
       "5       «6+» - для детей старше 6 лет                 0.0   \n",
       "6     «12+» - для детей старше 12 лет                 0.0   \n",
       "9     «12+» - для детей старше 12 лет                 0.0   \n",
       "11    «12+» - для детей старше 12 лет                 0.0   \n",
       "...                               ...                 ...   \n",
       "7405    «6+» - для детей старше 6 лет                 0.0   \n",
       "7406  «12+» - для детей старше 12 лет                 0.0   \n",
       "7407  «16+» - для детей старше 16 лет                 0.0   \n",
       "7408  «12+» - для детей старше 12 лет                 0.0   \n",
       "7409  «16+» - для детей старше 16 лет                 0.0   \n",
       "\n",
       "      nonrefundable_support  budget financing_source  ratings  \\\n",
       "1                       0.0     0.0                0      6.6   \n",
       "5                       0.0     0.0                0      7.7   \n",
       "6                       0.0     0.0                0      8.3   \n",
       "9                       0.0     0.0                0      7.8   \n",
       "11                      0.0     0.0                0      7.8   \n",
       "...                     ...     ...              ...      ...   \n",
       "7405                    0.0     0.0                0      7.0   \n",
       "7406                    0.0     0.0                0      7.0   \n",
       "7407                    0.0     0.0                0      7.9   \n",
       "7408                    0.0     0.0                0      7.0   \n",
       "7409                    0.0     0.0                0      5.8   \n",
       "\n",
       "                        genres  box_office  \n",
       "1                драма,военный         NaN  \n",
       "5                        драма         NaN  \n",
       "6            мелодрама,комедия      2700.0  \n",
       "9            мелодрама,комедия         NaN  \n",
       "11    боевик,драма,приключения         NaN  \n",
       "...                        ...         ...  \n",
       "7405       приключения,военный         NaN  \n",
       "7406                   военный         NaN  \n",
       "7407           драма,мелодрама         NaN  \n",
       "7408   драма,мелодрама,военный         NaN  \n",
       "7409             драма,военный         NaN  \n",
       "\n",
       "[568 rows x 16 columns]"
      ]
     },
     "execution_count": 23,
     "metadata": {},
     "output_type": "execute_result"
    }
   ],
   "source": [
    "df[df['producer'].isna()]"
   ]
  },
  {
   "cell_type": "markdown",
   "metadata": {},
   "source": [
    "*Заменим данные в столбце 'producer'  на 'unknown'. Пропуски могли появится вовремя выгрузки данных*"
   ]
  },
  {
   "cell_type": "code",
   "execution_count": 24,
   "metadata": {},
   "outputs": [],
   "source": [
    "df['producer']=df['producer'].fillna('unknown')"
   ]
  },
  {
   "cell_type": "code",
   "execution_count": 25,
   "metadata": {},
   "outputs": [
    {
     "data": {
      "text/html": [
       "<div>\n",
       "<style scoped>\n",
       "    .dataframe tbody tr th:only-of-type {\n",
       "        vertical-align: middle;\n",
       "    }\n",
       "\n",
       "    .dataframe tbody tr th {\n",
       "        vertical-align: top;\n",
       "    }\n",
       "\n",
       "    .dataframe thead th {\n",
       "        text-align: right;\n",
       "    }\n",
       "</style>\n",
       "<table border=\"1\" class=\"dataframe\">\n",
       "  <thead>\n",
       "    <tr style=\"text-align: right;\">\n",
       "      <th></th>\n",
       "      <th>title</th>\n",
       "      <th>pu_number</th>\n",
       "      <th>show_start_date</th>\n",
       "      <th>type</th>\n",
       "      <th>film_studio</th>\n",
       "      <th>production_country</th>\n",
       "      <th>director</th>\n",
       "      <th>producer</th>\n",
       "      <th>age_restriction</th>\n",
       "      <th>refundable_support</th>\n",
       "      <th>nonrefundable_support</th>\n",
       "      <th>budget</th>\n",
       "      <th>financing_source</th>\n",
       "      <th>ratings</th>\n",
       "      <th>genres</th>\n",
       "      <th>box_office</th>\n",
       "    </tr>\n",
       "  </thead>\n",
       "  <tbody>\n",
       "    <tr>\n",
       "      <th>43</th>\n",
       "      <td>Мемуары гейши (по роману Артура Голдена)</td>\n",
       "      <td>121000606</td>\n",
       "      <td>2012-12-14 12:00:00</td>\n",
       "      <td>Художественный</td>\n",
       "      <td>Коламбия Пикчерз Корпорейшн, ДримУоркс ЭсКейДж...</td>\n",
       "      <td>США</td>\n",
       "      <td>Роб Маршалл</td>\n",
       "      <td>Стивен Спилберг, Люси Фишер, Дуглас Уик, Джон ...</td>\n",
       "      <td>«12+» - для детей старше 12 лет</td>\n",
       "      <td>0.0</td>\n",
       "      <td>0.0</td>\n",
       "      <td>0.0</td>\n",
       "      <td>0</td>\n",
       "      <td>NaN</td>\n",
       "      <td>NaN</td>\n",
       "      <td>NaN</td>\n",
       "    </tr>\n",
       "    <tr>\n",
       "      <th>150</th>\n",
       "      <td>Жди меня</td>\n",
       "      <td>111013615</td>\n",
       "      <td>2015-08-25 12:00:00</td>\n",
       "      <td>Художественный</td>\n",
       "      <td>Киностудия \"Мосфильм\"</td>\n",
       "      <td>СССР</td>\n",
       "      <td>А.Столпер, Б.Иванов</td>\n",
       "      <td>unknown</td>\n",
       "      <td>«6+» - для детей старше 6 лет</td>\n",
       "      <td>0.0</td>\n",
       "      <td>0.0</td>\n",
       "      <td>0.0</td>\n",
       "      <td>0</td>\n",
       "      <td>NaN</td>\n",
       "      <td>NaN</td>\n",
       "      <td>NaN</td>\n",
       "    </tr>\n",
       "    <tr>\n",
       "      <th>154</th>\n",
       "      <td>Дом из песка и тумана (по книге Андре Дюбуи III)</td>\n",
       "      <td>221037813</td>\n",
       "      <td>2013-10-25 12:00:00</td>\n",
       "      <td>Художественный</td>\n",
       "      <td>Кобальт Пикчерз</td>\n",
       "      <td>США</td>\n",
       "      <td>Вадим Перельман</td>\n",
       "      <td>Майкл Лондон</td>\n",
       "      <td>«16+» - для детей старше 16 лет</td>\n",
       "      <td>0.0</td>\n",
       "      <td>0.0</td>\n",
       "      <td>0.0</td>\n",
       "      <td>0</td>\n",
       "      <td>NaN</td>\n",
       "      <td>NaN</td>\n",
       "      <td>NaN</td>\n",
       "    </tr>\n",
       "    <tr>\n",
       "      <th>159</th>\n",
       "      <td>Жемчужная девушка</td>\n",
       "      <td>224011014</td>\n",
       "      <td>2014-08-28 12:00:00</td>\n",
       "      <td>Художественный</td>\n",
       "      <td>Чешское телевидение,Студия \"Три брата\" агентск...</td>\n",
       "      <td>Чехия</td>\n",
       "      <td>Владимир Дрга</td>\n",
       "      <td>unknown</td>\n",
       "      <td>«0+» - для любой зрительской аудитории</td>\n",
       "      <td>0.0</td>\n",
       "      <td>0.0</td>\n",
       "      <td>0.0</td>\n",
       "      <td>0</td>\n",
       "      <td>NaN</td>\n",
       "      <td>NaN</td>\n",
       "      <td>NaN</td>\n",
       "    </tr>\n",
       "    <tr>\n",
       "      <th>227</th>\n",
       "      <td>Полустанок</td>\n",
       "      <td>111026714</td>\n",
       "      <td>2014-12-24 12:00:00</td>\n",
       "      <td>Художественный</td>\n",
       "      <td>Киностудия \"Мосфильм\"</td>\n",
       "      <td>СССР</td>\n",
       "      <td>Б.Барнет</td>\n",
       "      <td>unknown</td>\n",
       "      <td>«12+» - для детей старше 12 лет</td>\n",
       "      <td>0.0</td>\n",
       "      <td>0.0</td>\n",
       "      <td>0.0</td>\n",
       "      <td>0</td>\n",
       "      <td>NaN</td>\n",
       "      <td>NaN</td>\n",
       "      <td>NaN</td>\n",
       "    </tr>\n",
       "    <tr>\n",
       "      <th>...</th>\n",
       "      <td>...</td>\n",
       "      <td>...</td>\n",
       "      <td>...</td>\n",
       "      <td>...</td>\n",
       "      <td>...</td>\n",
       "      <td>...</td>\n",
       "      <td>...</td>\n",
       "      <td>...</td>\n",
       "      <td>...</td>\n",
       "      <td>...</td>\n",
       "      <td>...</td>\n",
       "      <td>...</td>\n",
       "      <td>...</td>\n",
       "      <td>...</td>\n",
       "      <td>...</td>\n",
       "      <td>...</td>\n",
       "    </tr>\n",
       "    <tr>\n",
       "      <th>7479</th>\n",
       "      <td>Эколав</td>\n",
       "      <td>111023219</td>\n",
       "      <td>2019-12-26 12:00:00</td>\n",
       "      <td>Художественный</td>\n",
       "      <td>ВГИК</td>\n",
       "      <td>Россия</td>\n",
       "      <td>Д.Григорьев</td>\n",
       "      <td>ВГИК</td>\n",
       "      <td>«18+» - запрещено для детей</td>\n",
       "      <td>0.0</td>\n",
       "      <td>0.0</td>\n",
       "      <td>0.0</td>\n",
       "      <td>0</td>\n",
       "      <td>NaN</td>\n",
       "      <td>NaN</td>\n",
       "      <td>NaN</td>\n",
       "    </tr>\n",
       "    <tr>\n",
       "      <th>7480</th>\n",
       "      <td>Акрам Хан: Родом из Карри Хауса</td>\n",
       "      <td>126007919</td>\n",
       "      <td>2019-12-23 12:00:00</td>\n",
       "      <td>Прочие</td>\n",
       "      <td>Свон Филмз</td>\n",
       "      <td>Великобритания</td>\n",
       "      <td>Ник Пойнц</td>\n",
       "      <td>Поппи Бегум, Ник Пойнц</td>\n",
       "      <td>«12+» - для детей старше 12 лет</td>\n",
       "      <td>0.0</td>\n",
       "      <td>0.0</td>\n",
       "      <td>0.0</td>\n",
       "      <td>0</td>\n",
       "      <td>NaN</td>\n",
       "      <td>NaN</td>\n",
       "      <td>219569.0</td>\n",
       "    </tr>\n",
       "    <tr>\n",
       "      <th>7481</th>\n",
       "      <td>Сад художника: Американский импрессионизм</td>\n",
       "      <td>126008019</td>\n",
       "      <td>2019-12-23 12:00:00</td>\n",
       "      <td>Прочие</td>\n",
       "      <td>Севен Артс Продакшнз</td>\n",
       "      <td>Великобритания</td>\n",
       "      <td>Фил Грабски</td>\n",
       "      <td>Фил Грабски</td>\n",
       "      <td>«12+» - для детей старше 12 лет</td>\n",
       "      <td>0.0</td>\n",
       "      <td>0.0</td>\n",
       "      <td>0.0</td>\n",
       "      <td>0</td>\n",
       "      <td>NaN</td>\n",
       "      <td>NaN</td>\n",
       "      <td>NaN</td>\n",
       "    </tr>\n",
       "    <tr>\n",
       "      <th>7483</th>\n",
       "      <td>Щенячий патруль: Скорей спешим на помощь!</td>\n",
       "      <td>124010819</td>\n",
       "      <td>2019-12-28 12:00:00</td>\n",
       "      <td>Художественный</td>\n",
       "      <td>Никелодеон Анимейшн Студиос, Спин Мастер</td>\n",
       "      <td>США - Канада</td>\n",
       "      <td>Чарльз Е.Бастьен</td>\n",
       "      <td>Дженнифер Додж</td>\n",
       "      <td>«0+» - для любой зрительской аудитории</td>\n",
       "      <td>0.0</td>\n",
       "      <td>0.0</td>\n",
       "      <td>0.0</td>\n",
       "      <td>0</td>\n",
       "      <td>NaN</td>\n",
       "      <td>NaN</td>\n",
       "      <td>NaN</td>\n",
       "    </tr>\n",
       "    <tr>\n",
       "      <th>7484</th>\n",
       "      <td>Машины песенки. Серия \"Испанские мотивы\"</td>\n",
       "      <td>124010619</td>\n",
       "      <td>2019-12-30 12:00:00</td>\n",
       "      <td>Анимационный</td>\n",
       "      <td>Анимаккорд Лтд., ООО Студия \"АНИМАККОРД\"</td>\n",
       "      <td>Республика Кипр, Россия</td>\n",
       "      <td>А.Беляев</td>\n",
       "      <td>Д.Ловейко</td>\n",
       "      <td>«0+» - для любой зрительской аудитории</td>\n",
       "      <td>0.0</td>\n",
       "      <td>0.0</td>\n",
       "      <td>0.0</td>\n",
       "      <td>0</td>\n",
       "      <td>NaN</td>\n",
       "      <td>NaN</td>\n",
       "      <td>NaN</td>\n",
       "    </tr>\n",
       "  </tbody>\n",
       "</table>\n",
       "<p>996 rows × 16 columns</p>\n",
       "</div>"
      ],
      "text/plain": [
       "                                                 title  pu_number  \\\n",
       "43            Мемуары гейши (по роману Артура Голдена)  121000606   \n",
       "150                                           Жди меня  111013615   \n",
       "154   Дом из песка и тумана (по книге Андре Дюбуи III)  221037813   \n",
       "159                                  Жемчужная девушка  224011014   \n",
       "227                                         Полустанок  111026714   \n",
       "...                                                ...        ...   \n",
       "7479                                            Эколав  111023219   \n",
       "7480                   Акрам Хан: Родом из Карри Хауса  126007919   \n",
       "7481         Сад художника: Американский импрессионизм  126008019   \n",
       "7483         Щенячий патруль: Скорей спешим на помощь!  124010819   \n",
       "7484          Машины песенки. Серия \"Испанские мотивы\"  124010619   \n",
       "\n",
       "         show_start_date             type  \\\n",
       "43   2012-12-14 12:00:00   Художественный   \n",
       "150  2015-08-25 12:00:00   Художественный   \n",
       "154  2013-10-25 12:00:00   Художественный   \n",
       "159  2014-08-28 12:00:00   Художественный   \n",
       "227  2014-12-24 12:00:00   Художественный   \n",
       "...                  ...              ...   \n",
       "7479 2019-12-26 12:00:00   Художественный   \n",
       "7480 2019-12-23 12:00:00           Прочие   \n",
       "7481 2019-12-23 12:00:00           Прочие   \n",
       "7483 2019-12-28 12:00:00   Художественный   \n",
       "7484 2019-12-30 12:00:00     Анимационный   \n",
       "\n",
       "                                            film_studio  \\\n",
       "43    Коламбия Пикчерз Корпорейшн, ДримУоркс ЭсКейДж...   \n",
       "150                               Киностудия \"Мосфильм\"   \n",
       "154                                     Кобальт Пикчерз   \n",
       "159   Чешское телевидение,Студия \"Три брата\" агентск...   \n",
       "227                               Киностудия \"Мосфильм\"   \n",
       "...                                                 ...   \n",
       "7479                                               ВГИК   \n",
       "7480                                         Свон Филмз   \n",
       "7481                               Севен Артс Продакшнз   \n",
       "7483           Никелодеон Анимейшн Студиос, Спин Мастер   \n",
       "7484           Анимаккорд Лтд., ООО Студия \"АНИМАККОРД\"   \n",
       "\n",
       "           production_country             director  \\\n",
       "43                        США          Роб Маршалл   \n",
       "150                      СССР  А.Столпер, Б.Иванов   \n",
       "154                       США      Вадим Перельман   \n",
       "159                     Чехия        Владимир Дрга   \n",
       "227                      СССР             Б.Барнет   \n",
       "...                       ...                  ...   \n",
       "7479                   Россия          Д.Григорьев   \n",
       "7480           Великобритания            Ник Пойнц   \n",
       "7481           Великобритания          Фил Грабски   \n",
       "7483             США - Канада     Чарльз Е.Бастьен   \n",
       "7484  Республика Кипр, Россия             А.Беляев   \n",
       "\n",
       "                                               producer  \\\n",
       "43    Стивен Спилберг, Люси Фишер, Дуглас Уик, Джон ...   \n",
       "150                                             unknown   \n",
       "154                                        Майкл Лондон   \n",
       "159                                             unknown   \n",
       "227                                             unknown   \n",
       "...                                                 ...   \n",
       "7479                                               ВГИК   \n",
       "7480                             Поппи Бегум, Ник Пойнц   \n",
       "7481                                        Фил Грабски   \n",
       "7483                                     Дженнифер Додж   \n",
       "7484                                          Д.Ловейко   \n",
       "\n",
       "                             age_restriction  refundable_support  \\\n",
       "43           «12+» - для детей старше 12 лет                 0.0   \n",
       "150            «6+» - для детей старше 6 лет                 0.0   \n",
       "154          «16+» - для детей старше 16 лет                 0.0   \n",
       "159   «0+» - для любой зрительской аудитории                 0.0   \n",
       "227          «12+» - для детей старше 12 лет                 0.0   \n",
       "...                                      ...                 ...   \n",
       "7479             «18+» - запрещено для детей                 0.0   \n",
       "7480         «12+» - для детей старше 12 лет                 0.0   \n",
       "7481         «12+» - для детей старше 12 лет                 0.0   \n",
       "7483  «0+» - для любой зрительской аудитории                 0.0   \n",
       "7484  «0+» - для любой зрительской аудитории                 0.0   \n",
       "\n",
       "      nonrefundable_support  budget financing_source  ratings genres  \\\n",
       "43                      0.0     0.0                0      NaN    NaN   \n",
       "150                     0.0     0.0                0      NaN    NaN   \n",
       "154                     0.0     0.0                0      NaN    NaN   \n",
       "159                     0.0     0.0                0      NaN    NaN   \n",
       "227                     0.0     0.0                0      NaN    NaN   \n",
       "...                     ...     ...              ...      ...    ...   \n",
       "7479                    0.0     0.0                0      NaN    NaN   \n",
       "7480                    0.0     0.0                0      NaN    NaN   \n",
       "7481                    0.0     0.0                0      NaN    NaN   \n",
       "7483                    0.0     0.0                0      NaN    NaN   \n",
       "7484                    0.0     0.0                0      NaN    NaN   \n",
       "\n",
       "      box_office  \n",
       "43           NaN  \n",
       "150          NaN  \n",
       "154          NaN  \n",
       "159          NaN  \n",
       "227          NaN  \n",
       "...          ...  \n",
       "7479         NaN  \n",
       "7480    219569.0  \n",
       "7481         NaN  \n",
       "7483         NaN  \n",
       "7484         NaN  \n",
       "\n",
       "[996 rows x 16 columns]"
      ]
     },
     "execution_count": 25,
     "metadata": {},
     "output_type": "execute_result"
    }
   ],
   "source": [
    "df[df['ratings'].isna()]"
   ]
  },
  {
   "cell_type": "markdown",
   "metadata": {},
   "source": [
    "*Заменим столбец с названиями жанров \"genres\" на \"unknown\""
   ]
  },
  {
   "cell_type": "code",
   "execution_count": 26,
   "metadata": {},
   "outputs": [],
   "source": [
    "df['genres']=df['genres'].fillna('unknown')"
   ]
  },
  {
   "cell_type": "markdown",
   "metadata": {},
   "source": [
    "*Пропуски в столбце \"box_office\" возможны из-за отсутствия доступа к данным , их можно оставить как есть или замениь на 0* "
   ]
  },
  {
   "cell_type": "markdown",
   "metadata": {},
   "source": [
    "<div class=\"alert alert-block alert-success\">\n",
    " \n",
    "### Комментарий ревьюера\n",
    "    \n",
    "#### Успех\n",
    "\n",
    "Причины появления пропусков высказаны"
   ]
  },
  {
   "cell_type": "markdown",
   "metadata": {
    "id": "4c6k1t9ygFyQ"
   },
   "source": [
    "#### Шаг 2.3. Изучите дубликаты в датафрейме\n",
    "- Проверьте, есть ли в данных дубликаты. Опишите причины, которые могли повлиять на появление дублей."
   ]
  },
  {
   "cell_type": "code",
   "execution_count": 27,
   "metadata": {
    "id": "aKck8RIdgFyQ"
   },
   "outputs": [
    {
     "data": {
      "text/plain": [
       "0"
      ]
     },
     "execution_count": 27,
     "metadata": {},
     "output_type": "execute_result"
    }
   ],
   "source": [
    "df.duplicated().sum()"
   ]
  },
  {
   "cell_type": "markdown",
   "metadata": {
    "id": "52fOPrEBgFyQ"
   },
   "source": [
    "#### Шаг 2.4. Изучите категориальные значения\n",
    "\n",
    "- Посмотрите, какая общая проблема встречается почти во всех категориальных столбцах;\n",
    "- Исправьте проблемные значения в поле `type`.\n",
    "\n",
    "<div id=\"accordion\">\n",
    "    <div class=\"card\">\n",
    "        <div class=\"card-header\" id=\"headingThree\">\n",
    "            <button class=\"btn btn-link collapsed\" data-toggle=\"collapse\" data-target=\"#collapseHint_1\" aria-expanded=\"false\" aria-controls=\"collapseHint_1\">Подсказка</button>\n",
    "        </div>\n",
    "        <div id=\"collapseHint_1\" class=\"collapse\" aria-labelledby=\"headingThree\" data-parent=\"#accordion\">\n",
    "            <div class=\"card-body\">\n",
    "В поле <code>type</code> есть несколько значений, у которых появился пробел в начале строки. Самый простой способ их «починить» -- использовать метод <a href=\"https://pandas.pydata.org/docs/reference/api/pandas.Series.str.strip.html#pandas.Series.str.strip\">.str.strip</a>. Этот метод удаляет все пробелы, которые встречаются в начале и в конце строки. Применяют его таким образом:<br>\n",
    "<code>df['type'].str.strip()</code>\n",
    "            </div>\n",
    "        </div>\n",
    "    </div>\n",
    "</div>"
   ]
  },
  {
   "cell_type": "code",
   "execution_count": 28,
   "metadata": {
    "id": "PnXKIVdFgFyR"
   },
   "outputs": [
    {
     "data": {
      "text/plain": [
       "array(['Художественный', 'Анимационный', 'Прочие', 'Документальный',\n",
       "       'Научно-популярный', ' Художественный', ' Анимационный',\n",
       "       'Музыкально-развлекательный'], dtype=object)"
      ]
     },
     "execution_count": 28,
     "metadata": {},
     "output_type": "execute_result"
    }
   ],
   "source": [
    "df['type'].unique()"
   ]
  },
  {
   "cell_type": "code",
   "execution_count": 29,
   "metadata": {},
   "outputs": [],
   "source": [
    "columns_to_clean=['type','film_studio','production_country','director','producer','age_restriction','genres']\n",
    "\n",
    "for col in columns_to_clean:\n",
    "    for index in df[col].index:\n",
    "        if isinstance(df.loc[index,col], str):\n",
    "            df.loc[index,col]=df.loc[index,col].strip()"
   ]
  },
  {
   "cell_type": "markdown",
   "metadata": {
    "id": "XFSN5lrEgFyR"
   },
   "source": [
    "#### Шаг 2.5. Проверьте количественные значения\n",
    "\n",
    "- Проверьте, обнаружились ли в таких столбцах подозрительные данные. Как с такими данными лучше поступить?\n",
    "\n",
    "<div id=\"accordion\">\n",
    "    <div class=\"card\">\n",
    "        <div class=\"card-header\" id=\"headingThree\">\n",
    "            <button class=\"btn btn-link collapsed\" data-toggle=\"collapse\" data-target=\"#collapseHint_budget\" aria-expanded=\"false\" aria-controls=\"collapseHint_budget\">Подсказка</button>\n",
    "        </div>\n",
    "        <div id=\"collapseHint_budget\" class=\"collapse\" aria-labelledby=\"headingThree\" data-parent=\"#accordion\">\n",
    "            <div class=\"card-body\">\n",
    "Обратите внимание на описание столбца <code>budget</code>. Как этот столбец соотносится с двумя другими: <code>refundable_support</code> и <code>nonrefundable_support</code>?\n",
    "            </div>\n",
    "        </div>\n",
    "    </div>\n",
    "</div>"
   ]
  },
  {
   "cell_type": "code",
   "execution_count": 30,
   "metadata": {},
   "outputs": [
    {
     "data": {
      "text/plain": [
       "count    7.486000e+03\n",
       "mean     5.261822e+05\n",
       "std      5.781108e+06\n",
       "min      0.000000e+00\n",
       "25%      0.000000e+00\n",
       "50%      0.000000e+00\n",
       "75%      0.000000e+00\n",
       "max      1.800000e+08\n",
       "Name: refundable_support, dtype: float64"
      ]
     },
     "execution_count": 30,
     "metadata": {},
     "output_type": "execute_result"
    }
   ],
   "source": [
    "df['refundable_support'].describe()"
   ]
  },
  {
   "cell_type": "code",
   "execution_count": 31,
   "metadata": {},
   "outputs": [
    {
     "data": {
      "image/png": "[encoded data removed]",
      "text/plain": [
       "<Figure size 640x480 with 4 Axes>"
      ]
     },
     "metadata": {},
     "output_type": "display_data"
    }
   ],
   "source": [
    "df[['refundable_support','nonrefundable_support','budget']].hist(bins=30);"
   ]
  },
  {
   "cell_type": "code",
   "execution_count": 32,
   "metadata": {},
   "outputs": [
    {
     "data": {
      "text/html": [
       "<div>\n",
       "<style scoped>\n",
       "    .dataframe tbody tr th:only-of-type {\n",
       "        vertical-align: middle;\n",
       "    }\n",
       "\n",
       "    .dataframe tbody tr th {\n",
       "        vertical-align: top;\n",
       "    }\n",
       "\n",
       "    .dataframe thead th {\n",
       "        text-align: right;\n",
       "    }\n",
       "</style>\n",
       "<table border=\"1\" class=\"dataframe\">\n",
       "  <thead>\n",
       "    <tr style=\"text-align: right;\">\n",
       "      <th></th>\n",
       "      <th>title</th>\n",
       "      <th>pu_number</th>\n",
       "      <th>show_start_date</th>\n",
       "      <th>type</th>\n",
       "      <th>film_studio</th>\n",
       "      <th>production_country</th>\n",
       "      <th>director</th>\n",
       "      <th>producer</th>\n",
       "      <th>age_restriction</th>\n",
       "      <th>refundable_support</th>\n",
       "      <th>nonrefundable_support</th>\n",
       "      <th>budget</th>\n",
       "      <th>financing_source</th>\n",
       "      <th>ratings</th>\n",
       "      <th>genres</th>\n",
       "      <th>box_office</th>\n",
       "    </tr>\n",
       "  </thead>\n",
       "  <tbody>\n",
       "    <tr>\n",
       "      <th>66</th>\n",
       "      <td>Анна Павлова</td>\n",
       "      <td>111011013</td>\n",
       "      <td>2013-12-19 12:00:00</td>\n",
       "      <td>Художественный</td>\n",
       "      <td>совместное производство Киностудия \"Мосфильм\",...</td>\n",
       "      <td>СССР, Франция, Англия, Куба, ГДР</td>\n",
       "      <td>Эмиль Лотяну</td>\n",
       "      <td>unknown</td>\n",
       "      <td>«6+» - для детей старше 6 лет</td>\n",
       "      <td>0.0</td>\n",
       "      <td>0.0</td>\n",
       "      <td>0.0</td>\n",
       "      <td>0</td>\n",
       "      <td>7.7</td>\n",
       "      <td>драма,биография,музыка</td>\n",
       "      <td>0.0</td>\n",
       "    </tr>\n",
       "    <tr>\n",
       "      <th>237</th>\n",
       "      <td>Подранки</td>\n",
       "      <td>111007613</td>\n",
       "      <td>2013-10-18 12:00:00</td>\n",
       "      <td>Художественный</td>\n",
       "      <td>Киностудия \"Мосфильм\"</td>\n",
       "      <td>СССР</td>\n",
       "      <td>Н.Губенко</td>\n",
       "      <td>unknown</td>\n",
       "      <td>«12+» - для детей старше 12 лет</td>\n",
       "      <td>0.0</td>\n",
       "      <td>0.0</td>\n",
       "      <td>0.0</td>\n",
       "      <td>0</td>\n",
       "      <td>8.2</td>\n",
       "      <td>драма</td>\n",
       "      <td>0.0</td>\n",
       "    </tr>\n",
       "    <tr>\n",
       "      <th>596</th>\n",
       "      <td>Запах вереска</td>\n",
       "      <td>111003012</td>\n",
       "      <td>2012-05-23 12:00:00</td>\n",
       "      <td>Художественный</td>\n",
       "      <td>ООО \"Студия РИМ\"</td>\n",
       "      <td>Россия</td>\n",
       "      <td>А.Магомедов</td>\n",
       "      <td>М.Балашова, Е.Миронов</td>\n",
       "      <td>«16+» - для детей старше 16 лет</td>\n",
       "      <td>0.0</td>\n",
       "      <td>0.0</td>\n",
       "      <td>0.0</td>\n",
       "      <td>0</td>\n",
       "      <td>6.3</td>\n",
       "      <td>комедия</td>\n",
       "      <td>0.0</td>\n",
       "    </tr>\n",
       "    <tr>\n",
       "      <th>914</th>\n",
       "      <td>В тумане /По одноименной повести Василя Быкова/</td>\n",
       "      <td>121027712</td>\n",
       "      <td>2012-11-07 12:00:00</td>\n",
       "      <td>Художественный</td>\n",
       "      <td>Ма Йа Де Фикшн, Лемминг Филм, Беларусьфильм, Д...</td>\n",
       "      <td>Германия - Нидерланды - Беларусь - Россия - Ла...</td>\n",
       "      <td>Сергей Лозница</td>\n",
       "      <td>Хайно Декерт</td>\n",
       "      <td>«12+» - для детей старше 12 лет</td>\n",
       "      <td>0.0</td>\n",
       "      <td>0.0</td>\n",
       "      <td>0.0</td>\n",
       "      <td>0</td>\n",
       "      <td>6.5</td>\n",
       "      <td>драма,военный,история</td>\n",
       "      <td>0.0</td>\n",
       "    </tr>\n",
       "    <tr>\n",
       "      <th>932</th>\n",
       "      <td>Письмо для Момо</td>\n",
       "      <td>124002912</td>\n",
       "      <td>2012-10-25 12:00:00</td>\n",
       "      <td>Анимационный</td>\n",
       "      <td>Кадокава Пикчерз, Продакшнз И Джи, Токио Броад...</td>\n",
       "      <td>Япония</td>\n",
       "      <td>Окиура Хироюки</td>\n",
       "      <td>Хироюки Икеда, Митсухиса Ишикава, Кацзуя Хамана</td>\n",
       "      <td>«12+» - для детей старше 12 лет</td>\n",
       "      <td>0.0</td>\n",
       "      <td>0.0</td>\n",
       "      <td>0.0</td>\n",
       "      <td>0</td>\n",
       "      <td>7.4</td>\n",
       "      <td>аниме,мультфильм,драма</td>\n",
       "      <td>0.0</td>\n",
       "    </tr>\n",
       "    <tr>\n",
       "      <th>933</th>\n",
       "      <td>Летние войны</td>\n",
       "      <td>124002812</td>\n",
       "      <td>2012-10-25 12:00:00</td>\n",
       "      <td>Анимационный</td>\n",
       "      <td>Медхауз, Ниппон Телевижн Нетуорк Корпорейшн, К...</td>\n",
       "      <td>Япония</td>\n",
       "      <td>Мамору Хосода</td>\n",
       "      <td>Такафуми Ватанабэ, Такуя Ито, Сэйдзи Окуда, Юи...</td>\n",
       "      <td>«12+» - для детей старше 12 лет</td>\n",
       "      <td>0.0</td>\n",
       "      <td>0.0</td>\n",
       "      <td>0.0</td>\n",
       "      <td>0</td>\n",
       "      <td>7.7</td>\n",
       "      <td>аниме,мультфильм,фантастика</td>\n",
       "      <td>0.0</td>\n",
       "    </tr>\n",
       "    <tr>\n",
       "      <th>976</th>\n",
       "      <td>Гарегин Нжде</td>\n",
       "      <td>131000213</td>\n",
       "      <td>2013-04-23 12:00:00</td>\n",
       "      <td>Художественный</td>\n",
       "      <td>Эй Джи Кей Продакшнз, Пан Армениан Медиа Групп</td>\n",
       "      <td>Армения</td>\n",
       "      <td>Грач Кешишян</td>\n",
       "      <td>Грач Кешишян</td>\n",
       "      <td>«12+» - для детей старше 12 лет</td>\n",
       "      <td>0.0</td>\n",
       "      <td>0.0</td>\n",
       "      <td>0.0</td>\n",
       "      <td>0</td>\n",
       "      <td>7.9</td>\n",
       "      <td>биография</td>\n",
       "      <td>0.0</td>\n",
       "    </tr>\n",
       "    <tr>\n",
       "      <th>1126</th>\n",
       "      <td>Марафон</td>\n",
       "      <td>111006712</td>\n",
       "      <td>2012-12-18 12:00:00</td>\n",
       "      <td>Художественный</td>\n",
       "      <td>ООО \"Синема Арт Студио\"</td>\n",
       "      <td>Россия</td>\n",
       "      <td>К.Оганесян</td>\n",
       "      <td>К.Оганесян</td>\n",
       "      <td>«16+» - для детей старше 16 лет</td>\n",
       "      <td>0.0</td>\n",
       "      <td>0.0</td>\n",
       "      <td>0.0</td>\n",
       "      <td>0</td>\n",
       "      <td>5.5</td>\n",
       "      <td>комедия,мелодрама</td>\n",
       "      <td>0.0</td>\n",
       "    </tr>\n",
       "    <tr>\n",
       "      <th>1387</th>\n",
       "      <td>Экзамен для двоих /По роману Джин Ханфф Корелитц/</td>\n",
       "      <td>121014613</td>\n",
       "      <td>2013-06-11 12:00:00</td>\n",
       "      <td>Художественный</td>\n",
       "      <td>Депф оф Филд</td>\n",
       "      <td>США</td>\n",
       "      <td>Пол Вайц</td>\n",
       "      <td>Пол Вайц, Керри Кохански, Эндрю Миано</td>\n",
       "      <td>«12+» - для детей старше 12 лет</td>\n",
       "      <td>0.0</td>\n",
       "      <td>0.0</td>\n",
       "      <td>0.0</td>\n",
       "      <td>0</td>\n",
       "      <td>5.8</td>\n",
       "      <td>мелодрама,комедия,драма</td>\n",
       "      <td>0.0</td>\n",
       "    </tr>\n",
       "    <tr>\n",
       "      <th>1559</th>\n",
       "      <td>Последняя любовь мистера Моргана /По роману Фр...</td>\n",
       "      <td>121002614</td>\n",
       "      <td>2014-02-11 12:00:00</td>\n",
       "      <td>Художественный</td>\n",
       "      <td>Камински Штим Фильм, Бавариа Пикчерз, Сенатор ...</td>\n",
       "      <td>Германия - Бельгия - США -Франция</td>\n",
       "      <td>Сандра Неттельбек</td>\n",
       "      <td>Франк Камински, Астрид Камке, Филипп Кройцер, ...</td>\n",
       "      <td>«16+» - для детей старше 16 лет</td>\n",
       "      <td>0.0</td>\n",
       "      <td>0.0</td>\n",
       "      <td>0.0</td>\n",
       "      <td>0</td>\n",
       "      <td>6.9</td>\n",
       "      <td>драма</td>\n",
       "      <td>0.0</td>\n",
       "    </tr>\n",
       "    <tr>\n",
       "      <th>1772</th>\n",
       "      <td>Весёлые ребята ;)</td>\n",
       "      <td>111002414</td>\n",
       "      <td>2014-02-27 12:00:00</td>\n",
       "      <td>Художественный</td>\n",
       "      <td>ЗАО \"ПРОДЮСЕРСКАЯ КОМПАНИЯ ВАЛЕРИЯ ТОДОРОВСКОГО\"</td>\n",
       "      <td>Россия</td>\n",
       "      <td>А.Бобров</td>\n",
       "      <td>В.Тодоровский</td>\n",
       "      <td>«6+» - для детей старше 6 лет</td>\n",
       "      <td>0.0</td>\n",
       "      <td>0.0</td>\n",
       "      <td>0.0</td>\n",
       "      <td>0</td>\n",
       "      <td>NaN</td>\n",
       "      <td>unknown</td>\n",
       "      <td>0.0</td>\n",
       "    </tr>\n",
       "    <tr>\n",
       "      <th>1782</th>\n",
       "      <td>Анжелика, маркиза ангелов</td>\n",
       "      <td>121031913</td>\n",
       "      <td>2013-12-12 12:00:00</td>\n",
       "      <td>Художественный</td>\n",
       "      <td>Европа Корп., МонаФилм, ВилмаФилм</td>\n",
       "      <td>Франция</td>\n",
       "      <td>Ариэль Зейтун</td>\n",
       "      <td>Эммануэль Жаклин, Павел Солк, Филипп Херинг</td>\n",
       "      <td>«16+» - для детей старше 16 лет</td>\n",
       "      <td>0.0</td>\n",
       "      <td>0.0</td>\n",
       "      <td>0.0</td>\n",
       "      <td>0</td>\n",
       "      <td>8.0</td>\n",
       "      <td>драма,мелодрама,приключения</td>\n",
       "      <td>0.0</td>\n",
       "    </tr>\n",
       "    <tr>\n",
       "      <th>1978</th>\n",
       "      <td>Люблю твою жену</td>\n",
       "      <td>121013014</td>\n",
       "      <td>2014-06-23 12:00:00</td>\n",
       "      <td>Художественный</td>\n",
       "      <td>Серендипити Пойнт Фильм, Номадик Пикчерз</td>\n",
       "      <td>Канада</td>\n",
       "      <td>Джеримайя С.Чечик</td>\n",
       "      <td>Стефен Аликс, Эри Лантос, Роберт Лантош</td>\n",
       "      <td>«16+» - для детей старше 16 лет</td>\n",
       "      <td>0.0</td>\n",
       "      <td>0.0</td>\n",
       "      <td>0.0</td>\n",
       "      <td>0</td>\n",
       "      <td>6.0</td>\n",
       "      <td>мелодрама,комедия</td>\n",
       "      <td>0.0</td>\n",
       "    </tr>\n",
       "    <tr>\n",
       "      <th>2037</th>\n",
       "      <td>Кино про Алексеева</td>\n",
       "      <td>111007114</td>\n",
       "      <td>2014-07-18 12:00:00</td>\n",
       "      <td>Художественный</td>\n",
       "      <td>ООО \"Кинокомпания \"Новые люди\"</td>\n",
       "      <td>Россия</td>\n",
       "      <td>М.Сегал</td>\n",
       "      <td>Н.Мокрицкая</td>\n",
       "      <td>«12+» - для детей старше 12 лет</td>\n",
       "      <td>0.0</td>\n",
       "      <td>0.0</td>\n",
       "      <td>0.0</td>\n",
       "      <td>0</td>\n",
       "      <td>6.9</td>\n",
       "      <td>драма</td>\n",
       "      <td>0.0</td>\n",
       "    </tr>\n",
       "    <tr>\n",
       "      <th>2078</th>\n",
       "      <td>Курбан-роман. (История с жертвой).</td>\n",
       "      <td>111009614</td>\n",
       "      <td>2014-09-02 12:00:00</td>\n",
       "      <td>Художественный</td>\n",
       "      <td>ФОНД \"ИННОВАЦИЯ\"</td>\n",
       "      <td>Россия</td>\n",
       "      <td>С.Юзеев</td>\n",
       "      <td>М.Галицкая</td>\n",
       "      <td>«12+» - для детей старше 12 лет</td>\n",
       "      <td>0.0</td>\n",
       "      <td>0.0</td>\n",
       "      <td>0.0</td>\n",
       "      <td>0</td>\n",
       "      <td>NaN</td>\n",
       "      <td>unknown</td>\n",
       "      <td>0.0</td>\n",
       "    </tr>\n",
       "    <tr>\n",
       "      <th>2126</th>\n",
       "      <td>Поездка к матери</td>\n",
       "      <td>111002015</td>\n",
       "      <td>2015-03-02 12:00:00</td>\n",
       "      <td>Художественный</td>\n",
       "      <td>ЗАО \"Киностудия \"М\"-Фильм\"</td>\n",
       "      <td>Россия</td>\n",
       "      <td>М.Косырев-Нестеров</td>\n",
       "      <td>М.Косырев-Нестеров</td>\n",
       "      <td>«16+» - для детей старше 16 лет</td>\n",
       "      <td>0.0</td>\n",
       "      <td>0.0</td>\n",
       "      <td>0.0</td>\n",
       "      <td>0</td>\n",
       "      <td>NaN</td>\n",
       "      <td>драма,семейный</td>\n",
       "      <td>0.0</td>\n",
       "    </tr>\n",
       "    <tr>\n",
       "      <th>2219</th>\n",
       "      <td>Прогулка по солнечному свету</td>\n",
       "      <td>121011614</td>\n",
       "      <td>2014-06-11 12:00:00</td>\n",
       "      <td>Художественный</td>\n",
       "      <td>Вертиго Филмз, АйЭм Глобал</td>\n",
       "      <td>Великобритания</td>\n",
       "      <td>Макс Джива, Дания Пасквини</td>\n",
       "      <td>Кэролайн Леви, Эллан Нибло, Джеймс Ричардсон</td>\n",
       "      <td>«12+» - для детей старше 12 лет</td>\n",
       "      <td>0.0</td>\n",
       "      <td>0.0</td>\n",
       "      <td>0.0</td>\n",
       "      <td>0</td>\n",
       "      <td>6.1</td>\n",
       "      <td>мюзикл,драма,мелодрама</td>\n",
       "      <td>0.0</td>\n",
       "    </tr>\n",
       "    <tr>\n",
       "      <th>2442</th>\n",
       "      <td>Звездный мальчик</td>\n",
       "      <td>111013915</td>\n",
       "      <td>2015-08-25 12:00:00</td>\n",
       "      <td>Художественный</td>\n",
       "      <td>Киностудия \"Мосфильм\"</td>\n",
       "      <td>СССР</td>\n",
       "      <td>Е.Зильберштейн, А.Дудоров</td>\n",
       "      <td>unknown</td>\n",
       "      <td>«0+» - для любой зрительской аудитории</td>\n",
       "      <td>0.0</td>\n",
       "      <td>0.0</td>\n",
       "      <td>0.0</td>\n",
       "      <td>0</td>\n",
       "      <td>7.5</td>\n",
       "      <td>драма</td>\n",
       "      <td>0.0</td>\n",
       "    </tr>\n",
       "    <tr>\n",
       "      <th>2685</th>\n",
       "      <td>ПУСТЬ ТАК БУДЕТ</td>\n",
       "      <td>111009815</td>\n",
       "      <td>2015-06-01 12:00:00</td>\n",
       "      <td>Художественный</td>\n",
       "      <td>ООО ПРОДЮСЕРСКАЯ КОМПАНИЯ \"ДЕРЖАВА\"</td>\n",
       "      <td>Россия</td>\n",
       "      <td>О.Смольников</td>\n",
       "      <td>К.Лавров, Ю.Потапова, В.Бутер, С.Прудников, С....</td>\n",
       "      <td>«12+» - для детей старше 12 лет</td>\n",
       "      <td>0.0</td>\n",
       "      <td>0.0</td>\n",
       "      <td>0.0</td>\n",
       "      <td>0</td>\n",
       "      <td>NaN</td>\n",
       "      <td>unknown</td>\n",
       "      <td>0.0</td>\n",
       "    </tr>\n",
       "    <tr>\n",
       "      <th>3595</th>\n",
       "      <td>Ананас</td>\n",
       "      <td>111017116</td>\n",
       "      <td>2016-11-10 12:00:00</td>\n",
       "      <td>Художественный</td>\n",
       "      <td>Рудак Владимир Иванович</td>\n",
       "      <td>Россия</td>\n",
       "      <td>В.Рудак</td>\n",
       "      <td>В.Рудак, А.Бабенко</td>\n",
       "      <td>«16+» - для детей старше 16 лет</td>\n",
       "      <td>0.0</td>\n",
       "      <td>0.0</td>\n",
       "      <td>0.0</td>\n",
       "      <td>0</td>\n",
       "      <td>6.7</td>\n",
       "      <td>боевик,комедия,криминал</td>\n",
       "      <td>0.0</td>\n",
       "    </tr>\n",
       "    <tr>\n",
       "      <th>3827</th>\n",
       "      <td>Москва, я люблю тебя</td>\n",
       "      <td>111001610</td>\n",
       "      <td>2010-02-09 12:00:00</td>\n",
       "      <td>Художественный</td>\n",
       "      <td>ООО \"БФГ-МЕДИА-ПРОДАКШН\", ООО \"Продюсерская ко...</td>\n",
       "      <td>Россия</td>\n",
       "      <td>Г.Михалков, Г.Натансон, В.Сторожева, А.Касатки...</td>\n",
       "      <td>Ю.Глоцер, Ю.Гинзбург</td>\n",
       "      <td>«16+» - для детей старше 16 лет</td>\n",
       "      <td>0.0</td>\n",
       "      <td>0.0</td>\n",
       "      <td>0.0</td>\n",
       "      <td>0</td>\n",
       "      <td>4.5</td>\n",
       "      <td>мелодрама,комедия</td>\n",
       "      <td>0.0</td>\n",
       "    </tr>\n",
       "    <tr>\n",
       "      <th>3994</th>\n",
       "      <td>Стать Джоном Ленноном</td>\n",
       "      <td>121008610</td>\n",
       "      <td>2010-05-05 12:00:00</td>\n",
       "      <td>Художественный</td>\n",
       "      <td>Авер Медиа, Экосси Филмз, Филм 4, Норс Вест Ви...</td>\n",
       "      <td>Канада-Великобритания</td>\n",
       "      <td>Сэм Тейлор Вуд</td>\n",
       "      <td>Роберт Бернштейн, Кевин Лоудер, Дуглас Рэй</td>\n",
       "      <td>«16+» - для детей старше 16 лет</td>\n",
       "      <td>0.0</td>\n",
       "      <td>0.0</td>\n",
       "      <td>0.0</td>\n",
       "      <td>0</td>\n",
       "      <td>7.5</td>\n",
       "      <td>драма,мелодрама,биография</td>\n",
       "      <td>0.0</td>\n",
       "    </tr>\n",
       "    <tr>\n",
       "      <th>4066</th>\n",
       "      <td>Дерево.</td>\n",
       "      <td>121020210</td>\n",
       "      <td>2010-11-03 12:00:00</td>\n",
       "      <td>Художественный</td>\n",
       "      <td>Ле Фильм Дю Позьон, Тэйлор Медиа, Скрин Ауастр...</td>\n",
       "      <td>Франция-Австралия</td>\n",
       "      <td>Жюли Бертучелли</td>\n",
       "      <td>unknown</td>\n",
       "      <td>«16+» - для детей старше 16 лет</td>\n",
       "      <td>0.0</td>\n",
       "      <td>0.0</td>\n",
       "      <td>0.0</td>\n",
       "      <td>0</td>\n",
       "      <td>NaN</td>\n",
       "      <td>unknown</td>\n",
       "      <td>0.0</td>\n",
       "    </tr>\n",
       "    <tr>\n",
       "      <th>4790</th>\n",
       "      <td>КРАСНЫЙ ЛЕД. Сага о хантах Югры</td>\n",
       "      <td>111005910</td>\n",
       "      <td>2010-06-04 12:00:00</td>\n",
       "      <td>Художественный</td>\n",
       "      <td>Департамент культуры и искусства ХМАО-Югры, ОО...</td>\n",
       "      <td>Россия</td>\n",
       "      <td>О.Фесенко</td>\n",
       "      <td>О.Урушев</td>\n",
       "      <td>«16+» - для детей старше 16 лет</td>\n",
       "      <td>0.0</td>\n",
       "      <td>0.0</td>\n",
       "      <td>0.0</td>\n",
       "      <td>0</td>\n",
       "      <td>4.5</td>\n",
       "      <td>драма,история</td>\n",
       "      <td>0.0</td>\n",
       "    </tr>\n",
       "  </tbody>\n",
       "</table>\n",
       "</div>"
      ],
      "text/plain": [
       "                                                  title  pu_number  \\\n",
       "66                                         Анна Павлова  111011013   \n",
       "237                                            Подранки  111007613   \n",
       "596                                       Запах вереска  111003012   \n",
       "914     В тумане /По одноименной повести Василя Быкова/  121027712   \n",
       "932                                     Письмо для Момо  124002912   \n",
       "933                                        Летние войны  124002812   \n",
       "976                                        Гарегин Нжде  131000213   \n",
       "1126                                            Марафон  111006712   \n",
       "1387  Экзамен для двоих /По роману Джин Ханфф Корелитц/  121014613   \n",
       "1559  Последняя любовь мистера Моргана /По роману Фр...  121002614   \n",
       "1772                                  Весёлые ребята ;)  111002414   \n",
       "1782                          Анжелика, маркиза ангелов  121031913   \n",
       "1978                                    Люблю твою жену  121013014   \n",
       "2037                                 Кино про Алексеева  111007114   \n",
       "2078                 Курбан-роман. (История с жертвой).  111009614   \n",
       "2126                                   Поездка к матери  111002015   \n",
       "2219                       Прогулка по солнечному свету  121011614   \n",
       "2442                                   Звездный мальчик  111013915   \n",
       "2685                                    ПУСТЬ ТАК БУДЕТ  111009815   \n",
       "3595                                             Ананас  111017116   \n",
       "3827                               Москва, я люблю тебя  111001610   \n",
       "3994                              Стать Джоном Ленноном  121008610   \n",
       "4066                                            Дерево.  121020210   \n",
       "4790                    КРАСНЫЙ ЛЕД. Сага о хантах Югры  111005910   \n",
       "\n",
       "         show_start_date            type  \\\n",
       "66   2013-12-19 12:00:00  Художественный   \n",
       "237  2013-10-18 12:00:00  Художественный   \n",
       "596  2012-05-23 12:00:00  Художественный   \n",
       "914  2012-11-07 12:00:00  Художественный   \n",
       "932  2012-10-25 12:00:00    Анимационный   \n",
       "933  2012-10-25 12:00:00    Анимационный   \n",
       "976  2013-04-23 12:00:00  Художественный   \n",
       "1126 2012-12-18 12:00:00  Художественный   \n",
       "1387 2013-06-11 12:00:00  Художественный   \n",
       "1559 2014-02-11 12:00:00  Художественный   \n",
       "1772 2014-02-27 12:00:00  Художественный   \n",
       "1782 2013-12-12 12:00:00  Художественный   \n",
       "1978 2014-06-23 12:00:00  Художественный   \n",
       "2037 2014-07-18 12:00:00  Художественный   \n",
       "2078 2014-09-02 12:00:00  Художественный   \n",
       "2126 2015-03-02 12:00:00  Художественный   \n",
       "2219 2014-06-11 12:00:00  Художественный   \n",
       "2442 2015-08-25 12:00:00  Художественный   \n",
       "2685 2015-06-01 12:00:00  Художественный   \n",
       "3595 2016-11-10 12:00:00  Художественный   \n",
       "3827 2010-02-09 12:00:00  Художественный   \n",
       "3994 2010-05-05 12:00:00  Художественный   \n",
       "4066 2010-11-03 12:00:00  Художественный   \n",
       "4790 2010-06-04 12:00:00  Художественный   \n",
       "\n",
       "                                            film_studio  \\\n",
       "66    совместное производство Киностудия \"Мосфильм\",...   \n",
       "237                               Киностудия \"Мосфильм\"   \n",
       "596                                    ООО \"Студия РИМ\"   \n",
       "914   Ма Йа Де Фикшн, Лемминг Филм, Беларусьфильм, Д...   \n",
       "932   Кадокава Пикчерз, Продакшнз И Джи, Токио Броад...   \n",
       "933   Медхауз, Ниппон Телевижн Нетуорк Корпорейшн, К...   \n",
       "976      Эй Джи Кей Продакшнз, Пан Армениан Медиа Групп   \n",
       "1126                            ООО \"Синема Арт Студио\"   \n",
       "1387                                       Депф оф Филд   \n",
       "1559  Камински Штим Фильм, Бавариа Пикчерз, Сенатор ...   \n",
       "1772   ЗАО \"ПРОДЮСЕРСКАЯ КОМПАНИЯ ВАЛЕРИЯ ТОДОРОВСКОГО\"   \n",
       "1782                  Европа Корп., МонаФилм, ВилмаФилм   \n",
       "1978           Серендипити Пойнт Фильм, Номадик Пикчерз   \n",
       "2037                     ООО \"Кинокомпания \"Новые люди\"   \n",
       "2078                                   ФОНД \"ИННОВАЦИЯ\"   \n",
       "2126                         ЗАО \"Киностудия \"М\"-Фильм\"   \n",
       "2219                         Вертиго Филмз, АйЭм Глобал   \n",
       "2442                              Киностудия \"Мосфильм\"   \n",
       "2685                ООО ПРОДЮСЕРСКАЯ КОМПАНИЯ \"ДЕРЖАВА\"   \n",
       "3595                            Рудак Владимир Иванович   \n",
       "3827  ООО \"БФГ-МЕДИА-ПРОДАКШН\", ООО \"Продюсерская ко...   \n",
       "3994  Авер Медиа, Экосси Филмз, Филм 4, Норс Вест Ви...   \n",
       "4066  Ле Фильм Дю Позьон, Тэйлор Медиа, Скрин Ауастр...   \n",
       "4790  Департамент культуры и искусства ХМАО-Югры, ОО...   \n",
       "\n",
       "                                     production_country  \\\n",
       "66                     СССР, Франция, Англия, Куба, ГДР   \n",
       "237                                                СССР   \n",
       "596                                              Россия   \n",
       "914   Германия - Нидерланды - Беларусь - Россия - Ла...   \n",
       "932                                              Япония   \n",
       "933                                              Япония   \n",
       "976                                             Армения   \n",
       "1126                                             Россия   \n",
       "1387                                                США   \n",
       "1559                  Германия - Бельгия - США -Франция   \n",
       "1772                                             Россия   \n",
       "1782                                            Франция   \n",
       "1978                                             Канада   \n",
       "2037                                             Россия   \n",
       "2078                                             Россия   \n",
       "2126                                             Россия   \n",
       "2219                                     Великобритания   \n",
       "2442                                               СССР   \n",
       "2685                                             Россия   \n",
       "3595                                             Россия   \n",
       "3827                                             Россия   \n",
       "3994                              Канада-Великобритания   \n",
       "4066                                  Франция-Австралия   \n",
       "4790                                             Россия   \n",
       "\n",
       "                                               director  \\\n",
       "66                                         Эмиль Лотяну   \n",
       "237                                           Н.Губенко   \n",
       "596                                         А.Магомедов   \n",
       "914                                      Сергей Лозница   \n",
       "932                                      Окиура Хироюки   \n",
       "933                                       Мамору Хосода   \n",
       "976                                        Грач Кешишян   \n",
       "1126                                         К.Оганесян   \n",
       "1387                                           Пол Вайц   \n",
       "1559                                  Сандра Неттельбек   \n",
       "1772                                           А.Бобров   \n",
       "1782                                      Ариэль Зейтун   \n",
       "1978                                  Джеримайя С.Чечик   \n",
       "2037                                            М.Сегал   \n",
       "2078                                            С.Юзеев   \n",
       "2126                                 М.Косырев-Нестеров   \n",
       "2219                         Макс Джива, Дания Пасквини   \n",
       "2442                          Е.Зильберштейн, А.Дудоров   \n",
       "2685                                       О.Смольников   \n",
       "3595                                            В.Рудак   \n",
       "3827  Г.Михалков, Г.Натансон, В.Сторожева, А.Касатки...   \n",
       "3994                                     Сэм Тейлор Вуд   \n",
       "4066                                    Жюли Бертучелли   \n",
       "4790                                          О.Фесенко   \n",
       "\n",
       "                                               producer  \\\n",
       "66                                              unknown   \n",
       "237                                             unknown   \n",
       "596                               М.Балашова, Е.Миронов   \n",
       "914                                        Хайно Декерт   \n",
       "932     Хироюки Икеда, Митсухиса Ишикава, Кацзуя Хамана   \n",
       "933   Такафуми Ватанабэ, Такуя Ито, Сэйдзи Окуда, Юи...   \n",
       "976                                        Грач Кешишян   \n",
       "1126                                         К.Оганесян   \n",
       "1387              Пол Вайц, Керри Кохански, Эндрю Миано   \n",
       "1559  Франк Камински, Астрид Камке, Филипп Кройцер, ...   \n",
       "1772                                      В.Тодоровский   \n",
       "1782        Эммануэль Жаклин, Павел Солк, Филипп Херинг   \n",
       "1978            Стефен Аликс, Эри Лантос, Роберт Лантош   \n",
       "2037                                        Н.Мокрицкая   \n",
       "2078                                         М.Галицкая   \n",
       "2126                                 М.Косырев-Нестеров   \n",
       "2219       Кэролайн Леви, Эллан Нибло, Джеймс Ричардсон   \n",
       "2442                                            unknown   \n",
       "2685  К.Лавров, Ю.Потапова, В.Бутер, С.Прудников, С....   \n",
       "3595                                 В.Рудак, А.Бабенко   \n",
       "3827                               Ю.Глоцер, Ю.Гинзбург   \n",
       "3994         Роберт Бернштейн, Кевин Лоудер, Дуглас Рэй   \n",
       "4066                                            unknown   \n",
       "4790                                           О.Урушев   \n",
       "\n",
       "                             age_restriction  refundable_support  \\\n",
       "66             «6+» - для детей старше 6 лет                 0.0   \n",
       "237          «12+» - для детей старше 12 лет                 0.0   \n",
       "596          «16+» - для детей старше 16 лет                 0.0   \n",
       "914          «12+» - для детей старше 12 лет                 0.0   \n",
       "932          «12+» - для детей старше 12 лет                 0.0   \n",
       "933          «12+» - для детей старше 12 лет                 0.0   \n",
       "976          «12+» - для детей старше 12 лет                 0.0   \n",
       "1126         «16+» - для детей старше 16 лет                 0.0   \n",
       "1387         «12+» - для детей старше 12 лет                 0.0   \n",
       "1559         «16+» - для детей старше 16 лет                 0.0   \n",
       "1772           «6+» - для детей старше 6 лет                 0.0   \n",
       "1782         «16+» - для детей старше 16 лет                 0.0   \n",
       "1978         «16+» - для детей старше 16 лет                 0.0   \n",
       "2037         «12+» - для детей старше 12 лет                 0.0   \n",
       "2078         «12+» - для детей старше 12 лет                 0.0   \n",
       "2126         «16+» - для детей старше 16 лет                 0.0   \n",
       "2219         «12+» - для детей старше 12 лет                 0.0   \n",
       "2442  «0+» - для любой зрительской аудитории                 0.0   \n",
       "2685         «12+» - для детей старше 12 лет                 0.0   \n",
       "3595         «16+» - для детей старше 16 лет                 0.0   \n",
       "3827         «16+» - для детей старше 16 лет                 0.0   \n",
       "3994         «16+» - для детей старше 16 лет                 0.0   \n",
       "4066         «16+» - для детей старше 16 лет                 0.0   \n",
       "4790         «16+» - для детей старше 16 лет                 0.0   \n",
       "\n",
       "      nonrefundable_support  budget financing_source  ratings  \\\n",
       "66                      0.0     0.0                0      7.7   \n",
       "237                     0.0     0.0                0      8.2   \n",
       "596                     0.0     0.0                0      6.3   \n",
       "914                     0.0     0.0                0      6.5   \n",
       "932                     0.0     0.0                0      7.4   \n",
       "933                     0.0     0.0                0      7.7   \n",
       "976                     0.0     0.0                0      7.9   \n",
       "1126                    0.0     0.0                0      5.5   \n",
       "1387                    0.0     0.0                0      5.8   \n",
       "1559                    0.0     0.0                0      6.9   \n",
       "1772                    0.0     0.0                0      NaN   \n",
       "1782                    0.0     0.0                0      8.0   \n",
       "1978                    0.0     0.0                0      6.0   \n",
       "2037                    0.0     0.0                0      6.9   \n",
       "2078                    0.0     0.0                0      NaN   \n",
       "2126                    0.0     0.0                0      NaN   \n",
       "2219                    0.0     0.0                0      6.1   \n",
       "2442                    0.0     0.0                0      7.5   \n",
       "2685                    0.0     0.0                0      NaN   \n",
       "3595                    0.0     0.0                0      6.7   \n",
       "3827                    0.0     0.0                0      4.5   \n",
       "3994                    0.0     0.0                0      7.5   \n",
       "4066                    0.0     0.0                0      NaN   \n",
       "4790                    0.0     0.0                0      4.5   \n",
       "\n",
       "                           genres  box_office  \n",
       "66         драма,биография,музыка         0.0  \n",
       "237                         драма         0.0  \n",
       "596                       комедия         0.0  \n",
       "914         драма,военный,история         0.0  \n",
       "932        аниме,мультфильм,драма         0.0  \n",
       "933   аниме,мультфильм,фантастика         0.0  \n",
       "976                     биография         0.0  \n",
       "1126            комедия,мелодрама         0.0  \n",
       "1387      мелодрама,комедия,драма         0.0  \n",
       "1559                        драма         0.0  \n",
       "1772                      unknown         0.0  \n",
       "1782  драма,мелодрама,приключения         0.0  \n",
       "1978            мелодрама,комедия         0.0  \n",
       "2037                        драма         0.0  \n",
       "2078                      unknown         0.0  \n",
       "2126               драма,семейный         0.0  \n",
       "2219       мюзикл,драма,мелодрама         0.0  \n",
       "2442                        драма         0.0  \n",
       "2685                      unknown         0.0  \n",
       "3595      боевик,комедия,криминал         0.0  \n",
       "3827            мелодрама,комедия         0.0  \n",
       "3994    драма,мелодрама,биография         0.0  \n",
       "4066                      unknown         0.0  \n",
       "4790                драма,история         0.0  "
      ]
     },
     "execution_count": 32,
     "metadata": {},
     "output_type": "execute_result"
    }
   ],
   "source": [
    "df[(df['box_office'].notnull()) &(df['box_office']<10)]"
   ]
  },
  {
   "cell_type": "code",
   "execution_count": 33,
   "metadata": {},
   "outputs": [
    {
     "data": {
      "text/html": [
       "<div>\n",
       "<style scoped>\n",
       "    .dataframe tbody tr th:only-of-type {\n",
       "        vertical-align: middle;\n",
       "    }\n",
       "\n",
       "    .dataframe tbody tr th {\n",
       "        vertical-align: top;\n",
       "    }\n",
       "\n",
       "    .dataframe thead th {\n",
       "        text-align: right;\n",
       "    }\n",
       "</style>\n",
       "<table border=\"1\" class=\"dataframe\">\n",
       "  <thead>\n",
       "    <tr style=\"text-align: right;\">\n",
       "      <th></th>\n",
       "      <th>title</th>\n",
       "      <th>pu_number</th>\n",
       "      <th>show_start_date</th>\n",
       "      <th>type</th>\n",
       "      <th>film_studio</th>\n",
       "      <th>production_country</th>\n",
       "      <th>director</th>\n",
       "      <th>producer</th>\n",
       "      <th>age_restriction</th>\n",
       "      <th>refundable_support</th>\n",
       "      <th>nonrefundable_support</th>\n",
       "      <th>budget</th>\n",
       "      <th>financing_source</th>\n",
       "      <th>ratings</th>\n",
       "      <th>genres</th>\n",
       "      <th>box_office</th>\n",
       "    </tr>\n",
       "  </thead>\n",
       "  <tbody>\n",
       "    <tr>\n",
       "      <th>2472</th>\n",
       "      <td>Воин (2015)</td>\n",
       "      <td>111017315</td>\n",
       "      <td>2015-09-28 12:00:00</td>\n",
       "      <td>Художественный</td>\n",
       "      <td>ООО \"Форпост Продакшн\", ООО \"Арт Пикчерс Студия\"</td>\n",
       "      <td>Россия</td>\n",
       "      <td>А.Андрианов</td>\n",
       "      <td>ООО \"Арт Пикчерс Студия\"</td>\n",
       "      <td>«12+» - для детей старше 12 лет</td>\n",
       "      <td>10000000.0</td>\n",
       "      <td>70000000.0</td>\n",
       "      <td>0.0</td>\n",
       "      <td>Фонд кино</td>\n",
       "      <td>7.8</td>\n",
       "      <td>боевик,драма,криминал</td>\n",
       "      <td>1.965724e+08</td>\n",
       "    </tr>\n",
       "    <tr>\n",
       "      <th>2532</th>\n",
       "      <td>Бармен.</td>\n",
       "      <td>111009615</td>\n",
       "      <td>2015-05-26 12:00:00</td>\n",
       "      <td>Художественный</td>\n",
       "      <td>АО \"ВайТ Медиа\", ООО \"Арт Пикчерс Студия\"</td>\n",
       "      <td>Россия</td>\n",
       "      <td>Д.Штурманова</td>\n",
       "      <td>Т.Вайнштейн</td>\n",
       "      <td>«16+» - для детей старше 16 лет</td>\n",
       "      <td>20000000.0</td>\n",
       "      <td>0.0</td>\n",
       "      <td>0.0</td>\n",
       "      <td>Фонд кино</td>\n",
       "      <td>6.2</td>\n",
       "      <td>комедия,фэнтези</td>\n",
       "      <td>6.741897e+07</td>\n",
       "    </tr>\n",
       "    <tr>\n",
       "      <th>2615</th>\n",
       "      <td>Савва. Сердце воина</td>\n",
       "      <td>114001715</td>\n",
       "      <td>2015-07-21 12:00:00</td>\n",
       "      <td>Анимационный</td>\n",
       "      <td>ООО \"Глюкоза Продакшн\", ООО \"Арт Пикчерс Студия\"</td>\n",
       "      <td>Россия</td>\n",
       "      <td>М.Фадеев</td>\n",
       "      <td>А.Чистяков</td>\n",
       "      <td>«6+» - для детей старше 6 лет</td>\n",
       "      <td>60000000.0</td>\n",
       "      <td>100000000.0</td>\n",
       "      <td>0.0</td>\n",
       "      <td>Фонд кино</td>\n",
       "      <td>4.6</td>\n",
       "      <td>мультфильм,приключения,фэнтези</td>\n",
       "      <td>1.844876e+08</td>\n",
       "    </tr>\n",
       "    <tr>\n",
       "      <th>3047</th>\n",
       "      <td>Любовь с ограничениями</td>\n",
       "      <td>111008216</td>\n",
       "      <td>2016-04-29 12:00:00</td>\n",
       "      <td>Художественный</td>\n",
       "      <td>АО \"ВайТ Медиа\", ООО \"Арт Пикчерс Студия\"</td>\n",
       "      <td>Россия</td>\n",
       "      <td>Д.Тюрин</td>\n",
       "      <td>Ф.Бондарчук, Т.Вайнштейн, Д.Рудовский</td>\n",
       "      <td>«16+» - для детей старше 16 лет</td>\n",
       "      <td>19000000.0</td>\n",
       "      <td>51000000.0</td>\n",
       "      <td>0.0</td>\n",
       "      <td>Фонд кино</td>\n",
       "      <td>6.3</td>\n",
       "      <td>комедия,мелодрама</td>\n",
       "      <td>7.029905e+07</td>\n",
       "    </tr>\n",
       "    <tr>\n",
       "      <th>3675</th>\n",
       "      <td>Чудо-юдо</td>\n",
       "      <td>114001817</td>\n",
       "      <td>2017-06-27 12:00:00</td>\n",
       "      <td>Анимационный</td>\n",
       "      <td>ООО \"КиноФирма\"</td>\n",
       "      <td>Россия</td>\n",
       "      <td>А.Лукичев</td>\n",
       "      <td>ООО \"КиноФирма\"</td>\n",
       "      <td>«6+» - для детей старше 6 лет</td>\n",
       "      <td>20000000.0</td>\n",
       "      <td>20000000.0</td>\n",
       "      <td>0.0</td>\n",
       "      <td>Фонд кино</td>\n",
       "      <td>5.2</td>\n",
       "      <td>мультфильм,фэнтези,семейный</td>\n",
       "      <td>5.510801e+07</td>\n",
       "    </tr>\n",
       "    <tr>\n",
       "      <th>3739</th>\n",
       "      <td>Мифы</td>\n",
       "      <td>111004317</td>\n",
       "      <td>2017-06-07 12:00:00</td>\n",
       "      <td>Художественный</td>\n",
       "      <td>ООО \"ХАЙПФИЛМ\", ООО \"Арт Пикчерс Студия\"</td>\n",
       "      <td>Россия</td>\n",
       "      <td>А.Молочников</td>\n",
       "      <td>Ф.Бондарчук, Д.Рудовский, И.Стюарт, М.Османн, ...</td>\n",
       "      <td>«16+» - для детей старше 16 лет</td>\n",
       "      <td>25000000.0</td>\n",
       "      <td>20000000.0</td>\n",
       "      <td>0.0</td>\n",
       "      <td>Фонд кино</td>\n",
       "      <td>4.8</td>\n",
       "      <td>комедия</td>\n",
       "      <td>5.045195e+07</td>\n",
       "    </tr>\n",
       "    <tr>\n",
       "      <th>5673</th>\n",
       "      <td>Селфи</td>\n",
       "      <td>111012117</td>\n",
       "      <td>2018-02-01 12:00:00</td>\n",
       "      <td>Художественный</td>\n",
       "      <td>ООО \"Киностудия \"Слово\", ООО \"Арт Пикчерс Студия\"</td>\n",
       "      <td>Россия</td>\n",
       "      <td>Н.Хомерики</td>\n",
       "      <td>П.Ануров, Ф.Бондарчук, Д.Рудовский</td>\n",
       "      <td>«16+» - для детей старше 16 лет</td>\n",
       "      <td>20000000.0</td>\n",
       "      <td>40000000.0</td>\n",
       "      <td>0.0</td>\n",
       "      <td>Фонд кино</td>\n",
       "      <td>5.8</td>\n",
       "      <td>триллер,драма</td>\n",
       "      <td>2.251964e+08</td>\n",
       "    </tr>\n",
       "    <tr>\n",
       "      <th>5806</th>\n",
       "      <td>Два хвоста</td>\n",
       "      <td>114001018</td>\n",
       "      <td>2018-05-31 12:00:00</td>\n",
       "      <td>Анимационный</td>\n",
       "      <td>ООО \"ЛИЦЕНЗИОННЫЕ БРЕНДЫ\"</td>\n",
       "      <td>Россия</td>\n",
       "      <td>В.Ровенский, Н.Лопато, В.Азеев</td>\n",
       "      <td>ООО \"ЛИЦЕНЗИОННЫЕ БРЕНДЫ\"</td>\n",
       "      <td>«6+» - для детей старше 6 лет</td>\n",
       "      <td>10000000.0</td>\n",
       "      <td>60000000.0</td>\n",
       "      <td>0.0</td>\n",
       "      <td>Фонд кино</td>\n",
       "      <td>5.0</td>\n",
       "      <td>мультфильм,детский</td>\n",
       "      <td>1.065143e+08</td>\n",
       "    </tr>\n",
       "    <tr>\n",
       "      <th>6008</th>\n",
       "      <td>Принцесса и дракон</td>\n",
       "      <td>114003018</td>\n",
       "      <td>2018-08-23 12:00:00</td>\n",
       "      <td>Анимационный</td>\n",
       "      <td>ООО \"ЛИЦЕНЗИОННЫЕ БРЕНДЫ\"</td>\n",
       "      <td>Россия</td>\n",
       "      <td>М.Нефедова</td>\n",
       "      <td>ООО \"ЛИЦЕНЗИОННЫЕ БРЕНДЫ\"</td>\n",
       "      <td>«6+» - для детей старше 6 лет</td>\n",
       "      <td>40000000.0</td>\n",
       "      <td>40000000.0</td>\n",
       "      <td>0.0</td>\n",
       "      <td>Фонд кино</td>\n",
       "      <td>5.2</td>\n",
       "      <td>мультфильм,фэнтези,детский</td>\n",
       "      <td>8.336633e+07</td>\n",
       "    </tr>\n",
       "    <tr>\n",
       "      <th>6823</th>\n",
       "      <td>Большое путешествие</td>\n",
       "      <td>114002419</td>\n",
       "      <td>2019-04-20 12:00:00</td>\n",
       "      <td>Анимационный</td>\n",
       "      <td>ООО \"ЛИЦЕНЗИОННЫЕ БРЕНДЫ\"</td>\n",
       "      <td>Россия</td>\n",
       "      <td>Н.Лопато, В.Ровенский</td>\n",
       "      <td>ООО \"ЛИЦЕНЗИОННЫЕ БРЕНДЫ\"</td>\n",
       "      <td>«6+» - для детей старше 6 лет</td>\n",
       "      <td>60000000.0</td>\n",
       "      <td>120000000.0</td>\n",
       "      <td>0.0</td>\n",
       "      <td>Фонд кино</td>\n",
       "      <td>6.2</td>\n",
       "      <td>мультфильм,комедия,приключения</td>\n",
       "      <td>1.476068e+08</td>\n",
       "    </tr>\n",
       "  </tbody>\n",
       "</table>\n",
       "</div>"
      ],
      "text/plain": [
       "                       title  pu_number     show_start_date            type  \\\n",
       "2472             Воин (2015)  111017315 2015-09-28 12:00:00  Художественный   \n",
       "2532                 Бармен.  111009615 2015-05-26 12:00:00  Художественный   \n",
       "2615     Савва. Сердце воина  114001715 2015-07-21 12:00:00    Анимационный   \n",
       "3047  Любовь с ограничениями  111008216 2016-04-29 12:00:00  Художественный   \n",
       "3675                Чудо-юдо  114001817 2017-06-27 12:00:00    Анимационный   \n",
       "3739                    Мифы  111004317 2017-06-07 12:00:00  Художественный   \n",
       "5673                   Селфи  111012117 2018-02-01 12:00:00  Художественный   \n",
       "5806              Два хвоста  114001018 2018-05-31 12:00:00    Анимационный   \n",
       "6008      Принцесса и дракон  114003018 2018-08-23 12:00:00    Анимационный   \n",
       "6823     Большое путешествие  114002419 2019-04-20 12:00:00    Анимационный   \n",
       "\n",
       "                                            film_studio production_country  \\\n",
       "2472   ООО \"Форпост Продакшн\", ООО \"Арт Пикчерс Студия\"             Россия   \n",
       "2532          АО \"ВайТ Медиа\", ООО \"Арт Пикчерс Студия\"             Россия   \n",
       "2615   ООО \"Глюкоза Продакшн\", ООО \"Арт Пикчерс Студия\"             Россия   \n",
       "3047          АО \"ВайТ Медиа\", ООО \"Арт Пикчерс Студия\"             Россия   \n",
       "3675                                    ООО \"КиноФирма\"             Россия   \n",
       "3739           ООО \"ХАЙПФИЛМ\", ООО \"Арт Пикчерс Студия\"             Россия   \n",
       "5673  ООО \"Киностудия \"Слово\", ООО \"Арт Пикчерс Студия\"             Россия   \n",
       "5806                          ООО \"ЛИЦЕНЗИОННЫЕ БРЕНДЫ\"             Россия   \n",
       "6008                          ООО \"ЛИЦЕНЗИОННЫЕ БРЕНДЫ\"             Россия   \n",
       "6823                          ООО \"ЛИЦЕНЗИОННЫЕ БРЕНДЫ\"             Россия   \n",
       "\n",
       "                            director  \\\n",
       "2472                     А.Андрианов   \n",
       "2532                    Д.Штурманова   \n",
       "2615                        М.Фадеев   \n",
       "3047                         Д.Тюрин   \n",
       "3675                       А.Лукичев   \n",
       "3739                    А.Молочников   \n",
       "5673                      Н.Хомерики   \n",
       "5806  В.Ровенский, Н.Лопато, В.Азеев   \n",
       "6008                      М.Нефедова   \n",
       "6823           Н.Лопато, В.Ровенский   \n",
       "\n",
       "                                               producer  \\\n",
       "2472                           ООО \"Арт Пикчерс Студия\"   \n",
       "2532                                        Т.Вайнштейн   \n",
       "2615                                         А.Чистяков   \n",
       "3047              Ф.Бондарчук, Т.Вайнштейн, Д.Рудовский   \n",
       "3675                                    ООО \"КиноФирма\"   \n",
       "3739  Ф.Бондарчук, Д.Рудовский, И.Стюарт, М.Османн, ...   \n",
       "5673                 П.Ануров, Ф.Бондарчук, Д.Рудовский   \n",
       "5806                          ООО \"ЛИЦЕНЗИОННЫЕ БРЕНДЫ\"   \n",
       "6008                          ООО \"ЛИЦЕНЗИОННЫЕ БРЕНДЫ\"   \n",
       "6823                          ООО \"ЛИЦЕНЗИОННЫЕ БРЕНДЫ\"   \n",
       "\n",
       "                      age_restriction  refundable_support  \\\n",
       "2472  «12+» - для детей старше 12 лет          10000000.0   \n",
       "2532  «16+» - для детей старше 16 лет          20000000.0   \n",
       "2615    «6+» - для детей старше 6 лет          60000000.0   \n",
       "3047  «16+» - для детей старше 16 лет          19000000.0   \n",
       "3675    «6+» - для детей старше 6 лет          20000000.0   \n",
       "3739  «16+» - для детей старше 16 лет          25000000.0   \n",
       "5673  «16+» - для детей старше 16 лет          20000000.0   \n",
       "5806    «6+» - для детей старше 6 лет          10000000.0   \n",
       "6008    «6+» - для детей старше 6 лет          40000000.0   \n",
       "6823    «6+» - для детей старше 6 лет          60000000.0   \n",
       "\n",
       "      nonrefundable_support  budget financing_source  ratings  \\\n",
       "2472             70000000.0     0.0        Фонд кино      7.8   \n",
       "2532                    0.0     0.0        Фонд кино      6.2   \n",
       "2615            100000000.0     0.0        Фонд кино      4.6   \n",
       "3047             51000000.0     0.0        Фонд кино      6.3   \n",
       "3675             20000000.0     0.0        Фонд кино      5.2   \n",
       "3739             20000000.0     0.0        Фонд кино      4.8   \n",
       "5673             40000000.0     0.0        Фонд кино      5.8   \n",
       "5806             60000000.0     0.0        Фонд кино      5.0   \n",
       "6008             40000000.0     0.0        Фонд кино      5.2   \n",
       "6823            120000000.0     0.0        Фонд кино      6.2   \n",
       "\n",
       "                              genres    box_office  \n",
       "2472           боевик,драма,криминал  1.965724e+08  \n",
       "2532                 комедия,фэнтези  6.741897e+07  \n",
       "2615  мультфильм,приключения,фэнтези  1.844876e+08  \n",
       "3047               комедия,мелодрама  7.029905e+07  \n",
       "3675     мультфильм,фэнтези,семейный  5.510801e+07  \n",
       "3739                         комедия  5.045195e+07  \n",
       "5673                   триллер,драма  2.251964e+08  \n",
       "5806              мультфильм,детский  1.065143e+08  \n",
       "6008      мультфильм,фэнтези,детский  8.336633e+07  \n",
       "6823  мультфильм,комедия,приключения  1.476068e+08  "
      ]
     },
     "execution_count": 33,
     "metadata": {},
     "output_type": "execute_result"
    }
   ],
   "source": [
    "df[(df['budget']==0) &(df['refundable_support']>0)]"
   ]
  },
  {
   "cell_type": "markdown",
   "metadata": {},
   "source": [
    "*Зсоздадим столбец где у нас будут храниться данные по общей гос поддержке*"
   ]
  },
  {
   "cell_type": "code",
   "execution_count": 34,
   "metadata": {},
   "outputs": [],
   "source": [
    "df['total_support']=df['refundable_support']+df['nonrefundable_support']"
   ]
  },
  {
   "cell_type": "markdown",
   "metadata": {},
   "source": [
    "*Заполним пропуски в столбце 'budget' донными о гос поддерки*"
   ]
  },
  {
   "cell_type": "code",
   "execution_count": 35,
   "metadata": {},
   "outputs": [
    {
     "name": "stdout",
     "output_type": "stream",
     "text": [
      "                       title  pu_number     show_start_date            type  \\\n",
      "2053                     14+  111023614 2014-12-19 12:00:00  Художественный   \n",
      "2058               Дуxless 2  111000415 2015-01-26 12:00:00  Художественный   \n",
      "2472             Воин (2015)  111017315 2015-09-28 12:00:00  Художественный   \n",
      "2532                 Бармен.  111009615 2015-05-26 12:00:00  Художественный   \n",
      "2615     Савва. Сердце воина  114001715 2015-07-21 12:00:00    Анимационный   \n",
      "2684          Тряпичный союз  111010215 2015-06-08 12:00:00  Художественный   \n",
      "2788      Срочно выйду замуж  111017115 2015-09-30 12:00:00  Художественный   \n",
      "2874       Помню - не помню!  111004916 2016-03-01 12:00:00  Художественный   \n",
      "3047  Любовь с ограничениями  111008216 2016-04-29 12:00:00  Художественный   \n",
      "3565       Притяжение (2016)  111018116 2016-12-16 12:00:00  Художественный   \n",
      "3675                Чудо-юдо  114001817 2017-06-27 12:00:00    Анимационный   \n",
      "3739                    Мифы  111004317 2017-06-07 12:00:00  Художественный   \n",
      "5673                   Селфи  111012117 2018-02-01 12:00:00  Художественный   \n",
      "5806              Два хвоста  114001018 2018-05-31 12:00:00    Анимационный   \n",
      "6008      Принцесса и дракон  114003018 2018-08-23 12:00:00    Анимационный   \n",
      "6323                Баба Яга  114006518 2018-11-08 12:00:00    Анимационный   \n",
      "6823     Большое путешествие  114002419 2019-04-20 12:00:00    Анимационный   \n",
      "\n",
      "                                            film_studio production_country  \\\n",
      "2053                         ООО Киностудия  \"Сентябрь\"             Россия   \n",
      "2058  ООО \"Киностудия \"Слово\", ООО \"Арт Пикчерс Студия\"             Россия   \n",
      "2472   ООО \"Форпост Продакшн\", ООО \"Арт Пикчерс Студия\"             Россия   \n",
      "2532          АО \"ВайТ Медиа\", ООО \"Арт Пикчерс Студия\"             Россия   \n",
      "2615   ООО \"Глюкоза Продакшн\", ООО \"Арт Пикчерс Студия\"             Россия   \n",
      "2684                      ООО \"Кинокомпания \"КОКТЕБЕЛЬ\"             Россия   \n",
      "2788          АО \"ВайТ Медиа\", ООО \"Арт Пикчерс Студия\"             Россия   \n",
      "2874                                    ООО \"КиноФирма\"             Россия   \n",
      "3047          АО \"ВайТ Медиа\", ООО \"Арт Пикчерс Студия\"             Россия   \n",
      "3565      ООО \"Водород 2011\",  ООО \"Арт Пикчерс Студия\"             Россия   \n",
      "3675                                    ООО \"КиноФирма\"             Россия   \n",
      "3739           ООО \"ХАЙПФИЛМ\", ООО \"Арт Пикчерс Студия\"             Россия   \n",
      "5673  ООО \"Киностудия \"Слово\", ООО \"Арт Пикчерс Студия\"             Россия   \n",
      "5806                          ООО \"ЛИЦЕНЗИОННЫЕ БРЕНДЫ\"             Россия   \n",
      "6008                          ООО \"ЛИЦЕНЗИОННЫЕ БРЕНДЫ\"             Россия   \n",
      "6323                           ООО \"Арт Пикчерс Студия\"             Россия   \n",
      "6823                          ООО \"ЛИЦЕНЗИОННЫЕ БРЕНДЫ\"             Россия   \n",
      "\n",
      "                            director  \\\n",
      "2053                        А.Зайцев   \n",
      "2058                      Р.Прыгунов   \n",
      "2472                     А.Андрианов   \n",
      "2532                    Д.Штурманова   \n",
      "2615                        М.Фадеев   \n",
      "2684                     М.Местецкий   \n",
      "2788                       С Чекалов   \n",
      "2874                     В.Ровенский   \n",
      "3047                         Д.Тюрин   \n",
      "3565                     Ф.Бондарчук   \n",
      "3675                       А.Лукичев   \n",
      "3739                    А.Молочников   \n",
      "5673                      Н.Хомерики   \n",
      "5806  В.Ровенский, Н.Лопато, В.Азеев   \n",
      "6008                      М.Нефедова   \n",
      "6323                         В.Саков   \n",
      "6823           Н.Лопато, В.Ровенский   \n",
      "\n",
      "                                               producer  \\\n",
      "2053                                О.Гранина, А.Зайцев   \n",
      "2058                 П.Ануров, Ф.Бондарчук, Д.Рудовский   \n",
      "2472                           ООО \"Арт Пикчерс Студия\"   \n",
      "2532                                        Т.Вайнштейн   \n",
      "2615                                         А.Чистяков   \n",
      "2684                              Р.Борисевич, А.Кушаев   \n",
      "2788              Ф.Бондарчук, Т.Вайнштейн, Д.Рудовский   \n",
      "2874                                    ООО \"КиноФирма\"   \n",
      "3047              Ф.Бондарчук, Т.Вайнштейн, Д.Рудовский   \n",
      "3565                           ООО \"Арт Пикчерс Студия\"   \n",
      "3675                                    ООО \"КиноФирма\"   \n",
      "3739  Ф.Бондарчук, Д.Рудовский, И.Стюарт, М.Османн, ...   \n",
      "5673                 П.Ануров, Ф.Бондарчук, Д.Рудовский   \n",
      "5806                          ООО \"ЛИЦЕНЗИОННЫЕ БРЕНДЫ\"   \n",
      "6008                          ООО \"ЛИЦЕНЗИОННЫЕ БРЕНДЫ\"   \n",
      "6323  ООО \"Арт Пикчерс Студия\", ООО \"КРИЭЙТИВ АНИМЭЙ...   \n",
      "6823                          ООО \"ЛИЦЕНЗИОННЫЕ БРЕНДЫ\"   \n",
      "\n",
      "                      age_restriction  refundable_support  \\\n",
      "2053  «16+» - для детей старше 16 лет                 0.0   \n",
      "2058  «16+» - для детей старше 16 лет                 0.0   \n",
      "2472  «12+» - для детей старше 12 лет          10000000.0   \n",
      "2532  «16+» - для детей старше 16 лет          20000000.0   \n",
      "2615    «6+» - для детей старше 6 лет          60000000.0   \n",
      "2684      «18+» - запрещено для детей                 0.0   \n",
      "2788  «16+» - для детей старше 16 лет                 0.0   \n",
      "2874  «12+» - для детей старше 12 лет                 0.0   \n",
      "3047  «16+» - для детей старше 16 лет          19000000.0   \n",
      "3565  «12+» - для детей старше 12 лет                 0.0   \n",
      "3675    «6+» - для детей старше 6 лет          20000000.0   \n",
      "3739  «16+» - для детей старше 16 лет          25000000.0   \n",
      "5673  «16+» - для детей старше 16 лет          20000000.0   \n",
      "5806    «6+» - для детей старше 6 лет          10000000.0   \n",
      "6008    «6+» - для детей старше 6 лет          40000000.0   \n",
      "6323    «6+» - для детей старше 6 лет                 0.0   \n",
      "6823    «6+» - для детей старше 6 лет          60000000.0   \n",
      "\n",
      "      nonrefundable_support       budget                  financing_source  \\\n",
      "2053             23000000.0   23000000.0  Министерство культуры, Фонд кино   \n",
      "2058             75000000.0   75000000.0                         Фонд кино   \n",
      "2472             70000000.0   80000000.0                         Фонд кино   \n",
      "2532                    0.0   20000000.0                         Фонд кино   \n",
      "2615            100000000.0  160000000.0                         Фонд кино   \n",
      "2684             59000000.0   59000000.0                         Фонд кино   \n",
      "2788             35000000.0   35000000.0                         Фонд кино   \n",
      "2874              6000000.0    6000000.0             Министерство культуры   \n",
      "3047             51000000.0   70000000.0                         Фонд кино   \n",
      "3565            250000000.0  250000000.0                         Фонд кино   \n",
      "3675             20000000.0   40000000.0                         Фонд кино   \n",
      "3739             20000000.0   45000000.0                         Фонд кино   \n",
      "5673             40000000.0   60000000.0                         Фонд кино   \n",
      "5806             60000000.0   70000000.0                         Фонд кино   \n",
      "6008             40000000.0   80000000.0                         Фонд кино   \n",
      "6323            138969465.0  138969465.0                         Фонд кино   \n",
      "6823            120000000.0  180000000.0                         Фонд кино   \n",
      "\n",
      "      ratings                          genres    box_office  total_support  \n",
      "2053      6.6                       мелодрама  1.023402e+07     23000000.0  \n",
      "2058      6.6                           драма  4.461635e+08     75000000.0  \n",
      "2472      7.8           боевик,драма,криминал  1.965724e+08     80000000.0  \n",
      "2532      6.2                 комедия,фэнтези  6.741897e+07     20000000.0  \n",
      "2615      4.6  мультфильм,приключения,фэнтези  1.844876e+08    160000000.0  \n",
      "2684      6.3                   комедия,драма  1.957739e+06     59000000.0  \n",
      "2788      5.1               комедия,мелодрама  7.293778e+07     35000000.0  \n",
      "2874      4.3                         комедия  1.536293e+07      6000000.0  \n",
      "3047      6.3               комедия,мелодрама  7.029905e+07     70000000.0  \n",
      "3565      5.6                      фантастика  1.038321e+09    250000000.0  \n",
      "3675      5.2     мультфильм,фэнтези,семейный  5.510801e+07     40000000.0  \n",
      "3739      4.8                         комедия  5.045195e+07     45000000.0  \n",
      "5673      5.8                   триллер,драма  2.251964e+08     60000000.0  \n",
      "5806      5.0              мультфильм,детский  1.065143e+08     70000000.0  \n",
      "6008      5.2      мультфильм,фэнтези,детский  8.336633e+07     80000000.0  \n",
      "6323      NaN                         unknown  1.334699e+06    138969465.0  \n",
      "6823      6.2  мультфильм,комедия,приключения  1.476068e+08    180000000.0  \n"
     ]
    }
   ],
   "source": [
    "df.loc[(df['budget']==0) & (df['total_support']>0), 'budget']=df['total_support']\n",
    "print(df[(df['budget']==df['total_support']) & (df['total_support']>0)])"
   ]
  },
  {
   "cell_type": "markdown",
   "metadata": {
    "id": "Eu6oWp2CgFyS"
   },
   "source": [
    "#### Шаг 2.6. Добавьте новые столбцы\n",
    "\n",
    "\n",
    "\n"
   ]
  },
  {
   "cell_type": "markdown",
   "metadata": {
    "id": "7GgW-UpAgFyS"
   },
   "source": [
    "- Создайте столбец с информацией о годе проката. Выделите год из даты премьеры фильма."
   ]
  },
  {
   "cell_type": "code",
   "execution_count": 36,
   "metadata": {
    "id": "I-yd1DkWgFyT",
    "scrolled": true
   },
   "outputs": [
    {
     "data": {
      "text/html": [
       "<div>\n",
       "<style scoped>\n",
       "    .dataframe tbody tr th:only-of-type {\n",
       "        vertical-align: middle;\n",
       "    }\n",
       "\n",
       "    .dataframe tbody tr th {\n",
       "        vertical-align: top;\n",
       "    }\n",
       "\n",
       "    .dataframe thead th {\n",
       "        text-align: right;\n",
       "    }\n",
       "</style>\n",
       "<table border=\"1\" class=\"dataframe\">\n",
       "  <thead>\n",
       "    <tr style=\"text-align: right;\">\n",
       "      <th></th>\n",
       "      <th>title</th>\n",
       "      <th>pu_number</th>\n",
       "      <th>show_start_date</th>\n",
       "      <th>type</th>\n",
       "      <th>film_studio</th>\n",
       "      <th>production_country</th>\n",
       "      <th>director</th>\n",
       "      <th>producer</th>\n",
       "      <th>age_restriction</th>\n",
       "      <th>refundable_support</th>\n",
       "      <th>nonrefundable_support</th>\n",
       "      <th>budget</th>\n",
       "      <th>financing_source</th>\n",
       "      <th>ratings</th>\n",
       "      <th>genres</th>\n",
       "      <th>box_office</th>\n",
       "      <th>total_support</th>\n",
       "      <th>year</th>\n",
       "    </tr>\n",
       "  </thead>\n",
       "  <tbody>\n",
       "    <tr>\n",
       "      <th>0</th>\n",
       "      <td>Открытый простор</td>\n",
       "      <td>221048915</td>\n",
       "      <td>2015-11-27 12:00:00</td>\n",
       "      <td>Художественный</td>\n",
       "      <td>Тачстоун Пикчерз, Кобальт Пикчерз, Бикон Пикче...</td>\n",
       "      <td>США</td>\n",
       "      <td>Кевин Костнер</td>\n",
       "      <td>Дэвид Валдес, Кевин Костнер, Джейк Эбертс</td>\n",
       "      <td>«18+» - запрещено для детей</td>\n",
       "      <td>0.0</td>\n",
       "      <td>0.0</td>\n",
       "      <td>0.0</td>\n",
       "      <td>0</td>\n",
       "      <td>7.2</td>\n",
       "      <td>боевик,драма,мелодрама</td>\n",
       "      <td>NaN</td>\n",
       "      <td>0.0</td>\n",
       "      <td>2015</td>\n",
       "    </tr>\n",
       "    <tr>\n",
       "      <th>1</th>\n",
       "      <td>Особо важное задание</td>\n",
       "      <td>111013716</td>\n",
       "      <td>2016-09-13 12:00:00</td>\n",
       "      <td>Художественный</td>\n",
       "      <td>Киностудия \"Мосфильм\"</td>\n",
       "      <td>СССР</td>\n",
       "      <td>Е.Матвеев</td>\n",
       "      <td>unknown</td>\n",
       "      <td>«6+» - для детей старше 6 лет</td>\n",
       "      <td>0.0</td>\n",
       "      <td>0.0</td>\n",
       "      <td>0.0</td>\n",
       "      <td>0</td>\n",
       "      <td>6.6</td>\n",
       "      <td>драма,военный</td>\n",
       "      <td>NaN</td>\n",
       "      <td>0.0</td>\n",
       "      <td>2016</td>\n",
       "    </tr>\n",
       "    <tr>\n",
       "      <th>2</th>\n",
       "      <td>Особо опасен</td>\n",
       "      <td>221038416</td>\n",
       "      <td>2016-10-10 12:00:00</td>\n",
       "      <td>Художественный</td>\n",
       "      <td>Юниверсал Пикчерз, Кикстарт Продакшнз, Марк Пл...</td>\n",
       "      <td>США</td>\n",
       "      <td>Тимур Бекмамбетов</td>\n",
       "      <td>Джим Лемли, Джейсон Нетер, Марк Е.Платт, Яйн Смит</td>\n",
       "      <td>«18+» - запрещено для детей</td>\n",
       "      <td>0.0</td>\n",
       "      <td>0.0</td>\n",
       "      <td>0.0</td>\n",
       "      <td>0</td>\n",
       "      <td>6.8</td>\n",
       "      <td>фантастика,боевик,триллер</td>\n",
       "      <td>NaN</td>\n",
       "      <td>0.0</td>\n",
       "      <td>2016</td>\n",
       "    </tr>\n",
       "    <tr>\n",
       "      <th>3</th>\n",
       "      <td>Особо опасен</td>\n",
       "      <td>221026916</td>\n",
       "      <td>2016-06-10 12:00:00</td>\n",
       "      <td>Художественный</td>\n",
       "      <td>Юниверсал Пикчерз, Кикстарт Продакшнз, Марк Пл...</td>\n",
       "      <td>США</td>\n",
       "      <td>Тимур Бекмамбетов</td>\n",
       "      <td>Джим Лемли, Джейсон Нетер, Марк Е.Платт, Яйн Смит</td>\n",
       "      <td>«18+» - запрещено для детей</td>\n",
       "      <td>0.0</td>\n",
       "      <td>0.0</td>\n",
       "      <td>0.0</td>\n",
       "      <td>0</td>\n",
       "      <td>6.8</td>\n",
       "      <td>фантастика,боевик,триллер</td>\n",
       "      <td>NaN</td>\n",
       "      <td>0.0</td>\n",
       "      <td>2016</td>\n",
       "    </tr>\n",
       "    <tr>\n",
       "      <th>4</th>\n",
       "      <td>Особо опасен</td>\n",
       "      <td>221030815</td>\n",
       "      <td>2015-07-29 12:00:00</td>\n",
       "      <td>Художественный</td>\n",
       "      <td>Юниверсал Пикчерз, Кикстарт Продакшнз, Марк Пл...</td>\n",
       "      <td>США</td>\n",
       "      <td>Тимур Бекмамбетов</td>\n",
       "      <td>Джим Лемли, Джейсон Нетер, Марк Е.Платт, Яйн Смит</td>\n",
       "      <td>«18+» - запрещено для детей</td>\n",
       "      <td>0.0</td>\n",
       "      <td>0.0</td>\n",
       "      <td>0.0</td>\n",
       "      <td>0</td>\n",
       "      <td>6.8</td>\n",
       "      <td>фантастика,боевик,триллер</td>\n",
       "      <td>NaN</td>\n",
       "      <td>0.0</td>\n",
       "      <td>2015</td>\n",
       "    </tr>\n",
       "    <tr>\n",
       "      <th>...</th>\n",
       "      <td>...</td>\n",
       "      <td>...</td>\n",
       "      <td>...</td>\n",
       "      <td>...</td>\n",
       "      <td>...</td>\n",
       "      <td>...</td>\n",
       "      <td>...</td>\n",
       "      <td>...</td>\n",
       "      <td>...</td>\n",
       "      <td>...</td>\n",
       "      <td>...</td>\n",
       "      <td>...</td>\n",
       "      <td>...</td>\n",
       "      <td>...</td>\n",
       "      <td>...</td>\n",
       "      <td>...</td>\n",
       "      <td>...</td>\n",
       "      <td>...</td>\n",
       "    </tr>\n",
       "    <tr>\n",
       "      <th>7481</th>\n",
       "      <td>Сад художника: Американский импрессионизм</td>\n",
       "      <td>126008019</td>\n",
       "      <td>2019-12-23 12:00:00</td>\n",
       "      <td>Прочие</td>\n",
       "      <td>Севен Артс Продакшнз</td>\n",
       "      <td>Великобритания</td>\n",
       "      <td>Фил Грабски</td>\n",
       "      <td>Фил Грабски</td>\n",
       "      <td>«12+» - для детей старше 12 лет</td>\n",
       "      <td>0.0</td>\n",
       "      <td>0.0</td>\n",
       "      <td>0.0</td>\n",
       "      <td>0</td>\n",
       "      <td>NaN</td>\n",
       "      <td>unknown</td>\n",
       "      <td>NaN</td>\n",
       "      <td>0.0</td>\n",
       "      <td>2019</td>\n",
       "    </tr>\n",
       "    <tr>\n",
       "      <th>7482</th>\n",
       "      <td>Звериная ярость</td>\n",
       "      <td>121037819</td>\n",
       "      <td>2019-12-24 12:00:00</td>\n",
       "      <td>Художественный</td>\n",
       "      <td>Дэниел Гродник Продакшнз, Вандерфилм Медиа Кор...</td>\n",
       "      <td>США</td>\n",
       "      <td>Ник Пауэлл</td>\n",
       "      <td>Джефф Боулер, Дэниэл Гродник, Луильо Руис, Брэ...</td>\n",
       "      <td>«16+» - для детей старше 16 лет</td>\n",
       "      <td>0.0</td>\n",
       "      <td>0.0</td>\n",
       "      <td>0.0</td>\n",
       "      <td>0</td>\n",
       "      <td>5.4</td>\n",
       "      <td>боевик,триллер</td>\n",
       "      <td>NaN</td>\n",
       "      <td>0.0</td>\n",
       "      <td>2019</td>\n",
       "    </tr>\n",
       "    <tr>\n",
       "      <th>7483</th>\n",
       "      <td>Щенячий патруль: Скорей спешим на помощь!</td>\n",
       "      <td>124010819</td>\n",
       "      <td>2019-12-28 12:00:00</td>\n",
       "      <td>Художественный</td>\n",
       "      <td>Никелодеон Анимейшн Студиос, Спин Мастер</td>\n",
       "      <td>США - Канада</td>\n",
       "      <td>Чарльз Е.Бастьен</td>\n",
       "      <td>Дженнифер Додж</td>\n",
       "      <td>«0+» - для любой зрительской аудитории</td>\n",
       "      <td>0.0</td>\n",
       "      <td>0.0</td>\n",
       "      <td>0.0</td>\n",
       "      <td>0</td>\n",
       "      <td>NaN</td>\n",
       "      <td>unknown</td>\n",
       "      <td>NaN</td>\n",
       "      <td>0.0</td>\n",
       "      <td>2019</td>\n",
       "    </tr>\n",
       "    <tr>\n",
       "      <th>7484</th>\n",
       "      <td>Машины песенки. Серия \"Испанские мотивы\"</td>\n",
       "      <td>124010619</td>\n",
       "      <td>2019-12-30 12:00:00</td>\n",
       "      <td>Анимационный</td>\n",
       "      <td>Анимаккорд Лтд., ООО Студия \"АНИМАККОРД\"</td>\n",
       "      <td>Республика Кипр, Россия</td>\n",
       "      <td>А.Беляев</td>\n",
       "      <td>Д.Ловейко</td>\n",
       "      <td>«0+» - для любой зрительской аудитории</td>\n",
       "      <td>0.0</td>\n",
       "      <td>0.0</td>\n",
       "      <td>0.0</td>\n",
       "      <td>0</td>\n",
       "      <td>NaN</td>\n",
       "      <td>unknown</td>\n",
       "      <td>NaN</td>\n",
       "      <td>0.0</td>\n",
       "      <td>2019</td>\n",
       "    </tr>\n",
       "    <tr>\n",
       "      <th>7485</th>\n",
       "      <td>Машины песенки. Серия \"Когда цветут кактусы\"</td>\n",
       "      <td>124010719</td>\n",
       "      <td>2019-12-30 12:00:00</td>\n",
       "      <td>Анимационный</td>\n",
       "      <td>Анимаккорд Лтд., ООО Студия \"АНИМАККОРД\"</td>\n",
       "      <td>Республика Кипр, Россия</td>\n",
       "      <td>И.Трусов</td>\n",
       "      <td>Д.Ловейко</td>\n",
       "      <td>«0+» - для любой зрительской аудитории</td>\n",
       "      <td>0.0</td>\n",
       "      <td>0.0</td>\n",
       "      <td>0.0</td>\n",
       "      <td>0</td>\n",
       "      <td>6.3</td>\n",
       "      <td>комедия,вестерн</td>\n",
       "      <td>NaN</td>\n",
       "      <td>0.0</td>\n",
       "      <td>2019</td>\n",
       "    </tr>\n",
       "  </tbody>\n",
       "</table>\n",
       "<p>7486 rows × 18 columns</p>\n",
       "</div>"
      ],
      "text/plain": [
       "                                             title  pu_number  \\\n",
       "0                                 Открытый простор  221048915   \n",
       "1                             Особо важное задание  111013716   \n",
       "2                                     Особо опасен  221038416   \n",
       "3                                     Особо опасен  221026916   \n",
       "4                                     Особо опасен  221030815   \n",
       "...                                            ...        ...   \n",
       "7481     Сад художника: Американский импрессионизм  126008019   \n",
       "7482                               Звериная ярость  121037819   \n",
       "7483     Щенячий патруль: Скорей спешим на помощь!  124010819   \n",
       "7484      Машины песенки. Серия \"Испанские мотивы\"  124010619   \n",
       "7485  Машины песенки. Серия \"Когда цветут кактусы\"  124010719   \n",
       "\n",
       "         show_start_date            type  \\\n",
       "0    2015-11-27 12:00:00  Художественный   \n",
       "1    2016-09-13 12:00:00  Художественный   \n",
       "2    2016-10-10 12:00:00  Художественный   \n",
       "3    2016-06-10 12:00:00  Художественный   \n",
       "4    2015-07-29 12:00:00  Художественный   \n",
       "...                  ...             ...   \n",
       "7481 2019-12-23 12:00:00          Прочие   \n",
       "7482 2019-12-24 12:00:00  Художественный   \n",
       "7483 2019-12-28 12:00:00  Художественный   \n",
       "7484 2019-12-30 12:00:00    Анимационный   \n",
       "7485 2019-12-30 12:00:00    Анимационный   \n",
       "\n",
       "                                            film_studio  \\\n",
       "0     Тачстоун Пикчерз, Кобальт Пикчерз, Бикон Пикче...   \n",
       "1                                 Киностудия \"Мосфильм\"   \n",
       "2     Юниверсал Пикчерз, Кикстарт Продакшнз, Марк Пл...   \n",
       "3     Юниверсал Пикчерз, Кикстарт Продакшнз, Марк Пл...   \n",
       "4     Юниверсал Пикчерз, Кикстарт Продакшнз, Марк Пл...   \n",
       "...                                                 ...   \n",
       "7481                               Севен Артс Продакшнз   \n",
       "7482  Дэниел Гродник Продакшнз, Вандерфилм Медиа Кор...   \n",
       "7483           Никелодеон Анимейшн Студиос, Спин Мастер   \n",
       "7484           Анимаккорд Лтд., ООО Студия \"АНИМАККОРД\"   \n",
       "7485           Анимаккорд Лтд., ООО Студия \"АНИМАККОРД\"   \n",
       "\n",
       "           production_country           director  \\\n",
       "0                         США      Кевин Костнер   \n",
       "1                        СССР          Е.Матвеев   \n",
       "2                         США  Тимур Бекмамбетов   \n",
       "3                         США  Тимур Бекмамбетов   \n",
       "4                         США  Тимур Бекмамбетов   \n",
       "...                       ...                ...   \n",
       "7481           Великобритания        Фил Грабски   \n",
       "7482                      США         Ник Пауэлл   \n",
       "7483             США - Канада   Чарльз Е.Бастьен   \n",
       "7484  Республика Кипр, Россия           А.Беляев   \n",
       "7485  Республика Кипр, Россия           И.Трусов   \n",
       "\n",
       "                                               producer  \\\n",
       "0             Дэвид Валдес, Кевин Костнер, Джейк Эбертс   \n",
       "1                                               unknown   \n",
       "2     Джим Лемли, Джейсон Нетер, Марк Е.Платт, Яйн Смит   \n",
       "3     Джим Лемли, Джейсон Нетер, Марк Е.Платт, Яйн Смит   \n",
       "4     Джим Лемли, Джейсон Нетер, Марк Е.Платт, Яйн Смит   \n",
       "...                                                 ...   \n",
       "7481                                        Фил Грабски   \n",
       "7482  Джефф Боулер, Дэниэл Гродник, Луильо Руис, Брэ...   \n",
       "7483                                     Дженнифер Додж   \n",
       "7484                                          Д.Ловейко   \n",
       "7485                                          Д.Ловейко   \n",
       "\n",
       "                             age_restriction  refundable_support  \\\n",
       "0                «18+» - запрещено для детей                 0.0   \n",
       "1              «6+» - для детей старше 6 лет                 0.0   \n",
       "2                «18+» - запрещено для детей                 0.0   \n",
       "3                «18+» - запрещено для детей                 0.0   \n",
       "4                «18+» - запрещено для детей                 0.0   \n",
       "...                                      ...                 ...   \n",
       "7481         «12+» - для детей старше 12 лет                 0.0   \n",
       "7482         «16+» - для детей старше 16 лет                 0.0   \n",
       "7483  «0+» - для любой зрительской аудитории                 0.0   \n",
       "7484  «0+» - для любой зрительской аудитории                 0.0   \n",
       "7485  «0+» - для любой зрительской аудитории                 0.0   \n",
       "\n",
       "      nonrefundable_support  budget financing_source  ratings  \\\n",
       "0                       0.0     0.0                0      7.2   \n",
       "1                       0.0     0.0                0      6.6   \n",
       "2                       0.0     0.0                0      6.8   \n",
       "3                       0.0     0.0                0      6.8   \n",
       "4                       0.0     0.0                0      6.8   \n",
       "...                     ...     ...              ...      ...   \n",
       "7481                    0.0     0.0                0      NaN   \n",
       "7482                    0.0     0.0                0      5.4   \n",
       "7483                    0.0     0.0                0      NaN   \n",
       "7484                    0.0     0.0                0      NaN   \n",
       "7485                    0.0     0.0                0      6.3   \n",
       "\n",
       "                         genres  box_office  total_support  year  \n",
       "0        боевик,драма,мелодрама         NaN            0.0  2015  \n",
       "1                 драма,военный         NaN            0.0  2016  \n",
       "2     фантастика,боевик,триллер         NaN            0.0  2016  \n",
       "3     фантастика,боевик,триллер         NaN            0.0  2016  \n",
       "4     фантастика,боевик,триллер         NaN            0.0  2015  \n",
       "...                         ...         ...            ...   ...  \n",
       "7481                    unknown         NaN            0.0  2019  \n",
       "7482             боевик,триллер         NaN            0.0  2019  \n",
       "7483                    unknown         NaN            0.0  2019  \n",
       "7484                    unknown         NaN            0.0  2019  \n",
       "7485            комедия,вестерн         NaN            0.0  2019  \n",
       "\n",
       "[7486 rows x 18 columns]"
      ]
     },
     "execution_count": 36,
     "metadata": {},
     "output_type": "execute_result"
    }
   ],
   "source": [
    "df['year']=pd.DatetimeIndex(df['show_start_date']).year\n",
    "df"
   ]
  },
  {
   "cell_type": "code",
   "execution_count": 37,
   "metadata": {
    "id": "LSbRZKbMgFyU"
   },
   "outputs": [
    {
     "data": {
      "text/plain": [
       "0         Дэвид Валдес\n",
       "1              unknown\n",
       "2           Джим Лемли\n",
       "3           Джим Лемли\n",
       "4           Джим Лемли\n",
       "             ...      \n",
       "7481       Фил Грабски\n",
       "7482      Джефф Боулер\n",
       "7483    Дженнифер Додж\n",
       "7484         Д.Ловейко\n",
       "7485         Д.Ловейко\n",
       "Name: general_producer, Length: 7486, dtype: object"
      ]
     },
     "execution_count": 37,
     "metadata": {},
     "output_type": "execute_result"
    }
   ],
   "source": [
    "df['general_producer']=df['producer'].str.split(',').str[0]\n",
    "df['general_producer']"
   ]
  },
  {
   "cell_type": "code",
   "execution_count": 38,
   "metadata": {
    "scrolled": true
   },
   "outputs": [
    {
     "data": {
      "text/html": [
       "<div>\n",
       "<style scoped>\n",
       "    .dataframe tbody tr th:only-of-type {\n",
       "        vertical-align: middle;\n",
       "    }\n",
       "\n",
       "    .dataframe tbody tr th {\n",
       "        vertical-align: top;\n",
       "    }\n",
       "\n",
       "    .dataframe thead th {\n",
       "        text-align: right;\n",
       "    }\n",
       "</style>\n",
       "<table border=\"1\" class=\"dataframe\">\n",
       "  <thead>\n",
       "    <tr style=\"text-align: right;\">\n",
       "      <th></th>\n",
       "      <th>title</th>\n",
       "      <th>pu_number</th>\n",
       "      <th>show_start_date</th>\n",
       "      <th>type</th>\n",
       "      <th>film_studio</th>\n",
       "      <th>production_country</th>\n",
       "      <th>director</th>\n",
       "      <th>producer</th>\n",
       "      <th>age_restriction</th>\n",
       "      <th>refundable_support</th>\n",
       "      <th>nonrefundable_support</th>\n",
       "      <th>budget</th>\n",
       "      <th>financing_source</th>\n",
       "      <th>ratings</th>\n",
       "      <th>genres</th>\n",
       "      <th>box_office</th>\n",
       "      <th>total_support</th>\n",
       "      <th>year</th>\n",
       "      <th>general_producer</th>\n",
       "      <th>main_genres</th>\n",
       "    </tr>\n",
       "  </thead>\n",
       "  <tbody>\n",
       "    <tr>\n",
       "      <th>0</th>\n",
       "      <td>Открытый простор</td>\n",
       "      <td>221048915</td>\n",
       "      <td>2015-11-27 12:00:00</td>\n",
       "      <td>Художественный</td>\n",
       "      <td>Тачстоун Пикчерз, Кобальт Пикчерз, Бикон Пикче...</td>\n",
       "      <td>США</td>\n",
       "      <td>Кевин Костнер</td>\n",
       "      <td>Дэвид Валдес, Кевин Костнер, Джейк Эбертс</td>\n",
       "      <td>«18+» - запрещено для детей</td>\n",
       "      <td>0.0</td>\n",
       "      <td>0.0</td>\n",
       "      <td>0.0</td>\n",
       "      <td>0</td>\n",
       "      <td>7.2</td>\n",
       "      <td>боевик,драма,мелодрама</td>\n",
       "      <td>NaN</td>\n",
       "      <td>0.0</td>\n",
       "      <td>2015</td>\n",
       "      <td>Дэвид Валдес</td>\n",
       "      <td>боевик</td>\n",
       "    </tr>\n",
       "    <tr>\n",
       "      <th>1</th>\n",
       "      <td>Особо важное задание</td>\n",
       "      <td>111013716</td>\n",
       "      <td>2016-09-13 12:00:00</td>\n",
       "      <td>Художественный</td>\n",
       "      <td>Киностудия \"Мосфильм\"</td>\n",
       "      <td>СССР</td>\n",
       "      <td>Е.Матвеев</td>\n",
       "      <td>unknown</td>\n",
       "      <td>«6+» - для детей старше 6 лет</td>\n",
       "      <td>0.0</td>\n",
       "      <td>0.0</td>\n",
       "      <td>0.0</td>\n",
       "      <td>0</td>\n",
       "      <td>6.6</td>\n",
       "      <td>драма,военный</td>\n",
       "      <td>NaN</td>\n",
       "      <td>0.0</td>\n",
       "      <td>2016</td>\n",
       "      <td>unknown</td>\n",
       "      <td>драма</td>\n",
       "    </tr>\n",
       "    <tr>\n",
       "      <th>2</th>\n",
       "      <td>Особо опасен</td>\n",
       "      <td>221038416</td>\n",
       "      <td>2016-10-10 12:00:00</td>\n",
       "      <td>Художественный</td>\n",
       "      <td>Юниверсал Пикчерз, Кикстарт Продакшнз, Марк Пл...</td>\n",
       "      <td>США</td>\n",
       "      <td>Тимур Бекмамбетов</td>\n",
       "      <td>Джим Лемли, Джейсон Нетер, Марк Е.Платт, Яйн Смит</td>\n",
       "      <td>«18+» - запрещено для детей</td>\n",
       "      <td>0.0</td>\n",
       "      <td>0.0</td>\n",
       "      <td>0.0</td>\n",
       "      <td>0</td>\n",
       "      <td>6.8</td>\n",
       "      <td>фантастика,боевик,триллер</td>\n",
       "      <td>NaN</td>\n",
       "      <td>0.0</td>\n",
       "      <td>2016</td>\n",
       "      <td>Джим Лемли</td>\n",
       "      <td>фантастика</td>\n",
       "    </tr>\n",
       "    <tr>\n",
       "      <th>3</th>\n",
       "      <td>Особо опасен</td>\n",
       "      <td>221026916</td>\n",
       "      <td>2016-06-10 12:00:00</td>\n",
       "      <td>Художественный</td>\n",
       "      <td>Юниверсал Пикчерз, Кикстарт Продакшнз, Марк Пл...</td>\n",
       "      <td>США</td>\n",
       "      <td>Тимур Бекмамбетов</td>\n",
       "      <td>Джим Лемли, Джейсон Нетер, Марк Е.Платт, Яйн Смит</td>\n",
       "      <td>«18+» - запрещено для детей</td>\n",
       "      <td>0.0</td>\n",
       "      <td>0.0</td>\n",
       "      <td>0.0</td>\n",
       "      <td>0</td>\n",
       "      <td>6.8</td>\n",
       "      <td>фантастика,боевик,триллер</td>\n",
       "      <td>NaN</td>\n",
       "      <td>0.0</td>\n",
       "      <td>2016</td>\n",
       "      <td>Джим Лемли</td>\n",
       "      <td>фантастика</td>\n",
       "    </tr>\n",
       "    <tr>\n",
       "      <th>4</th>\n",
       "      <td>Особо опасен</td>\n",
       "      <td>221030815</td>\n",
       "      <td>2015-07-29 12:00:00</td>\n",
       "      <td>Художественный</td>\n",
       "      <td>Юниверсал Пикчерз, Кикстарт Продакшнз, Марк Пл...</td>\n",
       "      <td>США</td>\n",
       "      <td>Тимур Бекмамбетов</td>\n",
       "      <td>Джим Лемли, Джейсон Нетер, Марк Е.Платт, Яйн Смит</td>\n",
       "      <td>«18+» - запрещено для детей</td>\n",
       "      <td>0.0</td>\n",
       "      <td>0.0</td>\n",
       "      <td>0.0</td>\n",
       "      <td>0</td>\n",
       "      <td>6.8</td>\n",
       "      <td>фантастика,боевик,триллер</td>\n",
       "      <td>NaN</td>\n",
       "      <td>0.0</td>\n",
       "      <td>2015</td>\n",
       "      <td>Джим Лемли</td>\n",
       "      <td>фантастика</td>\n",
       "    </tr>\n",
       "    <tr>\n",
       "      <th>...</th>\n",
       "      <td>...</td>\n",
       "      <td>...</td>\n",
       "      <td>...</td>\n",
       "      <td>...</td>\n",
       "      <td>...</td>\n",
       "      <td>...</td>\n",
       "      <td>...</td>\n",
       "      <td>...</td>\n",
       "      <td>...</td>\n",
       "      <td>...</td>\n",
       "      <td>...</td>\n",
       "      <td>...</td>\n",
       "      <td>...</td>\n",
       "      <td>...</td>\n",
       "      <td>...</td>\n",
       "      <td>...</td>\n",
       "      <td>...</td>\n",
       "      <td>...</td>\n",
       "      <td>...</td>\n",
       "      <td>...</td>\n",
       "    </tr>\n",
       "    <tr>\n",
       "      <th>7481</th>\n",
       "      <td>Сад художника: Американский импрессионизм</td>\n",
       "      <td>126008019</td>\n",
       "      <td>2019-12-23 12:00:00</td>\n",
       "      <td>Прочие</td>\n",
       "      <td>Севен Артс Продакшнз</td>\n",
       "      <td>Великобритания</td>\n",
       "      <td>Фил Грабски</td>\n",
       "      <td>Фил Грабски</td>\n",
       "      <td>«12+» - для детей старше 12 лет</td>\n",
       "      <td>0.0</td>\n",
       "      <td>0.0</td>\n",
       "      <td>0.0</td>\n",
       "      <td>0</td>\n",
       "      <td>NaN</td>\n",
       "      <td>unknown</td>\n",
       "      <td>NaN</td>\n",
       "      <td>0.0</td>\n",
       "      <td>2019</td>\n",
       "      <td>Фил Грабски</td>\n",
       "      <td>unknown</td>\n",
       "    </tr>\n",
       "    <tr>\n",
       "      <th>7482</th>\n",
       "      <td>Звериная ярость</td>\n",
       "      <td>121037819</td>\n",
       "      <td>2019-12-24 12:00:00</td>\n",
       "      <td>Художественный</td>\n",
       "      <td>Дэниел Гродник Продакшнз, Вандерфилм Медиа Кор...</td>\n",
       "      <td>США</td>\n",
       "      <td>Ник Пауэлл</td>\n",
       "      <td>Джефф Боулер, Дэниэл Гродник, Луильо Руис, Брэ...</td>\n",
       "      <td>«16+» - для детей старше 16 лет</td>\n",
       "      <td>0.0</td>\n",
       "      <td>0.0</td>\n",
       "      <td>0.0</td>\n",
       "      <td>0</td>\n",
       "      <td>5.4</td>\n",
       "      <td>боевик,триллер</td>\n",
       "      <td>NaN</td>\n",
       "      <td>0.0</td>\n",
       "      <td>2019</td>\n",
       "      <td>Джефф Боулер</td>\n",
       "      <td>боевик</td>\n",
       "    </tr>\n",
       "    <tr>\n",
       "      <th>7483</th>\n",
       "      <td>Щенячий патруль: Скорей спешим на помощь!</td>\n",
       "      <td>124010819</td>\n",
       "      <td>2019-12-28 12:00:00</td>\n",
       "      <td>Художественный</td>\n",
       "      <td>Никелодеон Анимейшн Студиос, Спин Мастер</td>\n",
       "      <td>США - Канада</td>\n",
       "      <td>Чарльз Е.Бастьен</td>\n",
       "      <td>Дженнифер Додж</td>\n",
       "      <td>«0+» - для любой зрительской аудитории</td>\n",
       "      <td>0.0</td>\n",
       "      <td>0.0</td>\n",
       "      <td>0.0</td>\n",
       "      <td>0</td>\n",
       "      <td>NaN</td>\n",
       "      <td>unknown</td>\n",
       "      <td>NaN</td>\n",
       "      <td>0.0</td>\n",
       "      <td>2019</td>\n",
       "      <td>Дженнифер Додж</td>\n",
       "      <td>unknown</td>\n",
       "    </tr>\n",
       "    <tr>\n",
       "      <th>7484</th>\n",
       "      <td>Машины песенки. Серия \"Испанские мотивы\"</td>\n",
       "      <td>124010619</td>\n",
       "      <td>2019-12-30 12:00:00</td>\n",
       "      <td>Анимационный</td>\n",
       "      <td>Анимаккорд Лтд., ООО Студия \"АНИМАККОРД\"</td>\n",
       "      <td>Республика Кипр, Россия</td>\n",
       "      <td>А.Беляев</td>\n",
       "      <td>Д.Ловейко</td>\n",
       "      <td>«0+» - для любой зрительской аудитории</td>\n",
       "      <td>0.0</td>\n",
       "      <td>0.0</td>\n",
       "      <td>0.0</td>\n",
       "      <td>0</td>\n",
       "      <td>NaN</td>\n",
       "      <td>unknown</td>\n",
       "      <td>NaN</td>\n",
       "      <td>0.0</td>\n",
       "      <td>2019</td>\n",
       "      <td>Д.Ловейко</td>\n",
       "      <td>unknown</td>\n",
       "    </tr>\n",
       "    <tr>\n",
       "      <th>7485</th>\n",
       "      <td>Машины песенки. Серия \"Когда цветут кактусы\"</td>\n",
       "      <td>124010719</td>\n",
       "      <td>2019-12-30 12:00:00</td>\n",
       "      <td>Анимационный</td>\n",
       "      <td>Анимаккорд Лтд., ООО Студия \"АНИМАККОРД\"</td>\n",
       "      <td>Республика Кипр, Россия</td>\n",
       "      <td>И.Трусов</td>\n",
       "      <td>Д.Ловейко</td>\n",
       "      <td>«0+» - для любой зрительской аудитории</td>\n",
       "      <td>0.0</td>\n",
       "      <td>0.0</td>\n",
       "      <td>0.0</td>\n",
       "      <td>0</td>\n",
       "      <td>6.3</td>\n",
       "      <td>комедия,вестерн</td>\n",
       "      <td>NaN</td>\n",
       "      <td>0.0</td>\n",
       "      <td>2019</td>\n",
       "      <td>Д.Ловейко</td>\n",
       "      <td>комедия</td>\n",
       "    </tr>\n",
       "  </tbody>\n",
       "</table>\n",
       "<p>7486 rows × 20 columns</p>\n",
       "</div>"
      ],
      "text/plain": [
       "                                             title  pu_number  \\\n",
       "0                                 Открытый простор  221048915   \n",
       "1                             Особо важное задание  111013716   \n",
       "2                                     Особо опасен  221038416   \n",
       "3                                     Особо опасен  221026916   \n",
       "4                                     Особо опасен  221030815   \n",
       "...                                            ...        ...   \n",
       "7481     Сад художника: Американский импрессионизм  126008019   \n",
       "7482                               Звериная ярость  121037819   \n",
       "7483     Щенячий патруль: Скорей спешим на помощь!  124010819   \n",
       "7484      Машины песенки. Серия \"Испанские мотивы\"  124010619   \n",
       "7485  Машины песенки. Серия \"Когда цветут кактусы\"  124010719   \n",
       "\n",
       "         show_start_date            type  \\\n",
       "0    2015-11-27 12:00:00  Художественный   \n",
       "1    2016-09-13 12:00:00  Художественный   \n",
       "2    2016-10-10 12:00:00  Художественный   \n",
       "3    2016-06-10 12:00:00  Художественный   \n",
       "4    2015-07-29 12:00:00  Художественный   \n",
       "...                  ...             ...   \n",
       "7481 2019-12-23 12:00:00          Прочие   \n",
       "7482 2019-12-24 12:00:00  Художественный   \n",
       "7483 2019-12-28 12:00:00  Художественный   \n",
       "7484 2019-12-30 12:00:00    Анимационный   \n",
       "7485 2019-12-30 12:00:00    Анимационный   \n",
       "\n",
       "                                            film_studio  \\\n",
       "0     Тачстоун Пикчерз, Кобальт Пикчерз, Бикон Пикче...   \n",
       "1                                 Киностудия \"Мосфильм\"   \n",
       "2     Юниверсал Пикчерз, Кикстарт Продакшнз, Марк Пл...   \n",
       "3     Юниверсал Пикчерз, Кикстарт Продакшнз, Марк Пл...   \n",
       "4     Юниверсал Пикчерз, Кикстарт Продакшнз, Марк Пл...   \n",
       "...                                                 ...   \n",
       "7481                               Севен Артс Продакшнз   \n",
       "7482  Дэниел Гродник Продакшнз, Вандерфилм Медиа Кор...   \n",
       "7483           Никелодеон Анимейшн Студиос, Спин Мастер   \n",
       "7484           Анимаккорд Лтд., ООО Студия \"АНИМАККОРД\"   \n",
       "7485           Анимаккорд Лтд., ООО Студия \"АНИМАККОРД\"   \n",
       "\n",
       "           production_country           director  \\\n",
       "0                         США      Кевин Костнер   \n",
       "1                        СССР          Е.Матвеев   \n",
       "2                         США  Тимур Бекмамбетов   \n",
       "3                         США  Тимур Бекмамбетов   \n",
       "4                         США  Тимур Бекмамбетов   \n",
       "...                       ...                ...   \n",
       "7481           Великобритания        Фил Грабски   \n",
       "7482                      США         Ник Пауэлл   \n",
       "7483             США - Канада   Чарльз Е.Бастьен   \n",
       "7484  Республика Кипр, Россия           А.Беляев   \n",
       "7485  Республика Кипр, Россия           И.Трусов   \n",
       "\n",
       "                                               producer  \\\n",
       "0             Дэвид Валдес, Кевин Костнер, Джейк Эбертс   \n",
       "1                                               unknown   \n",
       "2     Джим Лемли, Джейсон Нетер, Марк Е.Платт, Яйн Смит   \n",
       "3     Джим Лемли, Джейсон Нетер, Марк Е.Платт, Яйн Смит   \n",
       "4     Джим Лемли, Джейсон Нетер, Марк Е.Платт, Яйн Смит   \n",
       "...                                                 ...   \n",
       "7481                                        Фил Грабски   \n",
       "7482  Джефф Боулер, Дэниэл Гродник, Луильо Руис, Брэ...   \n",
       "7483                                     Дженнифер Додж   \n",
       "7484                                          Д.Ловейко   \n",
       "7485                                          Д.Ловейко   \n",
       "\n",
       "                             age_restriction  refundable_support  \\\n",
       "0                «18+» - запрещено для детей                 0.0   \n",
       "1              «6+» - для детей старше 6 лет                 0.0   \n",
       "2                «18+» - запрещено для детей                 0.0   \n",
       "3                «18+» - запрещено для детей                 0.0   \n",
       "4                «18+» - запрещено для детей                 0.0   \n",
       "...                                      ...                 ...   \n",
       "7481         «12+» - для детей старше 12 лет                 0.0   \n",
       "7482         «16+» - для детей старше 16 лет                 0.0   \n",
       "7483  «0+» - для любой зрительской аудитории                 0.0   \n",
       "7484  «0+» - для любой зрительской аудитории                 0.0   \n",
       "7485  «0+» - для любой зрительской аудитории                 0.0   \n",
       "\n",
       "      nonrefundable_support  budget financing_source  ratings  \\\n",
       "0                       0.0     0.0                0      7.2   \n",
       "1                       0.0     0.0                0      6.6   \n",
       "2                       0.0     0.0                0      6.8   \n",
       "3                       0.0     0.0                0      6.8   \n",
       "4                       0.0     0.0                0      6.8   \n",
       "...                     ...     ...              ...      ...   \n",
       "7481                    0.0     0.0                0      NaN   \n",
       "7482                    0.0     0.0                0      5.4   \n",
       "7483                    0.0     0.0                0      NaN   \n",
       "7484                    0.0     0.0                0      NaN   \n",
       "7485                    0.0     0.0                0      6.3   \n",
       "\n",
       "                         genres  box_office  total_support  year  \\\n",
       "0        боевик,драма,мелодрама         NaN            0.0  2015   \n",
       "1                 драма,военный         NaN            0.0  2016   \n",
       "2     фантастика,боевик,триллер         NaN            0.0  2016   \n",
       "3     фантастика,боевик,триллер         NaN            0.0  2016   \n",
       "4     фантастика,боевик,триллер         NaN            0.0  2015   \n",
       "...                         ...         ...            ...   ...   \n",
       "7481                    unknown         NaN            0.0  2019   \n",
       "7482             боевик,триллер         NaN            0.0  2019   \n",
       "7483                    unknown         NaN            0.0  2019   \n",
       "7484                    unknown         NaN            0.0  2019   \n",
       "7485            комедия,вестерн         NaN            0.0  2019   \n",
       "\n",
       "     general_producer main_genres  \n",
       "0        Дэвид Валдес      боевик  \n",
       "1             unknown       драма  \n",
       "2          Джим Лемли  фантастика  \n",
       "3          Джим Лемли  фантастика  \n",
       "4          Джим Лемли  фантастика  \n",
       "...               ...         ...  \n",
       "7481      Фил Грабски     unknown  \n",
       "7482     Джефф Боулер      боевик  \n",
       "7483   Дженнифер Додж     unknown  \n",
       "7484        Д.Ловейко     unknown  \n",
       "7485        Д.Ловейко     комедия  \n",
       "\n",
       "[7486 rows x 20 columns]"
      ]
     },
     "execution_count": 38,
     "metadata": {},
     "output_type": "execute_result"
    }
   ],
   "source": [
    "df['main_genres']=df['genres'].str.split(',').str[0]\n",
    "df"
   ]
  },
  {
   "cell_type": "markdown",
   "metadata": {
    "id": "1FsCXHwdgFyU"
   },
   "source": [
    "- Посчитайте, какую долю от общего бюджета фильма составляет государственная поддержка."
   ]
  },
  {
   "cell_type": "code",
   "execution_count": 39,
   "metadata": {
    "id": "LV6qFuZLgFyV",
    "scrolled": true
   },
   "outputs": [
    {
     "data": {
      "text/html": [
       "<div>\n",
       "<style scoped>\n",
       "    .dataframe tbody tr th:only-of-type {\n",
       "        vertical-align: middle;\n",
       "    }\n",
       "\n",
       "    .dataframe tbody tr th {\n",
       "        vertical-align: top;\n",
       "    }\n",
       "\n",
       "    .dataframe thead th {\n",
       "        text-align: right;\n",
       "    }\n",
       "</style>\n",
       "<table border=\"1\" class=\"dataframe\">\n",
       "  <thead>\n",
       "    <tr style=\"text-align: right;\">\n",
       "      <th></th>\n",
       "      <th>title</th>\n",
       "      <th>pu_number</th>\n",
       "      <th>show_start_date</th>\n",
       "      <th>type</th>\n",
       "      <th>film_studio</th>\n",
       "      <th>production_country</th>\n",
       "      <th>director</th>\n",
       "      <th>producer</th>\n",
       "      <th>age_restriction</th>\n",
       "      <th>refundable_support</th>\n",
       "      <th>...</th>\n",
       "      <th>budget</th>\n",
       "      <th>financing_source</th>\n",
       "      <th>ratings</th>\n",
       "      <th>genres</th>\n",
       "      <th>box_office</th>\n",
       "      <th>total_support</th>\n",
       "      <th>year</th>\n",
       "      <th>general_producer</th>\n",
       "      <th>main_genres</th>\n",
       "      <th>share_support</th>\n",
       "    </tr>\n",
       "  </thead>\n",
       "  <tbody>\n",
       "    <tr>\n",
       "      <th>1281</th>\n",
       "      <td>Пока еще жива</td>\n",
       "      <td>111005313</td>\n",
       "      <td>2013-10-11 12:00:00</td>\n",
       "      <td>Художественный</td>\n",
       "      <td>АНО содействия развитию кинематографии \"Ангел-...</td>\n",
       "      <td>Россия</td>\n",
       "      <td>А.Атанесян</td>\n",
       "      <td>А.Атанесян, М.Бабаханов, Р.Бутко</td>\n",
       "      <td>«16+» - для детей старше 16 лет</td>\n",
       "      <td>0.0</td>\n",
       "      <td>...</td>\n",
       "      <td>79411900.0</td>\n",
       "      <td>Министерство культуры</td>\n",
       "      <td>8.1</td>\n",
       "      <td>драма,мелодрама</td>\n",
       "      <td>3.653536e+05</td>\n",
       "      <td>26500000.0</td>\n",
       "      <td>2013</td>\n",
       "      <td>А.Атанесян</td>\n",
       "      <td>драма</td>\n",
       "      <td>33.37</td>\n",
       "    </tr>\n",
       "    <tr>\n",
       "      <th>1448</th>\n",
       "      <td>Бесславные придурки</td>\n",
       "      <td>111003314</td>\n",
       "      <td>2014-03-28 12:00:00</td>\n",
       "      <td>Художественный</td>\n",
       "      <td>ООО \"Компания \"АТК-Студио\"</td>\n",
       "      <td>Россия</td>\n",
       "      <td>А.Якимчук</td>\n",
       "      <td>А.Тютрюмов</td>\n",
       "      <td>«12+» - для детей старше 12 лет</td>\n",
       "      <td>0.0</td>\n",
       "      <td>...</td>\n",
       "      <td>37142857.0</td>\n",
       "      <td>Министерство культуры</td>\n",
       "      <td>NaN</td>\n",
       "      <td>unknown</td>\n",
       "      <td>2.814000e+04</td>\n",
       "      <td>26000000.0</td>\n",
       "      <td>2014</td>\n",
       "      <td>А.Тютрюмов</td>\n",
       "      <td>unknown</td>\n",
       "      <td>70.00</td>\n",
       "    </tr>\n",
       "    <tr>\n",
       "      <th>1498</th>\n",
       "      <td>Невидимки</td>\n",
       "      <td>111004213</td>\n",
       "      <td>2013-09-10 12:00:00</td>\n",
       "      <td>Художественный</td>\n",
       "      <td>ООО \"Компания \"РЕАЛ-ДАКОТА\"</td>\n",
       "      <td>Россия</td>\n",
       "      <td>Р.Давлетьяров, С.Комаров</td>\n",
       "      <td>Р.Давлетьяров, А.Котелевский, А.Олейников</td>\n",
       "      <td>«12+» - для детей старше 12 лет</td>\n",
       "      <td>0.0</td>\n",
       "      <td>...</td>\n",
       "      <td>176023490.0</td>\n",
       "      <td>Фонд кино</td>\n",
       "      <td>5.3</td>\n",
       "      <td>комедия,фантастика</td>\n",
       "      <td>1.995703e+07</td>\n",
       "      <td>107847945.0</td>\n",
       "      <td>2013</td>\n",
       "      <td>Р.Давлетьяров</td>\n",
       "      <td>комедия</td>\n",
       "      <td>61.27</td>\n",
       "    </tr>\n",
       "    <tr>\n",
       "      <th>1524</th>\n",
       "      <td>БЕРЦЫ</td>\n",
       "      <td>111004314</td>\n",
       "      <td>2014-05-05 12:00:00</td>\n",
       "      <td>Художественный</td>\n",
       "      <td>ООО \"Студия \"Пассажир\"</td>\n",
       "      <td>Россия</td>\n",
       "      <td>Е.Миндадзе (псевдоним Катя Шагалова)</td>\n",
       "      <td>Л.Антонова</td>\n",
       "      <td>«16+» - для детей старше 16 лет</td>\n",
       "      <td>0.0</td>\n",
       "      <td>...</td>\n",
       "      <td>40574140.0</td>\n",
       "      <td>Министерство культуры</td>\n",
       "      <td>4.2</td>\n",
       "      <td>драма</td>\n",
       "      <td>5.591750e+04</td>\n",
       "      <td>28000000.0</td>\n",
       "      <td>2014</td>\n",
       "      <td>Л.Антонова</td>\n",
       "      <td>драма</td>\n",
       "      <td>69.01</td>\n",
       "    </tr>\n",
       "    <tr>\n",
       "      <th>1792</th>\n",
       "      <td>Братья Ч</td>\n",
       "      <td>111004414</td>\n",
       "      <td>2014-04-23 12:00:00</td>\n",
       "      <td>Художественный</td>\n",
       "      <td>ООО \"Студия \"Пассажир\"</td>\n",
       "      <td>Россия</td>\n",
       "      <td>М.Угаров</td>\n",
       "      <td>А.Миндадзе, Л.Антонова</td>\n",
       "      <td>«16+» - для детей старше 16 лет</td>\n",
       "      <td>0.0</td>\n",
       "      <td>...</td>\n",
       "      <td>40015122.0</td>\n",
       "      <td>Министерство культуры</td>\n",
       "      <td>6.4</td>\n",
       "      <td>драма</td>\n",
       "      <td>2.321000e+05</td>\n",
       "      <td>25000000.0</td>\n",
       "      <td>2014</td>\n",
       "      <td>А.Миндадзе</td>\n",
       "      <td>драма</td>\n",
       "      <td>62.48</td>\n",
       "    </tr>\n",
       "    <tr>\n",
       "      <th>...</th>\n",
       "      <td>...</td>\n",
       "      <td>...</td>\n",
       "      <td>...</td>\n",
       "      <td>...</td>\n",
       "      <td>...</td>\n",
       "      <td>...</td>\n",
       "      <td>...</td>\n",
       "      <td>...</td>\n",
       "      <td>...</td>\n",
       "      <td>...</td>\n",
       "      <td>...</td>\n",
       "      <td>...</td>\n",
       "      <td>...</td>\n",
       "      <td>...</td>\n",
       "      <td>...</td>\n",
       "      <td>...</td>\n",
       "      <td>...</td>\n",
       "      <td>...</td>\n",
       "      <td>...</td>\n",
       "      <td>...</td>\n",
       "      <td>...</td>\n",
       "    </tr>\n",
       "    <tr>\n",
       "      <th>7464</th>\n",
       "      <td>Союз спасения</td>\n",
       "      <td>111022019</td>\n",
       "      <td>2019-12-26 12:00:00</td>\n",
       "      <td>Художественный</td>\n",
       "      <td>ЗАО \"Дирекция кино\"</td>\n",
       "      <td>Россия</td>\n",
       "      <td>А.Кравчук</td>\n",
       "      <td>А.Максимов, К.Эрнст</td>\n",
       "      <td>«12+» - для детей старше 12 лет</td>\n",
       "      <td>100000000.0</td>\n",
       "      <td>...</td>\n",
       "      <td>980000000.0</td>\n",
       "      <td>Фонд кино</td>\n",
       "      <td>6.0</td>\n",
       "      <td>история,биография,драма</td>\n",
       "      <td>7.177032e+08</td>\n",
       "      <td>500000000.0</td>\n",
       "      <td>2019</td>\n",
       "      <td>А.Максимов</td>\n",
       "      <td>история</td>\n",
       "      <td>51.02</td>\n",
       "    </tr>\n",
       "    <tr>\n",
       "      <th>7466</th>\n",
       "      <td>Иван Царевич и Серый Волк 4</td>\n",
       "      <td>114005019</td>\n",
       "      <td>2019-12-20 12:00:00</td>\n",
       "      <td>Анимационный</td>\n",
       "      <td>ООО \"Студия анимационного кино \"Мельница\"</td>\n",
       "      <td>Россия</td>\n",
       "      <td>Д.Шмидт, К.Феоктистов</td>\n",
       "      <td>С.Сельянов, А.Боярский</td>\n",
       "      <td>«6+» - для детей старше 6 лет</td>\n",
       "      <td>100000000.0</td>\n",
       "      <td>...</td>\n",
       "      <td>190000000.0</td>\n",
       "      <td>Фонд кино</td>\n",
       "      <td>6.7</td>\n",
       "      <td>мультфильм,приключения,семейный</td>\n",
       "      <td>5.010692e+08</td>\n",
       "      <td>100000000.0</td>\n",
       "      <td>2019</td>\n",
       "      <td>С.Сельянов</td>\n",
       "      <td>мультфильм</td>\n",
       "      <td>52.63</td>\n",
       "    </tr>\n",
       "    <tr>\n",
       "      <th>7474</th>\n",
       "      <td>Вторжение</td>\n",
       "      <td>111022519</td>\n",
       "      <td>2019-12-23 12:00:00</td>\n",
       "      <td>Художественный</td>\n",
       "      <td>ООО \"Арт Пикчерс Студия\", ООО \"Водород 2011\"</td>\n",
       "      <td>Россия</td>\n",
       "      <td>Ф.Бондарчук</td>\n",
       "      <td>Ф.Бондарчук, М.Врубель, А.Андрющенко, Д.Рудовский</td>\n",
       "      <td>«12+» - для детей старше 12 лет</td>\n",
       "      <td>100000000.0</td>\n",
       "      <td>...</td>\n",
       "      <td>944000000.0</td>\n",
       "      <td>Фонд кино</td>\n",
       "      <td>5.7</td>\n",
       "      <td>фантастика,боевик</td>\n",
       "      <td>NaN</td>\n",
       "      <td>500000000.0</td>\n",
       "      <td>2019</td>\n",
       "      <td>Ф.Бондарчук</td>\n",
       "      <td>фантастика</td>\n",
       "      <td>52.97</td>\n",
       "    </tr>\n",
       "    <tr>\n",
       "      <th>7476</th>\n",
       "      <td>Я свободен</td>\n",
       "      <td>111023019</td>\n",
       "      <td>2019-12-26 12:00:00</td>\n",
       "      <td>Художественный</td>\n",
       "      <td>АО \"ТПО \"Киностудия им. М.Горького\"</td>\n",
       "      <td>Россия</td>\n",
       "      <td>И.Северов</td>\n",
       "      <td>С.Зернов</td>\n",
       "      <td>«12+» - для детей старше 12 лет</td>\n",
       "      <td>0.0</td>\n",
       "      <td>...</td>\n",
       "      <td>46154000.0</td>\n",
       "      <td>Министерство культуры</td>\n",
       "      <td>5.9</td>\n",
       "      <td>драма</td>\n",
       "      <td>NaN</td>\n",
       "      <td>30000000.0</td>\n",
       "      <td>2019</td>\n",
       "      <td>С.Зернов</td>\n",
       "      <td>драма</td>\n",
       "      <td>65.00</td>\n",
       "    </tr>\n",
       "    <tr>\n",
       "      <th>7478</th>\n",
       "      <td>(Не)идеальный мужчина</td>\n",
       "      <td>111023119</td>\n",
       "      <td>2019-12-24 12:00:00</td>\n",
       "      <td>Художественный</td>\n",
       "      <td>ООО \"Нон-Стоп Продакшн\"</td>\n",
       "      <td>Россия</td>\n",
       "      <td>М.Бальчюнас (псевдоним М.Вайсберг)</td>\n",
       "      <td>С.Мелькумов, А.Роднянский, М.Вайсберг, Р.Минас...</td>\n",
       "      <td>«12+» - для детей старше 12 лет</td>\n",
       "      <td>40000000.0</td>\n",
       "      <td>...</td>\n",
       "      <td>150147502.0</td>\n",
       "      <td>Фонд кино</td>\n",
       "      <td>4.5</td>\n",
       "      <td>комедия,фантастика,мелодрама</td>\n",
       "      <td>NaN</td>\n",
       "      <td>100000000.0</td>\n",
       "      <td>2019</td>\n",
       "      <td>С.Мелькумов</td>\n",
       "      <td>комедия</td>\n",
       "      <td>66.60</td>\n",
       "    </tr>\n",
       "  </tbody>\n",
       "</table>\n",
       "<p>332 rows × 21 columns</p>\n",
       "</div>"
      ],
      "text/plain": [
       "                            title  pu_number     show_start_date  \\\n",
       "1281                Пока еще жива  111005313 2013-10-11 12:00:00   \n",
       "1448          Бесславные придурки  111003314 2014-03-28 12:00:00   \n",
       "1498                    Невидимки  111004213 2013-09-10 12:00:00   \n",
       "1524                        БЕРЦЫ  111004314 2014-05-05 12:00:00   \n",
       "1792                     Братья Ч  111004414 2014-04-23 12:00:00   \n",
       "...                           ...        ...                 ...   \n",
       "7464                Союз спасения  111022019 2019-12-26 12:00:00   \n",
       "7466  Иван Царевич и Серый Волк 4  114005019 2019-12-20 12:00:00   \n",
       "7474                    Вторжение  111022519 2019-12-23 12:00:00   \n",
       "7476                   Я свободен  111023019 2019-12-26 12:00:00   \n",
       "7478        (Не)идеальный мужчина  111023119 2019-12-24 12:00:00   \n",
       "\n",
       "                type                                        film_studio  \\\n",
       "1281  Художественный  АНО содействия развитию кинематографии \"Ангел-...   \n",
       "1448  Художественный                         ООО \"Компания \"АТК-Студио\"   \n",
       "1498  Художественный                        ООО \"Компания \"РЕАЛ-ДАКОТА\"   \n",
       "1524  Художественный                             ООО \"Студия \"Пассажир\"   \n",
       "1792  Художественный                             ООО \"Студия \"Пассажир\"   \n",
       "...              ...                                                ...   \n",
       "7464  Художественный                                ЗАО \"Дирекция кино\"   \n",
       "7466    Анимационный          ООО \"Студия анимационного кино \"Мельница\"   \n",
       "7474  Художественный       ООО \"Арт Пикчерс Студия\", ООО \"Водород 2011\"   \n",
       "7476  Художественный                АО \"ТПО \"Киностудия им. М.Горького\"   \n",
       "7478  Художественный                            ООО \"Нон-Стоп Продакшн\"   \n",
       "\n",
       "     production_country                              director  \\\n",
       "1281             Россия                            А.Атанесян   \n",
       "1448             Россия                             А.Якимчук   \n",
       "1498             Россия              Р.Давлетьяров, С.Комаров   \n",
       "1524             Россия  Е.Миндадзе (псевдоним Катя Шагалова)   \n",
       "1792             Россия                              М.Угаров   \n",
       "...                 ...                                   ...   \n",
       "7464             Россия                             А.Кравчук   \n",
       "7466             Россия                 Д.Шмидт, К.Феоктистов   \n",
       "7474             Россия                           Ф.Бондарчук   \n",
       "7476             Россия                             И.Северов   \n",
       "7478             Россия    М.Бальчюнас (псевдоним М.Вайсберг)   \n",
       "\n",
       "                                               producer  \\\n",
       "1281                   А.Атанесян, М.Бабаханов, Р.Бутко   \n",
       "1448                                         А.Тютрюмов   \n",
       "1498          Р.Давлетьяров, А.Котелевский, А.Олейников   \n",
       "1524                                         Л.Антонова   \n",
       "1792                             А.Миндадзе, Л.Антонова   \n",
       "...                                                 ...   \n",
       "7464                                А.Максимов, К.Эрнст   \n",
       "7466                             С.Сельянов, А.Боярский   \n",
       "7474  Ф.Бондарчук, М.Врубель, А.Андрющенко, Д.Рудовский   \n",
       "7476                                           С.Зернов   \n",
       "7478  С.Мелькумов, А.Роднянский, М.Вайсберг, Р.Минас...   \n",
       "\n",
       "                      age_restriction  refundable_support  ...       budget  \\\n",
       "1281  «16+» - для детей старше 16 лет                 0.0  ...   79411900.0   \n",
       "1448  «12+» - для детей старше 12 лет                 0.0  ...   37142857.0   \n",
       "1498  «12+» - для детей старше 12 лет                 0.0  ...  176023490.0   \n",
       "1524  «16+» - для детей старше 16 лет                 0.0  ...   40574140.0   \n",
       "1792  «16+» - для детей старше 16 лет                 0.0  ...   40015122.0   \n",
       "...                               ...                 ...  ...          ...   \n",
       "7464  «12+» - для детей старше 12 лет         100000000.0  ...  980000000.0   \n",
       "7466    «6+» - для детей старше 6 лет         100000000.0  ...  190000000.0   \n",
       "7474  «12+» - для детей старше 12 лет         100000000.0  ...  944000000.0   \n",
       "7476  «12+» - для детей старше 12 лет                 0.0  ...   46154000.0   \n",
       "7478  «12+» - для детей старше 12 лет          40000000.0  ...  150147502.0   \n",
       "\n",
       "           financing_source ratings                           genres  \\\n",
       "1281  Министерство культуры     8.1                  драма,мелодрама   \n",
       "1448  Министерство культуры     NaN                          unknown   \n",
       "1498              Фонд кино     5.3               комедия,фантастика   \n",
       "1524  Министерство культуры     4.2                            драма   \n",
       "1792  Министерство культуры     6.4                            драма   \n",
       "...                     ...     ...                              ...   \n",
       "7464              Фонд кино     6.0          история,биография,драма   \n",
       "7466              Фонд кино     6.7  мультфильм,приключения,семейный   \n",
       "7474              Фонд кино     5.7                фантастика,боевик   \n",
       "7476  Министерство культуры     5.9                            драма   \n",
       "7478              Фонд кино     4.5     комедия,фантастика,мелодрама   \n",
       "\n",
       "        box_office  total_support  year  general_producer main_genres  \\\n",
       "1281  3.653536e+05     26500000.0  2013        А.Атанесян       драма   \n",
       "1448  2.814000e+04     26000000.0  2014        А.Тютрюмов     unknown   \n",
       "1498  1.995703e+07    107847945.0  2013     Р.Давлетьяров     комедия   \n",
       "1524  5.591750e+04     28000000.0  2014        Л.Антонова       драма   \n",
       "1792  2.321000e+05     25000000.0  2014        А.Миндадзе       драма   \n",
       "...            ...            ...   ...               ...         ...   \n",
       "7464  7.177032e+08    500000000.0  2019        А.Максимов     история   \n",
       "7466  5.010692e+08    100000000.0  2019        С.Сельянов  мультфильм   \n",
       "7474           NaN    500000000.0  2019       Ф.Бондарчук  фантастика   \n",
       "7476           NaN     30000000.0  2019          С.Зернов       драма   \n",
       "7478           NaN    100000000.0  2019       С.Мелькумов     комедия   \n",
       "\n",
       "     share_support  \n",
       "1281         33.37  \n",
       "1448         70.00  \n",
       "1498         61.27  \n",
       "1524         69.01  \n",
       "1792         62.48  \n",
       "...            ...  \n",
       "7464         51.02  \n",
       "7466         52.63  \n",
       "7474         52.97  \n",
       "7476         65.00  \n",
       "7478         66.60  \n",
       "\n",
       "[332 rows x 21 columns]"
      ]
     },
     "execution_count": 39,
     "metadata": {},
     "output_type": "execute_result"
    }
   ],
   "source": [
    "df['share_support']=(df['total_support']/df['budget']*100).round(2)\n",
    "df[df['share_support']>0]"
   ]
  },
  {
   "cell_type": "markdown",
   "metadata": {},
   "source": [
    "<div class=\"alert alert-info\"> <b>Комментарий студента:</b> В предоработке данных мы обработали пропущенные  значения, проверили есть ли дубликаты, добавили новые столбцы , для дальнейшего исследования"
   ]
  },
  {
   "cell_type": "markdown",
   "metadata": {
    "id": "6t4EukPLgFyV"
   },
   "source": [
    "### Шаг 3. Проведите исследовательский анализ данных\n"
   ]
  },
  {
   "cell_type": "markdown",
   "metadata": {
    "id": "vAH8WCzugFyV"
   },
   "source": [
    "- Посмотрите, сколько фильмов выходило в прокат каждый год. Обратите внимание, что данные о прокате в кинотеатрах известны не для всех фильмов. Посчитайте, какую долю составляют фильмы с указанной информацией о прокате в кинотеатрах. Проанализируйте, как эта доля менялась по годам. Сделайте вывод о том, какой период полнее всего представлен в данных."
   ]
  },
  {
   "cell_type": "code",
   "execution_count": 40,
   "metadata": {
    "id": "ABeV47y7gFyW"
   },
   "outputs": [
    {
     "data": {
      "text/plain": [
       "year\n",
       "2010    985\n",
       "2019    930\n",
       "2018    891\n",
       "2016    818\n",
       "2014    807\n",
       "2015    705\n",
       "2013    630\n",
       "2011    622\n",
       "2012    593\n",
       "2017    505\n",
       "Name: count, dtype: int64"
      ]
     },
     "execution_count": 40,
     "metadata": {},
     "output_type": "execute_result"
    }
   ],
   "source": [
    "df['year'].value_counts()"
   ]
  },
  {
   "cell_type": "markdown",
   "metadata": {},
   "source": [
    "*Больше всего в прокат выходили фильмы в 2010г.*"
   ]
  },
  {
   "cell_type": "markdown",
   "metadata": {},
   "source": [
    "*Посчитаем долю фильмов с указанной информацией о прокате в кинотеатрах*"
   ]
  },
  {
   "cell_type": "code",
   "execution_count": 41,
   "metadata": {},
   "outputs": [],
   "source": [
    "has_box_office=df[df['box_office'].notnull() & df['box_office']>0]"
   ]
  },
  {
   "cell_type": "code",
   "execution_count": 42,
   "metadata": {},
   "outputs": [],
   "source": [
    "total_movies=len(df)\n",
    "movies_with_box_office=len(has_box_office)"
   ]
  },
  {
   "cell_type": "code",
   "execution_count": 43,
   "metadata": {},
   "outputs": [
    {
     "data": {
      "text/plain": [
       "41.86481432006412"
      ]
     },
     "execution_count": 43,
     "metadata": {},
     "output_type": "execute_result"
    }
   ],
   "source": [
    "share_movies=(movies_with_box_office/ total_movies*100)\n",
    "share_movies"
   ]
  },
  {
   "cell_type": "markdown",
   "metadata": {},
   "source": [
    "*Посмотрим как эта доля менялась по годам*"
   ]
  },
  {
   "cell_type": "code",
   "execution_count": 44,
   "metadata": {},
   "outputs": [],
   "source": [
    "df['has_box_office']=df['box_office'].notnull().astype('int')"
   ]
  },
  {
   "cell_type": "code",
   "execution_count": 45,
   "metadata": {},
   "outputs": [],
   "source": [
    "grouped=df.groupby('year')['has_box_office'].mean().reset_index()\n",
    "grouped=grouped.rename(columns={'has_box_office' : 'share_with_box_office'})"
   ]
  },
  {
   "cell_type": "code",
   "execution_count": 46,
   "metadata": {},
   "outputs": [
    {
     "data": {
      "image/png": "[encoded data removed]",
      "text/plain": [
       "<Figure size 640x480 with 1 Axes>"
      ]
     },
     "metadata": {},
     "output_type": "display_data"
    }
   ],
   "source": [
    "sns.lineplot(data=grouped, x='year', y='share_with_box_office')\n",
    "plt.title('Изменение доли фильмов по годам')\n",
    "plt.xlabel('Год')\n",
    "plt.ylabel('Доля фильмов')\n",
    "plt.grid(True)\n",
    "plt.show()"
   ]
  },
  {
   "cell_type": "markdown",
   "metadata": {},
   "source": [
    "*По данным видно что в 2017 году было больше данных о сборах*"
   ]
  },
  {
   "cell_type": "markdown",
   "metadata": {
    "id": "BEOdcIrIgFyW"
   },
   "source": [
    "- Изучите, как менялась динамика проката по годам. В каком году сумма сборов была минимальной? А максимальной?"
   ]
  },
  {
   "cell_type": "code",
   "execution_count": 47,
   "metadata": {},
   "outputs": [],
   "source": [
    "grouped_year=df.groupby('year')['box_office'].mean().reset_index()"
   ]
  },
  {
   "cell_type": "code",
   "execution_count": 48,
   "metadata": {},
   "outputs": [
    {
     "name": "stderr",
     "output_type": "stream",
     "text": [
      "C:\\Users\\boyah\\AppData\\Local\\Temp\\ipykernel_14868\\304680024.py:1: FutureWarning: \n",
      "\n",
      "Passing `palette` without assigning `hue` is deprecated and will be removed in v0.14.0. Assign the `x` variable to `hue` and set `legend=False` for the same effect.\n",
      "\n",
      "  sns.barplot(x='year', y='box_office',data=grouped_year, palette='coolwarm')\n"
     ]
    },
    {
     "data": {
      "image/png": "[encoded data removed]",
      "text/plain": [
       "<Figure size 640x480 with 1 Axes>"
      ]
     },
     "metadata": {},
     "output_type": "display_data"
    }
   ],
   "source": [
    "sns.barplot(x='year', y='box_office',data=grouped_year, palette='coolwarm')\n",
    "plt.title('Динамика проката по годам')\n",
    "plt.xlabel('Год')\n",
    "plt.ylabel('Сумма сборов')\n",
    "plt.show()"
   ]
  },
  {
   "cell_type": "markdown",
   "metadata": {},
   "source": [
    "*Так же и за 2017 год больше всего было сборов, почти 140.000.000*"
   ]
  },
  {
   "cell_type": "markdown",
   "metadata": {
    "id": "G-7qS-N-gFyY"
   },
   "source": [
    "- С помощью сводной таблицы посчитайте среднюю и медианную сумму сборов для каждого года."
   ]
  },
  {
   "cell_type": "code",
   "execution_count": 49,
   "metadata": {
    "id": "jmp-rgg9gFyY"
   },
   "outputs": [
    {
     "data": {
      "text/html": [
       "<div>\n",
       "<style scoped>\n",
       "    .dataframe tbody tr th:only-of-type {\n",
       "        vertical-align: middle;\n",
       "    }\n",
       "\n",
       "    .dataframe tbody tr th {\n",
       "        vertical-align: top;\n",
       "    }\n",
       "\n",
       "    .dataframe thead tr th {\n",
       "        text-align: left;\n",
       "    }\n",
       "\n",
       "    .dataframe thead tr:last-of-type th {\n",
       "        text-align: right;\n",
       "    }\n",
       "</style>\n",
       "<table border=\"1\" class=\"dataframe\">\n",
       "  <thead>\n",
       "    <tr>\n",
       "      <th></th>\n",
       "      <th>mean</th>\n",
       "      <th>median</th>\n",
       "    </tr>\n",
       "    <tr>\n",
       "      <th></th>\n",
       "      <th>box_office</th>\n",
       "      <th>box_office</th>\n",
       "    </tr>\n",
       "    <tr>\n",
       "      <th>year</th>\n",
       "      <th></th>\n",
       "      <th></th>\n",
       "    </tr>\n",
       "  </thead>\n",
       "  <tbody>\n",
       "    <tr>\n",
       "      <th>2010</th>\n",
       "      <td>2.313004e+04</td>\n",
       "      <td>1700.000</td>\n",
       "    </tr>\n",
       "    <tr>\n",
       "      <th>2011</th>\n",
       "      <td>1.293832e+05</td>\n",
       "      <td>3000.000</td>\n",
       "    </tr>\n",
       "    <tr>\n",
       "      <th>2012</th>\n",
       "      <td>5.433924e+04</td>\n",
       "      <td>5660.000</td>\n",
       "    </tr>\n",
       "    <tr>\n",
       "      <th>2013</th>\n",
       "      <td>1.619549e+05</td>\n",
       "      <td>3522.500</td>\n",
       "    </tr>\n",
       "    <tr>\n",
       "      <th>2014</th>\n",
       "      <td>2.668442e+07</td>\n",
       "      <td>18160.000</td>\n",
       "    </tr>\n",
       "    <tr>\n",
       "      <th>2015</th>\n",
       "      <td>8.494057e+07</td>\n",
       "      <td>4920933.000</td>\n",
       "    </tr>\n",
       "    <tr>\n",
       "      <th>2016</th>\n",
       "      <td>9.100057e+07</td>\n",
       "      <td>3846679.410</td>\n",
       "    </tr>\n",
       "    <tr>\n",
       "      <th>2017</th>\n",
       "      <td>1.360328e+08</td>\n",
       "      <td>9968340.000</td>\n",
       "    </tr>\n",
       "    <tr>\n",
       "      <th>2018</th>\n",
       "      <td>1.045651e+08</td>\n",
       "      <td>8891102.210</td>\n",
       "    </tr>\n",
       "    <tr>\n",
       "      <th>2019</th>\n",
       "      <td>9.136926e+07</td>\n",
       "      <td>4627798.345</td>\n",
       "    </tr>\n",
       "  </tbody>\n",
       "</table>\n",
       "</div>"
      ],
      "text/plain": [
       "              mean       median\n",
       "        box_office   box_office\n",
       "year                           \n",
       "2010  2.313004e+04     1700.000\n",
       "2011  1.293832e+05     3000.000\n",
       "2012  5.433924e+04     5660.000\n",
       "2013  1.619549e+05     3522.500\n",
       "2014  2.668442e+07    18160.000\n",
       "2015  8.494057e+07  4920933.000\n",
       "2016  9.100057e+07  3846679.410\n",
       "2017  1.360328e+08  9968340.000\n",
       "2018  1.045651e+08  8891102.210\n",
       "2019  9.136926e+07  4627798.345"
      ]
     },
     "execution_count": 49,
     "metadata": {},
     "output_type": "execute_result"
    }
   ],
   "source": [
    "mean_box_office=df.pivot_table(index='year', values='box_office', aggfunc=['mean','median'])\n",
    "mean_box_office"
   ]
  },
  {
   "cell_type": "markdown",
   "metadata": {},
   "source": [
    "*С 2015 года заметен тренд, можно сделать предположение что в эти года хорошо заработали какие-то болкбастеры, но и в тоже время обычные фильмы тоже показывают небольшой рост,затем идет небольшой спад*"
   ]
  },
  {
   "cell_type": "markdown",
   "metadata": {
    "id": "Ok89WFwJgFyZ"
   },
   "source": [
    "- Определите, влияет ли возрастное ограничение аудитории («6+», «12+», «16+», «18+» и т. д.) на сборы фильма в прокате в период с 2015 по 2019 год? Фильмы с каким возрастным ограничением собрали больше всего денег в прокате? Меняется ли картина в зависимости от года? Если да, предположите, с чем это может быть связано."
   ]
  },
  {
   "cell_type": "code",
   "execution_count": 50,
   "metadata": {
    "id": "jsSbEqfjgFya"
   },
   "outputs": [
    {
     "data": {
      "image/png": "[encoded data removed]",
      "text/plain": [
       "<Figure size 640x480 with 2 Axes>"
      ]
     },
     "metadata": {},
     "output_type": "display_data"
    }
   ],
   "source": [
    "filtered_df=df[(df['year']>=2015)&(df['year']<=2019)]\n",
    "group_age=filtered_df.pivot_table(index='year',columns='age_restriction',values='box_office')\n",
    "sns.heatmap(data=group_age, annot=True, cmap='coolwarm')\n",
    "plt.title('Зависимость возрастного ограничения на сборы фильма', fontsize=16 ,y=1.1)\n",
    "plt.show()"
   ]
  },
  {
   "cell_type": "markdown",
   "metadata": {},
   "source": [
    "*По данным с 2015 по 2019 год, заметно что самая болшая сумма сборов была в 2017 году в категории \"6+ - для детей старше 6 лет\" ,возможно вышел хороший кинофильм , который собрал большую сумму, так как на протяжении 5 лет эта возврастная категория стабильно набирала примерно одинаковую сумму сборов, так же в  глаза бросается категория фильмов старше 12+ лет, за 5 лет показа фильмов , 3 из них были выше среднего по сумме сборов.Можно так же предположить , что 2017 год отличился по сумме сборов из-за того что большая часть данныч о сборах именно за этот год*"
   ]
  },
  {
   "cell_type": "markdown",
   "metadata": {
    "id": "l_Kg6Ku4gFya"
   },
   "source": [
    "### Шаг 4. Исследуйте фильмы, которые получили государственную поддержку\n",
    "\n",
    "На этом этапе нет конкретных инструкций и заданий — поищите интересные закономерности в данных. Посмотрите, сколько выделяют средств на поддержку кино. Проверьте, хорошо ли окупаются такие фильмы, какой у них рейтинг."
   ]
  },
  {
   "cell_type": "code",
   "execution_count": 51,
   "metadata": {
    "id": "W9QKpjUdgFyb",
    "scrolled": true
   },
   "outputs": [
    {
     "data": {
      "text/html": [
       "<div>\n",
       "<style scoped>\n",
       "    .dataframe tbody tr th:only-of-type {\n",
       "        vertical-align: middle;\n",
       "    }\n",
       "\n",
       "    .dataframe tbody tr th {\n",
       "        vertical-align: top;\n",
       "    }\n",
       "\n",
       "    .dataframe thead th {\n",
       "        text-align: right;\n",
       "    }\n",
       "</style>\n",
       "<table border=\"1\" class=\"dataframe\">\n",
       "  <thead>\n",
       "    <tr style=\"text-align: right;\">\n",
       "      <th></th>\n",
       "      <th>title</th>\n",
       "      <th>pu_number</th>\n",
       "      <th>show_start_date</th>\n",
       "      <th>type</th>\n",
       "      <th>film_studio</th>\n",
       "      <th>production_country</th>\n",
       "      <th>director</th>\n",
       "      <th>producer</th>\n",
       "      <th>age_restriction</th>\n",
       "      <th>refundable_support</th>\n",
       "      <th>...</th>\n",
       "      <th>financing_source</th>\n",
       "      <th>ratings</th>\n",
       "      <th>genres</th>\n",
       "      <th>box_office</th>\n",
       "      <th>total_support</th>\n",
       "      <th>year</th>\n",
       "      <th>general_producer</th>\n",
       "      <th>main_genres</th>\n",
       "      <th>share_support</th>\n",
       "      <th>has_box_office</th>\n",
       "    </tr>\n",
       "  </thead>\n",
       "  <tbody>\n",
       "    <tr>\n",
       "      <th>1281</th>\n",
       "      <td>Пока еще жива</td>\n",
       "      <td>111005313</td>\n",
       "      <td>2013-10-11 12:00:00</td>\n",
       "      <td>Художественный</td>\n",
       "      <td>АНО содействия развитию кинематографии \"Ангел-...</td>\n",
       "      <td>Россия</td>\n",
       "      <td>А.Атанесян</td>\n",
       "      <td>А.Атанесян, М.Бабаханов, Р.Бутко</td>\n",
       "      <td>«16+» - для детей старше 16 лет</td>\n",
       "      <td>0.0</td>\n",
       "      <td>...</td>\n",
       "      <td>Министерство культуры</td>\n",
       "      <td>8.1</td>\n",
       "      <td>драма,мелодрама</td>\n",
       "      <td>0.365354</td>\n",
       "      <td>26.500000</td>\n",
       "      <td>2013</td>\n",
       "      <td>А.Атанесян</td>\n",
       "      <td>драма</td>\n",
       "      <td>33.37</td>\n",
       "      <td>1</td>\n",
       "    </tr>\n",
       "    <tr>\n",
       "      <th>1448</th>\n",
       "      <td>Бесславные придурки</td>\n",
       "      <td>111003314</td>\n",
       "      <td>2014-03-28 12:00:00</td>\n",
       "      <td>Художественный</td>\n",
       "      <td>ООО \"Компания \"АТК-Студио\"</td>\n",
       "      <td>Россия</td>\n",
       "      <td>А.Якимчук</td>\n",
       "      <td>А.Тютрюмов</td>\n",
       "      <td>«12+» - для детей старше 12 лет</td>\n",
       "      <td>0.0</td>\n",
       "      <td>...</td>\n",
       "      <td>Министерство культуры</td>\n",
       "      <td>NaN</td>\n",
       "      <td>unknown</td>\n",
       "      <td>0.028140</td>\n",
       "      <td>26.000000</td>\n",
       "      <td>2014</td>\n",
       "      <td>А.Тютрюмов</td>\n",
       "      <td>unknown</td>\n",
       "      <td>70.00</td>\n",
       "      <td>1</td>\n",
       "    </tr>\n",
       "    <tr>\n",
       "      <th>1498</th>\n",
       "      <td>Невидимки</td>\n",
       "      <td>111004213</td>\n",
       "      <td>2013-09-10 12:00:00</td>\n",
       "      <td>Художественный</td>\n",
       "      <td>ООО \"Компания \"РЕАЛ-ДАКОТА\"</td>\n",
       "      <td>Россия</td>\n",
       "      <td>Р.Давлетьяров, С.Комаров</td>\n",
       "      <td>Р.Давлетьяров, А.Котелевский, А.Олейников</td>\n",
       "      <td>«12+» - для детей старше 12 лет</td>\n",
       "      <td>0.0</td>\n",
       "      <td>...</td>\n",
       "      <td>Фонд кино</td>\n",
       "      <td>5.3</td>\n",
       "      <td>комедия,фантастика</td>\n",
       "      <td>19.957031</td>\n",
       "      <td>107.847945</td>\n",
       "      <td>2013</td>\n",
       "      <td>Р.Давлетьяров</td>\n",
       "      <td>комедия</td>\n",
       "      <td>61.27</td>\n",
       "      <td>1</td>\n",
       "    </tr>\n",
       "    <tr>\n",
       "      <th>1524</th>\n",
       "      <td>БЕРЦЫ</td>\n",
       "      <td>111004314</td>\n",
       "      <td>2014-05-05 12:00:00</td>\n",
       "      <td>Художественный</td>\n",
       "      <td>ООО \"Студия \"Пассажир\"</td>\n",
       "      <td>Россия</td>\n",
       "      <td>Е.Миндадзе (псевдоним Катя Шагалова)</td>\n",
       "      <td>Л.Антонова</td>\n",
       "      <td>«16+» - для детей старше 16 лет</td>\n",
       "      <td>0.0</td>\n",
       "      <td>...</td>\n",
       "      <td>Министерство культуры</td>\n",
       "      <td>4.2</td>\n",
       "      <td>драма</td>\n",
       "      <td>0.055918</td>\n",
       "      <td>28.000000</td>\n",
       "      <td>2014</td>\n",
       "      <td>Л.Антонова</td>\n",
       "      <td>драма</td>\n",
       "      <td>69.01</td>\n",
       "      <td>1</td>\n",
       "    </tr>\n",
       "    <tr>\n",
       "      <th>1792</th>\n",
       "      <td>Братья Ч</td>\n",
       "      <td>111004414</td>\n",
       "      <td>2014-04-23 12:00:00</td>\n",
       "      <td>Художественный</td>\n",
       "      <td>ООО \"Студия \"Пассажир\"</td>\n",
       "      <td>Россия</td>\n",
       "      <td>М.Угаров</td>\n",
       "      <td>А.Миндадзе, Л.Антонова</td>\n",
       "      <td>«16+» - для детей старше 16 лет</td>\n",
       "      <td>0.0</td>\n",
       "      <td>...</td>\n",
       "      <td>Министерство культуры</td>\n",
       "      <td>6.4</td>\n",
       "      <td>драма</td>\n",
       "      <td>0.232100</td>\n",
       "      <td>25.000000</td>\n",
       "      <td>2014</td>\n",
       "      <td>А.Миндадзе</td>\n",
       "      <td>драма</td>\n",
       "      <td>62.48</td>\n",
       "      <td>1</td>\n",
       "    </tr>\n",
       "    <tr>\n",
       "      <th>...</th>\n",
       "      <td>...</td>\n",
       "      <td>...</td>\n",
       "      <td>...</td>\n",
       "      <td>...</td>\n",
       "      <td>...</td>\n",
       "      <td>...</td>\n",
       "      <td>...</td>\n",
       "      <td>...</td>\n",
       "      <td>...</td>\n",
       "      <td>...</td>\n",
       "      <td>...</td>\n",
       "      <td>...</td>\n",
       "      <td>...</td>\n",
       "      <td>...</td>\n",
       "      <td>...</td>\n",
       "      <td>...</td>\n",
       "      <td>...</td>\n",
       "      <td>...</td>\n",
       "      <td>...</td>\n",
       "      <td>...</td>\n",
       "      <td>...</td>\n",
       "    </tr>\n",
       "    <tr>\n",
       "      <th>7464</th>\n",
       "      <td>Союз спасения</td>\n",
       "      <td>111022019</td>\n",
       "      <td>2019-12-26 12:00:00</td>\n",
       "      <td>Художественный</td>\n",
       "      <td>ЗАО \"Дирекция кино\"</td>\n",
       "      <td>Россия</td>\n",
       "      <td>А.Кравчук</td>\n",
       "      <td>А.Максимов, К.Эрнст</td>\n",
       "      <td>«12+» - для детей старше 12 лет</td>\n",
       "      <td>100000000.0</td>\n",
       "      <td>...</td>\n",
       "      <td>Фонд кино</td>\n",
       "      <td>6.0</td>\n",
       "      <td>история,биография,драма</td>\n",
       "      <td>717.703186</td>\n",
       "      <td>500.000000</td>\n",
       "      <td>2019</td>\n",
       "      <td>А.Максимов</td>\n",
       "      <td>история</td>\n",
       "      <td>51.02</td>\n",
       "      <td>1</td>\n",
       "    </tr>\n",
       "    <tr>\n",
       "      <th>7466</th>\n",
       "      <td>Иван Царевич и Серый Волк 4</td>\n",
       "      <td>114005019</td>\n",
       "      <td>2019-12-20 12:00:00</td>\n",
       "      <td>Анимационный</td>\n",
       "      <td>ООО \"Студия анимационного кино \"Мельница\"</td>\n",
       "      <td>Россия</td>\n",
       "      <td>Д.Шмидт, К.Феоктистов</td>\n",
       "      <td>С.Сельянов, А.Боярский</td>\n",
       "      <td>«6+» - для детей старше 6 лет</td>\n",
       "      <td>100000000.0</td>\n",
       "      <td>...</td>\n",
       "      <td>Фонд кино</td>\n",
       "      <td>6.7</td>\n",
       "      <td>мультфильм,приключения,семейный</td>\n",
       "      <td>501.069235</td>\n",
       "      <td>100.000000</td>\n",
       "      <td>2019</td>\n",
       "      <td>С.Сельянов</td>\n",
       "      <td>мультфильм</td>\n",
       "      <td>52.63</td>\n",
       "      <td>1</td>\n",
       "    </tr>\n",
       "    <tr>\n",
       "      <th>7474</th>\n",
       "      <td>Вторжение</td>\n",
       "      <td>111022519</td>\n",
       "      <td>2019-12-23 12:00:00</td>\n",
       "      <td>Художественный</td>\n",
       "      <td>ООО \"Арт Пикчерс Студия\", ООО \"Водород 2011\"</td>\n",
       "      <td>Россия</td>\n",
       "      <td>Ф.Бондарчук</td>\n",
       "      <td>Ф.Бондарчук, М.Врубель, А.Андрющенко, Д.Рудовский</td>\n",
       "      <td>«12+» - для детей старше 12 лет</td>\n",
       "      <td>100000000.0</td>\n",
       "      <td>...</td>\n",
       "      <td>Фонд кино</td>\n",
       "      <td>5.7</td>\n",
       "      <td>фантастика,боевик</td>\n",
       "      <td>NaN</td>\n",
       "      <td>500.000000</td>\n",
       "      <td>2019</td>\n",
       "      <td>Ф.Бондарчук</td>\n",
       "      <td>фантастика</td>\n",
       "      <td>52.97</td>\n",
       "      <td>0</td>\n",
       "    </tr>\n",
       "    <tr>\n",
       "      <th>7476</th>\n",
       "      <td>Я свободен</td>\n",
       "      <td>111023019</td>\n",
       "      <td>2019-12-26 12:00:00</td>\n",
       "      <td>Художественный</td>\n",
       "      <td>АО \"ТПО \"Киностудия им. М.Горького\"</td>\n",
       "      <td>Россия</td>\n",
       "      <td>И.Северов</td>\n",
       "      <td>С.Зернов</td>\n",
       "      <td>«12+» - для детей старше 12 лет</td>\n",
       "      <td>0.0</td>\n",
       "      <td>...</td>\n",
       "      <td>Министерство культуры</td>\n",
       "      <td>5.9</td>\n",
       "      <td>драма</td>\n",
       "      <td>NaN</td>\n",
       "      <td>30.000000</td>\n",
       "      <td>2019</td>\n",
       "      <td>С.Зернов</td>\n",
       "      <td>драма</td>\n",
       "      <td>65.00</td>\n",
       "      <td>0</td>\n",
       "    </tr>\n",
       "    <tr>\n",
       "      <th>7478</th>\n",
       "      <td>(Не)идеальный мужчина</td>\n",
       "      <td>111023119</td>\n",
       "      <td>2019-12-24 12:00:00</td>\n",
       "      <td>Художественный</td>\n",
       "      <td>ООО \"Нон-Стоп Продакшн\"</td>\n",
       "      <td>Россия</td>\n",
       "      <td>М.Бальчюнас (псевдоним М.Вайсберг)</td>\n",
       "      <td>С.Мелькумов, А.Роднянский, М.Вайсберг, Р.Минас...</td>\n",
       "      <td>«12+» - для детей старше 12 лет</td>\n",
       "      <td>40000000.0</td>\n",
       "      <td>...</td>\n",
       "      <td>Фонд кино</td>\n",
       "      <td>4.5</td>\n",
       "      <td>комедия,фантастика,мелодрама</td>\n",
       "      <td>NaN</td>\n",
       "      <td>100.000000</td>\n",
       "      <td>2019</td>\n",
       "      <td>С.Мелькумов</td>\n",
       "      <td>комедия</td>\n",
       "      <td>66.60</td>\n",
       "      <td>0</td>\n",
       "    </tr>\n",
       "  </tbody>\n",
       "</table>\n",
       "<p>332 rows × 22 columns</p>\n",
       "</div>"
      ],
      "text/plain": [
       "                            title  pu_number     show_start_date  \\\n",
       "1281                Пока еще жива  111005313 2013-10-11 12:00:00   \n",
       "1448          Бесславные придурки  111003314 2014-03-28 12:00:00   \n",
       "1498                    Невидимки  111004213 2013-09-10 12:00:00   \n",
       "1524                        БЕРЦЫ  111004314 2014-05-05 12:00:00   \n",
       "1792                     Братья Ч  111004414 2014-04-23 12:00:00   \n",
       "...                           ...        ...                 ...   \n",
       "7464                Союз спасения  111022019 2019-12-26 12:00:00   \n",
       "7466  Иван Царевич и Серый Волк 4  114005019 2019-12-20 12:00:00   \n",
       "7474                    Вторжение  111022519 2019-12-23 12:00:00   \n",
       "7476                   Я свободен  111023019 2019-12-26 12:00:00   \n",
       "7478        (Не)идеальный мужчина  111023119 2019-12-24 12:00:00   \n",
       "\n",
       "                type                                        film_studio  \\\n",
       "1281  Художественный  АНО содействия развитию кинематографии \"Ангел-...   \n",
       "1448  Художественный                         ООО \"Компания \"АТК-Студио\"   \n",
       "1498  Художественный                        ООО \"Компания \"РЕАЛ-ДАКОТА\"   \n",
       "1524  Художественный                             ООО \"Студия \"Пассажир\"   \n",
       "1792  Художественный                             ООО \"Студия \"Пассажир\"   \n",
       "...              ...                                                ...   \n",
       "7464  Художественный                                ЗАО \"Дирекция кино\"   \n",
       "7466    Анимационный          ООО \"Студия анимационного кино \"Мельница\"   \n",
       "7474  Художественный       ООО \"Арт Пикчерс Студия\", ООО \"Водород 2011\"   \n",
       "7476  Художественный                АО \"ТПО \"Киностудия им. М.Горького\"   \n",
       "7478  Художественный                            ООО \"Нон-Стоп Продакшн\"   \n",
       "\n",
       "     production_country                              director  \\\n",
       "1281             Россия                            А.Атанесян   \n",
       "1448             Россия                             А.Якимчук   \n",
       "1498             Россия              Р.Давлетьяров, С.Комаров   \n",
       "1524             Россия  Е.Миндадзе (псевдоним Катя Шагалова)   \n",
       "1792             Россия                              М.Угаров   \n",
       "...                 ...                                   ...   \n",
       "7464             Россия                             А.Кравчук   \n",
       "7466             Россия                 Д.Шмидт, К.Феоктистов   \n",
       "7474             Россия                           Ф.Бондарчук   \n",
       "7476             Россия                             И.Северов   \n",
       "7478             Россия    М.Бальчюнас (псевдоним М.Вайсберг)   \n",
       "\n",
       "                                               producer  \\\n",
       "1281                   А.Атанесян, М.Бабаханов, Р.Бутко   \n",
       "1448                                         А.Тютрюмов   \n",
       "1498          Р.Давлетьяров, А.Котелевский, А.Олейников   \n",
       "1524                                         Л.Антонова   \n",
       "1792                             А.Миндадзе, Л.Антонова   \n",
       "...                                                 ...   \n",
       "7464                                А.Максимов, К.Эрнст   \n",
       "7466                             С.Сельянов, А.Боярский   \n",
       "7474  Ф.Бондарчук, М.Врубель, А.Андрющенко, Д.Рудовский   \n",
       "7476                                           С.Зернов   \n",
       "7478  С.Мелькумов, А.Роднянский, М.Вайсберг, Р.Минас...   \n",
       "\n",
       "                      age_restriction  refundable_support  ...  \\\n",
       "1281  «16+» - для детей старше 16 лет                 0.0  ...   \n",
       "1448  «12+» - для детей старше 12 лет                 0.0  ...   \n",
       "1498  «12+» - для детей старше 12 лет                 0.0  ...   \n",
       "1524  «16+» - для детей старше 16 лет                 0.0  ...   \n",
       "1792  «16+» - для детей старше 16 лет                 0.0  ...   \n",
       "...                               ...                 ...  ...   \n",
       "7464  «12+» - для детей старше 12 лет         100000000.0  ...   \n",
       "7466    «6+» - для детей старше 6 лет         100000000.0  ...   \n",
       "7474  «12+» - для детей старше 12 лет         100000000.0  ...   \n",
       "7476  «12+» - для детей старше 12 лет                 0.0  ...   \n",
       "7478  «12+» - для детей старше 12 лет          40000000.0  ...   \n",
       "\n",
       "           financing_source  ratings                           genres  \\\n",
       "1281  Министерство культуры      8.1                  драма,мелодрама   \n",
       "1448  Министерство культуры      NaN                          unknown   \n",
       "1498              Фонд кино      5.3               комедия,фантастика   \n",
       "1524  Министерство культуры      4.2                            драма   \n",
       "1792  Министерство культуры      6.4                            драма   \n",
       "...                     ...      ...                              ...   \n",
       "7464              Фонд кино      6.0          история,биография,драма   \n",
       "7466              Фонд кино      6.7  мультфильм,приключения,семейный   \n",
       "7474              Фонд кино      5.7                фантастика,боевик   \n",
       "7476  Министерство культуры      5.9                            драма   \n",
       "7478              Фонд кино      4.5     комедия,фантастика,мелодрама   \n",
       "\n",
       "      box_office total_support  year  general_producer  main_genres  \\\n",
       "1281    0.365354     26.500000  2013        А.Атанесян        драма   \n",
       "1448    0.028140     26.000000  2014        А.Тютрюмов      unknown   \n",
       "1498   19.957031    107.847945  2013     Р.Давлетьяров      комедия   \n",
       "1524    0.055918     28.000000  2014        Л.Антонова        драма   \n",
       "1792    0.232100     25.000000  2014        А.Миндадзе        драма   \n",
       "...          ...           ...   ...               ...          ...   \n",
       "7464  717.703186    500.000000  2019        А.Максимов      история   \n",
       "7466  501.069235    100.000000  2019        С.Сельянов   мультфильм   \n",
       "7474         NaN    500.000000  2019       Ф.Бондарчук   фантастика   \n",
       "7476         NaN     30.000000  2019          С.Зернов        драма   \n",
       "7478         NaN    100.000000  2019       С.Мелькумов      комедия   \n",
       "\n",
       "     share_support has_box_office  \n",
       "1281         33.37              1  \n",
       "1448         70.00              1  \n",
       "1498         61.27              1  \n",
       "1524         69.01              1  \n",
       "1792         62.48              1  \n",
       "...            ...            ...  \n",
       "7464         51.02              1  \n",
       "7466         52.63              1  \n",
       "7474         52.97              0  \n",
       "7476         65.00              0  \n",
       "7478         66.60              0  \n",
       "\n",
       "[332 rows x 22 columns]"
      ]
     },
     "execution_count": 51,
     "metadata": {},
     "output_type": "execute_result"
    }
   ],
   "source": [
    "df_total_support=df[df['total_support']>0].copy()\n",
    "df_total_support['total_support']=df_total_support['total_support']/1000000\n",
    "df_total_support['box_office']=df_total_support['box_office']/1000000\n",
    "df_total_support"
   ]
  },
  {
   "cell_type": "code",
   "execution_count": 52,
   "metadata": {},
   "outputs": [
    {
     "data": {
      "text/html": [
       "<div>\n",
       "<style scoped>\n",
       "    .dataframe tbody tr th:only-of-type {\n",
       "        vertical-align: middle;\n",
       "    }\n",
       "\n",
       "    .dataframe tbody tr th {\n",
       "        vertical-align: top;\n",
       "    }\n",
       "\n",
       "    .dataframe thead th {\n",
       "        text-align: right;\n",
       "    }\n",
       "</style>\n",
       "<table border=\"1\" class=\"dataframe\">\n",
       "  <thead>\n",
       "    <tr style=\"text-align: right;\">\n",
       "      <th></th>\n",
       "      <th>financing_source</th>\n",
       "      <th>total_support</th>\n",
       "    </tr>\n",
       "  </thead>\n",
       "  <tbody>\n",
       "    <tr>\n",
       "      <th>0</th>\n",
       "      <td>Министерство культуры</td>\n",
       "      <td>28.000000</td>\n",
       "    </tr>\n",
       "    <tr>\n",
       "      <th>1</th>\n",
       "      <td>Министерство культуры, Фонд кино</td>\n",
       "      <td>47.751149</td>\n",
       "    </tr>\n",
       "    <tr>\n",
       "      <th>2</th>\n",
       "      <td>Фонд кино</td>\n",
       "      <td>60.000000</td>\n",
       "    </tr>\n",
       "  </tbody>\n",
       "</table>\n",
       "</div>"
      ],
      "text/plain": [
       "                   financing_source  total_support\n",
       "0             Министерство культуры      28.000000\n",
       "1  Министерство культуры, Фонд кино      47.751149\n",
       "2                         Фонд кино      60.000000"
      ]
     },
     "execution_count": 52,
     "metadata": {},
     "output_type": "execute_result"
    }
   ],
   "source": [
    "df_total_support.groupby('financing_source')['total_support'].median().reset_index()"
   ]
  },
  {
   "cell_type": "markdown",
   "metadata": {},
   "source": [
    "*Больше всего выдает гос поддержку Фонд кино*"
   ]
  },
  {
   "cell_type": "markdown",
   "metadata": {},
   "source": [
    "*Проанализируем сколько выделяют средст на поддержку кино по годам*"
   ]
  },
  {
   "cell_type": "code",
   "execution_count": 53,
   "metadata": {},
   "outputs": [
    {
     "name": "stderr",
     "output_type": "stream",
     "text": [
      "C:\\Users\\boyah\\AppData\\Local\\Temp\\ipykernel_14868\\276746898.py:2: FutureWarning: \n",
      "\n",
      "Passing `palette` without assigning `hue` is deprecated and will be removed in v0.14.0. Assign the `x` variable to `hue` and set `legend=False` for the same effect.\n",
      "\n",
      "  sns.barplot(x='year',y='total_support', data=df_total_support_grouped, palette='coolwarm')\n"
     ]
    },
    {
     "data": {
      "image/png": "[encoded data removed]",
      "text/plain": [
       "<Figure size 640x480 with 1 Axes>"
      ]
     },
     "metadata": {},
     "output_type": "display_data"
    }
   ],
   "source": [
    "df_total_support_grouped=df_total_support.groupby('year')['total_support'].mean().reset_index()\n",
    "sns.barplot(x='year',y='total_support', data=df_total_support_grouped, palette='coolwarm')\n",
    "plt.title('Поддержка кино по годам')\n",
    "plt.xlabel('Год')\n",
    "plt.ylabel('Сумма поддержки(млн)')\n",
    "plt.show()"
   ]
  },
  {
   "cell_type": "markdown",
   "metadata": {},
   "source": [
    "*В 2013 году поддержка была на уровне 2016,2017 и 2019 годов, с 2015 года идет нарастающий тренд*"
   ]
  },
  {
   "cell_type": "markdown",
   "metadata": {},
   "source": [
    "*Проанализируем какие жанры больше всего получают господдержку*"
   ]
  },
  {
   "cell_type": "code",
   "execution_count": 54,
   "metadata": {},
   "outputs": [
    {
     "name": "stderr",
     "output_type": "stream",
     "text": [
      "C:\\Users\\boyah\\AppData\\Local\\Temp\\ipykernel_14868\\1060575124.py:2: FutureWarning: \n",
      "\n",
      "Passing `palette` without assigning `hue` is deprecated and will be removed in v0.14.0. Assign the `x` variable to `hue` and set `legend=False` for the same effect.\n",
      "\n",
      "  sns.barplot(x='main_genres',y='total_support', data=df_main_genres, palette='coolwarm')\n"
     ]
    },
    {
     "data": {
      "image/png": "[encoded data removed]",
      "text/plain": [
       "<Figure size 640x480 with 1 Axes>"
      ]
     },
     "metadata": {},
     "output_type": "display_data"
    }
   ],
   "source": [
    "df_main_genres=df_total_support.groupby('main_genres')['total_support'].median().reset_index().sort_values(by='total_support',ascending=False)\n",
    "sns.barplot(x='main_genres',y='total_support', data=df_main_genres, palette='coolwarm')\n",
    "plt.title('Поддержка кино по жанрам')\n",
    "plt.xlabel('Жанр')\n",
    "plt.ylabel('Сумма поддержки(млн)')\n",
    "plt.xticks(rotation=90)\n",
    "plt.show()"
   ]
  },
  {
   "cell_type": "markdown",
   "metadata": {},
   "source": [
    "*Больше всего получает гос.поддержку фильмы, в которых присутствует жанр истории*"
   ]
  },
  {
   "cell_type": "markdown",
   "metadata": {},
   "source": [
    "*Проверим окупаемость фильмов*"
   ]
  },
  {
   "cell_type": "code",
   "execution_count": 55,
   "metadata": {
    "scrolled": true
   },
   "outputs": [
    {
     "name": "stderr",
     "output_type": "stream",
     "text": [
      "C:\\Users\\boyah\\AppData\\Local\\Temp\\ipykernel_14868\\2864334608.py:2: FutureWarning: \n",
      "\n",
      "Passing `palette` without assigning `hue` is deprecated and will be removed in v0.14.0. Assign the `x` variable to `hue` and set `legend=False` for the same effect.\n",
      "\n",
      "  sns.barplot(x='main_genres',y='box_office', data=df_box_office, palette='coolwarm')\n"
     ]
    },
    {
     "data": {
      "image/png": "[encoded data removed]",
      "text/plain": [
       "<Figure size 640x480 with 1 Axes>"
      ]
     },
     "metadata": {},
     "output_type": "display_data"
    }
   ],
   "source": [
    "df_box_office=df_total_support.groupby('main_genres')['box_office'].median().reset_index().sort_values(by='box_office',ascending=False)\n",
    "sns.barplot(x='main_genres',y='box_office', data=df_box_office, palette='coolwarm')\n",
    "plt.title('Сумма сборов по жанрам')\n",
    "plt.xlabel('Жанр')\n",
    "plt.ylabel('Сумма сборов(млн)')\n",
    "plt.xticks(rotation=90)\n",
    "plt.show()"
   ]
  },
  {
   "cell_type": "markdown",
   "metadata": {},
   "source": [
    "*Сборы по жанру \"истории\" превышают гос поддержку, так же можно отметить жанры \"спорт\",\"биография\",\"приключения\"*"
   ]
  },
  {
   "cell_type": "markdown",
   "metadata": {},
   "source": [
    "*Проанализируем рейтинг данных фильмов*"
   ]
  },
  {
   "cell_type": "code",
   "execution_count": 56,
   "metadata": {},
   "outputs": [
    {
     "name": "stderr",
     "output_type": "stream",
     "text": [
      "C:\\Users\\boyah\\AppData\\Local\\Temp\\ipykernel_14868\\2229157634.py:2: FutureWarning: \n",
      "\n",
      "Passing `palette` without assigning `hue` is deprecated and will be removed in v0.14.0. Assign the `x` variable to `hue` and set `legend=False` for the same effect.\n",
      "\n",
      "  sns.barplot(x='main_genres',y='ratings', data=df_ratings, palette='coolwarm')\n"
     ]
    },
    {
     "data": {
      "image/png": "[encoded data removed]",
      "text/plain": [
       "<Figure size 640x480 with 1 Axes>"
      ]
     },
     "metadata": {},
     "output_type": "display_data"
    }
   ],
   "source": [
    "df_ratings=df_total_support.groupby('main_genres')['ratings'].mean().reset_index().sort_values(by='ratings',ascending=False)\n",
    "sns.barplot(x='main_genres',y='ratings', data=df_ratings, palette='coolwarm')\n",
    "plt.title('Рейтинг фильмов по жанрам')\n",
    "plt.xlabel('Жанр')\n",
    "plt.ylabel('Рейтинг')\n",
    "plt.xticks(rotation=90)\n",
    "plt.show()"
   ]
  },
  {
   "cell_type": "markdown",
   "metadata": {},
   "source": [
    "*Фильмы с жанром \"спорт\" находятся выше среднего по рейтингу,рейтинг жанра \"история\", ниже среднего*"
   ]
  },
  {
   "cell_type": "markdown",
   "metadata": {},
   "source": [
    "*Посмотрим какие режисёры отличились в жанре \"спорт\"*"
   ]
  },
  {
   "cell_type": "code",
   "execution_count": 57,
   "metadata": {
    "scrolled": false
   },
   "outputs": [
    {
     "data": {
      "text/html": [
       "<div>\n",
       "<style scoped>\n",
       "    .dataframe tbody tr th:only-of-type {\n",
       "        vertical-align: middle;\n",
       "    }\n",
       "\n",
       "    .dataframe tbody tr th {\n",
       "        vertical-align: top;\n",
       "    }\n",
       "\n",
       "    .dataframe thead th {\n",
       "        text-align: right;\n",
       "    }\n",
       "</style>\n",
       "<table border=\"1\" class=\"dataframe\">\n",
       "  <thead>\n",
       "    <tr style=\"text-align: right;\">\n",
       "      <th></th>\n",
       "      <th>title</th>\n",
       "      <th>pu_number</th>\n",
       "      <th>show_start_date</th>\n",
       "      <th>type</th>\n",
       "      <th>film_studio</th>\n",
       "      <th>production_country</th>\n",
       "      <th>director</th>\n",
       "      <th>producer</th>\n",
       "      <th>age_restriction</th>\n",
       "      <th>refundable_support</th>\n",
       "      <th>...</th>\n",
       "      <th>financing_source</th>\n",
       "      <th>ratings</th>\n",
       "      <th>genres</th>\n",
       "      <th>box_office</th>\n",
       "      <th>total_support</th>\n",
       "      <th>year</th>\n",
       "      <th>general_producer</th>\n",
       "      <th>main_genres</th>\n",
       "      <th>share_support</th>\n",
       "      <th>has_box_office</th>\n",
       "    </tr>\n",
       "  </thead>\n",
       "  <tbody>\n",
       "    <tr>\n",
       "      <th>3135</th>\n",
       "      <td>Чемпионы: Быстрее. Выше. Сильнее</td>\n",
       "      <td>111021115</td>\n",
       "      <td>2015-12-22 12:00:00</td>\n",
       "      <td>Художественный</td>\n",
       "      <td>ООО \"Энджой мувиз\"</td>\n",
       "      <td>Россия</td>\n",
       "      <td>А.Аксененко</td>\n",
       "      <td>Г.Малков, В.Поляков</td>\n",
       "      <td>«6+» - для детей старше 6 лет</td>\n",
       "      <td>0.0</td>\n",
       "      <td>...</td>\n",
       "      <td>Фонд кино</td>\n",
       "      <td>7.0</td>\n",
       "      <td>спорт,драма</td>\n",
       "      <td>168.688859</td>\n",
       "      <td>40.0</td>\n",
       "      <td>2015</td>\n",
       "      <td>Г.Малков</td>\n",
       "      <td>спорт</td>\n",
       "      <td>44.31</td>\n",
       "      <td>1</td>\n",
       "    </tr>\n",
       "    <tr>\n",
       "      <th>3785</th>\n",
       "      <td>Эластико</td>\n",
       "      <td>111016416</td>\n",
       "      <td>2016-10-18 12:00:00</td>\n",
       "      <td>Художественный</td>\n",
       "      <td>ООО \"Пятый элемент\", ООО \"РЕНОВАЦИО интертейнм...</td>\n",
       "      <td>Россия</td>\n",
       "      <td>М.Расходников</td>\n",
       "      <td>Г.Малков, В.Поляков, Е.замалиев, А.Кузьминов, ...</td>\n",
       "      <td>«12+» - для детей старше 12 лет</td>\n",
       "      <td>0.0</td>\n",
       "      <td>...</td>\n",
       "      <td>Фонд кино</td>\n",
       "      <td>6.3</td>\n",
       "      <td>спорт,мелодрама,криминал</td>\n",
       "      <td>19.393384</td>\n",
       "      <td>15.0</td>\n",
       "      <td>2016</td>\n",
       "      <td>Г.Малков</td>\n",
       "      <td>спорт</td>\n",
       "      <td>50.00</td>\n",
       "      <td>1</td>\n",
       "    </tr>\n",
       "    <tr>\n",
       "      <th>5653</th>\n",
       "      <td>Движение вверх</td>\n",
       "      <td>111011817</td>\n",
       "      <td>2017-12-21 12:00:00</td>\n",
       "      <td>Художественный</td>\n",
       "      <td>ООО \"Студия \"ТРИТЭ\" Никиты Михалкова\"</td>\n",
       "      <td>Россия</td>\n",
       "      <td>А.Мегердичев</td>\n",
       "      <td>Л.Верещагин, А.Златопольский, Н.Михалков, ООО ...</td>\n",
       "      <td>«6+» - для детей старше 6 лет</td>\n",
       "      <td>0.0</td>\n",
       "      <td>...</td>\n",
       "      <td>Фонд кино</td>\n",
       "      <td>7.5</td>\n",
       "      <td>спорт,драма</td>\n",
       "      <td>2779.686144</td>\n",
       "      <td>400.0</td>\n",
       "      <td>2017</td>\n",
       "      <td>Л.Верещагин</td>\n",
       "      <td>спорт</td>\n",
       "      <td>67.77</td>\n",
       "      <td>1</td>\n",
       "    </tr>\n",
       "  </tbody>\n",
       "</table>\n",
       "<p>3 rows × 22 columns</p>\n",
       "</div>"
      ],
      "text/plain": [
       "                                 title  pu_number     show_start_date  \\\n",
       "3135  Чемпионы: Быстрее. Выше. Сильнее  111021115 2015-12-22 12:00:00   \n",
       "3785                          Эластико  111016416 2016-10-18 12:00:00   \n",
       "5653                    Движение вверх  111011817 2017-12-21 12:00:00   \n",
       "\n",
       "                type                                        film_studio  \\\n",
       "3135  Художественный                                 ООО \"Энджой мувиз\"   \n",
       "3785  Художественный  ООО \"Пятый элемент\", ООО \"РЕНОВАЦИО интертейнм...   \n",
       "5653  Художественный              ООО \"Студия \"ТРИТЭ\" Никиты Михалкова\"   \n",
       "\n",
       "     production_country       director  \\\n",
       "3135             Россия    А.Аксененко   \n",
       "3785             Россия  М.Расходников   \n",
       "5653             Россия   А.Мегердичев   \n",
       "\n",
       "                                               producer  \\\n",
       "3135                                Г.Малков, В.Поляков   \n",
       "3785  Г.Малков, В.Поляков, Е.замалиев, А.Кузьминов, ...   \n",
       "5653  Л.Верещагин, А.Златопольский, Н.Михалков, ООО ...   \n",
       "\n",
       "                      age_restriction  refundable_support  ...  \\\n",
       "3135    «6+» - для детей старше 6 лет                 0.0  ...   \n",
       "3785  «12+» - для детей старше 12 лет                 0.0  ...   \n",
       "5653    «6+» - для детей старше 6 лет                 0.0  ...   \n",
       "\n",
       "      financing_source  ratings                    genres   box_office  \\\n",
       "3135         Фонд кино      7.0               спорт,драма   168.688859   \n",
       "3785         Фонд кино      6.3  спорт,мелодрама,криминал    19.393384   \n",
       "5653         Фонд кино      7.5               спорт,драма  2779.686144   \n",
       "\n",
       "     total_support  year  general_producer  main_genres share_support  \\\n",
       "3135          40.0  2015          Г.Малков        спорт         44.31   \n",
       "3785          15.0  2016          Г.Малков        спорт         50.00   \n",
       "5653         400.0  2017       Л.Верещагин        спорт         67.77   \n",
       "\n",
       "     has_box_office  \n",
       "3135              1  \n",
       "3785              1  \n",
       "5653              1  \n",
       "\n",
       "[3 rows x 22 columns]"
      ]
     },
     "execution_count": 57,
     "metadata": {},
     "output_type": "execute_result"
    }
   ],
   "source": [
    "df_total_support[df_total_support['main_genres']=='спорт']"
   ]
  },
  {
   "cell_type": "code",
   "execution_count": 58,
   "metadata": {
    "scrolled": true
   },
   "outputs": [
    {
     "data": {
      "text/html": [
       "<div>\n",
       "<style scoped>\n",
       "    .dataframe tbody tr th:only-of-type {\n",
       "        vertical-align: middle;\n",
       "    }\n",
       "\n",
       "    .dataframe tbody tr th {\n",
       "        vertical-align: top;\n",
       "    }\n",
       "\n",
       "    .dataframe thead th {\n",
       "        text-align: right;\n",
       "    }\n",
       "</style>\n",
       "<table border=\"1\" class=\"dataframe\">\n",
       "  <thead>\n",
       "    <tr style=\"text-align: right;\">\n",
       "      <th></th>\n",
       "      <th>title</th>\n",
       "      <th>pu_number</th>\n",
       "      <th>show_start_date</th>\n",
       "      <th>type</th>\n",
       "      <th>film_studio</th>\n",
       "      <th>production_country</th>\n",
       "      <th>director</th>\n",
       "      <th>producer</th>\n",
       "      <th>age_restriction</th>\n",
       "      <th>refundable_support</th>\n",
       "      <th>...</th>\n",
       "      <th>financing_source</th>\n",
       "      <th>ratings</th>\n",
       "      <th>genres</th>\n",
       "      <th>box_office</th>\n",
       "      <th>total_support</th>\n",
       "      <th>year</th>\n",
       "      <th>general_producer</th>\n",
       "      <th>main_genres</th>\n",
       "      <th>share_support</th>\n",
       "      <th>has_box_office</th>\n",
       "    </tr>\n",
       "  </thead>\n",
       "  <tbody>\n",
       "    <tr>\n",
       "      <th>2132</th>\n",
       "      <td>Битва за Севастополь</td>\n",
       "      <td>111001415</td>\n",
       "      <td>2015-02-20 12:00:00</td>\n",
       "      <td>Художественный</td>\n",
       "      <td>ООО \"Кинокомпания \"Новые люди\", ООО \"Студия \"К...</td>\n",
       "      <td>Россия-Украина</td>\n",
       "      <td>С.Мокрицкий</td>\n",
       "      <td>Н.Мокрицкая, Е.Олесов</td>\n",
       "      <td>«12+» - для детей старше 12 лет</td>\n",
       "      <td>0.0</td>\n",
       "      <td>...</td>\n",
       "      <td>Министерство культуры</td>\n",
       "      <td>7.5</td>\n",
       "      <td>биография,военный,драма</td>\n",
       "      <td>401.804462</td>\n",
       "      <td>27.51</td>\n",
       "      <td>2015</td>\n",
       "      <td>Н.Мокрицкая</td>\n",
       "      <td>биография</td>\n",
       "      <td>21.00</td>\n",
       "      <td>1</td>\n",
       "    </tr>\n",
       "    <tr>\n",
       "      <th>6032</th>\n",
       "      <td>Облепиховое лето</td>\n",
       "      <td>111011618</td>\n",
       "      <td>2018-08-01 12:00:00</td>\n",
       "      <td>Художественный</td>\n",
       "      <td>ООО \"Кино-Арт\", АО \"ТПО \"СДФ\"</td>\n",
       "      <td>Россия</td>\n",
       "      <td>В.Алфёров</td>\n",
       "      <td>А.Тельнов, Е.Григорьев, В.Харьков</td>\n",
       "      <td>«12+» - для детей старше 12 лет</td>\n",
       "      <td>0.0</td>\n",
       "      <td>...</td>\n",
       "      <td>Министерство культуры</td>\n",
       "      <td>6.3</td>\n",
       "      <td>биография,драма</td>\n",
       "      <td>0.988413</td>\n",
       "      <td>25.00</td>\n",
       "      <td>2018</td>\n",
       "      <td>А.Тельнов</td>\n",
       "      <td>биография</td>\n",
       "      <td>66.00</td>\n",
       "      <td>1</td>\n",
       "    </tr>\n",
       "    <tr>\n",
       "      <th>7330</th>\n",
       "      <td>Лев Яшин. Вратарь моей мечты</td>\n",
       "      <td>111018719</td>\n",
       "      <td>2019-11-21 12:00:00</td>\n",
       "      <td>Художественный</td>\n",
       "      <td>ООО \"Кремлин Филмз\"</td>\n",
       "      <td>Россия</td>\n",
       "      <td>В.Чигинский</td>\n",
       "      <td>О.Капанец</td>\n",
       "      <td>«6+» - для детей старше 6 лет</td>\n",
       "      <td>0.0</td>\n",
       "      <td>...</td>\n",
       "      <td>Министерство культуры</td>\n",
       "      <td>6.9</td>\n",
       "      <td>биография,спорт,драма</td>\n",
       "      <td>114.090163</td>\n",
       "      <td>60.00</td>\n",
       "      <td>2019</td>\n",
       "      <td>О.Капанец</td>\n",
       "      <td>биография</td>\n",
       "      <td>16.66</td>\n",
       "      <td>1</td>\n",
       "    </tr>\n",
       "  </tbody>\n",
       "</table>\n",
       "<p>3 rows × 22 columns</p>\n",
       "</div>"
      ],
      "text/plain": [
       "                             title  pu_number     show_start_date  \\\n",
       "2132          Битва за Севастополь  111001415 2015-02-20 12:00:00   \n",
       "6032              Облепиховое лето  111011618 2018-08-01 12:00:00   \n",
       "7330  Лев Яшин. Вратарь моей мечты  111018719 2019-11-21 12:00:00   \n",
       "\n",
       "                type                                        film_studio  \\\n",
       "2132  Художественный  ООО \"Кинокомпания \"Новые люди\", ООО \"Студия \"К...   \n",
       "6032  Художественный                      ООО \"Кино-Арт\", АО \"ТПО \"СДФ\"   \n",
       "7330  Художественный                                ООО \"Кремлин Филмз\"   \n",
       "\n",
       "     production_country     director                           producer  \\\n",
       "2132     Россия-Украина  С.Мокрицкий              Н.Мокрицкая, Е.Олесов   \n",
       "6032             Россия    В.Алфёров  А.Тельнов, Е.Григорьев, В.Харьков   \n",
       "7330             Россия  В.Чигинский                          О.Капанец   \n",
       "\n",
       "                      age_restriction  refundable_support  ...  \\\n",
       "2132  «12+» - для детей старше 12 лет                 0.0  ...   \n",
       "6032  «12+» - для детей старше 12 лет                 0.0  ...   \n",
       "7330    «6+» - для детей старше 6 лет                 0.0  ...   \n",
       "\n",
       "           financing_source  ratings                   genres  box_office  \\\n",
       "2132  Министерство культуры      7.5  биография,военный,драма  401.804462   \n",
       "6032  Министерство культуры      6.3          биография,драма    0.988413   \n",
       "7330  Министерство культуры      6.9    биография,спорт,драма  114.090163   \n",
       "\n",
       "     total_support  year  general_producer  main_genres share_support  \\\n",
       "2132         27.51  2015       Н.Мокрицкая    биография         21.00   \n",
       "6032         25.00  2018         А.Тельнов    биография         66.00   \n",
       "7330         60.00  2019         О.Капанец    биография         16.66   \n",
       "\n",
       "     has_box_office  \n",
       "2132              1  \n",
       "6032              1  \n",
       "7330              1  \n",
       "\n",
       "[3 rows x 22 columns]"
      ]
     },
     "execution_count": 58,
     "metadata": {},
     "output_type": "execute_result"
    }
   ],
   "source": [
    "df_total_support[df_total_support['main_genres']=='биография']"
   ]
  },
  {
   "cell_type": "code",
   "execution_count": 59,
   "metadata": {},
   "outputs": [
    {
     "data": {
      "text/html": [
       "<div>\n",
       "<style scoped>\n",
       "    .dataframe tbody tr th:only-of-type {\n",
       "        vertical-align: middle;\n",
       "    }\n",
       "\n",
       "    .dataframe tbody tr th {\n",
       "        vertical-align: top;\n",
       "    }\n",
       "\n",
       "    .dataframe thead th {\n",
       "        text-align: right;\n",
       "    }\n",
       "</style>\n",
       "<table border=\"1\" class=\"dataframe\">\n",
       "  <thead>\n",
       "    <tr style=\"text-align: right;\">\n",
       "      <th></th>\n",
       "      <th>title</th>\n",
       "      <th>pu_number</th>\n",
       "      <th>show_start_date</th>\n",
       "      <th>type</th>\n",
       "      <th>film_studio</th>\n",
       "      <th>production_country</th>\n",
       "      <th>director</th>\n",
       "      <th>producer</th>\n",
       "      <th>age_restriction</th>\n",
       "      <th>refundable_support</th>\n",
       "      <th>...</th>\n",
       "      <th>financing_source</th>\n",
       "      <th>ratings</th>\n",
       "      <th>genres</th>\n",
       "      <th>box_office</th>\n",
       "      <th>total_support</th>\n",
       "      <th>year</th>\n",
       "      <th>general_producer</th>\n",
       "      <th>main_genres</th>\n",
       "      <th>share_support</th>\n",
       "      <th>has_box_office</th>\n",
       "    </tr>\n",
       "  </thead>\n",
       "  <tbody>\n",
       "    <tr>\n",
       "      <th>5569</th>\n",
       "      <td>Легенда о Коловрате</td>\n",
       "      <td>111007617</td>\n",
       "      <td>2017-11-30 12:00:00</td>\n",
       "      <td>Художественный</td>\n",
       "      <td>ООО \"Продюсерский центр ИВАН\"</td>\n",
       "      <td>Россия</td>\n",
       "      <td>И.Шурховецкий</td>\n",
       "      <td>ООО \"Централ Партнершип\",              АО \"Тел...</td>\n",
       "      <td>«12+» - для детей старше 12 лет</td>\n",
       "      <td>100000000.0</td>\n",
       "      <td>...</td>\n",
       "      <td>Фонд кино</td>\n",
       "      <td>6.4</td>\n",
       "      <td>история,боевик,фэнтези</td>\n",
       "      <td>590.405065</td>\n",
       "      <td>350.0</td>\n",
       "      <td>2017</td>\n",
       "      <td>ООО \"Централ Партнершип\"</td>\n",
       "      <td>история</td>\n",
       "      <td>70.00</td>\n",
       "      <td>1</td>\n",
       "    </tr>\n",
       "    <tr>\n",
       "      <th>6699</th>\n",
       "      <td>Тобол</td>\n",
       "      <td>111002419</td>\n",
       "      <td>2019-02-16 12:00:00</td>\n",
       "      <td>Художественный</td>\n",
       "      <td>ООО Кинокомпания \"Соливс\" по заказу АО \"ВБД Груп\"</td>\n",
       "      <td>Россия</td>\n",
       "      <td>И.Зайцев, О.Урушев</td>\n",
       "      <td>Э.Илоян, В.Шляппо, Д.Жалинский, А.Троцюк, О.Ур...</td>\n",
       "      <td>«16+» - для детей старше 16 лет</td>\n",
       "      <td>0.0</td>\n",
       "      <td>...</td>\n",
       "      <td>Фонд кино</td>\n",
       "      <td>5.8</td>\n",
       "      <td>история,драма</td>\n",
       "      <td>138.162877</td>\n",
       "      <td>130.0</td>\n",
       "      <td>2019</td>\n",
       "      <td>Э.Илоян</td>\n",
       "      <td>история</td>\n",
       "      <td>26.01</td>\n",
       "      <td>1</td>\n",
       "    </tr>\n",
       "    <tr>\n",
       "      <th>6862</th>\n",
       "      <td>На Париж</td>\n",
       "      <td>111006819</td>\n",
       "      <td>2019-05-02 12:00:00</td>\n",
       "      <td>Художественный</td>\n",
       "      <td>ООО \"БЛИЦ ФИЛЬМ\"</td>\n",
       "      <td>Россия</td>\n",
       "      <td>С.Саркисов</td>\n",
       "      <td>С.Саркисов, А.Жижневский, Р.Юсипов, В.Колесник</td>\n",
       "      <td>«18+» - запрещено для детей</td>\n",
       "      <td>0.0</td>\n",
       "      <td>...</td>\n",
       "      <td>Министерство культуры</td>\n",
       "      <td>3.2</td>\n",
       "      <td>история,приключения</td>\n",
       "      <td>9.197108</td>\n",
       "      <td>40.0</td>\n",
       "      <td>2019</td>\n",
       "      <td>С.Саркисов</td>\n",
       "      <td>история</td>\n",
       "      <td>24.21</td>\n",
       "      <td>1</td>\n",
       "    </tr>\n",
       "    <tr>\n",
       "      <th>7464</th>\n",
       "      <td>Союз спасения</td>\n",
       "      <td>111022019</td>\n",
       "      <td>2019-12-26 12:00:00</td>\n",
       "      <td>Художественный</td>\n",
       "      <td>ЗАО \"Дирекция кино\"</td>\n",
       "      <td>Россия</td>\n",
       "      <td>А.Кравчук</td>\n",
       "      <td>А.Максимов, К.Эрнст</td>\n",
       "      <td>«12+» - для детей старше 12 лет</td>\n",
       "      <td>100000000.0</td>\n",
       "      <td>...</td>\n",
       "      <td>Фонд кино</td>\n",
       "      <td>6.0</td>\n",
       "      <td>история,биография,драма</td>\n",
       "      <td>717.703186</td>\n",
       "      <td>500.0</td>\n",
       "      <td>2019</td>\n",
       "      <td>А.Максимов</td>\n",
       "      <td>история</td>\n",
       "      <td>51.02</td>\n",
       "      <td>1</td>\n",
       "    </tr>\n",
       "  </tbody>\n",
       "</table>\n",
       "<p>4 rows × 22 columns</p>\n",
       "</div>"
      ],
      "text/plain": [
       "                    title  pu_number     show_start_date            type  \\\n",
       "5569  Легенда о Коловрате  111007617 2017-11-30 12:00:00  Художественный   \n",
       "6699                Тобол  111002419 2019-02-16 12:00:00  Художественный   \n",
       "6862             На Париж  111006819 2019-05-02 12:00:00  Художественный   \n",
       "7464        Союз спасения  111022019 2019-12-26 12:00:00  Художественный   \n",
       "\n",
       "                                            film_studio production_country  \\\n",
       "5569                      ООО \"Продюсерский центр ИВАН\"             Россия   \n",
       "6699  ООО Кинокомпания \"Соливс\" по заказу АО \"ВБД Груп\"             Россия   \n",
       "6862                                   ООО \"БЛИЦ ФИЛЬМ\"             Россия   \n",
       "7464                                ЗАО \"Дирекция кино\"             Россия   \n",
       "\n",
       "                director                                           producer  \\\n",
       "5569       И.Шурховецкий  ООО \"Централ Партнершип\",              АО \"Тел...   \n",
       "6699  И.Зайцев, О.Урушев  Э.Илоян, В.Шляппо, Д.Жалинский, А.Троцюк, О.Ур...   \n",
       "6862          С.Саркисов     С.Саркисов, А.Жижневский, Р.Юсипов, В.Колесник   \n",
       "7464           А.Кравчук                                А.Максимов, К.Эрнст   \n",
       "\n",
       "                      age_restriction  refundable_support  ...  \\\n",
       "5569  «12+» - для детей старше 12 лет         100000000.0  ...   \n",
       "6699  «16+» - для детей старше 16 лет                 0.0  ...   \n",
       "6862      «18+» - запрещено для детей                 0.0  ...   \n",
       "7464  «12+» - для детей старше 12 лет         100000000.0  ...   \n",
       "\n",
       "           financing_source  ratings                   genres  box_office  \\\n",
       "5569              Фонд кино      6.4   история,боевик,фэнтези  590.405065   \n",
       "6699              Фонд кино      5.8            история,драма  138.162877   \n",
       "6862  Министерство культуры      3.2      история,приключения    9.197108   \n",
       "7464              Фонд кино      6.0  история,биография,драма  717.703186   \n",
       "\n",
       "     total_support  year          general_producer  main_genres share_support  \\\n",
       "5569         350.0  2017  ООО \"Централ Партнершип\"      история         70.00   \n",
       "6699         130.0  2019                   Э.Илоян      история         26.01   \n",
       "6862          40.0  2019                С.Саркисов      история         24.21   \n",
       "7464         500.0  2019                А.Максимов      история         51.02   \n",
       "\n",
       "     has_box_office  \n",
       "5569              1  \n",
       "6699              1  \n",
       "6862              1  \n",
       "7464              1  \n",
       "\n",
       "[4 rows x 22 columns]"
      ]
     },
     "execution_count": 59,
     "metadata": {},
     "output_type": "execute_result"
    }
   ],
   "source": [
    "df_total_support[df_total_support['main_genres']=='история']"
   ]
  },
  {
   "cell_type": "markdown",
   "metadata": {
    "id": "V2gYwMcPgFyd"
   },
   "source": [
    "### Шаг 5. Напишите общий вывод"
   ]
  },
  {
   "cell_type": "markdown",
   "metadata": {},
   "source": [
    "***Итоговый отчет по исследованию изучения рынка российского кинопроката***\n",
    "\n",
    "*Цели проекта:*\n",
    "\n",
    "1. Изучить рынок российского кинопроката и выявить текущие тренды.\n",
    "\n",
    "2. Изучить фильмы ,получившие гос. поддержку, и понять насколько такие фильмы интересны зрителю.\n",
    "\n",
    "3. Узнать какие факторы влияют на появление новых трендов.\n",
    "\n",
    "**Ключевые этапы исследования**\n",
    "\n",
    "1. Больше всего выделяет средства на поддерку \"Фонд кино\"\n",
    "\n",
    "2. Высокая сумма сборов на категорию фильмов \"6+\" и \"12+\", с 2017 по 2019 год сумма сборов была 580 млн. и 550 млн.\n",
    "\n",
    "3. Сумма гос. поддержки с 2017 по 2019 составляет примерно 206 млн.\n",
    "\n",
    "4. Жанр \"История\" больше всего получается гос поддержку-около 250 млн. \n",
    "\n",
    "5. Сумма сборов также больше всего в жанре \"История\" , но в процентном соотношении суммы поддержки и суммы сборов , первое место занимает жанр спорта , почти в 300 % превышает сумма сборов, так же нафоне остальных выделяются жанры \"Биография\" и \"Приключения\"\n",
    "\n",
    "6. Высокий рейтинг у жанров \"Биография\" и \"Спорт\"\n",
    "\n",
    "7. Лучший фильм по меркам суммы сборов и рейтингу в жанре \"Спорт\" снял продюсер Л.Верещагин при поддерке в 400 млн. сумма сборов составила 2.779 млрд.\n",
    "\n",
    "8. Лучший фильм по меркам суммы сборов и рейтингу в жанре \"Биография\" сняла продюсер Н.Мокрицкая при поддержке в 27 млн. сумма сборов 400 млн.\n",
    "\n",
    "9. Лучший фильм по меркам суммы сборов и рейтингу в жанре \"История\"  снял ООО \"Централ Партнершип\" при поддержке в 70млн. сумма сборов 350 млн.\n",
    "\n",
    "**Рекомендации для бизнеса**\n",
    "\n",
    "1. Основной источник финансирования -\"Фонд Кино\". Необходимо повысить финансирование , для большего охвата рынка российского кинопроката.\n",
    "\n",
    "2. Рассмотреть проекты в жанре \"История\" так как этот проект показывает высокие сборы\n",
    "\n",
    "3. Жанры с васоким потенциалом:\n",
    "- \"Спорт\" максимально рентабельный (сборы в 300% от объема поддержки)\n",
    "- \"Биографи\" высокий рейтинг и эффективность поддержки\n",
    "- \"Приключения\" Жанр с хорошей перспективой по соотношению поддержки и сборов\n",
    "- Для долгосрочной стратегии стоит инвестировать в жанр \"Истории\" , который приносит высокие сборы\n",
    "\n",
    "4. Основные категории зрителей — аудитория \"6+\" и \"12+\", на долю которой приходится значительная часть сборов (580 млн руб. и 550 млн руб. в 2017–2019 гг.).Разрабатывать семейные фильмы и блокбастеры, которые могут заинтересовать детей и подростков.\n",
    "\n",
    "5. Несмотря на высокие сборы, нужно улучшать маркетинг для всех жанров, особенно для тех, которые не получают государственной поддержки. Например, жанр \"Приключения\" и \"Биография\" при правильной рекламной стратегии могут привлечь дополнительную аудиторию.Делать акцент на продвижении через каналы, ориентированные на семейные ценности и спорт.\n",
    "\n",
    "6. Оптимизация бюджета:\n",
    "- Инвестировать в проекты с наиболее высокой рентабельностью. Например, жанры \"Биография\" и \"Спорт\" требуют меньше затрат на поддержку по сравнению с полученными сборами.\n",
    "- Искать способы снижения затрат на производство фильмов в жанре \"История\", чтобы улучшить их процентную рентабельность.\n",
    "\n"
   ]
  }
 ],
 "metadata": {
  "ExecuteTimeLog": [
   {
    "duration": 537,
    "start_time": "2021-07-07T10:12:08.634Z"
   },
   {
    "duration": 206,
    "start_time": "2021-07-07T10:12:30.191Z"
   },
   {
    "duration": 227,
    "start_time": "2021-07-07T10:12:33.078Z"
   },
   {
    "duration": 153,
    "start_time": "2021-07-07T10:13:42.146Z"
   },
   {
    "duration": 233,
    "start_time": "2021-07-07T10:30:09.252Z"
   },
   {
    "duration": 19,
    "start_time": "2021-07-07T10:30:15.577Z"
   },
   {
    "duration": 18,
    "start_time": "2021-07-07T10:30:57.348Z"
   },
   {
    "duration": 19,
    "start_time": "2021-07-07T10:31:17.452Z"
   },
   {
    "duration": 21,
    "start_time": "2021-07-07T10:31:32.227Z"
   },
   {
    "duration": 27,
    "start_time": "2021-07-07T10:32:06.588Z"
   },
   {
    "duration": 23,
    "start_time": "2021-07-07T10:32:43.645Z"
   },
   {
    "duration": 24,
    "start_time": "2021-07-07T10:33:06.948Z"
   },
   {
    "duration": 7,
    "start_time": "2021-07-07T10:33:28.558Z"
   },
   {
    "duration": 23,
    "start_time": "2021-07-07T10:33:43.761Z"
   },
   {
    "duration": 28,
    "start_time": "2021-07-07T10:34:13.466Z"
   },
   {
    "duration": 23,
    "start_time": "2021-07-07T10:35:56.187Z"
   },
   {
    "duration": 6,
    "start_time": "2021-07-07T10:36:48.182Z"
   },
   {
    "duration": 14,
    "start_time": "2021-07-07T10:37:49.641Z"
   },
   {
    "duration": 6,
    "start_time": "2021-07-07T10:38:06.694Z"
   },
   {
    "duration": 6,
    "start_time": "2021-07-07T10:38:13.493Z"
   },
   {
    "duration": 19,
    "start_time": "2021-07-07T10:38:44.056Z"
   },
   {
    "duration": 186,
    "start_time": "2021-07-07T10:48:35.618Z"
   },
   {
    "duration": 24,
    "start_time": "2021-07-07T10:48:51.498Z"
   },
   {
    "duration": 20,
    "start_time": "2021-07-07T10:48:59.415Z"
   },
   {
    "duration": 20,
    "start_time": "2021-07-07T10:53:02.195Z"
   },
   {
    "duration": 188,
    "start_time": "2021-07-07T10:54:40.486Z"
   },
   {
    "duration": 115,
    "start_time": "2021-07-07T10:54:52.552Z"
   },
   {
    "duration": 214,
    "start_time": "2021-07-07T10:54:56.354Z"
   },
   {
    "duration": 47,
    "start_time": "2021-07-07T10:54:58.282Z"
   },
   {
    "duration": 217,
    "start_time": "2021-07-07T10:59:16.075Z"
   },
   {
    "duration": 51,
    "start_time": "2021-07-07T10:59:16.243Z"
   },
   {
    "duration": 578,
    "start_time": "2021-07-07T10:59:18.774Z"
   },
   {
    "duration": 161,
    "start_time": "2021-07-07T10:59:21.238Z"
   },
   {
    "duration": 59,
    "start_time": "2021-07-07T10:59:21.453Z"
   },
   {
    "duration": 3,
    "start_time": "2021-07-07T11:02:10.786Z"
   },
   {
    "duration": 13,
    "start_time": "2021-07-07T11:07:07.722Z"
   },
   {
    "duration": 26,
    "start_time": "2021-07-07T11:07:17.958Z"
   },
   {
    "duration": 22,
    "start_time": "2021-07-07T11:08:17.939Z"
   },
   {
    "duration": 212,
    "start_time": "2021-07-07T11:08:19.665Z"
   },
   {
    "duration": 21,
    "start_time": "2021-07-07T11:08:29.945Z"
   },
   {
    "duration": 31,
    "start_time": "2021-07-07T11:08:38.899Z"
   },
   {
    "duration": 23,
    "start_time": "2021-07-07T11:08:54.527Z"
   },
   {
    "duration": 8,
    "start_time": "2021-07-07T11:18:55.974Z"
   },
   {
    "duration": 7,
    "start_time": "2021-07-07T11:19:03.639Z"
   },
   {
    "duration": 7,
    "start_time": "2021-07-07T11:19:06.444Z"
   },
   {
    "duration": 578,
    "start_time": "2021-07-07T12:09:59.576Z"
   },
   {
    "duration": 195,
    "start_time": "2021-07-07T12:10:00.156Z"
   },
   {
    "duration": 115,
    "start_time": "2021-07-07T12:10:00.353Z"
   },
   {
    "duration": 3,
    "start_time": "2021-07-07T12:10:00.470Z"
   },
   {
    "duration": 32,
    "start_time": "2021-07-07T12:10:00.474Z"
   },
   {
    "duration": 23,
    "start_time": "2021-07-07T12:10:00.508Z"
   },
   {
    "duration": 19,
    "start_time": "2021-07-07T12:10:00.533Z"
   },
   {
    "duration": 44,
    "start_time": "2021-07-07T12:10:00.553Z"
   },
   {
    "duration": 7,
    "start_time": "2021-07-07T12:10:00.600Z"
   },
   {
    "duration": 7,
    "start_time": "2021-07-07T12:19:45.761Z"
   },
   {
    "duration": 21,
    "start_time": "2021-07-07T12:21:35.482Z"
   },
   {
    "duration": 21,
    "start_time": "2021-07-07T12:29:23.569Z"
   },
   {
    "duration": 525,
    "start_time": "2021-07-07T12:29:44.542Z"
   },
   {
    "duration": 214,
    "start_time": "2021-07-07T12:29:45.069Z"
   },
   {
    "duration": 92,
    "start_time": "2021-07-07T12:29:45.285Z"
   },
   {
    "duration": 3,
    "start_time": "2021-07-07T12:29:45.379Z"
   },
   {
    "duration": 28,
    "start_time": "2021-07-07T12:29:45.384Z"
   },
   {
    "duration": 23,
    "start_time": "2021-07-07T12:29:45.413Z"
   },
   {
    "duration": 21,
    "start_time": "2021-07-07T12:29:45.437Z"
   },
   {
    "duration": 41,
    "start_time": "2021-07-07T12:29:45.460Z"
   },
   {
    "duration": 7,
    "start_time": "2021-07-07T12:29:45.502Z"
   },
   {
    "duration": 20,
    "start_time": "2021-07-07T12:29:45.511Z"
   },
   {
    "duration": 12,
    "start_time": "2021-07-07T12:34:02.800Z"
   },
   {
    "duration": 7,
    "start_time": "2021-07-07T12:35:10.479Z"
   },
   {
    "duration": 8,
    "start_time": "2021-07-07T12:35:22.440Z"
   },
   {
    "duration": 6,
    "start_time": "2021-07-07T12:35:35.649Z"
   },
   {
    "duration": 6,
    "start_time": "2021-07-07T12:35:43.107Z"
   },
   {
    "duration": 22,
    "start_time": "2021-07-07T12:38:03.029Z"
   },
   {
    "duration": 10,
    "start_time": "2021-07-07T12:38:06.592Z"
   },
   {
    "duration": 563,
    "start_time": "2021-07-07T12:38:46.493Z"
   },
   {
    "duration": 265,
    "start_time": "2021-07-07T12:38:47.058Z"
   },
   {
    "duration": 94,
    "start_time": "2021-07-07T12:38:47.325Z"
   },
   {
    "duration": 3,
    "start_time": "2021-07-07T12:38:47.422Z"
   },
   {
    "duration": 30,
    "start_time": "2021-07-07T12:38:47.427Z"
   },
   {
    "duration": 16,
    "start_time": "2021-07-07T12:38:53.305Z"
   },
   {
    "duration": 10,
    "start_time": "2021-07-07T12:38:53.499Z"
   },
   {
    "duration": 8,
    "start_time": "2021-07-07T12:39:48.161Z"
   },
   {
    "duration": 27,
    "start_time": "2021-07-07T12:41:17.629Z"
   },
   {
    "duration": 17,
    "start_time": "2021-07-07T12:41:17.867Z"
   },
   {
    "duration": 21,
    "start_time": "2021-07-07T12:41:19.310Z"
   },
   {
    "duration": 7,
    "start_time": "2021-07-07T12:41:19.544Z"
   },
   {
    "duration": 20,
    "start_time": "2021-07-07T12:41:20.504Z"
   },
   {
    "duration": 554,
    "start_time": "2021-07-07T12:56:23.696Z"
   },
   {
    "duration": 200,
    "start_time": "2021-07-07T12:56:25.234Z"
   },
   {
    "duration": 119,
    "start_time": "2021-07-07T12:56:25.480Z"
   },
   {
    "duration": 4,
    "start_time": "2021-07-07T12:56:25.762Z"
   },
   {
    "duration": 26,
    "start_time": "2021-07-07T12:56:27.172Z"
   },
   {
    "duration": 12,
    "start_time": "2021-07-07T12:56:29.051Z"
   },
   {
    "duration": 10,
    "start_time": "2021-07-07T12:56:29.291Z"
   },
   {
    "duration": 8,
    "start_time": "2021-07-07T12:56:29.623Z"
   },
   {
    "duration": 28,
    "start_time": "2021-07-07T12:56:32.137Z"
   },
   {
    "duration": 19,
    "start_time": "2021-07-07T12:56:39.785Z"
   },
   {
    "duration": 20,
    "start_time": "2021-07-07T12:56:44.297Z"
   },
   {
    "duration": 7,
    "start_time": "2021-07-07T12:56:45.392Z"
   },
   {
    "duration": 23,
    "start_time": "2021-07-07T12:56:46.615Z"
   },
   {
    "duration": 4,
    "start_time": "2021-07-07T12:57:06.625Z"
   },
   {
    "duration": 32,
    "start_time": "2021-07-07T12:57:36.690Z"
   },
   {
    "duration": 18,
    "start_time": "2021-07-07T12:58:00.149Z"
   },
   {
    "duration": 15,
    "start_time": "2021-07-07T12:59:16.793Z"
   },
   {
    "duration": 7,
    "start_time": "2021-07-07T13:19:22.624Z"
   },
   {
    "duration": 6,
    "start_time": "2021-07-07T14:17:33.527Z"
   },
   {
    "duration": 9,
    "start_time": "2021-07-07T14:17:48.409Z"
   },
   {
    "duration": 8,
    "start_time": "2021-07-07T14:20:13.060Z"
   },
   {
    "duration": 8,
    "start_time": "2021-07-07T14:20:37.957Z"
   },
   {
    "duration": 8,
    "start_time": "2021-07-07T14:20:47.470Z"
   },
   {
    "duration": 9,
    "start_time": "2021-07-07T14:20:54.503Z"
   },
   {
    "duration": 10,
    "start_time": "2021-07-07T14:28:57.763Z"
   },
   {
    "duration": 3,
    "start_time": "2021-07-07T14:30:23.377Z"
   },
   {
    "duration": 3,
    "start_time": "2021-07-07T14:30:36.489Z"
   },
   {
    "duration": 103,
    "start_time": "2021-07-07T14:30:52.351Z"
   },
   {
    "duration": 8,
    "start_time": "2021-07-07T14:30:54.763Z"
   },
   {
    "duration": 8,
    "start_time": "2021-07-07T14:31:29.301Z"
   },
   {
    "duration": 13,
    "start_time": "2021-07-07T14:31:44.516Z"
   },
   {
    "duration": 7,
    "start_time": "2021-07-07T14:33:10.972Z"
   },
   {
    "duration": 11,
    "start_time": "2021-07-07T14:33:27.780Z"
   },
   {
    "duration": 8,
    "start_time": "2021-07-07T14:34:44.588Z"
   },
   {
    "duration": 57,
    "start_time": "2021-07-07T14:35:59.042Z"
   },
   {
    "duration": 3,
    "start_time": "2021-07-07T14:36:28.168Z"
   },
   {
    "duration": 5,
    "start_time": "2021-07-07T14:36:46.254Z"
   },
   {
    "duration": 4,
    "start_time": "2021-07-07T14:36:52.714Z"
   },
   {
    "duration": 3,
    "start_time": "2021-07-07T14:36:56.612Z"
   },
   {
    "duration": 4,
    "start_time": "2021-07-07T14:36:57.049Z"
   },
   {
    "duration": 3,
    "start_time": "2021-07-07T14:39:21.214Z"
   },
   {
    "duration": 7,
    "start_time": "2021-07-07T14:39:52.406Z"
   },
   {
    "duration": 11,
    "start_time": "2021-07-07T14:39:58.576Z"
   },
   {
    "duration": 9,
    "start_time": "2021-07-07T14:40:26.301Z"
   },
   {
    "duration": 10,
    "start_time": "2021-07-07T14:40:31.704Z"
   },
   {
    "duration": 11,
    "start_time": "2021-07-07T14:40:36.249Z"
   },
   {
    "duration": 10,
    "start_time": "2021-07-07T14:40:39.783Z"
   },
   {
    "duration": 9,
    "start_time": "2021-07-07T14:40:48.558Z"
   },
   {
    "duration": 10,
    "start_time": "2021-07-07T14:40:57.143Z"
   },
   {
    "duration": 9,
    "start_time": "2021-07-07T14:41:06.074Z"
   },
   {
    "duration": 4324,
    "start_time": "2021-07-07T14:41:22.004Z"
   },
   {
    "duration": 11,
    "start_time": "2021-07-07T14:41:33.392Z"
   },
   {
    "duration": 9,
    "start_time": "2021-07-07T14:41:39.288Z"
   },
   {
    "duration": 569,
    "start_time": "2021-07-07T14:42:14.387Z"
   },
   {
    "duration": 197,
    "start_time": "2021-07-07T14:42:14.959Z"
   },
   {
    "duration": 84,
    "start_time": "2021-07-07T14:42:16.052Z"
   },
   {
    "duration": 4,
    "start_time": "2021-07-07T14:42:16.900Z"
   },
   {
    "duration": 27,
    "start_time": "2021-07-07T14:42:19.898Z"
   },
   {
    "duration": 12,
    "start_time": "2021-07-07T14:42:21.577Z"
   },
   {
    "duration": 9,
    "start_time": "2021-07-07T14:42:21.813Z"
   },
   {
    "duration": 9,
    "start_time": "2021-07-07T14:42:22.569Z"
   },
   {
    "duration": 29,
    "start_time": "2021-07-07T14:42:25.837Z"
   },
   {
    "duration": 20,
    "start_time": "2021-07-07T14:42:27.003Z"
   },
   {
    "duration": 21,
    "start_time": "2021-07-07T14:42:28.767Z"
   },
   {
    "duration": 7,
    "start_time": "2021-07-07T14:42:29.838Z"
   },
   {
    "duration": 4,
    "start_time": "2021-07-07T14:43:25.493Z"
   },
   {
    "duration": 7,
    "start_time": "2021-07-07T14:43:26.573Z"
   },
   {
    "duration": 10,
    "start_time": "2021-07-07T14:43:31.639Z"
   },
   {
    "duration": 9,
    "start_time": "2021-07-07T14:43:32.046Z"
   },
   {
    "duration": 10,
    "start_time": "2021-07-07T14:43:33.301Z"
   },
   {
    "duration": 12,
    "start_time": "2021-07-07T14:43:33.658Z"
   },
   {
    "duration": 8,
    "start_time": "2021-07-07T14:43:34.552Z"
   },
   {
    "duration": 9,
    "start_time": "2021-07-07T14:43:35.058Z"
   },
   {
    "duration": 12,
    "start_time": "2021-07-07T14:43:35.914Z"
   },
   {
    "duration": 17,
    "start_time": "2021-07-07T14:45:34.368Z"
   },
   {
    "duration": 512,
    "start_time": "2021-07-07T14:51:58.236Z"
   },
   {
    "duration": 223,
    "start_time": "2021-07-07T14:51:58.750Z"
   },
   {
    "duration": 93,
    "start_time": "2021-07-07T14:51:58.977Z"
   },
   {
    "duration": 4,
    "start_time": "2021-07-07T14:51:59.071Z"
   },
   {
    "duration": 37,
    "start_time": "2021-07-07T14:51:59.077Z"
   },
   {
    "duration": 18,
    "start_time": "2021-07-07T14:51:59.116Z"
   },
   {
    "duration": 10,
    "start_time": "2021-07-07T14:51:59.137Z"
   },
   {
    "duration": 8,
    "start_time": "2021-07-07T14:51:59.149Z"
   },
   {
    "duration": 54,
    "start_time": "2021-07-07T14:51:59.158Z"
   },
   {
    "duration": 18,
    "start_time": "2021-07-07T14:51:59.213Z"
   },
   {
    "duration": 22,
    "start_time": "2021-07-07T14:51:59.232Z"
   },
   {
    "duration": 36,
    "start_time": "2021-07-07T14:51:59.255Z"
   },
   {
    "duration": 7,
    "start_time": "2021-07-07T14:51:59.293Z"
   },
   {
    "duration": 10,
    "start_time": "2021-07-07T14:51:59.302Z"
   },
   {
    "duration": 9,
    "start_time": "2021-07-07T14:51:59.313Z"
   },
   {
    "duration": 11,
    "start_time": "2021-07-07T14:51:59.324Z"
   },
   {
    "duration": 8,
    "start_time": "2021-07-07T14:51:59.337Z"
   },
   {
    "duration": 46,
    "start_time": "2021-07-07T14:51:59.347Z"
   },
   {
    "duration": 22,
    "start_time": "2021-07-07T14:51:59.395Z"
   },
   {
    "duration": 24,
    "start_time": "2021-07-07T14:57:32.911Z"
   },
   {
    "duration": 7,
    "start_time": "2021-07-07T14:58:22.070Z"
   },
   {
    "duration": 4,
    "start_time": "2021-07-07T14:59:11.239Z"
   },
   {
    "duration": 25,
    "start_time": "2021-07-07T15:07:22.208Z"
   },
   {
    "duration": 16,
    "start_time": "2021-07-07T15:08:25.560Z"
   },
   {
    "duration": 15,
    "start_time": "2021-07-07T15:08:40.647Z"
   },
   {
    "duration": 14,
    "start_time": "2021-07-07T15:08:46.669Z"
   },
   {
    "duration": 533,
    "start_time": "2021-07-07T15:18:07.440Z"
   },
   {
    "duration": 173,
    "start_time": "2021-07-07T15:18:07.974Z"
   },
   {
    "duration": 84,
    "start_time": "2021-07-07T15:18:08.149Z"
   },
   {
    "duration": 3,
    "start_time": "2021-07-07T15:18:08.235Z"
   },
   {
    "duration": 30,
    "start_time": "2021-07-07T15:18:08.240Z"
   },
   {
    "duration": 22,
    "start_time": "2021-07-07T15:18:08.272Z"
   },
   {
    "duration": 11,
    "start_time": "2021-07-07T15:18:08.295Z"
   },
   {
    "duration": 11,
    "start_time": "2021-07-07T15:18:08.309Z"
   },
   {
    "duration": 40,
    "start_time": "2021-07-07T15:18:08.322Z"
   },
   {
    "duration": 42,
    "start_time": "2021-07-07T15:18:08.364Z"
   },
   {
    "duration": 22,
    "start_time": "2021-07-07T15:18:08.408Z"
   },
   {
    "duration": 5,
    "start_time": "2021-07-07T15:18:08.432Z"
   },
   {
    "duration": 13,
    "start_time": "2021-07-07T15:18:08.439Z"
   },
   {
    "duration": 9,
    "start_time": "2021-07-07T15:18:08.454Z"
   },
   {
    "duration": 32,
    "start_time": "2021-07-07T15:18:08.465Z"
   },
   {
    "duration": 10,
    "start_time": "2021-07-07T15:18:08.501Z"
   },
   {
    "duration": 7,
    "start_time": "2021-07-07T15:18:08.513Z"
   },
   {
    "duration": 11,
    "start_time": "2021-07-07T15:18:08.521Z"
   },
   {
    "duration": 17,
    "start_time": "2021-07-07T15:18:08.534Z"
   },
   {
    "duration": 44,
    "start_time": "2021-07-07T15:18:08.553Z"
   },
   {
    "duration": 22,
    "start_time": "2021-07-07T15:18:08.599Z"
   },
   {
    "duration": 61,
    "start_time": "2021-07-07T15:18:08.622Z"
   },
   {
    "duration": 7,
    "start_time": "2021-07-07T15:18:39.457Z"
   },
   {
    "duration": 5,
    "start_time": "2021-07-07T16:05:17.020Z"
   },
   {
    "duration": 5,
    "start_time": "2021-07-07T16:51:28.794Z"
   },
   {
    "duration": 546,
    "start_time": "2021-07-07T16:52:26.306Z"
   },
   {
    "duration": 203,
    "start_time": "2021-07-07T16:52:27.523Z"
   },
   {
    "duration": 85,
    "start_time": "2021-07-07T16:52:27.736Z"
   },
   {
    "duration": 4,
    "start_time": "2021-07-07T16:52:27.899Z"
   },
   {
    "duration": 25,
    "start_time": "2021-07-07T16:52:28.674Z"
   },
   {
    "duration": 8,
    "start_time": "2021-07-07T16:52:32.956Z"
   },
   {
    "duration": 18,
    "start_time": "2021-07-07T16:52:35.616Z"
   },
   {
    "duration": 6,
    "start_time": "2021-07-07T16:52:36.913Z"
   },
   {
    "duration": 11,
    "start_time": "2021-07-07T16:52:40.258Z"
   },
   {
    "duration": 10,
    "start_time": "2021-07-07T16:52:46.251Z"
   },
   {
    "duration": 8,
    "start_time": "2021-07-07T16:52:47.182Z"
   },
   {
    "duration": 27,
    "start_time": "2021-07-07T16:53:20.391Z"
   },
   {
    "duration": 20,
    "start_time": "2021-07-07T16:53:22.022Z"
   },
   {
    "duration": 23,
    "start_time": "2021-07-07T16:53:23.690Z"
   },
   {
    "duration": 8,
    "start_time": "2021-07-07T16:53:24.261Z"
   },
   {
    "duration": 4,
    "start_time": "2021-07-07T16:53:38.733Z"
   },
   {
    "duration": 7,
    "start_time": "2021-07-07T16:53:40.445Z"
   },
   {
    "duration": 11,
    "start_time": "2021-07-07T16:53:41.348Z"
   },
   {
    "duration": 13,
    "start_time": "2021-07-07T16:53:45.250Z"
   },
   {
    "duration": 12,
    "start_time": "2021-07-07T16:53:45.467Z"
   },
   {
    "duration": 4,
    "start_time": "2021-07-07T16:55:32.704Z"
   },
   {
    "duration": 12,
    "start_time": "2021-07-07T16:55:49.012Z"
   },
   {
    "duration": 18,
    "start_time": "2021-07-07T16:55:49.547Z"
   },
   {
    "duration": 611,
    "start_time": "2021-07-07T16:58:35.156Z"
   },
   {
    "duration": 200,
    "start_time": "2021-07-07T16:58:35.770Z"
   },
   {
    "duration": 86,
    "start_time": "2021-07-07T16:58:35.972Z"
   },
   {
    "duration": 3,
    "start_time": "2021-07-07T16:58:36.060Z"
   },
   {
    "duration": 27,
    "start_time": "2021-07-07T16:58:36.065Z"
   },
   {
    "duration": 8,
    "start_time": "2021-07-07T16:58:36.094Z"
   },
   {
    "duration": 17,
    "start_time": "2021-07-07T16:58:36.103Z"
   },
   {
    "duration": 5,
    "start_time": "2021-07-07T16:58:36.123Z"
   },
   {
    "duration": 11,
    "start_time": "2021-07-07T16:58:36.130Z"
   },
   {
    "duration": 7,
    "start_time": "2021-07-07T16:58:36.143Z"
   },
   {
    "duration": 37,
    "start_time": "2021-07-07T16:58:36.152Z"
   },
   {
    "duration": 27,
    "start_time": "2021-07-07T16:58:36.191Z"
   },
   {
    "duration": 19,
    "start_time": "2021-07-07T16:58:36.219Z"
   },
   {
    "duration": 49,
    "start_time": "2021-07-07T16:58:36.240Z"
   },
   {
    "duration": 6,
    "start_time": "2021-07-07T16:58:36.291Z"
   },
   {
    "duration": 3,
    "start_time": "2021-07-07T16:58:36.299Z"
   },
   {
    "duration": 13,
    "start_time": "2021-07-07T16:58:36.304Z"
   },
   {
    "duration": 10,
    "start_time": "2021-07-07T16:58:36.319Z"
   },
   {
    "duration": 10,
    "start_time": "2021-07-07T16:58:36.331Z"
   },
   {
    "duration": 44,
    "start_time": "2021-07-07T16:58:36.343Z"
   },
   {
    "duration": 4,
    "start_time": "2021-07-07T16:58:36.388Z"
   },
   {
    "duration": 13,
    "start_time": "2021-07-07T16:58:36.394Z"
   },
   {
    "duration": 16,
    "start_time": "2021-07-07T16:58:36.410Z"
   },
   {
    "duration": 8,
    "start_time": "2021-07-07T17:02:31.629Z"
   },
   {
    "duration": 8,
    "start_time": "2021-07-07T17:02:34.308Z"
   },
   {
    "duration": 6,
    "start_time": "2021-07-07T17:05:13.483Z"
   },
   {
    "duration": 17,
    "start_time": "2021-07-07T17:05:20.606Z"
   },
   {
    "duration": 7,
    "start_time": "2021-07-07T17:05:34.638Z"
   },
   {
    "duration": 3,
    "start_time": "2021-07-07T17:06:31.883Z"
   },
   {
    "duration": 570,
    "start_time": "2021-07-07T17:06:37.165Z"
   },
   {
    "duration": 174,
    "start_time": "2021-07-07T17:06:37.737Z"
   },
   {
    "duration": 47,
    "start_time": "2021-07-07T17:06:37.913Z"
   },
   {
    "duration": 3,
    "start_time": "2021-07-07T17:06:37.962Z"
   },
   {
    "duration": 27,
    "start_time": "2021-07-07T17:06:37.967Z"
   },
   {
    "duration": 7,
    "start_time": "2021-07-07T17:06:37.996Z"
   },
   {
    "duration": 16,
    "start_time": "2021-07-07T17:06:38.005Z"
   },
   {
    "duration": 6,
    "start_time": "2021-07-07T17:06:38.024Z"
   },
   {
    "duration": 12,
    "start_time": "2021-07-07T17:06:38.031Z"
   },
   {
    "duration": 41,
    "start_time": "2021-07-07T17:06:38.045Z"
   },
   {
    "duration": 8,
    "start_time": "2021-07-07T17:06:38.088Z"
   },
   {
    "duration": 26,
    "start_time": "2021-07-07T17:06:38.098Z"
   },
   {
    "duration": 17,
    "start_time": "2021-07-07T17:06:38.126Z"
   },
   {
    "duration": 43,
    "start_time": "2021-07-07T17:06:38.144Z"
   },
   {
    "duration": 6,
    "start_time": "2021-07-07T17:06:38.188Z"
   },
   {
    "duration": 5,
    "start_time": "2021-07-07T17:06:38.195Z"
   },
   {
    "duration": 9,
    "start_time": "2021-07-07T17:06:38.201Z"
   },
   {
    "duration": 12,
    "start_time": "2021-07-07T17:06:38.212Z"
   },
   {
    "duration": 11,
    "start_time": "2021-07-07T17:06:38.226Z"
   },
   {
    "duration": 47,
    "start_time": "2021-07-07T17:06:38.239Z"
   },
   {
    "duration": 4,
    "start_time": "2021-07-07T17:06:38.288Z"
   },
   {
    "duration": 13,
    "start_time": "2021-07-07T17:06:38.293Z"
   },
   {
    "duration": 5,
    "start_time": "2021-07-07T17:06:38.309Z"
   },
   {
    "duration": 18,
    "start_time": "2021-07-07T17:06:38.325Z"
   },
   {
    "duration": 20,
    "start_time": "2021-07-07T17:07:02.805Z"
   },
   {
    "duration": 19,
    "start_time": "2021-07-07T17:07:08.527Z"
   },
   {
    "duration": 19,
    "start_time": "2021-07-07T17:07:12.758Z"
   },
   {
    "duration": 22,
    "start_time": "2021-07-07T17:07:17.497Z"
   },
   {
    "duration": 19,
    "start_time": "2021-07-07T17:07:19.645Z"
   },
   {
    "duration": 10,
    "start_time": "2021-07-07T17:07:34.239Z"
   },
   {
    "duration": 17,
    "start_time": "2021-07-07T17:07:54.144Z"
   },
   {
    "duration": 14,
    "start_time": "2021-07-07T17:08:14.357Z"
   },
   {
    "duration": 616,
    "start_time": "2021-07-07T17:08:45.254Z"
   },
   {
    "duration": 178,
    "start_time": "2021-07-07T17:08:45.872Z"
   },
   {
    "duration": 60,
    "start_time": "2021-07-07T17:08:46.054Z"
   },
   {
    "duration": 3,
    "start_time": "2021-07-07T17:08:46.116Z"
   },
   {
    "duration": 26,
    "start_time": "2021-07-07T17:08:46.121Z"
   },
   {
    "duration": 7,
    "start_time": "2021-07-07T17:08:46.149Z"
   },
   {
    "duration": 17,
    "start_time": "2021-07-07T17:08:46.158Z"
   },
   {
    "duration": 14,
    "start_time": "2021-07-07T17:08:46.176Z"
   },
   {
    "duration": 17,
    "start_time": "2021-07-07T17:08:46.193Z"
   },
   {
    "duration": 9,
    "start_time": "2021-07-07T17:08:46.211Z"
   },
   {
    "duration": 21,
    "start_time": "2021-07-07T17:08:46.221Z"
   },
   {
    "duration": 49,
    "start_time": "2021-07-07T17:08:46.244Z"
   },
   {
    "duration": 24,
    "start_time": "2021-07-07T17:08:46.295Z"
   },
   {
    "duration": 22,
    "start_time": "2021-07-07T17:08:46.321Z"
   },
   {
    "duration": 6,
    "start_time": "2021-07-07T17:08:46.345Z"
   },
   {
    "duration": 5,
    "start_time": "2021-07-07T17:08:46.353Z"
   },
   {
    "duration": 13,
    "start_time": "2021-07-07T17:08:46.386Z"
   },
   {
    "duration": 12,
    "start_time": "2021-07-07T17:08:46.402Z"
   },
   {
    "duration": 10,
    "start_time": "2021-07-07T17:08:46.415Z"
   },
   {
    "duration": 7,
    "start_time": "2021-07-07T17:08:46.427Z"
   },
   {
    "duration": 8,
    "start_time": "2021-07-07T17:08:46.435Z"
   },
   {
    "duration": 68,
    "start_time": "2021-07-07T17:08:46.446Z"
   },
   {
    "duration": 13,
    "start_time": "2021-07-07T17:08:46.516Z"
   },
   {
    "duration": 78,
    "start_time": "2021-07-07T17:08:46.530Z"
   },
   {
    "duration": 40,
    "start_time": "2021-07-07T17:09:08.185Z"
   },
   {
    "duration": 16,
    "start_time": "2021-07-07T17:09:19.324Z"
   },
   {
    "duration": 21,
    "start_time": "2021-07-07T17:09:23.290Z"
   },
   {
    "duration": 13,
    "start_time": "2021-07-07T17:09:54.812Z"
   },
   {
    "duration": 13,
    "start_time": "2021-07-07T17:10:02.039Z"
   },
   {
    "duration": 10,
    "start_time": "2021-07-07T17:10:29.632Z"
   },
   {
    "duration": 13,
    "start_time": "2021-07-07T17:10:52.372Z"
   },
   {
    "duration": 13,
    "start_time": "2021-07-07T17:11:17.270Z"
   },
   {
    "duration": 13,
    "start_time": "2021-07-07T17:14:59.284Z"
   },
   {
    "duration": 547,
    "start_time": "2021-07-07T17:18:52.403Z"
   },
   {
    "duration": 163,
    "start_time": "2021-07-07T17:18:52.952Z"
   },
   {
    "duration": 44,
    "start_time": "2021-07-07T17:18:53.117Z"
   },
   {
    "duration": 3,
    "start_time": "2021-07-07T17:18:53.162Z"
   },
   {
    "duration": 26,
    "start_time": "2021-07-07T17:18:53.167Z"
   },
   {
    "duration": 6,
    "start_time": "2021-07-07T17:18:53.195Z"
   },
   {
    "duration": 15,
    "start_time": "2021-07-07T17:18:53.203Z"
   },
   {
    "duration": 5,
    "start_time": "2021-07-07T17:18:53.220Z"
   },
   {
    "duration": 11,
    "start_time": "2021-07-07T17:18:53.228Z"
   },
   {
    "duration": 9,
    "start_time": "2021-07-07T17:18:53.241Z"
   },
   {
    "duration": 41,
    "start_time": "2021-07-07T17:18:53.252Z"
   },
   {
    "duration": 33,
    "start_time": "2021-07-07T17:18:53.295Z"
   },
   {
    "duration": 19,
    "start_time": "2021-07-07T17:18:53.330Z"
   },
   {
    "duration": 49,
    "start_time": "2021-07-07T17:18:53.350Z"
   },
   {
    "duration": 5,
    "start_time": "2021-07-07T17:18:53.401Z"
   },
   {
    "duration": 5,
    "start_time": "2021-07-07T17:18:53.408Z"
   },
   {
    "duration": 11,
    "start_time": "2021-07-07T17:18:53.414Z"
   },
   {
    "duration": 9,
    "start_time": "2021-07-07T17:18:53.427Z"
   },
   {
    "duration": 10,
    "start_time": "2021-07-07T17:18:53.437Z"
   },
   {
    "duration": 39,
    "start_time": "2021-07-07T17:18:53.448Z"
   },
   {
    "duration": 26,
    "start_time": "2021-07-07T17:18:55.799Z"
   },
   {
    "duration": 598,
    "start_time": "2021-07-07T17:20:17.862Z"
   },
   {
    "duration": 161,
    "start_time": "2021-07-07T17:20:18.462Z"
   },
   {
    "duration": 45,
    "start_time": "2021-07-07T17:20:18.626Z"
   },
   {
    "duration": 4,
    "start_time": "2021-07-07T17:20:18.673Z"
   },
   {
    "duration": 38,
    "start_time": "2021-07-07T17:20:26.877Z"
   },
   {
    "duration": 7,
    "start_time": "2021-07-07T17:20:37.405Z"
   },
   {
    "duration": 19,
    "start_time": "2021-07-07T17:20:51.534Z"
   },
   {
    "duration": 5,
    "start_time": "2021-07-07T17:20:57.228Z"
   },
   {
    "duration": 7,
    "start_time": "2021-07-07T17:21:08.235Z"
   },
   {
    "duration": 19,
    "start_time": "2021-07-07T17:21:42.158Z"
   },
   {
    "duration": 14,
    "start_time": "2021-07-07T17:21:50.225Z"
   },
   {
    "duration": 22,
    "start_time": "2021-07-07T17:22:54.104Z"
   },
   {
    "duration": 5,
    "start_time": "2021-07-07T17:22:56.371Z"
   },
   {
    "duration": 14,
    "start_time": "2021-07-07T17:22:58.316Z"
   },
   {
    "duration": 5,
    "start_time": "2021-07-07T17:22:58.493Z"
   },
   {
    "duration": 35,
    "start_time": "2021-07-07T17:22:59.666Z"
   },
   {
    "duration": 6,
    "start_time": "2021-07-07T17:23:02.410Z"
   },
   {
    "duration": 611,
    "start_time": "2021-07-07T17:24:59.664Z"
   },
   {
    "duration": 178,
    "start_time": "2021-07-07T17:25:01.945Z"
   },
   {
    "duration": 47,
    "start_time": "2021-07-07T17:25:02.125Z"
   },
   {
    "duration": 2,
    "start_time": "2021-07-07T17:25:07.903Z"
   },
   {
    "duration": 254,
    "start_time": "2021-07-07T17:25:08.232Z"
   },
   {
    "duration": 182,
    "start_time": "2021-07-07T17:25:08.671Z"
   },
   {
    "duration": 6,
    "start_time": "2021-07-07T17:25:13.104Z"
   },
   {
    "duration": 36,
    "start_time": "2021-07-07T17:25:13.662Z"
   },
   {
    "duration": 7,
    "start_time": "2021-07-07T17:25:14.528Z"
   },
   {
    "duration": 24,
    "start_time": "2021-07-07T17:25:27.982Z"
   },
   {
    "duration": 3,
    "start_time": "2021-07-07T17:25:48.982Z"
   },
   {
    "duration": 165,
    "start_time": "2021-07-07T17:25:48.987Z"
   },
   {
    "duration": 50,
    "start_time": "2021-07-07T17:25:49.154Z"
   },
   {
    "duration": 4,
    "start_time": "2021-07-07T17:25:49.206Z"
   },
   {
    "duration": 26,
    "start_time": "2021-07-07T17:25:49.212Z"
   },
   {
    "duration": 7,
    "start_time": "2021-07-07T17:25:49.240Z"
   },
   {
    "duration": 16,
    "start_time": "2021-07-07T17:25:49.249Z"
   },
   {
    "duration": 22,
    "start_time": "2021-07-07T17:25:49.266Z"
   },
   {
    "duration": 16,
    "start_time": "2021-07-07T17:25:49.291Z"
   },
   {
    "duration": 9,
    "start_time": "2021-07-07T17:25:49.309Z"
   },
   {
    "duration": 7,
    "start_time": "2021-07-07T17:25:49.319Z"
   },
   {
    "duration": 28,
    "start_time": "2021-07-07T17:25:49.328Z"
   },
   {
    "duration": 44,
    "start_time": "2021-07-07T17:25:49.357Z"
   },
   {
    "duration": 22,
    "start_time": "2021-07-07T17:25:49.403Z"
   },
   {
    "duration": 7,
    "start_time": "2021-07-07T17:25:49.427Z"
   },
   {
    "duration": 3,
    "start_time": "2021-07-07T17:25:49.436Z"
   },
   {
    "duration": 44,
    "start_time": "2021-07-07T17:25:49.441Z"
   },
   {
    "duration": 12,
    "start_time": "2021-07-07T17:25:49.488Z"
   },
   {
    "duration": 13,
    "start_time": "2021-07-07T17:25:49.502Z"
   },
   {
    "duration": 10,
    "start_time": "2021-07-07T17:25:49.516Z"
   },
   {
    "duration": 62,
    "start_time": "2021-07-07T17:25:49.527Z"
   },
   {
    "duration": 26,
    "start_time": "2021-07-07T17:26:51.809Z"
   },
   {
    "duration": 26,
    "start_time": "2021-07-07T17:26:55.759Z"
   },
   {
    "duration": 26,
    "start_time": "2021-07-07T17:27:04.501Z"
   },
   {
    "duration": 25,
    "start_time": "2021-07-07T17:28:24.859Z"
   },
   {
    "duration": 21,
    "start_time": "2021-07-07T17:28:55.250Z"
   },
   {
    "duration": 21,
    "start_time": "2021-07-07T17:28:58.885Z"
   },
   {
    "duration": 7,
    "start_time": "2021-07-07T17:45:40.972Z"
   },
   {
    "duration": 13,
    "start_time": "2021-07-07T17:45:42.529Z"
   },
   {
    "duration": 27,
    "start_time": "2021-07-07T17:45:51.026Z"
   },
   {
    "duration": 518,
    "start_time": "2021-07-07T17:46:15.532Z"
   },
   {
    "duration": 235,
    "start_time": "2021-07-07T17:46:16.053Z"
   },
   {
    "duration": 80,
    "start_time": "2021-07-07T17:46:16.292Z"
   },
   {
    "duration": 5,
    "start_time": "2021-07-07T17:46:16.373Z"
   },
   {
    "duration": 26,
    "start_time": "2021-07-07T17:46:16.380Z"
   },
   {
    "duration": 7,
    "start_time": "2021-07-07T17:46:16.408Z"
   },
   {
    "duration": 16,
    "start_time": "2021-07-07T17:46:16.418Z"
   },
   {
    "duration": 5,
    "start_time": "2021-07-07T17:46:16.436Z"
   },
   {
    "duration": 13,
    "start_time": "2021-07-07T17:46:16.442Z"
   },
   {
    "duration": 35,
    "start_time": "2021-07-07T17:46:16.456Z"
   },
   {
    "duration": 8,
    "start_time": "2021-07-07T17:46:16.493Z"
   },
   {
    "duration": 28,
    "start_time": "2021-07-07T17:46:16.502Z"
   },
   {
    "duration": 17,
    "start_time": "2021-07-07T17:46:16.532Z"
   },
   {
    "duration": 44,
    "start_time": "2021-07-07T17:46:16.551Z"
   },
   {
    "duration": 6,
    "start_time": "2021-07-07T17:46:16.597Z"
   },
   {
    "duration": 4,
    "start_time": "2021-07-07T17:46:16.605Z"
   },
   {
    "duration": 9,
    "start_time": "2021-07-07T17:46:16.610Z"
   },
   {
    "duration": 9,
    "start_time": "2021-07-07T17:46:16.621Z"
   },
   {
    "duration": 10,
    "start_time": "2021-07-07T17:46:16.632Z"
   },
   {
    "duration": 43,
    "start_time": "2021-07-07T17:46:16.644Z"
   },
   {
    "duration": 26,
    "start_time": "2021-07-07T17:46:16.689Z"
   },
   {
    "duration": 19,
    "start_time": "2021-07-07T17:46:16.718Z"
   },
   {
    "duration": 8,
    "start_time": "2021-07-07T17:46:16.738Z"
   },
   {
    "duration": 43,
    "start_time": "2021-07-07T17:46:16.747Z"
   },
   {
    "duration": 19,
    "start_time": "2021-07-07T17:46:16.791Z"
   },
   {
    "duration": 9,
    "start_time": "2021-07-07T17:46:16.812Z"
   },
   {
    "duration": 60,
    "start_time": "2021-07-07T17:46:16.822Z"
   },
   {
    "duration": -8,
    "start_time": "2021-07-07T17:46:16.892Z"
   },
   {
    "duration": 12,
    "start_time": "2021-07-07T17:48:47.707Z"
   },
   {
    "duration": 553,
    "start_time": "2021-07-07T18:10:09.350Z"
   },
   {
    "duration": 230,
    "start_time": "2021-07-07T18:10:09.905Z"
   },
   {
    "duration": 97,
    "start_time": "2021-07-07T18:10:10.137Z"
   },
   {
    "duration": 5,
    "start_time": "2021-07-07T18:10:10.236Z"
   },
   {
    "duration": 29,
    "start_time": "2021-07-07T18:10:10.242Z"
   },
   {
    "duration": 7,
    "start_time": "2021-07-07T18:10:10.272Z"
   },
   {
    "duration": 15,
    "start_time": "2021-07-07T18:10:10.281Z"
   },
   {
    "duration": 4,
    "start_time": "2021-07-07T18:10:10.299Z"
   },
   {
    "duration": 14,
    "start_time": "2021-07-07T18:10:10.305Z"
   },
   {
    "duration": 8,
    "start_time": "2021-07-07T18:10:10.321Z"
   },
   {
    "duration": 8,
    "start_time": "2021-07-07T18:10:10.331Z"
   },
   {
    "duration": 56,
    "start_time": "2021-07-07T18:10:10.341Z"
   },
   {
    "duration": 19,
    "start_time": "2021-07-07T18:10:10.399Z"
   },
   {
    "duration": 23,
    "start_time": "2021-07-07T18:10:10.419Z"
   },
   {
    "duration": 6,
    "start_time": "2021-07-07T18:10:10.444Z"
   },
   {
    "duration": 9,
    "start_time": "2021-07-07T18:10:10.451Z"
   },
   {
    "duration": 30,
    "start_time": "2021-07-07T18:10:10.462Z"
   },
   {
    "duration": 9,
    "start_time": "2021-07-07T18:10:10.494Z"
   },
   {
    "duration": 14,
    "start_time": "2021-07-07T18:10:10.505Z"
   },
   {
    "duration": 7,
    "start_time": "2021-07-07T18:10:10.521Z"
   },
   {
    "duration": 26,
    "start_time": "2021-07-07T18:10:10.530Z"
   },
   {
    "duration": 44,
    "start_time": "2021-07-07T18:10:10.558Z"
   },
   {
    "duration": 7,
    "start_time": "2021-07-07T18:10:10.605Z"
   },
   {
    "duration": 11,
    "start_time": "2021-07-07T18:10:10.614Z"
   },
   {
    "duration": 19,
    "start_time": "2021-07-07T18:10:10.626Z"
   },
   {
    "duration": 44,
    "start_time": "2021-07-07T18:10:10.646Z"
   },
   {
    "duration": 516,
    "start_time": "2021-07-07T18:14:00.826Z"
   },
   {
    "duration": 230,
    "start_time": "2021-07-07T18:14:01.344Z"
   },
   {
    "duration": 105,
    "start_time": "2021-07-07T18:14:01.576Z"
   },
   {
    "duration": 5,
    "start_time": "2021-07-07T18:14:01.683Z"
   },
   {
    "duration": 46,
    "start_time": "2021-07-07T18:14:01.690Z"
   },
   {
    "duration": 7,
    "start_time": "2021-07-07T18:14:01.738Z"
   },
   {
    "duration": 20,
    "start_time": "2021-07-07T18:14:01.747Z"
   },
   {
    "duration": 16,
    "start_time": "2021-07-07T18:14:01.769Z"
   },
   {
    "duration": 14,
    "start_time": "2021-07-07T18:14:01.787Z"
   },
   {
    "duration": 15,
    "start_time": "2021-07-07T18:14:01.803Z"
   },
   {
    "duration": 12,
    "start_time": "2021-07-07T18:14:01.820Z"
   },
   {
    "duration": 35,
    "start_time": "2021-07-07T18:14:01.833Z"
   },
   {
    "duration": 31,
    "start_time": "2021-07-07T18:14:01.869Z"
   },
   {
    "duration": 37,
    "start_time": "2021-07-07T18:14:01.902Z"
   },
   {
    "duration": 8,
    "start_time": "2021-07-07T18:14:01.942Z"
   },
   {
    "duration": 16,
    "start_time": "2021-07-07T18:14:01.952Z"
   },
   {
    "duration": 13,
    "start_time": "2021-07-07T18:14:01.970Z"
   },
   {
    "duration": 32,
    "start_time": "2021-07-07T18:14:01.985Z"
   },
   {
    "duration": 11,
    "start_time": "2021-07-07T18:14:02.019Z"
   },
   {
    "duration": 22,
    "start_time": "2021-07-07T18:14:02.031Z"
   },
   {
    "duration": 27,
    "start_time": "2021-07-07T18:14:02.055Z"
   },
   {
    "duration": 18,
    "start_time": "2021-07-07T18:14:02.084Z"
   },
   {
    "duration": 18,
    "start_time": "2021-07-07T18:14:02.106Z"
   },
   {
    "duration": 11,
    "start_time": "2021-07-07T18:14:02.126Z"
   },
   {
    "duration": 21,
    "start_time": "2021-07-07T18:14:02.138Z"
   },
   {
    "duration": 32,
    "start_time": "2021-07-07T18:14:02.161Z"
   },
   {
    "duration": 28,
    "start_time": "2021-07-07T18:14:44.295Z"
   },
   {
    "duration": 6,
    "start_time": "2021-07-07T18:15:05.834Z"
   },
   {
    "duration": 511,
    "start_time": "2021-07-07T18:15:41.541Z"
   },
   {
    "duration": 183,
    "start_time": "2021-07-07T18:15:42.054Z"
   },
   {
    "duration": 50,
    "start_time": "2021-07-07T18:15:42.239Z"
   },
   {
    "duration": 5,
    "start_time": "2021-07-07T18:15:42.291Z"
   },
   {
    "duration": 48,
    "start_time": "2021-07-07T18:15:42.297Z"
   },
   {
    "duration": 8,
    "start_time": "2021-07-07T18:15:42.346Z"
   },
   {
    "duration": 17,
    "start_time": "2021-07-07T18:15:42.356Z"
   },
   {
    "duration": 15,
    "start_time": "2021-07-07T18:15:42.375Z"
   },
   {
    "duration": 12,
    "start_time": "2021-07-07T18:15:42.392Z"
   },
   {
    "duration": 7,
    "start_time": "2021-07-07T18:15:42.406Z"
   },
   {
    "duration": 7,
    "start_time": "2021-07-07T18:15:42.415Z"
   },
   {
    "duration": 29,
    "start_time": "2021-07-07T18:15:42.423Z"
   },
   {
    "duration": 43,
    "start_time": "2021-07-07T18:15:42.453Z"
   },
   {
    "duration": 18,
    "start_time": "2021-07-07T18:15:42.497Z"
   },
   {
    "duration": 6,
    "start_time": "2021-07-07T18:15:42.516Z"
   },
   {
    "duration": 3,
    "start_time": "2021-07-07T18:15:42.523Z"
   },
   {
    "duration": 18,
    "start_time": "2021-07-07T18:15:42.528Z"
   },
   {
    "duration": 10,
    "start_time": "2021-07-07T18:15:42.547Z"
   },
   {
    "duration": 36,
    "start_time": "2021-07-07T18:15:42.559Z"
   },
   {
    "duration": 8,
    "start_time": "2021-07-07T18:15:42.597Z"
   },
   {
    "duration": 28,
    "start_time": "2021-07-07T18:15:42.606Z"
   },
   {
    "duration": 52,
    "start_time": "2021-07-07T18:15:42.635Z"
   },
   {
    "duration": 7,
    "start_time": "2021-07-07T18:15:42.690Z"
   },
   {
    "duration": 10,
    "start_time": "2021-07-07T18:15:42.699Z"
   },
   {
    "duration": 19,
    "start_time": "2021-07-07T18:15:42.711Z"
   },
   {
    "duration": 9,
    "start_time": "2021-07-07T18:15:42.732Z"
   },
   {
    "duration": 5,
    "start_time": "2021-07-07T18:15:42.743Z"
   },
   {
    "duration": 1450,
    "start_time": "2021-07-07T18:15:51.984Z"
   },
   {
    "duration": 161,
    "start_time": "2021-07-07T18:15:53.435Z"
   },
   {
    "duration": 124,
    "start_time": "2021-07-07T18:15:53.598Z"
   },
   {
    "duration": 5,
    "start_time": "2021-07-07T18:15:53.724Z"
   },
   {
    "duration": 34,
    "start_time": "2021-07-07T18:15:53.730Z"
   },
   {
    "duration": 7,
    "start_time": "2021-07-07T18:15:53.765Z"
   },
   {
    "duration": 15,
    "start_time": "2021-07-07T18:15:53.773Z"
   },
   {
    "duration": 5,
    "start_time": "2021-07-07T18:15:53.791Z"
   },
   {
    "duration": 19,
    "start_time": "2021-07-07T18:15:53.798Z"
   },
   {
    "duration": 9,
    "start_time": "2021-07-07T18:15:53.818Z"
   },
   {
    "duration": 19,
    "start_time": "2021-07-07T18:15:53.828Z"
   },
   {
    "duration": 27,
    "start_time": "2021-07-07T18:15:53.848Z"
   },
   {
    "duration": 16,
    "start_time": "2021-07-07T18:15:53.884Z"
   },
   {
    "duration": 29,
    "start_time": "2021-07-07T18:15:53.901Z"
   },
   {
    "duration": 5,
    "start_time": "2021-07-07T18:15:53.932Z"
   },
   {
    "duration": 15,
    "start_time": "2021-07-07T18:15:53.939Z"
   },
   {
    "duration": 13,
    "start_time": "2021-07-07T18:15:53.956Z"
   },
   {
    "duration": 20,
    "start_time": "2021-07-07T18:15:53.971Z"
   },
   {
    "duration": 14,
    "start_time": "2021-07-07T18:15:53.992Z"
   },
   {
    "duration": 9,
    "start_time": "2021-07-07T18:15:54.009Z"
   },
   {
    "duration": 28,
    "start_time": "2021-07-07T18:15:54.020Z"
   },
   {
    "duration": 50,
    "start_time": "2021-07-07T18:15:54.051Z"
   },
   {
    "duration": 8,
    "start_time": "2021-07-07T18:15:54.105Z"
   },
   {
    "duration": 11,
    "start_time": "2021-07-07T18:15:54.115Z"
   },
   {
    "duration": 20,
    "start_time": "2021-07-07T18:15:54.128Z"
   },
   {
    "duration": 13,
    "start_time": "2021-07-07T18:15:54.184Z"
   },
   {
    "duration": 7,
    "start_time": "2021-07-07T18:15:54.199Z"
   },
   {
    "duration": 7,
    "start_time": "2021-07-07T18:17:08.042Z"
   },
   {
    "duration": 8,
    "start_time": "2021-07-07T18:17:21.008Z"
   },
   {
    "duration": 7,
    "start_time": "2021-07-07T18:17:29.003Z"
   },
   {
    "duration": 8,
    "start_time": "2021-07-07T18:17:32.492Z"
   },
   {
    "duration": 9,
    "start_time": "2021-07-07T18:17:41.758Z"
   },
   {
    "duration": 255,
    "start_time": "2021-07-07T18:20:20.897Z"
   },
   {
    "duration": 173,
    "start_time": "2021-07-07T18:20:26.636Z"
   },
   {
    "duration": 7,
    "start_time": "2021-07-07T18:21:47.164Z"
   },
   {
    "duration": 254,
    "start_time": "2021-07-07T18:23:08.703Z"
   },
   {
    "duration": 21,
    "start_time": "2021-07-07T18:23:22.506Z"
   },
   {
    "duration": 315,
    "start_time": "2021-07-07T18:25:54.801Z"
   },
   {
    "duration": 34,
    "start_time": "2021-07-07T18:26:51.817Z"
   },
   {
    "duration": 327,
    "start_time": "2021-07-07T18:26:56.147Z"
   },
   {
    "duration": 342,
    "start_time": "2021-07-07T18:27:15.887Z"
   },
   {
    "duration": 302,
    "start_time": "2021-07-07T18:28:18.569Z"
   },
   {
    "duration": 226,
    "start_time": "2021-07-07T18:29:20.879Z"
   },
   {
    "duration": 207,
    "start_time": "2021-07-07T18:29:58.114Z"
   },
   {
    "duration": 140,
    "start_time": "2021-07-07T18:32:04.372Z"
   },
   {
    "duration": 158,
    "start_time": "2021-07-07T18:32:32.508Z"
   },
   {
    "duration": 145,
    "start_time": "2021-07-07T18:32:41.365Z"
   },
   {
    "duration": 132,
    "start_time": "2021-07-07T18:32:45.199Z"
   },
   {
    "duration": 11,
    "start_time": "2021-07-07T18:35:24.679Z"
   },
   {
    "duration": 268,
    "start_time": "2021-07-07T18:36:16.145Z"
   },
   {
    "duration": 227,
    "start_time": "2021-07-07T18:37:04.918Z"
   },
   {
    "duration": 3,
    "start_time": "2021-07-07T18:37:33.012Z"
   },
   {
    "duration": 671,
    "start_time": "2021-07-07T18:37:38.295Z"
   },
   {
    "duration": 54,
    "start_time": "2021-07-07T18:37:53.406Z"
   },
   {
    "duration": 631,
    "start_time": "2021-07-07T18:37:56.463Z"
   },
   {
    "duration": 19,
    "start_time": "2021-07-07T18:39:40.535Z"
   },
   {
    "duration": 20,
    "start_time": "2021-07-07T18:40:12.236Z"
   },
   {
    "duration": 633,
    "start_time": "2021-07-07T18:42:00.398Z"
   },
   {
    "duration": 218,
    "start_time": "2021-07-07T18:42:01.033Z"
   },
   {
    "duration": 49,
    "start_time": "2021-07-07T18:42:01.253Z"
   },
   {
    "duration": 5,
    "start_time": "2021-07-07T18:42:01.303Z"
   },
   {
    "duration": 27,
    "start_time": "2021-07-07T18:42:01.310Z"
   },
   {
    "duration": 8,
    "start_time": "2021-07-07T18:42:01.339Z"
   },
   {
    "duration": 20,
    "start_time": "2021-07-07T18:42:01.348Z"
   },
   {
    "duration": 6,
    "start_time": "2021-07-07T18:42:01.386Z"
   },
   {
    "duration": 16,
    "start_time": "2021-07-07T18:42:01.394Z"
   },
   {
    "duration": 9,
    "start_time": "2021-07-07T18:42:01.411Z"
   },
   {
    "duration": 11,
    "start_time": "2021-07-07T18:42:01.421Z"
   },
   {
    "duration": 31,
    "start_time": "2021-07-07T18:42:01.434Z"
   },
   {
    "duration": 18,
    "start_time": "2021-07-07T18:42:01.485Z"
   },
   {
    "duration": 23,
    "start_time": "2021-07-07T18:42:01.505Z"
   },
   {
    "duration": 6,
    "start_time": "2021-07-07T18:42:01.530Z"
   },
   {
    "duration": 10,
    "start_time": "2021-07-07T18:42:01.538Z"
   },
   {
    "duration": 13,
    "start_time": "2021-07-07T18:42:01.550Z"
   },
   {
    "duration": 24,
    "start_time": "2021-07-07T18:42:01.564Z"
   },
   {
    "duration": 20,
    "start_time": "2021-07-07T18:42:01.590Z"
   },
   {
    "duration": 8,
    "start_time": "2021-07-07T18:42:01.611Z"
   },
   {
    "duration": 31,
    "start_time": "2021-07-07T18:42:01.620Z"
   },
   {
    "duration": 39,
    "start_time": "2021-07-07T18:42:01.653Z"
   },
   {
    "duration": 8,
    "start_time": "2021-07-07T18:42:01.696Z"
   },
   {
    "duration": 13,
    "start_time": "2021-07-07T18:42:01.705Z"
   },
   {
    "duration": 20,
    "start_time": "2021-07-07T18:42:01.720Z"
   },
   {
    "duration": 12,
    "start_time": "2021-07-07T18:42:01.741Z"
   },
   {
    "duration": 35,
    "start_time": "2021-07-07T18:42:01.755Z"
   },
   {
    "duration": 14,
    "start_time": "2021-07-07T18:42:01.792Z"
   },
   {
    "duration": 188,
    "start_time": "2021-07-07T18:42:01.808Z"
   },
   {
    "duration": 19,
    "start_time": "2021-07-07T18:42:01.998Z"
   },
   {
    "duration": 175,
    "start_time": "2021-07-07T18:42:02.019Z"
   },
   {
    "duration": 134,
    "start_time": "2021-07-07T18:42:02.196Z"
   },
   {
    "duration": 10,
    "start_time": "2021-07-07T18:42:02.331Z"
   },
   {
    "duration": 19,
    "start_time": "2021-07-07T18:42:02.343Z"
   },
   {
    "duration": 628,
    "start_time": "2021-07-07T18:46:30.701Z"
   },
   {
    "duration": 183,
    "start_time": "2021-07-07T18:46:31.331Z"
   },
   {
    "duration": 48,
    "start_time": "2021-07-07T18:46:31.516Z"
   },
   {
    "duration": 5,
    "start_time": "2021-07-07T18:46:31.566Z"
   },
   {
    "duration": 28,
    "start_time": "2021-07-07T18:46:31.572Z"
   },
   {
    "duration": 8,
    "start_time": "2021-07-07T18:46:31.602Z"
   },
   {
    "duration": 19,
    "start_time": "2021-07-07T18:46:31.611Z"
   },
   {
    "duration": 6,
    "start_time": "2021-07-07T18:46:31.633Z"
   },
   {
    "duration": 17,
    "start_time": "2021-07-07T18:46:31.642Z"
   },
   {
    "duration": 10,
    "start_time": "2021-07-07T18:46:31.684Z"
   },
   {
    "duration": 9,
    "start_time": "2021-07-07T18:46:31.695Z"
   },
   {
    "duration": 28,
    "start_time": "2021-07-07T18:46:31.705Z"
   },
   {
    "duration": 18,
    "start_time": "2021-07-07T18:46:31.735Z"
   },
   {
    "duration": 48,
    "start_time": "2021-07-07T18:46:31.755Z"
   },
   {
    "duration": 6,
    "start_time": "2021-07-07T18:46:31.804Z"
   },
   {
    "duration": 4,
    "start_time": "2021-07-07T18:46:31.812Z"
   },
   {
    "duration": 9,
    "start_time": "2021-07-07T18:46:31.817Z"
   },
   {
    "duration": 10,
    "start_time": "2021-07-07T18:46:31.827Z"
   },
   {
    "duration": 12,
    "start_time": "2021-07-07T18:46:31.838Z"
   },
   {
    "duration": 39,
    "start_time": "2021-07-07T18:46:31.851Z"
   },
   {
    "duration": 24,
    "start_time": "2021-07-07T18:46:31.892Z"
   },
   {
    "duration": 15,
    "start_time": "2021-07-07T18:46:31.918Z"
   },
   {
    "duration": 7,
    "start_time": "2021-07-07T18:46:31.936Z"
   },
   {
    "duration": 8,
    "start_time": "2021-07-07T18:46:31.944Z"
   },
   {
    "duration": 19,
    "start_time": "2021-07-07T18:46:31.984Z"
   },
   {
    "duration": 10,
    "start_time": "2021-07-07T18:46:32.004Z"
   },
   {
    "duration": 5,
    "start_time": "2021-07-07T18:46:32.016Z"
   },
   {
    "duration": 9,
    "start_time": "2021-07-07T18:46:32.023Z"
   },
   {
    "duration": 199,
    "start_time": "2021-07-07T18:46:32.033Z"
   },
   {
    "duration": 19,
    "start_time": "2021-07-07T18:46:32.234Z"
   },
   {
    "duration": 159,
    "start_time": "2021-07-07T18:46:32.255Z"
   },
   {
    "duration": 134,
    "start_time": "2021-07-07T18:46:32.416Z"
   },
   {
    "duration": 10,
    "start_time": "2021-07-07T18:46:32.552Z"
   },
   {
    "duration": 34,
    "start_time": "2021-07-07T18:46:32.563Z"
   },
   {
    "duration": 1039,
    "start_time": "2021-07-08T08:41:09.419Z"
   },
   {
    "duration": 333,
    "start_time": "2021-07-08T08:41:10.459Z"
   },
   {
    "duration": 173,
    "start_time": "2021-07-08T08:41:10.794Z"
   },
   {
    "duration": 5,
    "start_time": "2021-07-08T08:41:10.968Z"
   },
   {
    "duration": 25,
    "start_time": "2021-07-08T08:41:10.975Z"
   },
   {
    "duration": 9,
    "start_time": "2021-07-08T08:41:11.002Z"
   },
   {
    "duration": 18,
    "start_time": "2021-07-08T08:41:11.013Z"
   },
   {
    "duration": 6,
    "start_time": "2021-07-08T08:41:11.033Z"
   },
   {
    "duration": 44,
    "start_time": "2021-07-08T08:41:11.042Z"
   },
   {
    "duration": 10,
    "start_time": "2021-07-08T08:41:11.088Z"
   },
   {
    "duration": 9,
    "start_time": "2021-07-08T08:41:11.100Z"
   },
   {
    "duration": 27,
    "start_time": "2021-07-08T08:41:11.111Z"
   },
   {
    "duration": 46,
    "start_time": "2021-07-08T08:41:11.140Z"
   },
   {
    "duration": 17,
    "start_time": "2021-07-08T08:41:11.187Z"
   },
   {
    "duration": 6,
    "start_time": "2021-07-08T08:41:11.206Z"
   },
   {
    "duration": 5,
    "start_time": "2021-07-08T08:41:11.213Z"
   },
   {
    "duration": 10,
    "start_time": "2021-07-08T08:41:11.219Z"
   },
   {
    "duration": 9,
    "start_time": "2021-07-08T08:41:11.230Z"
   },
   {
    "duration": 45,
    "start_time": "2021-07-08T08:41:11.241Z"
   },
   {
    "duration": 7,
    "start_time": "2021-07-08T08:41:11.287Z"
   },
   {
    "duration": 24,
    "start_time": "2021-07-08T08:41:11.296Z"
   },
   {
    "duration": 16,
    "start_time": "2021-07-08T08:41:11.322Z"
   },
   {
    "duration": 7,
    "start_time": "2021-07-08T08:41:11.341Z"
   },
   {
    "duration": 41,
    "start_time": "2021-07-08T08:41:11.349Z"
   },
   {
    "duration": 17,
    "start_time": "2021-07-08T08:41:11.391Z"
   },
   {
    "duration": 9,
    "start_time": "2021-07-08T08:41:11.410Z"
   },
   {
    "duration": 5,
    "start_time": "2021-07-08T08:41:11.421Z"
   },
   {
    "duration": 6,
    "start_time": "2021-07-08T08:41:11.428Z"
   },
   {
    "duration": 198,
    "start_time": "2021-07-08T08:41:11.435Z"
   },
   {
    "duration": 18,
    "start_time": "2021-07-08T08:41:11.635Z"
   },
   {
    "duration": 155,
    "start_time": "2021-07-08T08:41:11.655Z"
   },
   {
    "duration": 138,
    "start_time": "2021-07-08T08:41:11.811Z"
   },
   {
    "duration": 10,
    "start_time": "2021-07-08T08:41:11.950Z"
   },
   {
    "duration": 29,
    "start_time": "2021-07-08T08:41:11.961Z"
   },
   {
    "duration": 171,
    "start_time": "2021-07-08T08:47:44.522Z"
   },
   {
    "duration": 124,
    "start_time": "2021-07-08T08:47:46.872Z"
   },
   {
    "duration": 191,
    "start_time": "2021-07-08T08:47:58.148Z"
   },
   {
    "duration": 191,
    "start_time": "2021-07-08T08:48:07.412Z"
   },
   {
    "duration": 261,
    "start_time": "2021-07-08T08:48:10.385Z"
   },
   {
    "duration": 255,
    "start_time": "2021-07-08T08:48:14.494Z"
   },
   {
    "duration": 219,
    "start_time": "2021-07-08T08:48:22.752Z"
   },
   {
    "duration": 173,
    "start_time": "2021-07-08T08:49:06.395Z"
   },
   {
    "duration": 180,
    "start_time": "2021-07-08T08:49:21.011Z"
   },
   {
    "duration": 6,
    "start_time": "2021-07-08T08:50:31.697Z"
   },
   {
    "duration": 10,
    "start_time": "2021-07-08T08:50:47.394Z"
   },
   {
    "duration": 11,
    "start_time": "2021-07-08T08:53:49.332Z"
   },
   {
    "duration": 171,
    "start_time": "2021-07-08T08:54:28.408Z"
   },
   {
    "duration": 636,
    "start_time": "2021-07-08T09:02:48.385Z"
   },
   {
    "duration": 227,
    "start_time": "2021-07-08T09:02:49.023Z"
   },
   {
    "duration": 104,
    "start_time": "2021-07-08T09:02:49.252Z"
   },
   {
    "duration": 5,
    "start_time": "2021-07-08T09:02:49.358Z"
   },
   {
    "duration": 27,
    "start_time": "2021-07-08T09:02:49.365Z"
   },
   {
    "duration": 8,
    "start_time": "2021-07-08T09:02:49.394Z"
   },
   {
    "duration": 18,
    "start_time": "2021-07-08T09:02:49.404Z"
   },
   {
    "duration": 6,
    "start_time": "2021-07-08T09:02:49.424Z"
   },
   {
    "duration": 11,
    "start_time": "2021-07-08T09:02:49.433Z"
   },
   {
    "duration": 13,
    "start_time": "2021-07-08T09:02:49.485Z"
   },
   {
    "duration": 9,
    "start_time": "2021-07-08T09:02:49.500Z"
   },
   {
    "duration": 38,
    "start_time": "2021-07-08T09:02:49.511Z"
   },
   {
    "duration": 42,
    "start_time": "2021-07-08T09:02:49.551Z"
   },
   {
    "duration": 21,
    "start_time": "2021-07-08T09:02:49.594Z"
   },
   {
    "duration": 6,
    "start_time": "2021-07-08T09:02:49.616Z"
   },
   {
    "duration": 3,
    "start_time": "2021-07-08T09:02:49.623Z"
   },
   {
    "duration": 9,
    "start_time": "2021-07-08T09:02:49.628Z"
   },
   {
    "duration": 52,
    "start_time": "2021-07-08T09:02:49.638Z"
   },
   {
    "duration": 11,
    "start_time": "2021-07-08T09:02:49.692Z"
   },
   {
    "duration": 8,
    "start_time": "2021-07-08T09:02:49.704Z"
   },
   {
    "duration": 27,
    "start_time": "2021-07-08T09:02:49.713Z"
   },
   {
    "duration": 59,
    "start_time": "2021-07-08T09:02:49.741Z"
   },
   {
    "duration": 8,
    "start_time": "2021-07-08T09:02:49.803Z"
   },
   {
    "duration": 14,
    "start_time": "2021-07-08T09:02:49.813Z"
   },
   {
    "duration": 20,
    "start_time": "2021-07-08T09:02:49.829Z"
   },
   {
    "duration": 44,
    "start_time": "2021-07-08T09:02:49.851Z"
   },
   {
    "duration": 14,
    "start_time": "2021-07-08T09:02:49.896Z"
   },
   {
    "duration": 221,
    "start_time": "2021-07-08T09:02:49.912Z"
   },
   {
    "duration": 6,
    "start_time": "2021-07-08T09:02:50.134Z"
   },
   {
    "duration": 206,
    "start_time": "2021-07-08T09:02:50.142Z"
   },
   {
    "duration": 19,
    "start_time": "2021-07-08T09:02:50.350Z"
   },
   {
    "duration": 21,
    "start_time": "2021-07-08T09:02:50.370Z"
   },
   {
    "duration": 20,
    "start_time": "2021-07-08T09:02:50.393Z"
   },
   {
    "duration": 5,
    "start_time": "2021-07-08T09:02:50.414Z"
   },
   {
    "duration": 5,
    "start_time": "2021-07-08T09:03:34.173Z"
   },
   {
    "duration": 6,
    "start_time": "2021-07-08T09:04:49.062Z"
   },
   {
    "duration": 9,
    "start_time": "2021-07-08T09:04:50.118Z"
   },
   {
    "duration": 14,
    "start_time": "2021-07-08T09:04:58.512Z"
   },
   {
    "duration": 9,
    "start_time": "2021-07-08T09:05:10.988Z"
   },
   {
    "duration": 11,
    "start_time": "2021-07-08T09:05:11.743Z"
   },
   {
    "duration": 7,
    "start_time": "2021-07-08T09:05:25.677Z"
   },
   {
    "duration": 13,
    "start_time": "2021-07-08T09:05:47.189Z"
   },
   {
    "duration": 13,
    "start_time": "2021-07-08T09:05:54.755Z"
   },
   {
    "duration": 4,
    "start_time": "2021-07-08T09:06:29.189Z"
   },
   {
    "duration": 244,
    "start_time": "2021-07-08T09:06:29.195Z"
   },
   {
    "duration": 91,
    "start_time": "2021-07-08T09:06:29.441Z"
   },
   {
    "duration": 4,
    "start_time": "2021-07-08T09:06:29.534Z"
   },
   {
    "duration": 28,
    "start_time": "2021-07-08T09:06:29.540Z"
   },
   {
    "duration": 6,
    "start_time": "2021-07-08T09:06:29.570Z"
   },
   {
    "duration": 18,
    "start_time": "2021-07-08T09:06:29.578Z"
   },
   {
    "duration": 5,
    "start_time": "2021-07-08T09:06:29.597Z"
   },
   {
    "duration": 13,
    "start_time": "2021-07-08T09:06:29.605Z"
   },
   {
    "duration": 8,
    "start_time": "2021-07-08T09:06:29.620Z"
   },
   {
    "duration": 7,
    "start_time": "2021-07-08T09:06:29.630Z"
   },
   {
    "duration": 63,
    "start_time": "2021-07-08T09:06:29.639Z"
   },
   {
    "duration": 17,
    "start_time": "2021-07-08T09:06:29.704Z"
   },
   {
    "duration": 20,
    "start_time": "2021-07-08T09:06:29.723Z"
   },
   {
    "duration": 6,
    "start_time": "2021-07-08T09:06:29.745Z"
   },
   {
    "duration": 3,
    "start_time": "2021-07-08T09:06:29.752Z"
   },
   {
    "duration": 7,
    "start_time": "2021-07-08T09:06:29.785Z"
   },
   {
    "duration": 11,
    "start_time": "2021-07-08T09:06:29.794Z"
   },
   {
    "duration": 15,
    "start_time": "2021-07-08T09:06:29.807Z"
   },
   {
    "duration": 8,
    "start_time": "2021-07-08T09:06:29.823Z"
   },
   {
    "duration": 70,
    "start_time": "2021-07-08T09:06:29.832Z"
   },
   {
    "duration": 17,
    "start_time": "2021-07-08T09:06:29.903Z"
   },
   {
    "duration": 9,
    "start_time": "2021-07-08T09:06:29.921Z"
   },
   {
    "duration": 9,
    "start_time": "2021-07-08T09:06:29.932Z"
   },
   {
    "duration": 57,
    "start_time": "2021-07-08T09:06:29.942Z"
   },
   {
    "duration": 11,
    "start_time": "2021-07-08T09:06:30.001Z"
   },
   {
    "duration": 19,
    "start_time": "2021-07-08T09:06:30.016Z"
   },
   {
    "duration": 217,
    "start_time": "2021-07-08T09:06:30.037Z"
   },
   {
    "duration": 6,
    "start_time": "2021-07-08T09:06:30.255Z"
   },
   {
    "duration": 205,
    "start_time": "2021-07-08T09:06:30.263Z"
   },
   {
    "duration": 27,
    "start_time": "2021-07-08T09:06:30.470Z"
   },
   {
    "duration": 11,
    "start_time": "2021-07-08T09:06:30.500Z"
   },
   {
    "duration": 31,
    "start_time": "2021-07-08T09:06:30.513Z"
   },
   {
    "duration": 18,
    "start_time": "2021-07-08T09:06:30.546Z"
   },
   {
    "duration": 11,
    "start_time": "2021-07-08T09:06:30.566Z"
   },
   {
    "duration": 19,
    "start_time": "2021-07-08T09:06:30.579Z"
   },
   {
    "duration": 20,
    "start_time": "2021-07-08T09:06:49.466Z"
   },
   {
    "duration": 9,
    "start_time": "2021-07-08T09:06:51.994Z"
   },
   {
    "duration": 20,
    "start_time": "2021-07-08T09:06:52.273Z"
   },
   {
    "duration": 246,
    "start_time": "2021-07-08T09:10:21.272Z"
   },
   {
    "duration": 84,
    "start_time": "2021-07-08T09:10:21.436Z"
   },
   {
    "duration": 7,
    "start_time": "2021-07-08T09:10:37.608Z"
   },
   {
    "duration": 189,
    "start_time": "2021-07-08T09:10:38.573Z"
   },
   {
    "duration": 185,
    "start_time": "2021-07-08T09:10:53.181Z"
   },
   {
    "duration": 11,
    "start_time": "2021-07-08T09:10:59.549Z"
   },
   {
    "duration": 42,
    "start_time": "2021-07-08T09:10:59.709Z"
   },
   {
    "duration": 12,
    "start_time": "2021-07-08T09:11:02.857Z"
   },
   {
    "duration": 28,
    "start_time": "2021-07-08T09:11:10.062Z"
   },
   {
    "duration": 249,
    "start_time": "2021-07-08T09:11:37.388Z"
   },
   {
    "duration": 232,
    "start_time": "2021-07-08T09:11:49.485Z"
   },
   {
    "duration": 453,
    "start_time": "2021-07-08T09:12:01.546Z"
   },
   {
    "duration": 440,
    "start_time": "2021-07-08T09:12:12.347Z"
   },
   {
    "duration": 213,
    "start_time": "2021-07-08T09:13:32.196Z"
   },
   {
    "duration": 172,
    "start_time": "2021-07-08T09:14:07.400Z"
   },
   {
    "duration": 185,
    "start_time": "2021-07-08T09:14:14.905Z"
   },
   {
    "duration": 209,
    "start_time": "2021-07-08T09:14:40.109Z"
   },
   {
    "duration": 201,
    "start_time": "2021-07-08T09:14:54.506Z"
   },
   {
    "duration": 622,
    "start_time": "2021-07-08T09:18:14.497Z"
   },
   {
    "duration": 220,
    "start_time": "2021-07-08T09:18:15.121Z"
   },
   {
    "duration": 79,
    "start_time": "2021-07-08T09:18:15.343Z"
   },
   {
    "duration": 4,
    "start_time": "2021-07-08T09:18:15.425Z"
   },
   {
    "duration": 24,
    "start_time": "2021-07-08T09:18:15.431Z"
   },
   {
    "duration": 8,
    "start_time": "2021-07-08T09:18:15.457Z"
   },
   {
    "duration": 16,
    "start_time": "2021-07-08T09:18:15.466Z"
   },
   {
    "duration": 5,
    "start_time": "2021-07-08T09:18:15.484Z"
   },
   {
    "duration": 10,
    "start_time": "2021-07-08T09:18:15.493Z"
   },
   {
    "duration": 8,
    "start_time": "2021-07-08T09:18:15.504Z"
   },
   {
    "duration": 7,
    "start_time": "2021-07-08T09:18:15.513Z"
   },
   {
    "duration": 26,
    "start_time": "2021-07-08T09:18:15.522Z"
   },
   {
    "duration": 49,
    "start_time": "2021-07-08T09:18:15.550Z"
   },
   {
    "duration": 21,
    "start_time": "2021-07-08T09:18:15.601Z"
   },
   {
    "duration": 8,
    "start_time": "2021-07-08T09:18:15.624Z"
   },
   {
    "duration": 3,
    "start_time": "2021-07-08T09:18:15.634Z"
   },
   {
    "duration": 8,
    "start_time": "2021-07-08T09:18:15.639Z"
   },
   {
    "duration": 45,
    "start_time": "2021-07-08T09:18:15.649Z"
   },
   {
    "duration": 13,
    "start_time": "2021-07-08T09:18:15.696Z"
   },
   {
    "duration": 10,
    "start_time": "2021-07-08T09:18:15.711Z"
   },
   {
    "duration": 64,
    "start_time": "2021-07-08T09:18:15.722Z"
   },
   {
    "duration": 19,
    "start_time": "2021-07-08T09:18:15.788Z"
   },
   {
    "duration": 9,
    "start_time": "2021-07-08T09:18:15.809Z"
   },
   {
    "duration": 9,
    "start_time": "2021-07-08T09:18:15.820Z"
   },
   {
    "duration": 18,
    "start_time": "2021-07-08T09:18:15.831Z"
   },
   {
    "duration": 43,
    "start_time": "2021-07-08T09:18:15.851Z"
   },
   {
    "duration": 12,
    "start_time": "2021-07-08T09:18:15.897Z"
   },
   {
    "duration": 219,
    "start_time": "2021-07-08T09:18:15.911Z"
   },
   {
    "duration": 8,
    "start_time": "2021-07-08T09:18:16.132Z"
   },
   {
    "duration": 199,
    "start_time": "2021-07-08T09:18:16.141Z"
   },
   {
    "duration": 18,
    "start_time": "2021-07-08T09:18:16.341Z"
   },
   {
    "duration": 24,
    "start_time": "2021-07-08T09:18:16.361Z"
   },
   {
    "duration": 24,
    "start_time": "2021-07-08T09:18:16.387Z"
   },
   {
    "duration": 211,
    "start_time": "2021-07-08T09:18:16.413Z"
   },
   {
    "duration": 18,
    "start_time": "2021-07-08T09:18:16.626Z"
   },
   {
    "duration": 596,
    "start_time": "2021-07-08T10:06:33.623Z"
   },
   {
    "duration": 181,
    "start_time": "2021-07-08T10:06:34.221Z"
   },
   {
    "duration": 176,
    "start_time": "2021-07-08T10:06:34.635Z"
   },
   {
    "duration": 239,
    "start_time": "2021-07-08T10:06:55.572Z"
   },
   {
    "duration": 6,
    "start_time": "2021-07-08T10:06:57.687Z"
   },
   {
    "duration": 4,
    "start_time": "2021-07-08T10:07:03.956Z"
   },
   {
    "duration": 4,
    "start_time": "2021-07-08T10:07:10.376Z"
   },
   {
    "duration": 4,
    "start_time": "2021-07-08T10:17:19.889Z"
   },
   {
    "duration": 3,
    "start_time": "2021-07-08T10:19:19.407Z"
   },
   {
    "duration": 197,
    "start_time": "2021-07-08T10:19:19.412Z"
   },
   {
    "duration": 127,
    "start_time": "2021-07-08T10:19:19.611Z"
   },
   {
    "duration": 4,
    "start_time": "2021-07-08T10:19:19.740Z"
   },
   {
    "duration": 27,
    "start_time": "2021-07-08T10:19:19.746Z"
   },
   {
    "duration": 7,
    "start_time": "2021-07-08T10:19:19.775Z"
   },
   {
    "duration": 30,
    "start_time": "2021-07-08T10:19:19.784Z"
   },
   {
    "duration": 7,
    "start_time": "2021-07-08T10:19:19.817Z"
   },
   {
    "duration": 26,
    "start_time": "2021-07-08T10:19:19.826Z"
   },
   {
    "duration": 18,
    "start_time": "2021-07-08T10:19:19.854Z"
   },
   {
    "duration": 14,
    "start_time": "2021-07-08T10:19:19.874Z"
   },
   {
    "duration": 48,
    "start_time": "2021-07-08T10:19:19.890Z"
   },
   {
    "duration": 17,
    "start_time": "2021-07-08T10:19:19.940Z"
   },
   {
    "duration": 38,
    "start_time": "2021-07-08T10:19:19.959Z"
   },
   {
    "duration": 8,
    "start_time": "2021-07-08T10:19:19.999Z"
   },
   {
    "duration": 15,
    "start_time": "2021-07-08T10:19:20.009Z"
   },
   {
    "duration": 22,
    "start_time": "2021-07-08T10:19:20.026Z"
   },
   {
    "duration": 10,
    "start_time": "2021-07-08T10:19:20.050Z"
   },
   {
    "duration": 10,
    "start_time": "2021-07-08T10:19:20.062Z"
   },
   {
    "duration": 20,
    "start_time": "2021-07-08T10:19:20.073Z"
   },
   {
    "duration": 29,
    "start_time": "2021-07-08T10:19:20.095Z"
   },
   {
    "duration": 17,
    "start_time": "2021-07-08T10:19:20.126Z"
   },
   {
    "duration": 40,
    "start_time": "2021-07-08T10:19:20.146Z"
   },
   {
    "duration": 15,
    "start_time": "2021-07-08T10:19:20.189Z"
   },
   {
    "duration": 19,
    "start_time": "2021-07-08T10:19:20.206Z"
   },
   {
    "duration": 10,
    "start_time": "2021-07-08T10:19:20.226Z"
   },
   {
    "duration": 11,
    "start_time": "2021-07-08T10:19:20.238Z"
   },
   {
    "duration": 297,
    "start_time": "2021-07-08T10:19:20.250Z"
   },
   {
    "duration": 6,
    "start_time": "2021-07-08T10:19:20.549Z"
   },
   {
    "duration": 191,
    "start_time": "2021-07-08T10:19:20.557Z"
   },
   {
    "duration": 19,
    "start_time": "2021-07-08T10:19:20.750Z"
   },
   {
    "duration": 20,
    "start_time": "2021-07-08T10:19:20.771Z"
   },
   {
    "duration": 15,
    "start_time": "2021-07-08T10:19:20.793Z"
   },
   {
    "duration": 222,
    "start_time": "2021-07-08T10:19:20.809Z"
   },
   {
    "duration": 20,
    "start_time": "2021-07-08T10:19:21.033Z"
   },
   {
    "duration": 27,
    "start_time": "2021-07-08T10:45:04.055Z"
   },
   {
    "duration": 8,
    "start_time": "2021-07-08T10:45:08.478Z"
   },
   {
    "duration": 8,
    "start_time": "2021-07-08T10:45:31.982Z"
   },
   {
    "duration": 10,
    "start_time": "2021-07-08T10:46:01.221Z"
   },
   {
    "duration": 17,
    "start_time": "2021-07-08T10:46:40.011Z"
   },
   {
    "duration": 193,
    "start_time": "2021-07-08T10:48:19.471Z"
   },
   {
    "duration": 225,
    "start_time": "2021-07-08T10:49:26.480Z"
   },
   {
    "duration": 204,
    "start_time": "2021-07-08T10:49:59.992Z"
   },
   {
    "duration": 435,
    "start_time": "2021-07-08T10:50:06.779Z"
   },
   {
    "duration": 199,
    "start_time": "2021-07-08T10:50:14.891Z"
   },
   {
    "duration": 204,
    "start_time": "2021-07-08T10:50:18.501Z"
   },
   {
    "duration": 244,
    "start_time": "2021-07-08T10:50:23.359Z"
   },
   {
    "duration": 192,
    "start_time": "2021-07-08T10:50:29.135Z"
   },
   {
    "duration": 218,
    "start_time": "2021-07-08T10:50:33.092Z"
   },
   {
    "duration": 207,
    "start_time": "2021-07-08T10:52:45.381Z"
   },
   {
    "duration": 5,
    "start_time": "2021-07-08T10:53:34.641Z"
   },
   {
    "duration": 196,
    "start_time": "2021-07-08T10:53:41.478Z"
   },
   {
    "duration": 43,
    "start_time": "2021-07-08T10:53:50.335Z"
   },
   {
    "duration": 32,
    "start_time": "2021-07-08T10:53:55.294Z"
   },
   {
    "duration": 55,
    "start_time": "2021-07-08T10:54:09.675Z"
   },
   {
    "duration": 16,
    "start_time": "2021-07-08T10:54:12.260Z"
   },
   {
    "duration": 15,
    "start_time": "2021-07-08T10:54:49.150Z"
   },
   {
    "duration": 20,
    "start_time": "2021-07-08T10:56:07.596Z"
   },
   {
    "duration": 16,
    "start_time": "2021-07-08T10:58:26.276Z"
   },
   {
    "duration": 22,
    "start_time": "2021-07-08T10:59:00.486Z"
   },
   {
    "duration": 18,
    "start_time": "2021-07-08T11:02:09.653Z"
   },
   {
    "duration": 10,
    "start_time": "2021-07-08T11:03:44.331Z"
   },
   {
    "duration": 10,
    "start_time": "2021-07-08T11:03:54.055Z"
   },
   {
    "duration": 12,
    "start_time": "2021-07-08T11:04:41.967Z"
   },
   {
    "duration": 24,
    "start_time": "2021-07-08T11:07:30.732Z"
   },
   {
    "duration": 6,
    "start_time": "2021-07-08T11:07:37.364Z"
   },
   {
    "duration": 16,
    "start_time": "2021-07-08T11:08:01.819Z"
   },
   {
    "duration": 17,
    "start_time": "2021-07-08T11:09:47.488Z"
   },
   {
    "duration": 246,
    "start_time": "2021-07-08T11:10:00.830Z"
   },
   {
    "duration": 18,
    "start_time": "2021-07-08T11:13:55.195Z"
   },
   {
    "duration": 204,
    "start_time": "2021-07-08T11:14:04.951Z"
   },
   {
    "duration": 19,
    "start_time": "2021-07-08T11:15:10.613Z"
   },
   {
    "duration": 680,
    "start_time": "2021-07-08T11:16:25.793Z"
   },
   {
    "duration": 451,
    "start_time": "2021-07-08T11:16:40.313Z"
   },
   {
    "duration": 469,
    "start_time": "2021-07-08T11:17:21.286Z"
   },
   {
    "duration": 20,
    "start_time": "2021-07-08T11:19:12.554Z"
   },
   {
    "duration": 35,
    "start_time": "2021-07-08T11:20:05.484Z"
   },
   {
    "duration": 53,
    "start_time": "2021-07-08T11:21:40.050Z"
   },
   {
    "duration": 13,
    "start_time": "2021-07-08T11:22:26.059Z"
   },
   {
    "duration": 19,
    "start_time": "2021-07-08T11:22:47.419Z"
   },
   {
    "duration": 25,
    "start_time": "2021-07-08T11:23:19.958Z"
   },
   {
    "duration": 29,
    "start_time": "2021-07-08T11:23:25.415Z"
   },
   {
    "duration": 10,
    "start_time": "2021-07-08T11:24:45.138Z"
   },
   {
    "duration": 19,
    "start_time": "2021-07-08T11:24:54.498Z"
   },
   {
    "duration": 12,
    "start_time": "2021-07-08T11:25:32.225Z"
   },
   {
    "duration": 19,
    "start_time": "2021-07-08T11:25:37.092Z"
   },
   {
    "duration": 17,
    "start_time": "2021-07-08T11:25:58.116Z"
   },
   {
    "duration": 15,
    "start_time": "2021-07-08T11:26:02.258Z"
   },
   {
    "duration": 8,
    "start_time": "2021-07-08T11:26:59.682Z"
   },
   {
    "duration": 184,
    "start_time": "2021-07-08T11:27:21.894Z"
   },
   {
    "duration": 8,
    "start_time": "2021-07-08T11:27:23.824Z"
   },
   {
    "duration": 202,
    "start_time": "2021-07-08T11:27:23.962Z"
   },
   {
    "duration": 360,
    "start_time": "2021-07-08T11:28:33.215Z"
   },
   {
    "duration": 231,
    "start_time": "2021-07-08T11:32:05.542Z"
   },
   {
    "duration": 607,
    "start_time": "2021-07-08T11:36:27.854Z"
   },
   {
    "duration": 241,
    "start_time": "2021-07-08T11:36:28.463Z"
   },
   {
    "duration": 67,
    "start_time": "2021-07-08T11:36:28.709Z"
   },
   {
    "duration": 5,
    "start_time": "2021-07-08T11:36:28.778Z"
   },
   {
    "duration": 32,
    "start_time": "2021-07-08T11:36:28.784Z"
   },
   {
    "duration": 11,
    "start_time": "2021-07-08T11:36:28.819Z"
   },
   {
    "duration": 20,
    "start_time": "2021-07-08T11:36:28.834Z"
   },
   {
    "duration": 36,
    "start_time": "2021-07-08T11:36:28.857Z"
   },
   {
    "duration": 16,
    "start_time": "2021-07-08T11:36:28.895Z"
   },
   {
    "duration": 14,
    "start_time": "2021-07-08T11:36:28.913Z"
   },
   {
    "duration": 9,
    "start_time": "2021-07-08T11:36:28.930Z"
   },
   {
    "duration": 55,
    "start_time": "2021-07-08T11:36:28.941Z"
   },
   {
    "duration": 27,
    "start_time": "2021-07-08T11:36:28.999Z"
   },
   {
    "duration": 30,
    "start_time": "2021-07-08T11:36:29.028Z"
   },
   {
    "duration": 31,
    "start_time": "2021-07-08T11:36:29.060Z"
   },
   {
    "duration": 3,
    "start_time": "2021-07-08T11:36:29.093Z"
   },
   {
    "duration": 12,
    "start_time": "2021-07-08T11:36:29.099Z"
   },
   {
    "duration": 11,
    "start_time": "2021-07-08T11:36:29.112Z"
   },
   {
    "duration": 12,
    "start_time": "2021-07-08T11:36:29.125Z"
   },
   {
    "duration": 9,
    "start_time": "2021-07-08T11:36:29.139Z"
   },
   {
    "duration": 31,
    "start_time": "2021-07-08T11:36:29.191Z"
   },
   {
    "duration": 17,
    "start_time": "2021-07-08T11:36:29.226Z"
   },
   {
    "duration": 7,
    "start_time": "2021-07-08T11:36:29.245Z"
   },
   {
    "duration": 10,
    "start_time": "2021-07-08T11:36:29.254Z"
   },
   {
    "duration": 30,
    "start_time": "2021-07-08T11:36:29.292Z"
   },
   {
    "duration": 11,
    "start_time": "2021-07-08T11:36:29.324Z"
   },
   {
    "duration": 11,
    "start_time": "2021-07-08T11:36:29.337Z"
   },
   {
    "duration": 230,
    "start_time": "2021-07-08T11:36:29.349Z"
   },
   {
    "duration": 13,
    "start_time": "2021-07-08T11:36:29.588Z"
   },
   {
    "duration": 205,
    "start_time": "2021-07-08T11:36:29.603Z"
   },
   {
    "duration": 20,
    "start_time": "2021-07-08T11:36:29.810Z"
   },
   {
    "duration": 9,
    "start_time": "2021-07-08T11:36:29.832Z"
   },
   {
    "duration": 16,
    "start_time": "2021-07-08T11:36:29.843Z"
   },
   {
    "duration": 283,
    "start_time": "2021-07-08T11:36:29.861Z"
   },
   {
    "duration": 50,
    "start_time": "2021-07-08T11:36:30.146Z"
   },
   {
    "duration": 14,
    "start_time": "2021-07-08T11:36:30.198Z"
   },
   {
    "duration": 11,
    "start_time": "2021-07-08T11:36:30.214Z"
   },
   {
    "duration": 245,
    "start_time": "2021-07-08T11:36:30.227Z"
   },
   {
    "duration": 439,
    "start_time": "2021-07-08T11:36:30.474Z"
   },
   {
    "duration": 210,
    "start_time": "2021-07-08T11:36:30.915Z"
   },
   {
    "duration": 15,
    "start_time": "2021-07-08T11:36:31.127Z"
   },
   {
    "duration": 17,
    "start_time": "2021-07-08T11:38:20.451Z"
   },
   {
    "duration": 642,
    "start_time": "2021-07-08T11:46:17.881Z"
   },
   {
    "duration": 210,
    "start_time": "2021-07-08T11:46:18.525Z"
   },
   {
    "duration": 104,
    "start_time": "2021-07-08T11:46:18.741Z"
   },
   {
    "duration": 8,
    "start_time": "2021-07-08T11:46:18.847Z"
   },
   {
    "duration": 25,
    "start_time": "2021-07-08T11:46:18.857Z"
   },
   {
    "duration": 14,
    "start_time": "2021-07-08T11:46:18.884Z"
   },
   {
    "duration": 22,
    "start_time": "2021-07-08T11:46:18.900Z"
   },
   {
    "duration": 5,
    "start_time": "2021-07-08T11:46:18.924Z"
   },
   {
    "duration": 13,
    "start_time": "2021-07-08T11:46:18.931Z"
   },
   {
    "duration": 45,
    "start_time": "2021-07-08T11:46:18.946Z"
   },
   {
    "duration": 12,
    "start_time": "2021-07-08T11:46:18.993Z"
   },
   {
    "duration": 38,
    "start_time": "2021-07-08T11:46:19.006Z"
   },
   {
    "duration": 50,
    "start_time": "2021-07-08T11:46:19.046Z"
   },
   {
    "duration": 29,
    "start_time": "2021-07-08T11:46:19.099Z"
   },
   {
    "duration": 7,
    "start_time": "2021-07-08T11:46:19.130Z"
   },
   {
    "duration": 3,
    "start_time": "2021-07-08T11:46:19.139Z"
   },
   {
    "duration": 11,
    "start_time": "2021-07-08T11:46:19.144Z"
   },
   {
    "duration": 40,
    "start_time": "2021-07-08T11:46:19.157Z"
   },
   {
    "duration": 15,
    "start_time": "2021-07-08T11:46:19.199Z"
   },
   {
    "duration": 10,
    "start_time": "2021-07-08T11:46:19.217Z"
   },
   {
    "duration": 68,
    "start_time": "2021-07-08T11:46:19.230Z"
   },
   {
    "duration": 17,
    "start_time": "2021-07-08T11:46:19.301Z"
   },
   {
    "duration": 7,
    "start_time": "2021-07-08T11:46:19.321Z"
   },
   {
    "duration": 11,
    "start_time": "2021-07-08T11:46:19.330Z"
   },
   {
    "duration": 59,
    "start_time": "2021-07-08T11:46:19.343Z"
   },
   {
    "duration": 17,
    "start_time": "2021-07-08T11:46:19.405Z"
   },
   {
    "duration": 16,
    "start_time": "2021-07-08T11:46:19.424Z"
   },
   {
    "duration": 252,
    "start_time": "2021-07-08T11:46:19.443Z"
   },
   {
    "duration": 9,
    "start_time": "2021-07-08T11:46:19.697Z"
   },
   {
    "duration": 224,
    "start_time": "2021-07-08T11:46:19.708Z"
   },
   {
    "duration": 21,
    "start_time": "2021-07-08T11:46:19.934Z"
   },
   {
    "duration": 9,
    "start_time": "2021-07-08T11:46:19.956Z"
   },
   {
    "duration": 32,
    "start_time": "2021-07-08T11:46:19.967Z"
   },
   {
    "duration": 288,
    "start_time": "2021-07-08T11:46:20.004Z"
   },
   {
    "duration": 23,
    "start_time": "2021-07-08T11:46:20.300Z"
   },
   {
    "duration": 11,
    "start_time": "2021-07-08T11:46:20.325Z"
   },
   {
    "duration": 11,
    "start_time": "2021-07-08T11:46:20.339Z"
   },
   {
    "duration": 259,
    "start_time": "2021-07-08T11:46:20.352Z"
   },
   {
    "duration": 438,
    "start_time": "2021-07-08T11:46:20.613Z"
   },
   {
    "duration": 207,
    "start_time": "2021-07-08T11:46:21.054Z"
   },
   {
    "duration": 27,
    "start_time": "2021-07-08T11:46:21.262Z"
   },
   {
    "duration": 19,
    "start_time": "2021-07-08T11:46:21.291Z"
   },
   {
    "duration": 820,
    "start_time": "2021-07-08T11:49:01.655Z"
   },
   {
    "duration": 372,
    "start_time": "2021-07-08T11:49:02.478Z"
   },
   {
    "duration": 98,
    "start_time": "2021-07-08T11:49:02.853Z"
   },
   {
    "duration": 6,
    "start_time": "2021-07-08T11:49:02.953Z"
   },
   {
    "duration": 39,
    "start_time": "2021-07-08T11:49:02.960Z"
   },
   {
    "duration": 9,
    "start_time": "2021-07-08T11:49:03.003Z"
   },
   {
    "duration": 23,
    "start_time": "2021-07-08T11:49:03.014Z"
   },
   {
    "duration": 6,
    "start_time": "2021-07-08T11:49:03.041Z"
   },
   {
    "duration": 20,
    "start_time": "2021-07-08T11:49:03.049Z"
   },
   {
    "duration": 18,
    "start_time": "2021-07-08T11:49:03.084Z"
   },
   {
    "duration": 14,
    "start_time": "2021-07-08T11:49:03.104Z"
   },
   {
    "duration": 39,
    "start_time": "2021-07-08T11:49:03.119Z"
   },
   {
    "duration": 38,
    "start_time": "2021-07-08T11:49:03.160Z"
   },
   {
    "duration": 26,
    "start_time": "2021-07-08T11:49:03.200Z"
   },
   {
    "duration": 7,
    "start_time": "2021-07-08T11:49:03.227Z"
   },
   {
    "duration": 4,
    "start_time": "2021-07-08T11:49:03.236Z"
   },
   {
    "duration": 15,
    "start_time": "2021-07-08T11:49:03.243Z"
   },
   {
    "duration": 21,
    "start_time": "2021-07-08T11:49:03.285Z"
   },
   {
    "duration": 17,
    "start_time": "2021-07-08T11:49:03.309Z"
   },
   {
    "duration": 10,
    "start_time": "2021-07-08T11:49:03.328Z"
   },
   {
    "duration": 65,
    "start_time": "2021-07-08T11:49:03.340Z"
   },
   {
    "duration": 18,
    "start_time": "2021-07-08T11:49:03.407Z"
   },
   {
    "duration": 8,
    "start_time": "2021-07-08T11:49:03.428Z"
   },
   {
    "duration": 15,
    "start_time": "2021-07-08T11:49:03.438Z"
   },
   {
    "duration": 40,
    "start_time": "2021-07-08T11:49:03.455Z"
   },
   {
    "duration": 12,
    "start_time": "2021-07-08T11:49:03.497Z"
   },
   {
    "duration": 29,
    "start_time": "2021-07-08T11:49:03.511Z"
   },
   {
    "duration": 285,
    "start_time": "2021-07-08T11:49:03.542Z"
   },
   {
    "duration": 8,
    "start_time": "2021-07-08T11:49:03.829Z"
   },
   {
    "duration": 227,
    "start_time": "2021-07-08T11:49:03.838Z"
   },
   {
    "duration": 40,
    "start_time": "2021-07-08T11:49:04.066Z"
   },
   {
    "duration": 10,
    "start_time": "2021-07-08T11:49:04.108Z"
   },
   {
    "duration": 26,
    "start_time": "2021-07-08T11:49:04.121Z"
   },
   {
    "duration": 290,
    "start_time": "2021-07-08T11:49:04.149Z"
   },
   {
    "duration": 26,
    "start_time": "2021-07-08T11:49:04.441Z"
   },
   {
    "duration": 31,
    "start_time": "2021-07-08T11:49:04.470Z"
   },
   {
    "duration": 14,
    "start_time": "2021-07-08T11:49:04.503Z"
   },
   {
    "duration": 259,
    "start_time": "2021-07-08T11:49:04.521Z"
   },
   {
    "duration": 480,
    "start_time": "2021-07-08T11:49:04.782Z"
   },
   {
    "duration": 225,
    "start_time": "2021-07-08T11:49:05.264Z"
   },
   {
    "duration": 22,
    "start_time": "2021-07-08T11:49:05.491Z"
   },
   {
    "duration": 24,
    "start_time": "2021-07-08T11:49:05.515Z"
   },
   {
    "duration": 634,
    "start_time": "2021-07-08T11:52:24.960Z"
   },
   {
    "duration": 199,
    "start_time": "2021-07-08T11:52:25.599Z"
   },
   {
    "duration": 106,
    "start_time": "2021-07-08T11:52:25.803Z"
   },
   {
    "duration": 7,
    "start_time": "2021-07-08T11:52:25.911Z"
   },
   {
    "duration": 29,
    "start_time": "2021-07-08T11:52:25.920Z"
   },
   {
    "duration": 7,
    "start_time": "2021-07-08T11:52:25.951Z"
   },
   {
    "duration": 26,
    "start_time": "2021-07-08T11:52:25.961Z"
   },
   {
    "duration": 11,
    "start_time": "2021-07-08T11:52:25.990Z"
   },
   {
    "duration": 29,
    "start_time": "2021-07-08T11:52:26.005Z"
   },
   {
    "duration": 9,
    "start_time": "2021-07-08T11:52:26.036Z"
   },
   {
    "duration": 8,
    "start_time": "2021-07-08T11:52:26.047Z"
   },
   {
    "duration": 63,
    "start_time": "2021-07-08T11:52:26.057Z"
   },
   {
    "duration": 17,
    "start_time": "2021-07-08T11:52:26.122Z"
   },
   {
    "duration": 43,
    "start_time": "2021-07-08T11:52:26.142Z"
   },
   {
    "duration": 17,
    "start_time": "2021-07-08T11:52:26.187Z"
   },
   {
    "duration": 5,
    "start_time": "2021-07-08T11:52:26.206Z"
   },
   {
    "duration": 12,
    "start_time": "2021-07-08T11:52:26.212Z"
   },
   {
    "duration": 11,
    "start_time": "2021-07-08T11:52:26.226Z"
   },
   {
    "duration": 12,
    "start_time": "2021-07-08T11:52:26.238Z"
   },
   {
    "duration": 38,
    "start_time": "2021-07-08T11:52:26.252Z"
   },
   {
    "duration": 40,
    "start_time": "2021-07-08T11:52:26.292Z"
   },
   {
    "duration": 17,
    "start_time": "2021-07-08T11:52:26.336Z"
   },
   {
    "duration": 39,
    "start_time": "2021-07-08T11:52:26.355Z"
   },
   {
    "duration": 11,
    "start_time": "2021-07-08T11:52:26.395Z"
   },
   {
    "duration": 23,
    "start_time": "2021-07-08T11:52:26.408Z"
   },
   {
    "duration": 12,
    "start_time": "2021-07-08T11:52:26.432Z"
   },
   {
    "duration": 41,
    "start_time": "2021-07-08T11:52:26.446Z"
   },
   {
    "duration": 215,
    "start_time": "2021-07-08T11:52:26.493Z"
   },
   {
    "duration": 8,
    "start_time": "2021-07-08T11:52:26.710Z"
   },
   {
    "duration": 228,
    "start_time": "2021-07-08T11:52:26.720Z"
   },
   {
    "duration": 18,
    "start_time": "2021-07-08T11:52:26.950Z"
   },
   {
    "duration": 35,
    "start_time": "2021-07-08T11:52:26.969Z"
   },
   {
    "duration": 23,
    "start_time": "2021-07-08T11:52:27.006Z"
   },
   {
    "duration": 258,
    "start_time": "2021-07-08T11:52:27.030Z"
   },
   {
    "duration": 24,
    "start_time": "2021-07-08T11:52:27.290Z"
   },
   {
    "duration": 12,
    "start_time": "2021-07-08T11:52:27.316Z"
   },
   {
    "duration": 10,
    "start_time": "2021-07-08T11:52:27.329Z"
   },
   {
    "duration": 298,
    "start_time": "2021-07-08T11:52:27.341Z"
   },
   {
    "duration": 436,
    "start_time": "2021-07-08T11:52:27.641Z"
   },
   {
    "duration": 216,
    "start_time": "2021-07-08T11:52:28.079Z"
   },
   {
    "duration": 20,
    "start_time": "2021-07-08T11:52:28.297Z"
   },
   {
    "duration": 17,
    "start_time": "2021-07-08T11:52:28.319Z"
   },
   {
    "duration": 476,
    "start_time": "2024-12-16T06:26:21.276Z"
   },
   {
    "duration": 75,
    "start_time": "2024-12-16T06:26:40.311Z"
   },
   {
    "duration": 3,
    "start_time": "2024-12-16T06:26:47.717Z"
   },
   {
    "duration": 251,
    "start_time": "2024-12-16T06:28:07.635Z"
   },
   {
    "duration": 21,
    "start_time": "2024-12-16T06:28:29.231Z"
   },
   {
    "duration": 169,
    "start_time": "2024-12-16T06:29:05.824Z"
   },
   {
    "duration": 17,
    "start_time": "2024-12-16T06:29:07.878Z"
   },
   {
    "duration": 7,
    "start_time": "2024-12-16T06:29:30.937Z"
   },
   {
    "duration": 16,
    "start_time": "2024-12-16T06:30:22.253Z"
   },
   {
    "duration": 15,
    "start_time": "2024-12-16T06:30:48.969Z"
   },
   {
    "duration": 10,
    "start_time": "2024-12-16T06:33:21.408Z"
   },
   {
    "duration": 354,
    "start_time": "2024-12-16T06:33:24.951Z"
   },
   {
    "duration": 354,
    "start_time": "2024-12-16T06:33:33.036Z"
   },
   {
    "duration": 359,
    "start_time": "2024-12-16T06:34:37.469Z"
   },
   {
    "duration": 1374,
    "start_time": "2024-12-16T06:36:22.230Z"
   },
   {
    "duration": 4,
    "start_time": "2024-12-16T06:36:32.228Z"
   },
   {
    "duration": 9,
    "start_time": "2024-12-16T06:39:52.844Z"
   },
   {
    "duration": 18,
    "start_time": "2024-12-16T06:39:57.904Z"
   },
   {
    "duration": 8,
    "start_time": "2024-12-16T06:40:20.848Z"
   },
   {
    "duration": 15,
    "start_time": "2024-12-16T06:40:23.498Z"
   },
   {
    "duration": 15,
    "start_time": "2024-12-16T06:41:14.749Z"
   },
   {
    "duration": 48,
    "start_time": "2024-12-16T06:41:36.556Z"
   },
   {
    "duration": 18,
    "start_time": "2024-12-16T06:42:41.608Z"
   },
   {
    "duration": 15,
    "start_time": "2024-12-16T06:42:49.052Z"
   },
   {
    "duration": 5,
    "start_time": "2024-12-16T06:43:04.190Z"
   },
   {
    "duration": 10,
    "start_time": "2024-12-16T06:43:04.873Z"
   },
   {
    "duration": 15,
    "start_time": "2024-12-16T06:43:08.448Z"
   },
   {
    "duration": 19,
    "start_time": "2024-12-16T06:43:15.016Z"
   },
   {
    "duration": 86,
    "start_time": "2024-12-16T06:43:45.299Z"
   },
   {
    "duration": 16,
    "start_time": "2024-12-16T06:43:49.673Z"
   },
   {
    "duration": 13,
    "start_time": "2024-12-16T06:47:00.129Z"
   },
   {
    "duration": 4,
    "start_time": "2024-12-16T06:47:34.217Z"
   },
   {
    "duration": 18,
    "start_time": "2024-12-16T06:47:37.939Z"
   },
   {
    "duration": 109,
    "start_time": "2024-12-16T07:15:34.992Z"
   },
   {
    "duration": 8,
    "start_time": "2024-12-16T07:15:41.996Z"
   },
   {
    "duration": 5,
    "start_time": "2024-12-16T07:15:57.410Z"
   },
   {
    "duration": 12,
    "start_time": "2024-12-16T07:17:18.893Z"
   },
   {
    "duration": 16,
    "start_time": "2024-12-16T07:17:33.361Z"
   },
   {
    "duration": 4,
    "start_time": "2024-12-16T07:18:47.229Z"
   },
   {
    "duration": 8,
    "start_time": "2024-12-16T07:18:59.681Z"
   },
   {
    "duration": 5,
    "start_time": "2024-12-16T07:19:15.513Z"
   },
   {
    "duration": 9,
    "start_time": "2024-12-16T07:19:29.021Z"
   },
   {
    "duration": 7,
    "start_time": "2024-12-16T07:19:32.860Z"
   },
   {
    "duration": 6,
    "start_time": "2024-12-16T07:20:03.107Z"
   },
   {
    "duration": 5,
    "start_time": "2024-12-16T07:20:40.541Z"
   },
   {
    "duration": 6,
    "start_time": "2024-12-16T07:20:50.137Z"
   },
   {
    "duration": 14,
    "start_time": "2024-12-16T07:21:24.369Z"
   },
   {
    "duration": 512,
    "start_time": "2024-12-16T07:21:36.275Z"
   },
   {
    "duration": 142,
    "start_time": "2024-12-16T07:21:36.790Z"
   },
   {
    "duration": 17,
    "start_time": "2024-12-16T07:21:36.934Z"
   },
   {
    "duration": 35,
    "start_time": "2024-12-16T07:21:36.953Z"
   },
   {
    "duration": 98,
    "start_time": "2024-12-16T07:21:36.991Z"
   },
   {
    "duration": 61,
    "start_time": "2024-12-16T07:21:37.091Z"
   },
   {
    "duration": 49,
    "start_time": "2024-12-16T07:21:37.154Z"
   },
   {
    "duration": 140,
    "start_time": "2024-12-16T07:23:04.703Z"
   },
   {
    "duration": 17,
    "start_time": "2024-12-16T07:23:09.438Z"
   },
   {
    "duration": 13,
    "start_time": "2024-12-16T07:23:17.231Z"
   },
   {
    "duration": 11,
    "start_time": "2024-12-16T07:24:03.525Z"
   },
   {
    "duration": 16,
    "start_time": "2024-12-16T07:24:23.464Z"
   },
   {
    "duration": 36,
    "start_time": "2024-12-16T07:26:48.187Z"
   },
   {
    "duration": 52,
    "start_time": "2024-12-17T05:52:29.995Z"
   },
   {
    "duration": 473,
    "start_time": "2024-12-17T05:52:34.395Z"
   },
   {
    "duration": 239,
    "start_time": "2024-12-17T05:52:34.870Z"
   },
   {
    "duration": 17,
    "start_time": "2024-12-17T05:52:35.110Z"
   },
   {
    "duration": 46,
    "start_time": "2024-12-17T05:52:35.129Z"
   },
   {
    "duration": 9,
    "start_time": "2024-12-17T05:52:35.177Z"
   },
   {
    "duration": 56,
    "start_time": "2024-12-17T05:52:35.187Z"
   },
   {
    "duration": 15,
    "start_time": "2024-12-17T05:52:35.244Z"
   },
   {
    "duration": 81,
    "start_time": "2024-12-17T05:54:08.346Z"
   },
   {
    "duration": 389,
    "start_time": "2024-12-17T05:54:12.503Z"
   },
   {
    "duration": 10,
    "start_time": "2024-12-17T05:54:56.776Z"
   },
   {
    "duration": 5,
    "start_time": "2024-12-17T05:55:11.656Z"
   },
   {
    "duration": 16,
    "start_time": "2024-12-17T05:57:21.959Z"
   },
   {
    "duration": 5,
    "start_time": "2024-12-17T06:04:22.927Z"
   },
   {
    "duration": 5,
    "start_time": "2024-12-17T06:06:33.980Z"
   },
   {
    "duration": 8,
    "start_time": "2024-12-17T06:10:10.845Z"
   },
   {
    "duration": 7,
    "start_time": "2024-12-17T06:10:28.579Z"
   },
   {
    "duration": 8,
    "start_time": "2024-12-17T06:10:33.003Z"
   },
   {
    "duration": 9,
    "start_time": "2024-12-17T06:10:47.180Z"
   },
   {
    "duration": 8,
    "start_time": "2024-12-17T06:11:14.766Z"
   },
   {
    "duration": 7,
    "start_time": "2024-12-17T06:12:11.015Z"
   },
   {
    "duration": 7,
    "start_time": "2024-12-17T06:12:17.663Z"
   },
   {
    "duration": 7,
    "start_time": "2024-12-17T06:14:49.478Z"
   },
   {
    "duration": 762,
    "start_time": "2024-12-17T06:17:40.792Z"
   },
   {
    "duration": 8,
    "start_time": "2024-12-17T06:18:38.659Z"
   },
   {
    "duration": 49,
    "start_time": "2024-12-17T06:19:56.069Z"
   },
   {
    "duration": 11,
    "start_time": "2024-12-17T06:21:29.892Z"
   },
   {
    "duration": 17,
    "start_time": "2024-12-17T06:22:25.595Z"
   },
   {
    "duration": 15,
    "start_time": "2024-12-17T06:29:37.511Z"
   },
   {
    "duration": 1330,
    "start_time": "2024-12-17T06:33:17.893Z"
   },
   {
    "duration": 1388,
    "start_time": "2024-12-17T06:33:39.089Z"
   },
   {
    "duration": 9,
    "start_time": "2024-12-17T06:33:51.705Z"
   },
   {
    "duration": 7,
    "start_time": "2024-12-17T06:34:01.322Z"
   },
   {
    "duration": 16,
    "start_time": "2024-12-17T06:34:12.112Z"
   },
   {
    "duration": 4,
    "start_time": "2024-12-17T06:39:30.563Z"
   },
   {
    "duration": 16,
    "start_time": "2024-12-17T06:39:51.386Z"
   },
   {
    "duration": 11,
    "start_time": "2024-12-17T06:40:28.356Z"
   },
   {
    "duration": 7,
    "start_time": "2024-12-17T06:47:19.759Z"
   },
   {
    "duration": 11,
    "start_time": "2024-12-17T06:47:54.174Z"
   },
   {
    "duration": 395,
    "start_time": "2024-12-17T06:49:16.497Z"
   },
   {
    "duration": 19,
    "start_time": "2024-12-17T06:49:27.237Z"
   },
   {
    "duration": 24,
    "start_time": "2024-12-17T06:49:46.049Z"
   },
   {
    "duration": 30,
    "start_time": "2024-12-17T06:51:21.559Z"
   },
   {
    "duration": 6,
    "start_time": "2024-12-17T06:57:36.439Z"
   },
   {
    "duration": 11,
    "start_time": "2024-12-17T06:57:51.862Z"
   },
   {
    "duration": 28,
    "start_time": "2024-12-17T06:58:50.599Z"
   },
   {
    "duration": 8,
    "start_time": "2024-12-17T06:59:53.824Z"
   },
   {
    "duration": 25,
    "start_time": "2024-12-17T07:00:20.887Z"
   },
   {
    "duration": 5,
    "start_time": "2024-12-17T07:05:16.651Z"
   },
   {
    "duration": 35,
    "start_time": "2024-12-17T07:10:48.707Z"
   },
   {
    "duration": 18,
    "start_time": "2024-12-17T07:11:28.587Z"
   },
   {
    "duration": 6,
    "start_time": "2024-12-17T07:14:06.355Z"
   },
   {
    "duration": 5,
    "start_time": "2024-12-17T07:14:25.045Z"
   },
   {
    "duration": 8,
    "start_time": "2024-12-17T07:15:09.155Z"
   },
   {
    "duration": 5,
    "start_time": "2024-12-17T07:15:16.504Z"
   },
   {
    "duration": 5,
    "start_time": "2024-12-17T07:16:10.754Z"
   },
   {
    "duration": 5,
    "start_time": "2024-12-17T07:16:12.898Z"
   },
   {
    "duration": 6,
    "start_time": "2024-12-17T07:16:50.887Z"
   },
   {
    "duration": 7,
    "start_time": "2024-12-17T07:17:27.149Z"
   },
   {
    "duration": 10,
    "start_time": "2024-12-17T07:17:59.256Z"
   },
   {
    "duration": 6,
    "start_time": "2024-12-17T07:18:31.697Z"
   },
   {
    "duration": 421,
    "start_time": "2024-12-18T14:57:30.425Z"
   },
   {
    "duration": 406,
    "start_time": "2024-12-18T14:57:30.848Z"
   },
   {
    "duration": 15,
    "start_time": "2024-12-18T14:57:31.256Z"
   },
   {
    "duration": 27,
    "start_time": "2024-12-18T14:57:31.272Z"
   },
   {
    "duration": 16,
    "start_time": "2024-12-18T14:57:31.301Z"
   },
   {
    "duration": 36,
    "start_time": "2024-12-18T14:57:31.319Z"
   },
   {
    "duration": 12,
    "start_time": "2024-12-18T14:57:31.357Z"
   },
   {
    "duration": 60,
    "start_time": "2024-12-18T14:57:31.371Z"
   },
   {
    "duration": 331,
    "start_time": "2024-12-18T14:57:31.433Z"
   },
   {
    "duration": 0,
    "start_time": "2024-12-18T14:57:31.766Z"
   },
   {
    "duration": 0,
    "start_time": "2024-12-18T14:57:31.767Z"
   },
   {
    "duration": 0,
    "start_time": "2024-12-18T14:57:31.768Z"
   },
   {
    "duration": 0,
    "start_time": "2024-12-18T14:57:31.770Z"
   },
   {
    "duration": 0,
    "start_time": "2024-12-18T14:57:31.770Z"
   },
   {
    "duration": 0,
    "start_time": "2024-12-18T14:57:31.771Z"
   },
   {
    "duration": 0,
    "start_time": "2024-12-18T14:57:31.772Z"
   },
   {
    "duration": 0,
    "start_time": "2024-12-18T14:57:31.773Z"
   },
   {
    "duration": 0,
    "start_time": "2024-12-18T14:57:31.773Z"
   },
   {
    "duration": 0,
    "start_time": "2024-12-18T14:57:31.774Z"
   },
   {
    "duration": 0,
    "start_time": "2024-12-18T14:57:31.775Z"
   },
   {
    "duration": 0,
    "start_time": "2024-12-18T14:57:31.776Z"
   },
   {
    "duration": 0,
    "start_time": "2024-12-18T14:57:31.777Z"
   },
   {
    "duration": 0,
    "start_time": "2024-12-18T14:57:31.778Z"
   },
   {
    "duration": 0,
    "start_time": "2024-12-18T14:57:31.779Z"
   },
   {
    "duration": 0,
    "start_time": "2024-12-18T14:57:31.781Z"
   },
   {
    "duration": 0,
    "start_time": "2024-12-18T14:57:31.782Z"
   },
   {
    "duration": 0,
    "start_time": "2024-12-18T14:57:31.784Z"
   },
   {
    "duration": 0,
    "start_time": "2024-12-18T14:57:31.786Z"
   },
   {
    "duration": 0,
    "start_time": "2024-12-18T14:57:31.787Z"
   },
   {
    "duration": 432,
    "start_time": "2024-12-18T14:57:43.706Z"
   },
   {
    "duration": 122,
    "start_time": "2024-12-18T14:57:44.140Z"
   },
   {
    "duration": 14,
    "start_time": "2024-12-18T14:57:44.263Z"
   },
   {
    "duration": 17,
    "start_time": "2024-12-18T14:57:44.278Z"
   },
   {
    "duration": 9,
    "start_time": "2024-12-18T14:57:44.297Z"
   },
   {
    "duration": 41,
    "start_time": "2024-12-18T14:57:44.307Z"
   },
   {
    "duration": 12,
    "start_time": "2024-12-18T14:57:44.350Z"
   },
   {
    "duration": 57,
    "start_time": "2024-12-18T14:57:44.363Z"
   },
   {
    "duration": 384,
    "start_time": "2024-12-18T14:57:44.422Z"
   },
   {
    "duration": 0,
    "start_time": "2024-12-18T14:57:44.809Z"
   },
   {
    "duration": 0,
    "start_time": "2024-12-18T14:57:44.810Z"
   },
   {
    "duration": 0,
    "start_time": "2024-12-18T14:57:44.811Z"
   },
   {
    "duration": 0,
    "start_time": "2024-12-18T14:57:44.812Z"
   },
   {
    "duration": 0,
    "start_time": "2024-12-18T14:57:44.814Z"
   },
   {
    "duration": 0,
    "start_time": "2024-12-18T14:57:44.815Z"
   },
   {
    "duration": 0,
    "start_time": "2024-12-18T14:57:44.816Z"
   },
   {
    "duration": 0,
    "start_time": "2024-12-18T14:57:44.817Z"
   },
   {
    "duration": 0,
    "start_time": "2024-12-18T14:57:44.818Z"
   },
   {
    "duration": 0,
    "start_time": "2024-12-18T14:57:44.819Z"
   },
   {
    "duration": 0,
    "start_time": "2024-12-18T14:57:44.820Z"
   },
   {
    "duration": 0,
    "start_time": "2024-12-18T14:57:44.821Z"
   },
   {
    "duration": 0,
    "start_time": "2024-12-18T14:57:44.822Z"
   },
   {
    "duration": 0,
    "start_time": "2024-12-18T14:57:44.823Z"
   },
   {
    "duration": 0,
    "start_time": "2024-12-18T14:57:44.824Z"
   },
   {
    "duration": 0,
    "start_time": "2024-12-18T14:57:44.825Z"
   },
   {
    "duration": 0,
    "start_time": "2024-12-18T14:57:44.826Z"
   },
   {
    "duration": 0,
    "start_time": "2024-12-18T14:57:44.826Z"
   },
   {
    "duration": 0,
    "start_time": "2024-12-18T14:57:44.827Z"
   },
   {
    "duration": 0,
    "start_time": "2024-12-18T14:57:44.828Z"
   },
   {
    "duration": 475,
    "start_time": "2024-12-18T14:58:21.602Z"
   },
   {
    "duration": 121,
    "start_time": "2024-12-18T14:58:22.079Z"
   },
   {
    "duration": 13,
    "start_time": "2024-12-18T14:58:22.204Z"
   },
   {
    "duration": 9,
    "start_time": "2024-12-18T14:58:22.219Z"
   },
   {
    "duration": 5,
    "start_time": "2024-12-18T14:58:22.230Z"
   },
   {
    "duration": 35,
    "start_time": "2024-12-18T14:58:22.236Z"
   },
   {
    "duration": 40,
    "start_time": "2024-12-18T14:58:22.286Z"
   },
   {
    "duration": 21,
    "start_time": "2024-12-18T14:58:22.327Z"
   },
   {
    "duration": 3,
    "start_time": "2024-12-18T14:58:22.349Z"
   },
   {
    "duration": 33,
    "start_time": "2024-12-18T14:58:22.353Z"
   },
   {
    "duration": 33,
    "start_time": "2024-12-18T14:58:22.388Z"
   },
   {
    "duration": 72,
    "start_time": "2024-12-18T14:58:22.422Z"
   },
   {
    "duration": 0,
    "start_time": "2024-12-18T14:58:22.496Z"
   },
   {
    "duration": 0,
    "start_time": "2024-12-18T14:58:22.497Z"
   },
   {
    "duration": 0,
    "start_time": "2024-12-18T14:58:22.497Z"
   },
   {
    "duration": 0,
    "start_time": "2024-12-18T14:58:22.498Z"
   },
   {
    "duration": 0,
    "start_time": "2024-12-18T14:58:22.499Z"
   },
   {
    "duration": 0,
    "start_time": "2024-12-18T14:58:22.500Z"
   },
   {
    "duration": 0,
    "start_time": "2024-12-18T14:58:22.501Z"
   },
   {
    "duration": 0,
    "start_time": "2024-12-18T14:58:22.502Z"
   },
   {
    "duration": 0,
    "start_time": "2024-12-18T14:58:22.502Z"
   },
   {
    "duration": 0,
    "start_time": "2024-12-18T14:58:22.503Z"
   },
   {
    "duration": 0,
    "start_time": "2024-12-18T14:58:22.504Z"
   },
   {
    "duration": 0,
    "start_time": "2024-12-18T14:58:22.505Z"
   },
   {
    "duration": 0,
    "start_time": "2024-12-18T14:58:22.506Z"
   },
   {
    "duration": 0,
    "start_time": "2024-12-18T14:58:22.506Z"
   },
   {
    "duration": 0,
    "start_time": "2024-12-18T14:58:22.507Z"
   },
   {
    "duration": 0,
    "start_time": "2024-12-18T14:58:22.508Z"
   },
   {
    "duration": 446,
    "start_time": "2024-12-18T14:58:45.607Z"
   },
   {
    "duration": 124,
    "start_time": "2024-12-18T14:58:46.055Z"
   },
   {
    "duration": 15,
    "start_time": "2024-12-18T14:58:46.180Z"
   },
   {
    "duration": 9,
    "start_time": "2024-12-18T14:58:46.196Z"
   },
   {
    "duration": 5,
    "start_time": "2024-12-18T14:58:46.207Z"
   },
   {
    "duration": 33,
    "start_time": "2024-12-18T14:58:46.214Z"
   },
   {
    "duration": 42,
    "start_time": "2024-12-18T14:58:46.248Z"
   },
   {
    "duration": 53,
    "start_time": "2024-12-18T14:58:46.291Z"
   },
   {
    "duration": 3,
    "start_time": "2024-12-18T14:58:46.346Z"
   },
   {
    "duration": 5,
    "start_time": "2024-12-18T14:58:46.351Z"
   },
   {
    "duration": 38,
    "start_time": "2024-12-18T14:58:46.358Z"
   },
   {
    "duration": 6,
    "start_time": "2024-12-18T14:58:46.397Z"
   },
   {
    "duration": 5,
    "start_time": "2024-12-18T14:58:46.404Z"
   },
   {
    "duration": 15,
    "start_time": "2024-12-18T14:58:46.412Z"
   },
   {
    "duration": 8,
    "start_time": "2024-12-18T14:58:46.429Z"
   },
   {
    "duration": 417,
    "start_time": "2024-12-18T14:58:46.438Z"
   },
   {
    "duration": 6,
    "start_time": "2024-12-18T14:58:46.856Z"
   },
   {
    "duration": 46,
    "start_time": "2024-12-18T14:58:46.863Z"
   },
   {
    "duration": 4,
    "start_time": "2024-12-18T14:58:46.910Z"
   },
   {
    "duration": 35,
    "start_time": "2024-12-18T14:58:46.916Z"
   },
   {
    "duration": 4,
    "start_time": "2024-12-18T14:58:46.952Z"
   },
   {
    "duration": 36,
    "start_time": "2024-12-18T14:58:46.958Z"
   },
   {
    "duration": 4,
    "start_time": "2024-12-18T14:58:46.995Z"
   },
   {
    "duration": 6,
    "start_time": "2024-12-18T14:58:47.001Z"
   },
   {
    "duration": 14,
    "start_time": "2024-12-18T14:58:47.009Z"
   },
   {
    "duration": 7,
    "start_time": "2024-12-18T14:58:47.024Z"
   },
   {
    "duration": 5,
    "start_time": "2024-12-18T14:58:47.032Z"
   },
   {
    "duration": 23,
    "start_time": "2024-12-18T14:59:06.420Z"
   },
   {
    "duration": 5,
    "start_time": "2024-12-18T14:59:36.815Z"
   },
   {
    "duration": 5,
    "start_time": "2024-12-18T14:59:49.173Z"
   },
   {
    "duration": 5,
    "start_time": "2024-12-18T15:02:29.697Z"
   },
   {
    "duration": 5,
    "start_time": "2024-12-18T15:02:30.565Z"
   },
   {
    "duration": 6,
    "start_time": "2024-12-18T15:04:03.401Z"
   },
   {
    "duration": 75,
    "start_time": "2024-12-18T15:06:43.966Z"
   },
   {
    "duration": 6,
    "start_time": "2024-12-18T15:06:48.336Z"
   },
   {
    "duration": 15,
    "start_time": "2024-12-18T15:07:04.812Z"
   },
   {
    "duration": 22,
    "start_time": "2024-12-18T15:07:40.755Z"
   },
   {
    "duration": 23,
    "start_time": "2024-12-18T15:08:15.284Z"
   },
   {
    "duration": 7,
    "start_time": "2024-12-18T15:13:26.217Z"
   },
   {
    "duration": 24,
    "start_time": "2024-12-18T15:14:01.921Z"
   },
   {
    "duration": 5,
    "start_time": "2024-12-18T15:16:47.327Z"
   },
   {
    "duration": 27,
    "start_time": "2024-12-18T15:17:27.037Z"
   },
   {
    "duration": 26,
    "start_time": "2024-12-18T15:19:30.086Z"
   },
   {
    "duration": 22,
    "start_time": "2024-12-18T15:20:38.163Z"
   },
   {
    "duration": 23,
    "start_time": "2024-12-18T15:22:11.681Z"
   },
   {
    "duration": 25,
    "start_time": "2024-12-18T15:23:00.917Z"
   },
   {
    "duration": 22,
    "start_time": "2024-12-18T15:34:41.942Z"
   },
   {
    "duration": 462,
    "start_time": "2024-12-19T07:17:17.893Z"
   },
   {
    "duration": 359,
    "start_time": "2024-12-19T07:17:18.358Z"
   },
   {
    "duration": 19,
    "start_time": "2024-12-19T07:17:18.719Z"
   },
   {
    "duration": 10,
    "start_time": "2024-12-19T07:17:18.741Z"
   },
   {
    "duration": 9,
    "start_time": "2024-12-19T07:17:18.752Z"
   },
   {
    "duration": 41,
    "start_time": "2024-12-19T07:17:18.763Z"
   },
   {
    "duration": 13,
    "start_time": "2024-12-19T07:17:18.805Z"
   },
   {
    "duration": 69,
    "start_time": "2024-12-19T07:17:18.819Z"
   },
   {
    "duration": 4,
    "start_time": "2024-12-19T07:17:18.890Z"
   },
   {
    "duration": 5,
    "start_time": "2024-12-19T07:17:18.896Z"
   },
   {
    "duration": 14,
    "start_time": "2024-12-19T07:17:18.902Z"
   },
   {
    "duration": 6,
    "start_time": "2024-12-19T07:17:18.917Z"
   },
   {
    "duration": 3,
    "start_time": "2024-12-19T07:17:18.925Z"
   },
   {
    "duration": 22,
    "start_time": "2024-12-19T07:17:18.929Z"
   },
   {
    "duration": 38,
    "start_time": "2024-12-19T07:17:18.952Z"
   },
   {
    "duration": 397,
    "start_time": "2024-12-19T07:17:18.991Z"
   },
   {
    "duration": 6,
    "start_time": "2024-12-19T07:17:19.390Z"
   },
   {
    "duration": 25,
    "start_time": "2024-12-19T07:17:19.397Z"
   },
   {
    "duration": 6,
    "start_time": "2024-12-19T07:17:19.424Z"
   },
   {
    "duration": 62,
    "start_time": "2024-12-19T07:17:19.433Z"
   },
   {
    "duration": 3,
    "start_time": "2024-12-19T07:17:19.497Z"
   },
   {
    "duration": 27,
    "start_time": "2024-12-19T07:17:19.502Z"
   },
   {
    "duration": 5,
    "start_time": "2024-12-19T07:17:19.530Z"
   },
   {
    "duration": 6,
    "start_time": "2024-12-19T07:17:19.536Z"
   },
   {
    "duration": 14,
    "start_time": "2024-12-19T07:17:19.543Z"
   },
   {
    "duration": 30,
    "start_time": "2024-12-19T07:17:19.559Z"
   },
   {
    "duration": 5,
    "start_time": "2024-12-19T07:17:19.591Z"
   },
   {
    "duration": 8,
    "start_time": "2024-12-19T07:17:19.599Z"
   },
   {
    "duration": 7,
    "start_time": "2024-12-19T07:17:19.609Z"
   },
   {
    "duration": 7,
    "start_time": "2024-12-19T07:17:19.618Z"
   },
   {
    "duration": 11,
    "start_time": "2024-12-19T07:17:19.626Z"
   },
   {
    "duration": 10,
    "start_time": "2024-12-19T07:17:19.639Z"
   },
   {
    "duration": 61,
    "start_time": "2024-12-19T07:17:19.650Z"
   },
   {
    "duration": 26,
    "start_time": "2024-12-19T07:17:19.713Z"
   },
   {
    "duration": 46,
    "start_time": "2024-12-19T07:17:19.741Z"
   },
   {
    "duration": 23,
    "start_time": "2024-12-19T07:21:01.562Z"
   },
   {
    "duration": 8,
    "start_time": "2024-12-19T07:26:46.595Z"
   },
   {
    "duration": 7,
    "start_time": "2024-12-19T07:27:14.573Z"
   },
   {
    "duration": 645,
    "start_time": "2024-12-19T07:29:57.581Z"
   },
   {
    "duration": 326,
    "start_time": "2024-12-19T07:30:39.920Z"
   },
   {
    "duration": 316,
    "start_time": "2024-12-19T07:30:44.533Z"
   },
   {
    "duration": 25,
    "start_time": "2024-12-19T07:36:01.532Z"
   },
   {
    "duration": 24,
    "start_time": "2024-12-19T07:36:26.123Z"
   },
   {
    "duration": 19,
    "start_time": "2024-12-19T07:37:14.006Z"
   },
   {
    "duration": 949,
    "start_time": "2024-12-19T07:46:47.158Z"
   },
   {
    "duration": 4,
    "start_time": "2024-12-19T07:47:02.554Z"
   },
   {
    "duration": 12,
    "start_time": "2024-12-19T07:50:08.489Z"
   },
   {
    "duration": 4,
    "start_time": "2024-12-19T07:52:06.316Z"
   },
   {
    "duration": 10,
    "start_time": "2024-12-19T07:55:04.647Z"
   },
   {
    "duration": 16,
    "start_time": "2024-12-19T07:55:48.621Z"
   },
   {
    "duration": 8,
    "start_time": "2024-12-19T08:01:12.568Z"
   },
   {
    "duration": 181,
    "start_time": "2024-12-19T08:01:16.218Z"
   },
   {
    "duration": 8,
    "start_time": "2024-12-19T08:01:31.642Z"
   },
   {
    "duration": 4,
    "start_time": "2024-12-19T08:01:50.787Z"
   },
   {
    "duration": 28,
    "start_time": "2024-12-19T08:02:01.545Z"
   },
   {
    "duration": 8,
    "start_time": "2024-12-19T08:09:30.670Z"
   },
   {
    "duration": 13,
    "start_time": "2024-12-19T08:09:54.260Z"
   },
   {
    "duration": 15,
    "start_time": "2024-12-19T08:10:41.785Z"
   },
   {
    "duration": 1095,
    "start_time": "2024-12-19T08:17:06.326Z"
   },
   {
    "duration": 12,
    "start_time": "2024-12-19T08:17:29.500Z"
   },
   {
    "duration": 35,
    "start_time": "2024-12-19T08:17:33.315Z"
   },
   {
    "duration": 4,
    "start_time": "2024-12-19T08:48:39.904Z"
   },
   {
    "duration": 6,
    "start_time": "2024-12-19T08:48:49.975Z"
   },
   {
    "duration": 6,
    "start_time": "2024-12-19T08:49:00.796Z"
   },
   {
    "duration": 5,
    "start_time": "2024-12-19T08:49:03.812Z"
   },
   {
    "duration": 6,
    "start_time": "2024-12-19T08:49:31.426Z"
   },
   {
    "duration": 6,
    "start_time": "2024-12-19T08:49:46.755Z"
   },
   {
    "duration": 6,
    "start_time": "2024-12-19T08:50:24.450Z"
   },
   {
    "duration": 35,
    "start_time": "2024-12-19T08:50:37.068Z"
   },
   {
    "duration": 33,
    "start_time": "2024-12-19T08:51:18.551Z"
   },
   {
    "duration": 6,
    "start_time": "2024-12-19T15:11:35.216Z"
   },
   {
    "duration": 1223,
    "start_time": "2024-12-19T15:16:55.827Z"
   },
   {
    "duration": 487,
    "start_time": "2024-12-19T15:17:12.658Z"
   },
   {
    "duration": 123,
    "start_time": "2024-12-19T15:17:13.147Z"
   },
   {
    "duration": 15,
    "start_time": "2024-12-19T15:17:13.271Z"
   },
   {
    "duration": 10,
    "start_time": "2024-12-19T15:17:13.287Z"
   },
   {
    "duration": 11,
    "start_time": "2024-12-19T15:17:13.300Z"
   },
   {
    "duration": 37,
    "start_time": "2024-12-19T15:17:13.313Z"
   },
   {
    "duration": 40,
    "start_time": "2024-12-19T15:17:13.352Z"
   },
   {
    "duration": 52,
    "start_time": "2024-12-19T15:17:13.394Z"
   },
   {
    "duration": 4,
    "start_time": "2024-12-19T15:17:13.448Z"
   },
   {
    "duration": 322,
    "start_time": "2024-12-19T15:17:13.454Z"
   },
   {
    "duration": 0,
    "start_time": "2024-12-19T15:17:13.779Z"
   },
   {
    "duration": 0,
    "start_time": "2024-12-19T15:17:13.780Z"
   },
   {
    "duration": 0,
    "start_time": "2024-12-19T15:17:13.781Z"
   },
   {
    "duration": 0,
    "start_time": "2024-12-19T15:17:13.782Z"
   },
   {
    "duration": 0,
    "start_time": "2024-12-19T15:17:13.783Z"
   },
   {
    "duration": 0,
    "start_time": "2024-12-19T15:17:13.784Z"
   },
   {
    "duration": 0,
    "start_time": "2024-12-19T15:17:13.785Z"
   },
   {
    "duration": 0,
    "start_time": "2024-12-19T15:17:13.786Z"
   },
   {
    "duration": 0,
    "start_time": "2024-12-19T15:17:13.787Z"
   },
   {
    "duration": 0,
    "start_time": "2024-12-19T15:17:13.788Z"
   },
   {
    "duration": 0,
    "start_time": "2024-12-19T15:17:13.789Z"
   },
   {
    "duration": 0,
    "start_time": "2024-12-19T15:17:13.790Z"
   },
   {
    "duration": 0,
    "start_time": "2024-12-19T15:17:13.791Z"
   },
   {
    "duration": 0,
    "start_time": "2024-12-19T15:17:13.792Z"
   },
   {
    "duration": 0,
    "start_time": "2024-12-19T15:17:13.793Z"
   },
   {
    "duration": 0,
    "start_time": "2024-12-19T15:17:13.793Z"
   },
   {
    "duration": 0,
    "start_time": "2024-12-19T15:17:13.794Z"
   },
   {
    "duration": 0,
    "start_time": "2024-12-19T15:17:13.795Z"
   },
   {
    "duration": 0,
    "start_time": "2024-12-19T15:17:13.796Z"
   },
   {
    "duration": 0,
    "start_time": "2024-12-19T15:17:13.797Z"
   },
   {
    "duration": 0,
    "start_time": "2024-12-19T15:17:13.798Z"
   },
   {
    "duration": 0,
    "start_time": "2024-12-19T15:17:13.799Z"
   },
   {
    "duration": 0,
    "start_time": "2024-12-19T15:17:13.800Z"
   },
   {
    "duration": 1,
    "start_time": "2024-12-19T15:17:13.800Z"
   },
   {
    "duration": 0,
    "start_time": "2024-12-19T15:17:13.801Z"
   },
   {
    "duration": 0,
    "start_time": "2024-12-19T15:17:13.802Z"
   },
   {
    "duration": 0,
    "start_time": "2024-12-19T15:17:13.803Z"
   },
   {
    "duration": 0,
    "start_time": "2024-12-19T15:17:13.804Z"
   },
   {
    "duration": 0,
    "start_time": "2024-12-19T15:17:13.805Z"
   },
   {
    "duration": 0,
    "start_time": "2024-12-19T15:17:13.806Z"
   },
   {
    "duration": 0,
    "start_time": "2024-12-19T15:17:13.806Z"
   },
   {
    "duration": 0,
    "start_time": "2024-12-19T15:17:13.807Z"
   },
   {
    "duration": 252,
    "start_time": "2024-12-19T15:18:54.640Z"
   },
   {
    "duration": 3,
    "start_time": "2024-12-19T15:19:02.307Z"
   },
   {
    "duration": 285,
    "start_time": "2024-12-19T15:19:04.529Z"
   },
   {
    "duration": 4,
    "start_time": "2024-12-19T15:19:17.330Z"
   },
   {
    "duration": 5,
    "start_time": "2024-12-19T15:19:19.239Z"
   },
   {
    "duration": 460,
    "start_time": "2024-12-19T15:19:23.395Z"
   },
   {
    "duration": 123,
    "start_time": "2024-12-19T15:19:23.857Z"
   },
   {
    "duration": 15,
    "start_time": "2024-12-19T15:19:23.981Z"
   },
   {
    "duration": 10,
    "start_time": "2024-12-19T15:19:23.998Z"
   },
   {
    "duration": 8,
    "start_time": "2024-12-19T15:19:24.010Z"
   },
   {
    "duration": 38,
    "start_time": "2024-12-19T15:19:24.019Z"
   },
   {
    "duration": 38,
    "start_time": "2024-12-19T15:19:24.059Z"
   },
   {
    "duration": 51,
    "start_time": "2024-12-19T15:19:24.098Z"
   },
   {
    "duration": 3,
    "start_time": "2024-12-19T15:19:24.151Z"
   },
   {
    "duration": 326,
    "start_time": "2024-12-19T15:19:24.156Z"
   },
   {
    "duration": 0,
    "start_time": "2024-12-19T15:19:24.485Z"
   },
   {
    "duration": 0,
    "start_time": "2024-12-19T15:19:24.486Z"
   },
   {
    "duration": 0,
    "start_time": "2024-12-19T15:19:24.487Z"
   },
   {
    "duration": 0,
    "start_time": "2024-12-19T15:19:24.488Z"
   },
   {
    "duration": 0,
    "start_time": "2024-12-19T15:19:24.488Z"
   },
   {
    "duration": 0,
    "start_time": "2024-12-19T15:19:24.490Z"
   },
   {
    "duration": 0,
    "start_time": "2024-12-19T15:19:24.491Z"
   },
   {
    "duration": 0,
    "start_time": "2024-12-19T15:19:24.492Z"
   },
   {
    "duration": 0,
    "start_time": "2024-12-19T15:19:24.493Z"
   },
   {
    "duration": 0,
    "start_time": "2024-12-19T15:19:24.493Z"
   },
   {
    "duration": 0,
    "start_time": "2024-12-19T15:19:24.494Z"
   },
   {
    "duration": 0,
    "start_time": "2024-12-19T15:19:24.495Z"
   },
   {
    "duration": 0,
    "start_time": "2024-12-19T15:19:24.496Z"
   },
   {
    "duration": 0,
    "start_time": "2024-12-19T15:19:24.498Z"
   },
   {
    "duration": 0,
    "start_time": "2024-12-19T15:19:24.498Z"
   },
   {
    "duration": 0,
    "start_time": "2024-12-19T15:19:24.499Z"
   },
   {
    "duration": 0,
    "start_time": "2024-12-19T15:19:24.500Z"
   },
   {
    "duration": 0,
    "start_time": "2024-12-19T15:19:24.501Z"
   },
   {
    "duration": 0,
    "start_time": "2024-12-19T15:19:24.502Z"
   },
   {
    "duration": 0,
    "start_time": "2024-12-19T15:19:24.503Z"
   },
   {
    "duration": 0,
    "start_time": "2024-12-19T15:19:24.504Z"
   },
   {
    "duration": 0,
    "start_time": "2024-12-19T15:19:24.505Z"
   },
   {
    "duration": 0,
    "start_time": "2024-12-19T15:19:24.506Z"
   },
   {
    "duration": 0,
    "start_time": "2024-12-19T15:19:24.507Z"
   },
   {
    "duration": 0,
    "start_time": "2024-12-19T15:19:24.507Z"
   },
   {
    "duration": 0,
    "start_time": "2024-12-19T15:19:24.508Z"
   },
   {
    "duration": 0,
    "start_time": "2024-12-19T15:19:24.509Z"
   },
   {
    "duration": 0,
    "start_time": "2024-12-19T15:19:24.510Z"
   },
   {
    "duration": 0,
    "start_time": "2024-12-19T15:19:24.511Z"
   },
   {
    "duration": 0,
    "start_time": "2024-12-19T15:19:24.512Z"
   },
   {
    "duration": 0,
    "start_time": "2024-12-19T15:19:24.513Z"
   },
   {
    "duration": 0,
    "start_time": "2024-12-19T15:19:24.513Z"
   },
   {
    "duration": 508,
    "start_time": "2024-12-19T15:20:05.639Z"
   },
   {
    "duration": 123,
    "start_time": "2024-12-19T15:20:06.148Z"
   },
   {
    "duration": 14,
    "start_time": "2024-12-19T15:20:06.273Z"
   },
   {
    "duration": 20,
    "start_time": "2024-12-19T15:20:06.288Z"
   },
   {
    "duration": 45,
    "start_time": "2024-12-19T15:20:06.310Z"
   },
   {
    "duration": 68,
    "start_time": "2024-12-19T15:20:06.356Z"
   },
   {
    "duration": 13,
    "start_time": "2024-12-19T15:20:06.426Z"
   },
   {
    "duration": 67,
    "start_time": "2024-12-19T15:20:06.440Z"
   },
   {
    "duration": 411,
    "start_time": "2024-12-19T15:20:06.508Z"
   },
   {
    "duration": 0,
    "start_time": "2024-12-19T15:20:06.921Z"
   },
   {
    "duration": 0,
    "start_time": "2024-12-19T15:20:06.922Z"
   },
   {
    "duration": 0,
    "start_time": "2024-12-19T15:20:06.923Z"
   },
   {
    "duration": 0,
    "start_time": "2024-12-19T15:20:06.924Z"
   },
   {
    "duration": 0,
    "start_time": "2024-12-19T15:20:06.925Z"
   },
   {
    "duration": 0,
    "start_time": "2024-12-19T15:20:06.926Z"
   },
   {
    "duration": 0,
    "start_time": "2024-12-19T15:20:06.927Z"
   },
   {
    "duration": 0,
    "start_time": "2024-12-19T15:20:06.928Z"
   },
   {
    "duration": 0,
    "start_time": "2024-12-19T15:20:06.929Z"
   },
   {
    "duration": 0,
    "start_time": "2024-12-19T15:20:06.930Z"
   },
   {
    "duration": 1,
    "start_time": "2024-12-19T15:20:06.930Z"
   },
   {
    "duration": 0,
    "start_time": "2024-12-19T15:20:06.931Z"
   },
   {
    "duration": 0,
    "start_time": "2024-12-19T15:20:06.932Z"
   },
   {
    "duration": 0,
    "start_time": "2024-12-19T15:20:06.933Z"
   },
   {
    "duration": 0,
    "start_time": "2024-12-19T15:20:06.934Z"
   },
   {
    "duration": 0,
    "start_time": "2024-12-19T15:20:06.935Z"
   },
   {
    "duration": 0,
    "start_time": "2024-12-19T15:20:06.936Z"
   },
   {
    "duration": 0,
    "start_time": "2024-12-19T15:20:06.936Z"
   },
   {
    "duration": 0,
    "start_time": "2024-12-19T15:20:06.937Z"
   },
   {
    "duration": 0,
    "start_time": "2024-12-19T15:20:06.938Z"
   },
   {
    "duration": 0,
    "start_time": "2024-12-19T15:20:06.939Z"
   },
   {
    "duration": 0,
    "start_time": "2024-12-19T15:20:06.940Z"
   },
   {
    "duration": 0,
    "start_time": "2024-12-19T15:20:06.941Z"
   },
   {
    "duration": 0,
    "start_time": "2024-12-19T15:20:06.942Z"
   },
   {
    "duration": 0,
    "start_time": "2024-12-19T15:20:06.943Z"
   },
   {
    "duration": 0,
    "start_time": "2024-12-19T15:20:06.943Z"
   },
   {
    "duration": 0,
    "start_time": "2024-12-19T15:20:06.944Z"
   },
   {
    "duration": 0,
    "start_time": "2024-12-19T15:20:06.945Z"
   },
   {
    "duration": 0,
    "start_time": "2024-12-19T15:20:06.946Z"
   },
   {
    "duration": 0,
    "start_time": "2024-12-19T15:20:06.947Z"
   },
   {
    "duration": 0,
    "start_time": "2024-12-19T15:20:06.948Z"
   },
   {
    "duration": 0,
    "start_time": "2024-12-19T15:20:06.949Z"
   },
   {
    "duration": 4,
    "start_time": "2024-12-19T15:20:22.550Z"
   },
   {
    "duration": 5,
    "start_time": "2024-12-19T15:20:24.235Z"
   },
   {
    "duration": 454,
    "start_time": "2024-12-19T15:20:29.122Z"
   },
   {
    "duration": 124,
    "start_time": "2024-12-19T15:20:29.578Z"
   },
   {
    "duration": 15,
    "start_time": "2024-12-19T15:20:29.704Z"
   },
   {
    "duration": 9,
    "start_time": "2024-12-19T15:20:29.721Z"
   },
   {
    "duration": 5,
    "start_time": "2024-12-19T15:20:29.732Z"
   },
   {
    "duration": 48,
    "start_time": "2024-12-19T15:20:29.739Z"
   },
   {
    "duration": 43,
    "start_time": "2024-12-19T15:20:29.788Z"
   },
   {
    "duration": 21,
    "start_time": "2024-12-19T15:20:29.833Z"
   },
   {
    "duration": 4,
    "start_time": "2024-12-19T15:20:29.855Z"
   },
   {
    "duration": 26,
    "start_time": "2024-12-19T15:20:29.860Z"
   },
   {
    "duration": 13,
    "start_time": "2024-12-19T15:20:29.888Z"
   },
   {
    "duration": 27,
    "start_time": "2024-12-19T15:20:29.902Z"
   },
   {
    "duration": 3,
    "start_time": "2024-12-19T15:20:29.931Z"
   },
   {
    "duration": 13,
    "start_time": "2024-12-19T15:20:29.937Z"
   },
   {
    "duration": 7,
    "start_time": "2024-12-19T15:20:29.952Z"
   },
   {
    "duration": 212,
    "start_time": "2024-12-19T15:20:29.960Z"
   },
   {
    "duration": 13,
    "start_time": "2024-12-19T15:20:30.174Z"
   },
   {
    "duration": 36,
    "start_time": "2024-12-19T15:20:30.188Z"
   },
   {
    "duration": 22,
    "start_time": "2024-12-19T15:20:30.226Z"
   },
   {
    "duration": 68,
    "start_time": "2024-12-19T15:20:30.249Z"
   },
   {
    "duration": 23,
    "start_time": "2024-12-19T15:20:30.319Z"
   },
   {
    "duration": 58,
    "start_time": "2024-12-19T15:20:30.343Z"
   },
   {
    "duration": 28,
    "start_time": "2024-12-19T15:20:30.402Z"
   },
   {
    "duration": 85,
    "start_time": "2024-12-19T15:20:30.431Z"
   },
   {
    "duration": 50,
    "start_time": "2024-12-19T15:20:30.518Z"
   },
   {
    "duration": 30,
    "start_time": "2024-12-19T15:20:30.570Z"
   },
   {
    "duration": 16,
    "start_time": "2024-12-19T15:20:30.601Z"
   },
   {
    "duration": 46,
    "start_time": "2024-12-19T15:20:30.619Z"
   },
   {
    "duration": 29,
    "start_time": "2024-12-19T15:20:30.667Z"
   },
   {
    "duration": 14,
    "start_time": "2024-12-19T15:20:30.698Z"
   },
   {
    "duration": 9,
    "start_time": "2024-12-19T15:20:30.713Z"
   },
   {
    "duration": 28,
    "start_time": "2024-12-19T15:20:30.723Z"
   },
   {
    "duration": 35,
    "start_time": "2024-12-19T15:20:30.753Z"
   },
   {
    "duration": 336,
    "start_time": "2024-12-19T15:20:30.789Z"
   },
   {
    "duration": 21,
    "start_time": "2024-12-19T15:20:31.126Z"
   },
   {
    "duration": 46,
    "start_time": "2024-12-19T15:20:31.148Z"
   },
   {
    "duration": 23,
    "start_time": "2024-12-19T15:20:31.196Z"
   },
   {
    "duration": 26,
    "start_time": "2024-12-19T15:20:31.221Z"
   },
   {
    "duration": 17,
    "start_time": "2024-12-19T15:20:31.248Z"
   },
   {
    "duration": 105,
    "start_time": "2024-12-19T15:20:31.267Z"
   },
   {
    "duration": 43,
    "start_time": "2024-12-19T15:20:31.375Z"
   },
   {
    "duration": 5,
    "start_time": "2024-12-19T15:20:31.419Z"
   },
   {
    "duration": 1144,
    "start_time": "2024-12-19T15:21:16.739Z"
   },
   {
    "duration": 23,
    "start_time": "2024-12-19T15:21:24.114Z"
   },
   {
    "duration": 922,
    "start_time": "2024-12-19T15:26:06.198Z"
   },
   {
    "duration": 4,
    "start_time": "2024-12-19T15:27:16.278Z"
   },
   {
    "duration": 4,
    "start_time": "2024-12-19T15:35:36.086Z"
   },
   {
    "duration": 5,
    "start_time": "2024-12-19T15:35:46.542Z"
   },
   {
    "duration": 24,
    "start_time": "2024-12-19T15:36:17.855Z"
   },
   {
    "duration": 20,
    "start_time": "2024-12-19T15:36:24.457Z"
   },
   {
    "duration": 7,
    "start_time": "2024-12-19T15:36:33.145Z"
   },
   {
    "duration": 6,
    "start_time": "2024-12-19T15:38:26.614Z"
   },
   {
    "duration": 5,
    "start_time": "2024-12-19T15:41:27.069Z"
   },
   {
    "duration": 3,
    "start_time": "2024-12-19T15:44:37.323Z"
   },
   {
    "duration": 3,
    "start_time": "2024-12-19T15:45:52.468Z"
   },
   {
    "duration": 6,
    "start_time": "2024-12-19T15:46:03.530Z"
   },
   {
    "duration": 4,
    "start_time": "2024-12-19T15:46:07.437Z"
   },
   {
    "duration": 3,
    "start_time": "2024-12-19T15:46:15.372Z"
   },
   {
    "duration": 62,
    "start_time": "2024-12-19T15:46:26.599Z"
   },
   {
    "duration": 7,
    "start_time": "2024-12-19T15:46:39.062Z"
   },
   {
    "duration": 12,
    "start_time": "2024-12-19T15:48:04.155Z"
   },
   {
    "duration": 3,
    "start_time": "2024-12-19T15:49:19.004Z"
   },
   {
    "duration": 4,
    "start_time": "2024-12-19T15:50:34.829Z"
   },
   {
    "duration": 3751,
    "start_time": "2024-12-19T15:50:57.996Z"
   },
   {
    "duration": 7,
    "start_time": "2024-12-19T15:58:36.955Z"
   },
   {
    "duration": 485,
    "start_time": "2024-12-19T15:59:25.901Z"
   },
   {
    "duration": 37,
    "start_time": "2024-12-19T15:59:28.331Z"
   },
   {
    "duration": 3,
    "start_time": "2024-12-19T16:00:19.341Z"
   },
   {
    "duration": 106,
    "start_time": "2024-12-19T16:00:32.406Z"
   },
   {
    "duration": 99,
    "start_time": "2024-12-19T16:02:36.299Z"
   },
   {
    "duration": 137,
    "start_time": "2024-12-19T16:02:39.392Z"
   },
   {
    "duration": 126,
    "start_time": "2024-12-19T16:03:29.294Z"
   },
   {
    "duration": 3,
    "start_time": "2024-12-19T16:05:06.072Z"
   },
   {
    "duration": 5,
    "start_time": "2024-12-19T16:05:09.541Z"
   },
   {
    "duration": 6,
    "start_time": "2024-12-19T16:05:13.517Z"
   },
   {
    "duration": 3,
    "start_time": "2024-12-19T16:05:14.551Z"
   },
   {
    "duration": 4,
    "start_time": "2024-12-19T16:05:15.211Z"
   },
   {
    "duration": 122,
    "start_time": "2024-12-19T16:05:17.041Z"
   },
   {
    "duration": 156,
    "start_time": "2024-12-19T16:05:49.058Z"
   },
   {
    "duration": 56,
    "start_time": "2024-12-19T16:06:03.273Z"
   },
   {
    "duration": 10,
    "start_time": "2024-12-19T16:06:06.279Z"
   },
   {
    "duration": 9,
    "start_time": "2024-12-19T16:06:27.770Z"
   },
   {
    "duration": 3,
    "start_time": "2024-12-19T16:07:09.807Z"
   },
   {
    "duration": 5,
    "start_time": "2024-12-19T16:09:15.913Z"
   },
   {
    "duration": 10,
    "start_time": "2024-12-19T16:10:05.311Z"
   },
   {
    "duration": 9,
    "start_time": "2024-12-19T16:10:19.935Z"
   },
   {
    "duration": 13,
    "start_time": "2024-12-19T16:10:22.173Z"
   },
   {
    "duration": 2,
    "start_time": "2024-12-19T16:12:35.133Z"
   },
   {
    "duration": 5,
    "start_time": "2024-12-19T16:12:36.017Z"
   },
   {
    "duration": 12,
    "start_time": "2024-12-19T16:12:38.401Z"
   },
   {
    "duration": 68,
    "start_time": "2024-12-19T16:13:25.623Z"
   },
   {
    "duration": 13,
    "start_time": "2024-12-19T16:13:46.804Z"
   },
   {
    "duration": 12,
    "start_time": "2024-12-19T16:13:57.967Z"
   },
   {
    "duration": 9,
    "start_time": "2024-12-19T16:16:18.218Z"
   },
   {
    "duration": 4,
    "start_time": "2024-12-19T16:16:28.336Z"
   },
   {
    "duration": 22,
    "start_time": "2024-12-19T16:16:43.826Z"
   },
   {
    "duration": 10,
    "start_time": "2024-12-19T16:17:06.768Z"
   },
   {
    "duration": 4,
    "start_time": "2024-12-19T16:17:10.591Z"
   },
   {
    "duration": 148,
    "start_time": "2024-12-19T16:19:54.234Z"
   },
   {
    "duration": 12,
    "start_time": "2024-12-19T16:24:15.416Z"
   },
   {
    "duration": 142,
    "start_time": "2024-12-19T16:24:23.016Z"
   },
   {
    "duration": 153,
    "start_time": "2024-12-19T16:27:06.782Z"
   },
   {
    "duration": 8,
    "start_time": "2024-12-19T16:28:58.828Z"
   },
   {
    "duration": 11,
    "start_time": "2024-12-19T16:29:09.541Z"
   },
   {
    "duration": 785,
    "start_time": "2024-12-21T06:01:43.152Z"
   },
   {
    "duration": 360,
    "start_time": "2024-12-21T06:01:43.940Z"
   },
   {
    "duration": 14,
    "start_time": "2024-12-21T06:01:44.301Z"
   },
   {
    "duration": 8,
    "start_time": "2024-12-21T06:01:44.317Z"
   },
   {
    "duration": 4,
    "start_time": "2024-12-21T06:01:44.327Z"
   },
   {
    "duration": 29,
    "start_time": "2024-12-21T06:01:44.333Z"
   },
   {
    "duration": 12,
    "start_time": "2024-12-21T06:01:44.364Z"
   },
   {
    "duration": 53,
    "start_time": "2024-12-21T06:01:44.377Z"
   },
   {
    "duration": 4,
    "start_time": "2024-12-21T06:01:44.432Z"
   },
   {
    "duration": 8,
    "start_time": "2024-12-21T06:01:44.437Z"
   },
   {
    "duration": 29,
    "start_time": "2024-12-21T06:01:44.446Z"
   },
   {
    "duration": 5,
    "start_time": "2024-12-21T06:01:44.477Z"
   },
   {
    "duration": 32,
    "start_time": "2024-12-21T06:01:44.484Z"
   },
   {
    "duration": 12,
    "start_time": "2024-12-21T06:01:44.519Z"
   },
   {
    "duration": 7,
    "start_time": "2024-12-21T06:01:44.533Z"
   },
   {
    "duration": 86,
    "start_time": "2024-12-21T06:01:44.542Z"
   },
   {
    "duration": 6,
    "start_time": "2024-12-21T06:01:44.629Z"
   },
   {
    "duration": 23,
    "start_time": "2024-12-21T06:01:44.636Z"
   },
   {
    "duration": 4,
    "start_time": "2024-12-21T06:01:44.661Z"
   },
   {
    "duration": 49,
    "start_time": "2024-12-21T06:01:44.666Z"
   },
   {
    "duration": 4,
    "start_time": "2024-12-21T06:01:44.716Z"
   },
   {
    "duration": 30,
    "start_time": "2024-12-21T06:01:44.721Z"
   },
   {
    "duration": 4,
    "start_time": "2024-12-21T06:01:44.753Z"
   },
   {
    "duration": 22,
    "start_time": "2024-12-21T06:01:44.758Z"
   },
   {
    "duration": 5,
    "start_time": "2024-12-21T06:01:44.781Z"
   },
   {
    "duration": 5,
    "start_time": "2024-12-21T06:01:44.787Z"
   },
   {
    "duration": 17,
    "start_time": "2024-12-21T06:01:44.794Z"
   },
   {
    "duration": 14,
    "start_time": "2024-12-21T06:01:44.813Z"
   },
   {
    "duration": 15,
    "start_time": "2024-12-21T06:01:44.829Z"
   },
   {
    "duration": 7,
    "start_time": "2024-12-21T06:01:44.845Z"
   },
   {
    "duration": 9,
    "start_time": "2024-12-21T06:01:44.853Z"
   },
   {
    "duration": 5,
    "start_time": "2024-12-21T06:01:44.864Z"
   },
   {
    "duration": 6,
    "start_time": "2024-12-21T06:01:44.871Z"
   },
   {
    "duration": 348,
    "start_time": "2024-12-21T06:01:44.878Z"
   },
   {
    "duration": 18,
    "start_time": "2024-12-21T06:01:45.228Z"
   },
   {
    "duration": 43,
    "start_time": "2024-12-21T06:01:45.248Z"
   },
   {
    "duration": 32,
    "start_time": "2024-12-21T06:01:45.292Z"
   },
   {
    "duration": 44,
    "start_time": "2024-12-21T06:01:45.326Z"
   },
   {
    "duration": 62,
    "start_time": "2024-12-21T06:01:45.372Z"
   },
   {
    "duration": 37,
    "start_time": "2024-12-21T06:01:45.436Z"
   },
   {
    "duration": 54,
    "start_time": "2024-12-21T06:01:45.476Z"
   },
   {
    "duration": 4,
    "start_time": "2024-12-21T06:01:45.532Z"
   },
   {
    "duration": 8,
    "start_time": "2024-12-21T06:01:45.538Z"
   },
   {
    "duration": 6,
    "start_time": "2024-12-21T06:01:45.548Z"
   },
   {
    "duration": 3,
    "start_time": "2024-12-21T06:01:45.555Z"
   },
   {
    "duration": 13,
    "start_time": "2024-12-21T06:01:45.559Z"
   },
   {
    "duration": 494,
    "start_time": "2024-12-21T06:01:45.574Z"
   },
   {
    "duration": 5,
    "start_time": "2024-12-21T06:01:46.070Z"
   },
   {
    "duration": 176,
    "start_time": "2024-12-21T06:01:46.076Z"
   },
   {
    "duration": 1053,
    "start_time": "2024-12-21T06:03:15.540Z"
   },
   {
    "duration": 6,
    "start_time": "2024-12-21T06:04:23.708Z"
   },
   {
    "duration": 37,
    "start_time": "2024-12-21T06:06:18.708Z"
   },
   {
    "duration": 6,
    "start_time": "2024-12-21T06:06:32.704Z"
   },
   {
    "duration": 4,
    "start_time": "2024-12-21T06:13:36.833Z"
   },
   {
    "duration": 9,
    "start_time": "2024-12-21T06:14:00.295Z"
   },
   {
    "duration": 10,
    "start_time": "2024-12-21T06:14:15.325Z"
   },
   {
    "duration": 5,
    "start_time": "2024-12-21T06:14:57.446Z"
   },
   {
    "duration": 5,
    "start_time": "2024-12-21T06:15:16.273Z"
   },
   {
    "duration": 4,
    "start_time": "2024-12-21T06:15:22.513Z"
   },
   {
    "duration": 6,
    "start_time": "2024-12-21T06:16:26.162Z"
   },
   {
    "duration": 9,
    "start_time": "2024-12-21T06:17:09.279Z"
   },
   {
    "duration": 54,
    "start_time": "2024-12-21T06:18:00.816Z"
   },
   {
    "duration": 10,
    "start_time": "2024-12-21T06:18:04.880Z"
   },
   {
    "duration": 6,
    "start_time": "2024-12-21T06:18:25.007Z"
   },
   {
    "duration": 6,
    "start_time": "2024-12-21T06:19:02.189Z"
   },
   {
    "duration": 6,
    "start_time": "2024-12-21T06:19:03.334Z"
   },
   {
    "duration": 119,
    "start_time": "2024-12-21T06:21:42.950Z"
   },
   {
    "duration": 124,
    "start_time": "2024-12-21T06:22:22.840Z"
   },
   {
    "duration": 56,
    "start_time": "2024-12-21T06:30:01.319Z"
   },
   {
    "duration": 11,
    "start_time": "2024-12-21T06:30:17.153Z"
   },
   {
    "duration": 61,
    "start_time": "2024-12-21T06:30:24.452Z"
   },
   {
    "duration": 14,
    "start_time": "2024-12-21T06:34:28.880Z"
   },
   {
    "duration": 58,
    "start_time": "2024-12-21T06:34:50.177Z"
   },
   {
    "duration": 60,
    "start_time": "2024-12-21T06:35:29.894Z"
   },
   {
    "duration": 54,
    "start_time": "2024-12-21T06:35:36.429Z"
   },
   {
    "duration": 54,
    "start_time": "2024-12-21T06:35:44.038Z"
   },
   {
    "duration": 75,
    "start_time": "2024-12-21T06:38:16.444Z"
   },
   {
    "duration": 10,
    "start_time": "2024-12-21T06:48:25.278Z"
   },
   {
    "duration": 15,
    "start_time": "2024-12-21T06:48:33.451Z"
   },
   {
    "duration": 17,
    "start_time": "2024-12-21T06:48:50.929Z"
   },
   {
    "duration": 8,
    "start_time": "2024-12-21T07:02:46.310Z"
   },
   {
    "duration": 13,
    "start_time": "2024-12-21T07:02:58.188Z"
   },
   {
    "duration": 26,
    "start_time": "2024-12-21T07:04:10.962Z"
   },
   {
    "duration": 24,
    "start_time": "2024-12-21T07:09:39.053Z"
   },
   {
    "duration": 1037,
    "start_time": "2024-12-21T07:10:20.876Z"
   },
   {
    "duration": 1036,
    "start_time": "2024-12-21T07:10:36.450Z"
   },
   {
    "duration": 1167,
    "start_time": "2024-12-21T07:10:55.887Z"
   },
   {
    "duration": 943,
    "start_time": "2024-12-21T07:11:29.285Z"
   },
   {
    "duration": 1162,
    "start_time": "2024-12-21T07:11:41.003Z"
   },
   {
    "duration": 1179,
    "start_time": "2024-12-21T07:12:15.048Z"
   },
   {
    "duration": 356,
    "start_time": "2024-12-21T07:13:19.323Z"
   },
   {
    "duration": 588,
    "start_time": "2024-12-21T07:13:37.852Z"
   },
   {
    "duration": 577,
    "start_time": "2024-12-21T07:14:26.556Z"
   },
   {
    "duration": 557,
    "start_time": "2024-12-21T07:14:53.333Z"
   },
   {
    "duration": 24,
    "start_time": "2024-12-21T07:18:11.470Z"
   },
   {
    "duration": 77,
    "start_time": "2024-12-21T07:18:47.999Z"
   },
   {
    "duration": 725,
    "start_time": "2024-12-21T07:19:03.416Z"
   },
   {
    "duration": 22,
    "start_time": "2024-12-21T07:20:32.356Z"
   },
   {
    "duration": 1153,
    "start_time": "2024-12-21T07:20:51.301Z"
   },
   {
    "duration": 892,
    "start_time": "2024-12-21T07:21:12.350Z"
   },
   {
    "duration": 1165,
    "start_time": "2024-12-21T07:21:24.448Z"
   },
   {
    "duration": 622,
    "start_time": "2024-12-21T07:23:10.352Z"
   },
   {
    "duration": 592,
    "start_time": "2024-12-21T07:23:33.516Z"
   },
   {
    "duration": 376,
    "start_time": "2024-12-21T07:26:37.057Z"
   },
   {
    "duration": 352,
    "start_time": "2024-12-21T07:26:46.941Z"
   },
   {
    "duration": 812,
    "start_time": "2024-12-22T07:17:53.517Z"
   },
   {
    "duration": 338,
    "start_time": "2024-12-22T07:17:54.331Z"
   },
   {
    "duration": 15,
    "start_time": "2024-12-22T07:17:54.670Z"
   },
   {
    "duration": 8,
    "start_time": "2024-12-22T07:17:54.687Z"
   },
   {
    "duration": 5,
    "start_time": "2024-12-22T07:17:54.697Z"
   },
   {
    "duration": 31,
    "start_time": "2024-12-22T07:17:54.704Z"
   },
   {
    "duration": 18,
    "start_time": "2024-12-22T07:17:54.737Z"
   },
   {
    "duration": 22,
    "start_time": "2024-12-22T07:17:54.757Z"
   },
   {
    "duration": 4,
    "start_time": "2024-12-22T07:17:54.780Z"
   },
   {
    "duration": 7,
    "start_time": "2024-12-22T07:17:54.787Z"
   },
   {
    "duration": 14,
    "start_time": "2024-12-22T07:17:54.795Z"
   },
   {
    "duration": 7,
    "start_time": "2024-12-22T07:17:54.846Z"
   },
   {
    "duration": 3,
    "start_time": "2024-12-22T07:17:54.855Z"
   },
   {
    "duration": 15,
    "start_time": "2024-12-22T07:17:54.859Z"
   },
   {
    "duration": 9,
    "start_time": "2024-12-22T07:17:54.876Z"
   },
   {
    "duration": 93,
    "start_time": "2024-12-22T07:17:54.887Z"
   },
   {
    "duration": 8,
    "start_time": "2024-12-22T07:17:54.981Z"
   },
   {
    "duration": 24,
    "start_time": "2024-12-22T07:17:54.990Z"
   },
   {
    "duration": 3,
    "start_time": "2024-12-22T07:17:55.015Z"
   },
   {
    "duration": 46,
    "start_time": "2024-12-22T07:17:55.020Z"
   },
   {
    "duration": 3,
    "start_time": "2024-12-22T07:17:55.068Z"
   },
   {
    "duration": 27,
    "start_time": "2024-12-22T07:17:55.072Z"
   },
   {
    "duration": 5,
    "start_time": "2024-12-22T07:17:55.100Z"
   },
   {
    "duration": 7,
    "start_time": "2024-12-22T07:17:55.106Z"
   },
   {
    "duration": 33,
    "start_time": "2024-12-22T07:17:55.114Z"
   },
   {
    "duration": 6,
    "start_time": "2024-12-22T07:17:55.148Z"
   },
   {
    "duration": 7,
    "start_time": "2024-12-22T07:17:55.155Z"
   },
   {
    "duration": 5,
    "start_time": "2024-12-22T07:17:55.166Z"
   },
   {
    "duration": 6,
    "start_time": "2024-12-22T07:17:55.172Z"
   },
   {
    "duration": 6,
    "start_time": "2024-12-22T07:17:55.179Z"
   },
   {
    "duration": 5,
    "start_time": "2024-12-22T07:17:55.187Z"
   },
   {
    "duration": 5,
    "start_time": "2024-12-22T07:17:55.193Z"
   },
   {
    "duration": 48,
    "start_time": "2024-12-22T07:17:55.200Z"
   },
   {
    "duration": 345,
    "start_time": "2024-12-22T07:17:55.250Z"
   },
   {
    "duration": 20,
    "start_time": "2024-12-22T07:17:55.596Z"
   },
   {
    "duration": 6,
    "start_time": "2024-12-22T07:17:55.617Z"
   },
   {
    "duration": 35,
    "start_time": "2024-12-22T07:17:55.625Z"
   },
   {
    "duration": 26,
    "start_time": "2024-12-22T07:17:55.662Z"
   },
   {
    "duration": 94,
    "start_time": "2024-12-22T07:17:55.690Z"
   },
   {
    "duration": 36,
    "start_time": "2024-12-22T07:17:55.786Z"
   },
   {
    "duration": 58,
    "start_time": "2024-12-22T07:17:55.824Z"
   },
   {
    "duration": 3,
    "start_time": "2024-12-22T07:17:55.884Z"
   },
   {
    "duration": 5,
    "start_time": "2024-12-22T07:17:55.888Z"
   },
   {
    "duration": 8,
    "start_time": "2024-12-22T07:17:55.894Z"
   },
   {
    "duration": 3,
    "start_time": "2024-12-22T07:17:55.903Z"
   },
   {
    "duration": 40,
    "start_time": "2024-12-22T07:17:55.907Z"
   },
   {
    "duration": 7,
    "start_time": "2024-12-22T07:17:55.948Z"
   },
   {
    "duration": 6,
    "start_time": "2024-12-22T07:17:55.957Z"
   },
   {
    "duration": 92,
    "start_time": "2024-12-22T07:17:55.965Z"
   },
   {
    "duration": 0,
    "start_time": "2024-12-22T07:17:56.059Z"
   },
   {
    "duration": 0,
    "start_time": "2024-12-22T07:17:56.061Z"
   },
   {
    "duration": 0,
    "start_time": "2024-12-22T07:17:56.062Z"
   },
   {
    "duration": 1,
    "start_time": "2024-12-22T07:17:56.063Z"
   },
   {
    "duration": 0,
    "start_time": "2024-12-22T07:17:56.065Z"
   },
   {
    "duration": 602,
    "start_time": "2024-12-22T07:20:49.958Z"
   },
   {
    "duration": 116,
    "start_time": "2024-12-22T07:20:50.562Z"
   },
   {
    "duration": 14,
    "start_time": "2024-12-22T07:20:50.680Z"
   },
   {
    "duration": 8,
    "start_time": "2024-12-22T07:20:50.696Z"
   },
   {
    "duration": 11,
    "start_time": "2024-12-22T07:20:50.707Z"
   },
   {
    "duration": 29,
    "start_time": "2024-12-22T07:20:50.719Z"
   },
   {
    "duration": 12,
    "start_time": "2024-12-22T07:20:50.750Z"
   },
   {
    "duration": 20,
    "start_time": "2024-12-22T07:20:50.763Z"
   },
   {
    "duration": 3,
    "start_time": "2024-12-22T07:20:50.784Z"
   },
   {
    "duration": 6,
    "start_time": "2024-12-22T07:20:50.789Z"
   },
   {
    "duration": 15,
    "start_time": "2024-12-22T07:20:50.796Z"
   },
   {
    "duration": 6,
    "start_time": "2024-12-22T07:20:50.845Z"
   },
   {
    "duration": 4,
    "start_time": "2024-12-22T07:20:50.852Z"
   },
   {
    "duration": 12,
    "start_time": "2024-12-22T07:20:50.859Z"
   },
   {
    "duration": 13,
    "start_time": "2024-12-22T07:20:50.873Z"
   },
   {
    "duration": 74,
    "start_time": "2024-12-22T07:20:50.887Z"
   },
   {
    "duration": 6,
    "start_time": "2024-12-22T07:20:50.963Z"
   },
   {
    "duration": 25,
    "start_time": "2024-12-22T07:20:50.970Z"
   },
   {
    "duration": 4,
    "start_time": "2024-12-22T07:20:50.996Z"
   },
   {
    "duration": 50,
    "start_time": "2024-12-22T07:20:51.001Z"
   },
   {
    "duration": 4,
    "start_time": "2024-12-22T07:20:51.052Z"
   },
   {
    "duration": 38,
    "start_time": "2024-12-22T07:20:51.058Z"
   },
   {
    "duration": 4,
    "start_time": "2024-12-22T07:20:51.098Z"
   },
   {
    "duration": 5,
    "start_time": "2024-12-22T07:20:51.104Z"
   },
   {
    "duration": 5,
    "start_time": "2024-12-22T07:20:51.110Z"
   },
   {
    "duration": 30,
    "start_time": "2024-12-22T07:20:51.117Z"
   },
   {
    "duration": 11,
    "start_time": "2024-12-22T07:20:51.149Z"
   },
   {
    "duration": 13,
    "start_time": "2024-12-22T07:20:51.162Z"
   },
   {
    "duration": 14,
    "start_time": "2024-12-22T07:20:51.177Z"
   },
   {
    "duration": 8,
    "start_time": "2024-12-22T07:20:51.193Z"
   },
   {
    "duration": 13,
    "start_time": "2024-12-22T07:20:51.202Z"
   },
   {
    "duration": 15,
    "start_time": "2024-12-22T07:20:51.217Z"
   },
   {
    "duration": 9,
    "start_time": "2024-12-22T07:20:51.234Z"
   },
   {
    "duration": 325,
    "start_time": "2024-12-22T07:20:51.244Z"
   },
   {
    "duration": 20,
    "start_time": "2024-12-22T07:20:51.570Z"
   },
   {
    "duration": 39,
    "start_time": "2024-12-22T07:20:51.592Z"
   },
   {
    "duration": 20,
    "start_time": "2024-12-22T07:20:51.632Z"
   },
   {
    "duration": 30,
    "start_time": "2024-12-22T07:20:51.654Z"
   },
   {
    "duration": 77,
    "start_time": "2024-12-22T07:20:51.685Z"
   },
   {
    "duration": 43,
    "start_time": "2024-12-22T07:20:51.763Z"
   },
   {
    "duration": 52,
    "start_time": "2024-12-22T07:20:51.811Z"
   },
   {
    "duration": 4,
    "start_time": "2024-12-22T07:20:51.864Z"
   },
   {
    "duration": 11,
    "start_time": "2024-12-22T07:20:51.870Z"
   },
   {
    "duration": 8,
    "start_time": "2024-12-22T07:20:51.882Z"
   },
   {
    "duration": 11,
    "start_time": "2024-12-22T07:20:51.891Z"
   },
   {
    "duration": 10,
    "start_time": "2024-12-22T07:20:51.903Z"
   },
   {
    "duration": 5,
    "start_time": "2024-12-22T07:20:51.914Z"
   },
   {
    "duration": 28,
    "start_time": "2024-12-22T07:20:51.921Z"
   },
   {
    "duration": 466,
    "start_time": "2024-12-22T07:20:51.950Z"
   },
   {
    "duration": 136,
    "start_time": "2024-12-22T07:20:52.417Z"
   },
   {
    "duration": 5,
    "start_time": "2024-12-22T07:20:52.555Z"
   },
   {
    "duration": 172,
    "start_time": "2024-12-22T07:20:52.561Z"
   },
   {
    "duration": 23,
    "start_time": "2024-12-22T07:20:52.734Z"
   },
   {
    "duration": 450,
    "start_time": "2024-12-22T07:20:52.759Z"
   },
   {
    "duration": 103,
    "start_time": "2024-12-22T07:21:26.059Z"
   },
   {
    "duration": 8,
    "start_time": "2024-12-22T07:21:29.200Z"
   },
   {
    "duration": 35,
    "start_time": "2024-12-22T07:21:35.249Z"
   },
   {
    "duration": 4,
    "start_time": "2024-12-22T07:22:40.707Z"
   },
   {
    "duration": 35,
    "start_time": "2024-12-22T07:22:48.038Z"
   },
   {
    "duration": 15,
    "start_time": "2024-12-22T07:28:56.632Z"
   },
   {
    "duration": 11,
    "start_time": "2024-12-22T07:29:11.449Z"
   },
   {
    "duration": 129,
    "start_time": "2024-12-22T07:29:17.501Z"
   },
   {
    "duration": 125,
    "start_time": "2024-12-22T07:29:37.752Z"
   },
   {
    "duration": 127,
    "start_time": "2024-12-22T07:32:07.304Z"
   },
   {
    "duration": 210,
    "start_time": "2024-12-22T07:37:26.459Z"
   },
   {
    "duration": 5,
    "start_time": "2024-12-22T07:46:25.226Z"
   },
   {
    "duration": 4,
    "start_time": "2024-12-22T07:46:54.746Z"
   },
   {
    "duration": 12,
    "start_time": "2024-12-22T07:47:09.966Z"
   },
   {
    "duration": 10,
    "start_time": "2024-12-22T07:47:15.545Z"
   },
   {
    "duration": 10,
    "start_time": "2024-12-22T07:47:18.976Z"
   },
   {
    "duration": 12,
    "start_time": "2024-12-22T07:47:29.453Z"
   },
   {
    "duration": 7,
    "start_time": "2024-12-22T07:48:03.508Z"
   },
   {
    "duration": 218,
    "start_time": "2024-12-22T07:49:29.604Z"
   },
   {
    "duration": 216,
    "start_time": "2024-12-22T07:49:34.610Z"
   },
   {
    "duration": 286,
    "start_time": "2024-12-22T07:49:44.713Z"
   },
   {
    "duration": 130,
    "start_time": "2024-12-22T07:50:24.648Z"
   },
   {
    "duration": 5,
    "start_time": "2024-12-22T07:53:08.594Z"
   },
   {
    "duration": 127,
    "start_time": "2024-12-22T07:53:33.259Z"
   },
   {
    "duration": 213,
    "start_time": "2024-12-22T07:53:40.095Z"
   },
   {
    "duration": 16,
    "start_time": "2024-12-22T07:59:28.201Z"
   },
   {
    "duration": 33,
    "start_time": "2024-12-22T08:00:12.731Z"
   },
   {
    "duration": 18,
    "start_time": "2024-12-22T08:01:49.005Z"
   },
   {
    "duration": 242,
    "start_time": "2024-12-22T08:02:42.447Z"
   },
   {
    "duration": 11,
    "start_time": "2024-12-22T08:11:02.151Z"
   },
   {
    "duration": 16,
    "start_time": "2024-12-22T08:11:08.471Z"
   },
   {
    "duration": 220,
    "start_time": "2024-12-22T08:11:20.586Z"
   },
   {
    "duration": 229,
    "start_time": "2024-12-22T08:11:41.849Z"
   },
   {
    "duration": 222,
    "start_time": "2024-12-22T08:12:07.445Z"
   },
   {
    "duration": 312,
    "start_time": "2024-12-22T08:13:10.537Z"
   },
   {
    "duration": 225,
    "start_time": "2024-12-22T08:13:43.184Z"
   },
   {
    "duration": 237,
    "start_time": "2024-12-22T08:14:46.043Z"
   },
   {
    "duration": 6,
    "start_time": "2024-12-22T08:18:14.283Z"
   },
   {
    "duration": 6,
    "start_time": "2024-12-22T08:18:27.394Z"
   },
   {
    "duration": 8,
    "start_time": "2024-12-22T08:19:06.863Z"
   },
   {
    "duration": 206,
    "start_time": "2024-12-22T08:23:28.152Z"
   },
   {
    "duration": 13,
    "start_time": "2024-12-22T08:23:58.146Z"
   },
   {
    "duration": 118,
    "start_time": "2024-12-22T08:24:22.390Z"
   },
   {
    "duration": 6,
    "start_time": "2024-12-22T08:24:27.489Z"
   },
   {
    "duration": 760,
    "start_time": "2024-12-23T07:16:00.692Z"
   },
   {
    "duration": 375,
    "start_time": "2024-12-23T07:16:01.454Z"
   },
   {
    "duration": 16,
    "start_time": "2024-12-23T07:16:01.830Z"
   },
   {
    "duration": 30,
    "start_time": "2024-12-23T07:16:01.848Z"
   },
   {
    "duration": 85,
    "start_time": "2024-12-23T07:16:01.879Z"
   },
   {
    "duration": 62,
    "start_time": "2024-12-23T07:16:01.965Z"
   },
   {
    "duration": 12,
    "start_time": "2024-12-23T07:16:02.029Z"
   },
   {
    "duration": 33,
    "start_time": "2024-12-23T07:16:02.042Z"
   },
   {
    "duration": 3,
    "start_time": "2024-12-23T07:16:02.077Z"
   },
   {
    "duration": 11,
    "start_time": "2024-12-23T07:16:02.082Z"
   },
   {
    "duration": 14,
    "start_time": "2024-12-23T07:16:02.094Z"
   },
   {
    "duration": 6,
    "start_time": "2024-12-23T07:16:02.109Z"
   },
   {
    "duration": 4,
    "start_time": "2024-12-23T07:16:02.116Z"
   },
   {
    "duration": 34,
    "start_time": "2024-12-23T07:16:02.122Z"
   },
   {
    "duration": 8,
    "start_time": "2024-12-23T07:16:02.158Z"
   },
   {
    "duration": 55,
    "start_time": "2024-12-23T07:16:02.167Z"
   },
   {
    "duration": 5,
    "start_time": "2024-12-23T07:16:02.224Z"
   },
   {
    "duration": 38,
    "start_time": "2024-12-23T07:16:02.230Z"
   },
   {
    "duration": 4,
    "start_time": "2024-12-23T07:16:02.269Z"
   },
   {
    "duration": 24,
    "start_time": "2024-12-23T07:16:02.274Z"
   },
   {
    "duration": 4,
    "start_time": "2024-12-23T07:16:02.300Z"
   },
   {
    "duration": 57,
    "start_time": "2024-12-23T07:16:02.306Z"
   },
   {
    "duration": 51,
    "start_time": "2024-12-23T07:16:02.365Z"
   },
   {
    "duration": 6,
    "start_time": "2024-12-23T07:16:02.418Z"
   },
   {
    "duration": 8,
    "start_time": "2024-12-23T07:16:02.426Z"
   },
   {
    "duration": 33,
    "start_time": "2024-12-23T07:16:02.435Z"
   },
   {
    "duration": 12,
    "start_time": "2024-12-23T07:16:02.470Z"
   },
   {
    "duration": 13,
    "start_time": "2024-12-23T07:16:02.485Z"
   },
   {
    "duration": 8,
    "start_time": "2024-12-23T07:16:02.499Z"
   },
   {
    "duration": 8,
    "start_time": "2024-12-23T07:16:02.509Z"
   },
   {
    "duration": 6,
    "start_time": "2024-12-23T07:16:02.519Z"
   },
   {
    "duration": 6,
    "start_time": "2024-12-23T07:16:02.526Z"
   },
   {
    "duration": 31,
    "start_time": "2024-12-23T07:16:02.533Z"
   },
   {
    "duration": 340,
    "start_time": "2024-12-23T07:16:02.566Z"
   },
   {
    "duration": 19,
    "start_time": "2024-12-23T07:16:02.908Z"
   },
   {
    "duration": 87,
    "start_time": "2024-12-23T07:16:02.929Z"
   },
   {
    "duration": 41,
    "start_time": "2024-12-23T07:16:03.018Z"
   },
   {
    "duration": 31,
    "start_time": "2024-12-23T07:16:03.061Z"
   },
   {
    "duration": 66,
    "start_time": "2024-12-23T07:16:03.094Z"
   },
   {
    "duration": 59,
    "start_time": "2024-12-23T07:16:03.162Z"
   },
   {
    "duration": 34,
    "start_time": "2024-12-23T07:16:03.222Z"
   },
   {
    "duration": 3,
    "start_time": "2024-12-23T07:16:03.258Z"
   },
   {
    "duration": 15,
    "start_time": "2024-12-23T07:16:03.262Z"
   },
   {
    "duration": 9,
    "start_time": "2024-12-23T07:16:03.279Z"
   },
   {
    "duration": 3,
    "start_time": "2024-12-23T07:16:03.289Z"
   },
   {
    "duration": 6,
    "start_time": "2024-12-23T07:16:03.293Z"
   },
   {
    "duration": 6,
    "start_time": "2024-12-23T07:16:03.301Z"
   },
   {
    "duration": 87,
    "start_time": "2024-12-23T07:16:03.309Z"
   },
   {
    "duration": 490,
    "start_time": "2024-12-23T07:16:03.398Z"
   },
   {
    "duration": 135,
    "start_time": "2024-12-23T07:16:03.890Z"
   },
   {
    "duration": 2,
    "start_time": "2024-12-23T07:16:04.026Z"
   },
   {
    "duration": 16,
    "start_time": "2024-12-23T07:16:04.030Z"
   },
   {
    "duration": 142,
    "start_time": "2024-12-23T07:16:04.047Z"
   },
   {
    "duration": 18,
    "start_time": "2024-12-23T07:16:04.190Z"
   },
   {
    "duration": 495,
    "start_time": "2024-12-23T07:16:04.209Z"
   },
   {
    "duration": 41,
    "start_time": "2024-12-23T07:16:04.706Z"
   },
   {
    "duration": 138,
    "start_time": "2024-12-23T07:16:04.748Z"
   },
   {
    "duration": 229,
    "start_time": "2024-12-23T07:16:04.888Z"
   },
   {
    "duration": 222,
    "start_time": "2024-12-23T07:16:05.118Z"
   },
   {
    "duration": 225,
    "start_time": "2024-12-23T07:16:05.345Z"
   },
   {
    "duration": 7,
    "start_time": "2024-12-23T07:16:05.571Z"
   },
   {
    "duration": 5,
    "start_time": "2024-12-23T07:19:00.883Z"
   },
   {
    "duration": 105,
    "start_time": "2024-12-23T07:19:32.478Z"
   },
   {
    "duration": 50,
    "start_time": "2024-12-23T07:19:40.169Z"
   },
   {
    "duration": 34,
    "start_time": "2024-12-23T07:20:11.578Z"
   },
   {
    "duration": 867,
    "start_time": "2024-12-23T07:20:50.590Z"
   },
   {
    "duration": 21,
    "start_time": "2024-12-23T07:22:16.175Z"
   },
   {
    "duration": 38,
    "start_time": "2024-12-23T07:22:25.834Z"
   },
   {
    "duration": 34,
    "start_time": "2024-12-23T07:22:59.012Z"
   },
   {
    "duration": 6,
    "start_time": "2024-12-23T07:28:20.337Z"
   },
   {
    "duration": 3,
    "start_time": "2024-12-23T07:28:42.781Z"
   },
   {
    "duration": 593,
    "start_time": "2024-12-23T07:35:41.653Z"
   },
   {
    "duration": 117,
    "start_time": "2024-12-23T07:35:42.247Z"
   },
   {
    "duration": 13,
    "start_time": "2024-12-23T07:35:42.366Z"
   },
   {
    "duration": 9,
    "start_time": "2024-12-23T07:35:42.381Z"
   },
   {
    "duration": 48,
    "start_time": "2024-12-23T07:35:42.391Z"
   },
   {
    "duration": 58,
    "start_time": "2024-12-23T07:35:42.441Z"
   },
   {
    "duration": 14,
    "start_time": "2024-12-23T07:35:42.500Z"
   },
   {
    "duration": 21,
    "start_time": "2024-12-23T07:35:42.515Z"
   },
   {
    "duration": 4,
    "start_time": "2024-12-23T07:35:42.537Z"
   },
   {
    "duration": 5,
    "start_time": "2024-12-23T07:35:42.545Z"
   },
   {
    "duration": 21,
    "start_time": "2024-12-23T07:35:42.551Z"
   },
   {
    "duration": 7,
    "start_time": "2024-12-23T07:35:42.574Z"
   },
   {
    "duration": 5,
    "start_time": "2024-12-23T07:35:42.582Z"
   },
   {
    "duration": 34,
    "start_time": "2024-12-23T07:35:42.588Z"
   },
   {
    "duration": 8,
    "start_time": "2024-12-23T07:35:42.623Z"
   },
   {
    "duration": 68,
    "start_time": "2024-12-23T07:35:42.633Z"
   },
   {
    "duration": 8,
    "start_time": "2024-12-23T07:35:42.703Z"
   },
   {
    "duration": 47,
    "start_time": "2024-12-23T07:35:42.712Z"
   },
   {
    "duration": 4,
    "start_time": "2024-12-23T07:35:42.760Z"
   },
   {
    "duration": 24,
    "start_time": "2024-12-23T07:35:42.766Z"
   },
   {
    "duration": 3,
    "start_time": "2024-12-23T07:35:42.792Z"
   },
   {
    "duration": 37,
    "start_time": "2024-12-23T07:35:42.796Z"
   },
   {
    "duration": 13,
    "start_time": "2024-12-23T07:35:42.834Z"
   },
   {
    "duration": 13,
    "start_time": "2024-12-23T07:35:42.849Z"
   },
   {
    "duration": 9,
    "start_time": "2024-12-23T07:35:42.864Z"
   },
   {
    "duration": 8,
    "start_time": "2024-12-23T07:35:42.874Z"
   },
   {
    "duration": 5,
    "start_time": "2024-12-23T07:35:42.883Z"
   },
   {
    "duration": 13,
    "start_time": "2024-12-23T07:35:42.891Z"
   },
   {
    "duration": 7,
    "start_time": "2024-12-23T07:35:42.906Z"
   },
   {
    "duration": 15,
    "start_time": "2024-12-23T07:35:42.914Z"
   },
   {
    "duration": 5,
    "start_time": "2024-12-23T07:35:42.930Z"
   },
   {
    "duration": 34,
    "start_time": "2024-12-23T07:35:42.936Z"
   },
   {
    "duration": 7,
    "start_time": "2024-12-23T07:35:42.971Z"
   },
   {
    "duration": 315,
    "start_time": "2024-12-23T07:35:42.980Z"
   },
   {
    "duration": 26,
    "start_time": "2024-12-23T07:35:43.296Z"
   },
   {
    "duration": 49,
    "start_time": "2024-12-23T07:35:43.324Z"
   },
   {
    "duration": 68,
    "start_time": "2024-12-23T07:35:43.375Z"
   },
   {
    "duration": 16,
    "start_time": "2024-12-23T07:35:43.445Z"
   },
   {
    "duration": 28,
    "start_time": "2024-12-23T07:35:43.463Z"
   },
   {
    "duration": 74,
    "start_time": "2024-12-23T07:35:43.493Z"
   },
   {
    "duration": 35,
    "start_time": "2024-12-23T07:35:43.568Z"
   },
   {
    "duration": 57,
    "start_time": "2024-12-23T07:35:43.604Z"
   },
   {
    "duration": 6,
    "start_time": "2024-12-23T07:35:43.663Z"
   },
   {
    "duration": 19,
    "start_time": "2024-12-23T07:35:43.670Z"
   },
   {
    "duration": 62,
    "start_time": "2024-12-23T07:35:43.690Z"
   },
   {
    "duration": 22,
    "start_time": "2024-12-23T07:35:43.753Z"
   },
   {
    "duration": 20,
    "start_time": "2024-12-23T07:35:43.777Z"
   },
   {
    "duration": 17,
    "start_time": "2024-12-23T07:35:43.798Z"
   },
   {
    "duration": 469,
    "start_time": "2024-12-23T07:35:43.816Z"
   },
   {
    "duration": 138,
    "start_time": "2024-12-23T07:35:44.287Z"
   },
   {
    "duration": 2,
    "start_time": "2024-12-23T07:35:44.426Z"
   },
   {
    "duration": 60,
    "start_time": "2024-12-23T07:35:44.429Z"
   },
   {
    "duration": 146,
    "start_time": "2024-12-23T07:35:44.490Z"
   },
   {
    "duration": 22,
    "start_time": "2024-12-23T07:35:44.638Z"
   },
   {
    "duration": 440,
    "start_time": "2024-12-23T07:35:44.662Z"
   },
   {
    "duration": 32,
    "start_time": "2024-12-23T07:35:45.103Z"
   },
   {
    "duration": 145,
    "start_time": "2024-12-23T07:35:45.146Z"
   },
   {
    "duration": 224,
    "start_time": "2024-12-23T07:35:45.292Z"
   },
   {
    "duration": 233,
    "start_time": "2024-12-23T07:35:45.517Z"
   },
   {
    "duration": 232,
    "start_time": "2024-12-23T07:35:45.751Z"
   },
   {
    "duration": 7,
    "start_time": "2024-12-23T07:35:45.985Z"
   },
   {
    "duration": 60,
    "start_time": "2024-12-23T07:37:44.443Z"
   },
   {
    "duration": 32,
    "start_time": "2024-12-23T07:37:54.067Z"
   },
   {
    "duration": 575,
    "start_time": "2024-12-23T07:37:58.400Z"
   },
   {
    "duration": 119,
    "start_time": "2024-12-23T07:37:58.977Z"
   },
   {
    "duration": 13,
    "start_time": "2024-12-23T07:37:59.098Z"
   },
   {
    "duration": 29,
    "start_time": "2024-12-23T07:37:59.113Z"
   },
   {
    "duration": 17,
    "start_time": "2024-12-23T07:37:59.143Z"
   },
   {
    "duration": 66,
    "start_time": "2024-12-23T07:37:59.161Z"
   },
   {
    "duration": 12,
    "start_time": "2024-12-23T07:37:59.229Z"
   },
   {
    "duration": 20,
    "start_time": "2024-12-23T07:37:59.242Z"
   },
   {
    "duration": 4,
    "start_time": "2024-12-23T07:37:59.263Z"
   },
   {
    "duration": 4,
    "start_time": "2024-12-23T07:37:59.270Z"
   },
   {
    "duration": 18,
    "start_time": "2024-12-23T07:37:59.275Z"
   },
   {
    "duration": 5,
    "start_time": "2024-12-23T07:37:59.295Z"
   },
   {
    "duration": 11,
    "start_time": "2024-12-23T07:37:59.302Z"
   },
   {
    "duration": 32,
    "start_time": "2024-12-23T07:37:59.314Z"
   },
   {
    "duration": 7,
    "start_time": "2024-12-23T07:37:59.348Z"
   },
   {
    "duration": 51,
    "start_time": "2024-12-23T07:37:59.356Z"
   },
   {
    "duration": 42,
    "start_time": "2024-12-23T07:37:59.409Z"
   },
   {
    "duration": 27,
    "start_time": "2024-12-23T07:37:59.452Z"
   },
   {
    "duration": 4,
    "start_time": "2024-12-23T07:37:59.480Z"
   },
   {
    "duration": 25,
    "start_time": "2024-12-23T07:37:59.485Z"
   },
   {
    "duration": 4,
    "start_time": "2024-12-23T07:37:59.512Z"
   },
   {
    "duration": 75,
    "start_time": "2024-12-23T07:37:59.518Z"
   },
   {
    "duration": 4,
    "start_time": "2024-12-23T07:37:59.595Z"
   },
   {
    "duration": 8,
    "start_time": "2024-12-23T07:37:59.601Z"
   },
   {
    "duration": 7,
    "start_time": "2024-12-23T07:37:59.610Z"
   },
   {
    "duration": 6,
    "start_time": "2024-12-23T07:37:59.619Z"
   },
   {
    "duration": 4,
    "start_time": "2024-12-23T07:37:59.627Z"
   },
   {
    "duration": 14,
    "start_time": "2024-12-23T07:37:59.635Z"
   },
   {
    "duration": 12,
    "start_time": "2024-12-23T07:37:59.650Z"
   },
   {
    "duration": 6,
    "start_time": "2024-12-23T07:37:59.663Z"
   },
   {
    "duration": 21,
    "start_time": "2024-12-23T07:37:59.671Z"
   },
   {
    "duration": 80,
    "start_time": "2024-12-23T07:37:59.694Z"
   },
   {
    "duration": 18,
    "start_time": "2024-12-23T07:37:59.775Z"
   },
   {
    "duration": 328,
    "start_time": "2024-12-23T07:37:59.794Z"
   },
   {
    "duration": 30,
    "start_time": "2024-12-23T07:38:00.123Z"
   },
   {
    "duration": 48,
    "start_time": "2024-12-23T07:38:00.154Z"
   },
   {
    "duration": 27,
    "start_time": "2024-12-23T07:38:00.204Z"
   },
   {
    "duration": 50,
    "start_time": "2024-12-23T07:38:00.232Z"
   },
   {
    "duration": 34,
    "start_time": "2024-12-23T07:38:00.284Z"
   },
   {
    "duration": 51,
    "start_time": "2024-12-23T07:38:00.320Z"
   },
   {
    "duration": 39,
    "start_time": "2024-12-23T07:38:00.372Z"
   },
   {
    "duration": 47,
    "start_time": "2024-12-23T07:38:00.413Z"
   },
   {
    "duration": 25,
    "start_time": "2024-12-23T07:38:00.461Z"
   },
   {
    "duration": 18,
    "start_time": "2024-12-23T07:38:00.487Z"
   },
   {
    "duration": 8,
    "start_time": "2024-12-23T07:38:00.506Z"
   },
   {
    "duration": 10,
    "start_time": "2024-12-23T07:38:00.515Z"
   },
   {
    "duration": 6,
    "start_time": "2024-12-23T07:38:00.526Z"
   },
   {
    "duration": 37,
    "start_time": "2024-12-23T07:38:00.533Z"
   },
   {
    "duration": 405,
    "start_time": "2024-12-23T07:38:00.571Z"
   },
   {
    "duration": 135,
    "start_time": "2024-12-23T07:38:00.977Z"
   },
   {
    "duration": 3,
    "start_time": "2024-12-23T07:38:01.113Z"
   },
   {
    "duration": 38,
    "start_time": "2024-12-23T07:38:01.117Z"
   },
   {
    "duration": 157,
    "start_time": "2024-12-23T07:38:01.156Z"
   },
   {
    "duration": 19,
    "start_time": "2024-12-23T07:38:01.314Z"
   },
   {
    "duration": 443,
    "start_time": "2024-12-23T07:38:01.346Z"
   },
   {
    "duration": 34,
    "start_time": "2024-12-23T07:38:01.791Z"
   },
   {
    "duration": 151,
    "start_time": "2024-12-23T07:38:01.827Z"
   },
   {
    "duration": 221,
    "start_time": "2024-12-23T07:38:01.979Z"
   },
   {
    "duration": 221,
    "start_time": "2024-12-23T07:38:02.201Z"
   },
   {
    "duration": 224,
    "start_time": "2024-12-23T07:38:02.423Z"
   },
   {
    "duration": 6,
    "start_time": "2024-12-23T07:38:02.648Z"
   },
   {
    "duration": 18,
    "start_time": "2024-12-23T07:41:27.991Z"
   },
   {
    "duration": 36,
    "start_time": "2024-12-23T07:42:02.253Z"
   },
   {
    "duration": 67,
    "start_time": "2024-12-23T07:49:26.161Z"
   },
   {
    "duration": 13,
    "start_time": "2024-12-23T07:49:32.047Z"
   },
   {
    "duration": 45,
    "start_time": "2024-12-23T07:50:06.062Z"
   },
   {
    "duration": 1179,
    "start_time": "2024-12-23T07:52:32.737Z"
   },
   {
    "duration": 1078,
    "start_time": "2024-12-23T07:52:49.479Z"
   },
   {
    "duration": 21,
    "start_time": "2024-12-23T07:53:05.851Z"
   },
   {
    "duration": 252,
    "start_time": "2024-12-23T07:55:56.018Z"
   },
   {
    "duration": 230,
    "start_time": "2024-12-23T07:56:02.017Z"
   },
   {
    "duration": 287,
    "start_time": "2024-12-23T07:56:08.785Z"
   },
   {
    "duration": 217,
    "start_time": "2024-12-23T07:56:25.315Z"
   },
   {
    "duration": 21,
    "start_time": "2024-12-23T08:02:00.464Z"
   },
   {
    "duration": 5,
    "start_time": "2024-12-23T08:05:17.910Z"
   },
   {
    "duration": 9,
    "start_time": "2024-12-23T08:05:38.116Z"
   },
   {
    "duration": 21,
    "start_time": "2024-12-23T08:31:00.879Z"
   },
   {
    "duration": 615,
    "start_time": "2024-12-23T08:51:53.731Z"
   },
   {
    "duration": 122,
    "start_time": "2024-12-23T08:51:54.347Z"
   },
   {
    "duration": 14,
    "start_time": "2024-12-23T08:51:54.470Z"
   },
   {
    "duration": 9,
    "start_time": "2024-12-23T08:51:54.486Z"
   },
   {
    "duration": 6,
    "start_time": "2024-12-23T08:51:54.496Z"
   },
   {
    "duration": 37,
    "start_time": "2024-12-23T08:51:54.503Z"
   },
   {
    "duration": 13,
    "start_time": "2024-12-23T08:51:54.542Z"
   },
   {
    "duration": 21,
    "start_time": "2024-12-23T08:51:54.556Z"
   },
   {
    "duration": 4,
    "start_time": "2024-12-23T08:51:54.578Z"
   },
   {
    "duration": 5,
    "start_time": "2024-12-23T08:51:54.584Z"
   },
   {
    "duration": 14,
    "start_time": "2024-12-23T08:51:54.590Z"
   },
   {
    "duration": 42,
    "start_time": "2024-12-23T08:51:54.605Z"
   },
   {
    "duration": 24,
    "start_time": "2024-12-23T08:51:54.649Z"
   },
   {
    "duration": 15,
    "start_time": "2024-12-23T08:51:54.675Z"
   },
   {
    "duration": 8,
    "start_time": "2024-12-23T08:51:54.692Z"
   },
   {
    "duration": 119,
    "start_time": "2024-12-23T08:51:54.701Z"
   },
   {
    "duration": 5,
    "start_time": "2024-12-23T08:51:54.822Z"
   },
   {
    "duration": 24,
    "start_time": "2024-12-23T08:51:54.829Z"
   },
   {
    "duration": 4,
    "start_time": "2024-12-23T08:51:54.854Z"
   },
   {
    "duration": 30,
    "start_time": "2024-12-23T08:51:54.859Z"
   },
   {
    "duration": 3,
    "start_time": "2024-12-23T08:51:54.891Z"
   },
   {
    "duration": 27,
    "start_time": "2024-12-23T08:51:54.896Z"
   },
   {
    "duration": 21,
    "start_time": "2024-12-23T08:51:54.925Z"
   },
   {
    "duration": 6,
    "start_time": "2024-12-23T08:51:54.947Z"
   },
   {
    "duration": 15,
    "start_time": "2024-12-23T08:51:54.954Z"
   },
   {
    "duration": 9,
    "start_time": "2024-12-23T08:51:54.970Z"
   },
   {
    "duration": 7,
    "start_time": "2024-12-23T08:51:54.980Z"
   },
   {
    "duration": 6,
    "start_time": "2024-12-23T08:51:54.990Z"
   },
   {
    "duration": 16,
    "start_time": "2024-12-23T08:51:54.997Z"
   },
   {
    "duration": 10,
    "start_time": "2024-12-23T08:51:55.014Z"
   },
   {
    "duration": 21,
    "start_time": "2024-12-23T08:51:55.025Z"
   },
   {
    "duration": 10,
    "start_time": "2024-12-23T08:51:55.047Z"
   },
   {
    "duration": 46,
    "start_time": "2024-12-23T08:51:55.058Z"
   },
   {
    "duration": 321,
    "start_time": "2024-12-23T08:51:55.105Z"
   },
   {
    "duration": 38,
    "start_time": "2024-12-23T08:51:55.427Z"
   },
   {
    "duration": 82,
    "start_time": "2024-12-23T08:51:55.467Z"
   },
   {
    "duration": 4,
    "start_time": "2024-12-23T08:51:55.551Z"
   },
   {
    "duration": 17,
    "start_time": "2024-12-23T08:51:55.557Z"
   },
   {
    "duration": 25,
    "start_time": "2024-12-23T08:51:55.575Z"
   },
   {
    "duration": 88,
    "start_time": "2024-12-23T08:51:55.601Z"
   },
   {
    "duration": 75,
    "start_time": "2024-12-23T08:51:55.690Z"
   },
   {
    "duration": 38,
    "start_time": "2024-12-23T08:51:55.767Z"
   },
   {
    "duration": 5,
    "start_time": "2024-12-23T08:51:55.807Z"
   },
   {
    "duration": 6,
    "start_time": "2024-12-23T08:51:55.813Z"
   },
   {
    "duration": 26,
    "start_time": "2024-12-23T08:51:55.821Z"
   },
   {
    "duration": 11,
    "start_time": "2024-12-23T08:51:55.849Z"
   },
   {
    "duration": 5,
    "start_time": "2024-12-23T08:51:55.861Z"
   },
   {
    "duration": 7,
    "start_time": "2024-12-23T08:51:55.867Z"
   },
   {
    "duration": 471,
    "start_time": "2024-12-23T08:51:55.875Z"
   },
   {
    "duration": 140,
    "start_time": "2024-12-23T08:51:56.348Z"
   },
   {
    "duration": 3,
    "start_time": "2024-12-23T08:51:56.490Z"
   },
   {
    "duration": 7,
    "start_time": "2024-12-23T08:51:56.494Z"
   },
   {
    "duration": 167,
    "start_time": "2024-12-23T08:51:56.503Z"
   },
   {
    "duration": 20,
    "start_time": "2024-12-23T08:51:56.672Z"
   },
   {
    "duration": 468,
    "start_time": "2024-12-23T08:51:56.694Z"
   },
   {
    "duration": 36,
    "start_time": "2024-12-23T08:51:57.163Z"
   },
   {
    "duration": 10,
    "start_time": "2024-12-23T08:51:57.201Z"
   },
   {
    "duration": 163,
    "start_time": "2024-12-23T08:51:57.213Z"
   },
   {
    "duration": 236,
    "start_time": "2024-12-23T08:51:57.378Z"
   },
   {
    "duration": 245,
    "start_time": "2024-12-23T08:51:57.616Z"
   },
   {
    "duration": 241,
    "start_time": "2024-12-23T08:51:57.863Z"
   },
   {
    "duration": 22,
    "start_time": "2024-12-23T08:51:58.106Z"
   },
   {
    "duration": 35,
    "start_time": "2024-12-23T08:51:58.129Z"
   },
   {
    "duration": 22,
    "start_time": "2024-12-23T08:51:58.166Z"
   },
   {
    "duration": 813,
    "start_time": "2024-12-24T06:52:37.029Z"
   },
   {
    "duration": 237,
    "start_time": "2024-12-24T06:52:37.845Z"
   },
   {
    "duration": 17,
    "start_time": "2024-12-24T06:52:38.084Z"
   },
   {
    "duration": 11,
    "start_time": "2024-12-24T06:52:38.103Z"
   },
   {
    "duration": 7,
    "start_time": "2024-12-24T06:52:38.115Z"
   },
   {
    "duration": 52,
    "start_time": "2024-12-24T06:52:38.124Z"
   },
   {
    "duration": 16,
    "start_time": "2024-12-24T06:52:38.178Z"
   },
   {
    "duration": 24,
    "start_time": "2024-12-24T06:52:38.195Z"
   },
   {
    "duration": 4,
    "start_time": "2024-12-24T06:52:38.220Z"
   },
   {
    "duration": 9,
    "start_time": "2024-12-24T06:52:38.227Z"
   },
   {
    "duration": 38,
    "start_time": "2024-12-24T06:52:38.238Z"
   },
   {
    "duration": 11,
    "start_time": "2024-12-24T06:52:38.277Z"
   },
   {
    "duration": 9,
    "start_time": "2024-12-24T06:52:38.290Z"
   },
   {
    "duration": 15,
    "start_time": "2024-12-24T06:52:38.301Z"
   },
   {
    "duration": 9,
    "start_time": "2024-12-24T06:52:38.318Z"
   },
   {
    "duration": 78,
    "start_time": "2024-12-24T06:52:38.329Z"
   },
   {
    "duration": 7,
    "start_time": "2024-12-24T06:52:38.408Z"
   },
   {
    "duration": 30,
    "start_time": "2024-12-24T06:52:38.417Z"
   },
   {
    "duration": 71,
    "start_time": "2024-12-24T06:52:38.448Z"
   },
   {
    "duration": 111,
    "start_time": "2024-12-24T06:52:38.520Z"
   },
   {
    "duration": 4,
    "start_time": "2024-12-24T06:52:38.633Z"
   },
   {
    "duration": 33,
    "start_time": "2024-12-24T06:52:38.639Z"
   },
   {
    "duration": 4,
    "start_time": "2024-12-24T06:52:38.673Z"
   },
   {
    "duration": 35,
    "start_time": "2024-12-24T06:52:38.679Z"
   },
   {
    "duration": 7,
    "start_time": "2024-12-24T06:52:38.716Z"
   },
   {
    "duration": 9,
    "start_time": "2024-12-24T06:52:38.725Z"
   },
   {
    "duration": 11,
    "start_time": "2024-12-24T06:52:38.735Z"
   },
   {
    "duration": 9,
    "start_time": "2024-12-24T06:52:38.750Z"
   },
   {
    "duration": 6,
    "start_time": "2024-12-24T06:52:38.760Z"
   },
   {
    "duration": 35,
    "start_time": "2024-12-24T06:52:38.768Z"
   },
   {
    "duration": 29,
    "start_time": "2024-12-24T06:52:38.805Z"
   },
   {
    "duration": 17,
    "start_time": "2024-12-24T06:52:38.836Z"
   },
   {
    "duration": 9,
    "start_time": "2024-12-24T06:52:38.855Z"
   },
   {
    "duration": 394,
    "start_time": "2024-12-24T06:52:38.866Z"
   },
   {
    "duration": 34,
    "start_time": "2024-12-24T06:52:39.262Z"
   },
   {
    "duration": 21,
    "start_time": "2024-12-24T06:52:39.298Z"
   },
   {
    "duration": 4,
    "start_time": "2024-12-24T06:52:39.321Z"
   },
   {
    "duration": 44,
    "start_time": "2024-12-24T06:52:39.327Z"
   },
   {
    "duration": 31,
    "start_time": "2024-12-24T06:52:39.373Z"
   },
   {
    "duration": 81,
    "start_time": "2024-12-24T06:52:39.405Z"
   },
   {
    "duration": 109,
    "start_time": "2024-12-24T06:52:39.488Z"
   },
   {
    "duration": 42,
    "start_time": "2024-12-24T06:52:39.599Z"
   },
   {
    "duration": 26,
    "start_time": "2024-12-24T06:52:39.644Z"
   },
   {
    "duration": 13,
    "start_time": "2024-12-24T06:52:39.672Z"
   },
   {
    "duration": 18,
    "start_time": "2024-12-24T06:52:39.687Z"
   },
   {
    "duration": 6,
    "start_time": "2024-12-24T06:52:39.707Z"
   },
   {
    "duration": 31,
    "start_time": "2024-12-24T06:52:39.715Z"
   },
   {
    "duration": 20,
    "start_time": "2024-12-24T06:52:39.748Z"
   },
   {
    "duration": 486,
    "start_time": "2024-12-24T06:52:39.769Z"
   },
   {
    "duration": 162,
    "start_time": "2024-12-24T06:52:40.257Z"
   },
   {
    "duration": 2,
    "start_time": "2024-12-24T06:52:40.422Z"
   },
   {
    "duration": 218,
    "start_time": "2024-12-24T06:52:40.426Z"
   },
   {
    "duration": 184,
    "start_time": "2024-12-24T06:52:40.646Z"
   },
   {
    "duration": 20,
    "start_time": "2024-12-24T06:52:40.832Z"
   },
   {
    "duration": 562,
    "start_time": "2024-12-24T06:52:40.853Z"
   },
   {
    "duration": 40,
    "start_time": "2024-12-24T06:52:41.416Z"
   },
   {
    "duration": 10,
    "start_time": "2024-12-24T06:52:41.469Z"
   },
   {
    "duration": 189,
    "start_time": "2024-12-24T06:52:41.481Z"
   },
   {
    "duration": 271,
    "start_time": "2024-12-24T06:52:41.671Z"
   },
   {
    "duration": 275,
    "start_time": "2024-12-24T06:52:41.944Z"
   },
   {
    "duration": 282,
    "start_time": "2024-12-24T06:52:42.221Z"
   },
   {
    "duration": 25,
    "start_time": "2024-12-24T06:52:42.505Z"
   },
   {
    "duration": 130,
    "start_time": "2024-12-24T06:52:42.532Z"
   },
   {
    "duration": 41,
    "start_time": "2024-12-24T06:52:42.664Z"
   },
   {
    "duration": 1527,
    "start_time": "2024-12-24T06:58:46.887Z"
   },
   {
    "duration": 637,
    "start_time": "2024-12-24T06:58:57.131Z"
   },
   {
    "duration": 127,
    "start_time": "2024-12-24T06:58:57.770Z"
   },
   {
    "duration": 17,
    "start_time": "2024-12-24T06:58:57.898Z"
   },
   {
    "duration": 12,
    "start_time": "2024-12-24T06:58:57.917Z"
   },
   {
    "duration": 8,
    "start_time": "2024-12-24T06:58:57.931Z"
   },
   {
    "duration": 34,
    "start_time": "2024-12-24T06:58:57.941Z"
   },
   {
    "duration": 15,
    "start_time": "2024-12-24T06:58:57.977Z"
   },
   {
    "duration": 60,
    "start_time": "2024-12-24T06:58:57.994Z"
   },
   {
    "duration": 18,
    "start_time": "2024-12-24T06:58:58.056Z"
   },
   {
    "duration": 5,
    "start_time": "2024-12-24T06:58:58.076Z"
   },
   {
    "duration": 17,
    "start_time": "2024-12-24T06:58:58.083Z"
   },
   {
    "duration": 6,
    "start_time": "2024-12-24T06:58:58.102Z"
   },
   {
    "duration": 8,
    "start_time": "2024-12-24T06:58:58.110Z"
   },
   {
    "duration": 17,
    "start_time": "2024-12-24T06:58:58.120Z"
   },
   {
    "duration": 10,
    "start_time": "2024-12-24T06:58:58.139Z"
   },
   {
    "duration": 57,
    "start_time": "2024-12-24T06:58:58.170Z"
   },
   {
    "duration": 8,
    "start_time": "2024-12-24T06:58:58.229Z"
   },
   {
    "duration": 89,
    "start_time": "2024-12-24T06:58:58.238Z"
   },
   {
    "duration": 4,
    "start_time": "2024-12-24T06:58:58.328Z"
   },
   {
    "duration": 28,
    "start_time": "2024-12-24T06:58:58.334Z"
   },
   {
    "duration": 3,
    "start_time": "2024-12-24T06:58:58.364Z"
   },
   {
    "duration": 24,
    "start_time": "2024-12-24T06:58:58.369Z"
   },
   {
    "duration": 4,
    "start_time": "2024-12-24T06:58:58.395Z"
   },
   {
    "duration": 6,
    "start_time": "2024-12-24T06:58:58.400Z"
   },
   {
    "duration": 8,
    "start_time": "2024-12-24T06:58:58.408Z"
   },
   {
    "duration": 12,
    "start_time": "2024-12-24T06:58:58.418Z"
   },
   {
    "duration": 6,
    "start_time": "2024-12-24T06:58:58.432Z"
   },
   {
    "duration": 108,
    "start_time": "2024-12-24T06:58:58.441Z"
   },
   {
    "duration": 115,
    "start_time": "2024-12-24T06:58:58.551Z"
   },
   {
    "duration": 15,
    "start_time": "2024-12-24T06:58:58.668Z"
   },
   {
    "duration": 11,
    "start_time": "2024-12-24T06:58:58.686Z"
   },
   {
    "duration": 12,
    "start_time": "2024-12-24T06:58:58.699Z"
   },
   {
    "duration": 10,
    "start_time": "2024-12-24T06:58:58.713Z"
   },
   {
    "duration": 440,
    "start_time": "2024-12-24T06:58:58.725Z"
   },
   {
    "duration": 30,
    "start_time": "2024-12-24T06:58:59.169Z"
   },
   {
    "duration": 26,
    "start_time": "2024-12-24T06:58:59.200Z"
   },
   {
    "duration": 22,
    "start_time": "2024-12-24T06:58:59.227Z"
   },
   {
    "duration": 38,
    "start_time": "2024-12-24T06:58:59.251Z"
   },
   {
    "duration": 27,
    "start_time": "2024-12-24T06:58:59.291Z"
   },
   {
    "duration": 82,
    "start_time": "2024-12-24T06:58:59.319Z"
   },
   {
    "duration": 40,
    "start_time": "2024-12-24T06:58:59.402Z"
   },
   {
    "duration": 63,
    "start_time": "2024-12-24T06:58:59.443Z"
   },
   {
    "duration": 7,
    "start_time": "2024-12-24T06:58:59.508Z"
   },
   {
    "duration": 8,
    "start_time": "2024-12-24T06:58:59.517Z"
   },
   {
    "duration": 16,
    "start_time": "2024-12-24T06:58:59.527Z"
   },
   {
    "duration": 10,
    "start_time": "2024-12-24T06:58:59.545Z"
   },
   {
    "duration": 17,
    "start_time": "2024-12-24T06:58:59.556Z"
   },
   {
    "duration": 21,
    "start_time": "2024-12-24T06:58:59.574Z"
   },
   {
    "duration": 463,
    "start_time": "2024-12-24T06:58:59.596Z"
   },
   {
    "duration": 164,
    "start_time": "2024-12-24T06:59:00.061Z"
   },
   {
    "duration": 4,
    "start_time": "2024-12-24T06:59:00.227Z"
   },
   {
    "duration": 82,
    "start_time": "2024-12-24T06:59:00.232Z"
   },
   {
    "duration": 242,
    "start_time": "2024-12-24T06:59:00.316Z"
   },
   {
    "duration": 22,
    "start_time": "2024-12-24T06:59:00.560Z"
   },
   {
    "duration": 598,
    "start_time": "2024-12-24T06:59:00.584Z"
   },
   {
    "duration": 40,
    "start_time": "2024-12-24T06:59:01.184Z"
   },
   {
    "duration": 39,
    "start_time": "2024-12-24T06:59:01.226Z"
   },
   {
    "duration": 161,
    "start_time": "2024-12-24T06:59:01.267Z"
   },
   {
    "duration": 278,
    "start_time": "2024-12-24T06:59:01.430Z"
   },
   {
    "duration": 299,
    "start_time": "2024-12-24T06:59:01.710Z"
   },
   {
    "duration": 280,
    "start_time": "2024-12-24T06:59:02.011Z"
   },
   {
    "duration": 27,
    "start_time": "2024-12-24T06:59:02.293Z"
   },
   {
    "duration": 59,
    "start_time": "2024-12-24T06:59:02.321Z"
   },
   {
    "duration": 27,
    "start_time": "2024-12-24T06:59:02.382Z"
   },
   {
    "duration": 213,
    "start_time": "2024-12-24T07:32:50.081Z"
   },
   {
    "duration": 656,
    "start_time": "2024-12-24T07:33:06.798Z"
   },
   {
    "duration": 131,
    "start_time": "2024-12-24T07:33:07.455Z"
   },
   {
    "duration": 17,
    "start_time": "2024-12-24T07:33:07.588Z"
   },
   {
    "duration": 10,
    "start_time": "2024-12-24T07:33:07.608Z"
   },
   {
    "duration": 12,
    "start_time": "2024-12-24T07:33:07.620Z"
   },
   {
    "duration": 42,
    "start_time": "2024-12-24T07:33:07.633Z"
   },
   {
    "duration": 17,
    "start_time": "2024-12-24T07:33:07.677Z"
   },
   {
    "duration": 29,
    "start_time": "2024-12-24T07:33:07.696Z"
   },
   {
    "duration": 4,
    "start_time": "2024-12-24T07:33:07.726Z"
   },
   {
    "duration": 57,
    "start_time": "2024-12-24T07:33:07.733Z"
   },
   {
    "duration": 17,
    "start_time": "2024-12-24T07:33:07.792Z"
   },
   {
    "duration": 7,
    "start_time": "2024-12-24T07:33:07.810Z"
   },
   {
    "duration": 6,
    "start_time": "2024-12-24T07:33:07.818Z"
   },
   {
    "duration": 15,
    "start_time": "2024-12-24T07:33:07.825Z"
   },
   {
    "duration": 10,
    "start_time": "2024-12-24T07:33:07.841Z"
   },
   {
    "duration": 65,
    "start_time": "2024-12-24T07:33:07.852Z"
   },
   {
    "duration": 6646,
    "start_time": "2024-12-24T07:33:07.918Z"
   },
   {
    "duration": 29,
    "start_time": "2024-12-24T07:33:14.566Z"
   },
   {
    "duration": 52,
    "start_time": "2024-12-24T07:33:14.597Z"
   },
   {
    "duration": 32,
    "start_time": "2024-12-24T07:33:14.651Z"
   },
   {
    "duration": 4,
    "start_time": "2024-12-24T07:33:14.684Z"
   },
   {
    "duration": 36,
    "start_time": "2024-12-24T07:33:14.690Z"
   },
   {
    "duration": 4,
    "start_time": "2024-12-24T07:33:14.728Z"
   },
   {
    "duration": 17,
    "start_time": "2024-12-24T07:33:14.733Z"
   },
   {
    "duration": 9,
    "start_time": "2024-12-24T07:33:14.752Z"
   },
   {
    "duration": 15,
    "start_time": "2024-12-24T07:33:14.763Z"
   },
   {
    "duration": 6,
    "start_time": "2024-12-24T07:33:14.779Z"
   },
   {
    "duration": 6,
    "start_time": "2024-12-24T07:33:14.789Z"
   },
   {
    "duration": 7,
    "start_time": "2024-12-24T07:33:14.797Z"
   },
   {
    "duration": 9,
    "start_time": "2024-12-24T07:33:14.805Z"
   },
   {
    "duration": 21,
    "start_time": "2024-12-24T07:33:14.816Z"
   },
   {
    "duration": 6,
    "start_time": "2024-12-24T07:33:14.839Z"
   },
   {
    "duration": 9,
    "start_time": "2024-12-24T07:33:14.846Z"
   },
   {
    "duration": 400,
    "start_time": "2024-12-24T07:33:14.857Z"
   },
   {
    "duration": 38,
    "start_time": "2024-12-24T07:33:15.259Z"
   },
   {
    "duration": 35,
    "start_time": "2024-12-24T07:33:15.298Z"
   },
   {
    "duration": 43,
    "start_time": "2024-12-24T07:33:15.335Z"
   },
   {
    "duration": 50,
    "start_time": "2024-12-24T07:33:15.380Z"
   },
   {
    "duration": 41,
    "start_time": "2024-12-24T07:33:15.432Z"
   },
   {
    "duration": 68,
    "start_time": "2024-12-24T07:33:15.474Z"
   },
   {
    "duration": 47,
    "start_time": "2024-12-24T07:33:15.544Z"
   },
   {
    "duration": 41,
    "start_time": "2024-12-24T07:33:15.592Z"
   },
   {
    "duration": 5,
    "start_time": "2024-12-24T07:33:15.634Z"
   },
   {
    "duration": 29,
    "start_time": "2024-12-24T07:33:15.641Z"
   },
   {
    "duration": 4,
    "start_time": "2024-12-24T07:33:15.672Z"
   },
   {
    "duration": 7,
    "start_time": "2024-12-24T07:33:15.678Z"
   },
   {
    "duration": 13,
    "start_time": "2024-12-24T07:33:15.687Z"
   },
   {
    "duration": 7,
    "start_time": "2024-12-24T07:33:15.702Z"
   },
   {
    "duration": 510,
    "start_time": "2024-12-24T07:33:15.711Z"
   },
   {
    "duration": 160,
    "start_time": "2024-12-24T07:33:16.223Z"
   },
   {
    "duration": 3,
    "start_time": "2024-12-24T07:33:16.384Z"
   },
   {
    "duration": 73,
    "start_time": "2024-12-24T07:33:16.388Z"
   },
   {
    "duration": 205,
    "start_time": "2024-12-24T07:33:16.463Z"
   },
   {
    "duration": 21,
    "start_time": "2024-12-24T07:33:16.669Z"
   },
   {
    "duration": 490,
    "start_time": "2024-12-24T07:33:16.692Z"
   },
   {
    "duration": 39,
    "start_time": "2024-12-24T07:33:17.184Z"
   },
   {
    "duration": 10,
    "start_time": "2024-12-24T07:33:17.225Z"
   },
   {
    "duration": 174,
    "start_time": "2024-12-24T07:33:17.237Z"
   },
   {
    "duration": 267,
    "start_time": "2024-12-24T07:33:17.413Z"
   },
   {
    "duration": 279,
    "start_time": "2024-12-24T07:33:17.681Z"
   },
   {
    "duration": 275,
    "start_time": "2024-12-24T07:33:17.962Z"
   },
   {
    "duration": 37,
    "start_time": "2024-12-24T07:33:18.239Z"
   },
   {
    "duration": 34,
    "start_time": "2024-12-24T07:33:18.278Z"
   },
   {
    "duration": 25,
    "start_time": "2024-12-24T07:33:18.313Z"
   },
   {
    "duration": 18097,
    "start_time": "2024-12-24T07:47:14.937Z"
   },
   {
    "duration": 2,
    "start_time": "2024-12-24T07:55:13.275Z"
   },
   {
    "duration": 430,
    "start_time": "2024-12-24T07:58:19.781Z"
   },
   {
    "duration": 110,
    "start_time": "2024-12-24T08:00:40.345Z"
   },
   {
    "duration": 260,
    "start_time": "2024-12-24T08:01:24.382Z"
   },
   {
    "duration": 268,
    "start_time": "2024-12-24T08:02:42.637Z"
   },
   {
    "duration": 272,
    "start_time": "2024-12-24T08:03:18.432Z"
   },
   {
    "duration": 1203,
    "start_time": "2024-12-24T08:04:59.804Z"
   },
   {
    "duration": 131,
    "start_time": "2024-12-24T08:05:01.009Z"
   },
   {
    "duration": 17,
    "start_time": "2024-12-24T08:05:01.141Z"
   },
   {
    "duration": 14,
    "start_time": "2024-12-24T08:05:01.160Z"
   },
   {
    "duration": 5,
    "start_time": "2024-12-24T08:05:01.176Z"
   },
   {
    "duration": 39,
    "start_time": "2024-12-24T08:05:01.183Z"
   },
   {
    "duration": 19,
    "start_time": "2024-12-24T08:05:01.223Z"
   },
   {
    "duration": 46,
    "start_time": "2024-12-24T08:05:01.244Z"
   },
   {
    "duration": 5,
    "start_time": "2024-12-24T08:05:01.292Z"
   },
   {
    "duration": 49,
    "start_time": "2024-12-24T08:05:01.301Z"
   },
   {
    "duration": 32,
    "start_time": "2024-12-24T08:05:01.352Z"
   },
   {
    "duration": 7,
    "start_time": "2024-12-24T08:05:01.386Z"
   },
   {
    "duration": 47,
    "start_time": "2024-12-24T08:05:01.395Z"
   },
   {
    "duration": 58,
    "start_time": "2024-12-24T08:05:01.444Z"
   },
   {
    "duration": 49,
    "start_time": "2024-12-24T08:05:01.504Z"
   },
   {
    "duration": 73,
    "start_time": "2024-12-24T08:05:01.555Z"
   },
   {
    "duration": 6941,
    "start_time": "2024-12-24T08:05:01.630Z"
   },
   {
    "duration": 28,
    "start_time": "2024-12-24T08:05:08.572Z"
   },
   {
    "duration": 3,
    "start_time": "2024-12-24T08:05:08.602Z"
   },
   {
    "duration": 30,
    "start_time": "2024-12-24T08:05:08.607Z"
   },
   {
    "duration": 4,
    "start_time": "2024-12-24T08:05:08.639Z"
   },
   {
    "duration": 62,
    "start_time": "2024-12-24T08:05:08.671Z"
   },
   {
    "duration": 4,
    "start_time": "2024-12-24T08:05:08.734Z"
   },
   {
    "duration": 17264,
    "start_time": "2024-12-24T08:05:08.740Z"
   },
   {
    "duration": 8,
    "start_time": "2024-12-24T08:05:26.006Z"
   },
   {
    "duration": 404,
    "start_time": "2024-12-24T08:05:26.016Z"
   },
   {
    "duration": 30,
    "start_time": "2024-12-24T08:05:26.422Z"
   },
   {
    "duration": 22,
    "start_time": "2024-12-24T08:05:26.470Z"
   },
   {
    "duration": 53,
    "start_time": "2024-12-24T08:05:26.493Z"
   },
   {
    "duration": 19,
    "start_time": "2024-12-24T08:05:26.548Z"
   },
   {
    "duration": 27,
    "start_time": "2024-12-24T08:05:26.569Z"
   },
   {
    "duration": 17,
    "start_time": "2024-12-24T08:05:26.598Z"
   },
   {
    "duration": 40,
    "start_time": "2024-12-24T08:05:26.616Z"
   },
   {
    "duration": 46,
    "start_time": "2024-12-24T08:05:26.670Z"
   },
   {
    "duration": 6,
    "start_time": "2024-12-24T08:05:26.717Z"
   },
   {
    "duration": 10,
    "start_time": "2024-12-24T08:05:26.725Z"
   },
   {
    "duration": 15,
    "start_time": "2024-12-24T08:05:26.736Z"
   },
   {
    "duration": 20,
    "start_time": "2024-12-24T08:05:26.753Z"
   },
   {
    "duration": 19,
    "start_time": "2024-12-24T08:05:26.775Z"
   },
   {
    "duration": 10,
    "start_time": "2024-12-24T08:05:26.795Z"
   },
   {
    "duration": 152,
    "start_time": "2024-12-24T08:05:26.806Z"
   },
   {
    "duration": 6,
    "start_time": "2024-12-24T08:05:26.959Z"
   },
   {
    "duration": 177,
    "start_time": "2024-12-24T08:05:26.971Z"
   },
   {
    "duration": 30,
    "start_time": "2024-12-24T08:05:27.149Z"
   },
   {
    "duration": 514,
    "start_time": "2024-12-24T08:05:27.181Z"
   },
   {
    "duration": 39,
    "start_time": "2024-12-24T08:05:27.697Z"
   },
   {
    "duration": 10,
    "start_time": "2024-12-24T08:05:27.738Z"
   },
   {
    "duration": 160,
    "start_time": "2024-12-24T08:05:27.771Z"
   },
   {
    "duration": 270,
    "start_time": "2024-12-24T08:05:27.933Z"
   },
   {
    "duration": 283,
    "start_time": "2024-12-24T08:05:28.205Z"
   },
   {
    "duration": 290,
    "start_time": "2024-12-24T08:05:28.490Z"
   },
   {
    "duration": 26,
    "start_time": "2024-12-24T08:05:28.782Z"
   },
   {
    "duration": 25,
    "start_time": "2024-12-24T08:05:28.810Z"
   },
   {
    "duration": 123,
    "start_time": "2024-12-24T08:05:28.837Z"
   }
  ],
  "colab": {
   "name": "DA+. Сборный проект 1. Шаблон (1).ipynb",
   "provenance": []
  },
  "kernelspec": {
   "display_name": "base",
   "language": "python",
   "name": "python3"
  },
  "language_info": {
   "codemirror_mode": {
    "name": "ipython",
    "version": 3
   },
   "file_extension": ".py",
   "mimetype": "text/x-python",
   "name": "python",
   "nbconvert_exporter": "python",
   "pygments_lexer": "ipython3",
   "version": "3.12.7"
  },
  "toc": {
   "base_numbering": 1,
   "nav_menu": {},
   "number_sections": true,
   "sideBar": true,
   "skip_h1_title": true,
   "title_cell": "Table of Contents",
   "title_sidebar": "Contents",
   "toc_cell": false,
   "toc_position": {
    "height": "calc(100% - 180px)",
    "left": "10px",
    "top": "150px",
    "width": "375.391px"
   },
   "toc_section_display": true,
   "toc_window_display": false
  }
 },
 "nbformat": 4,
 "nbformat_minor": 1
}
